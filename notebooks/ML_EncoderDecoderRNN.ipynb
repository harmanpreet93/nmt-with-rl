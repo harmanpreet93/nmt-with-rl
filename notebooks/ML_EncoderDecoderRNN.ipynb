{
 "cells": [
  {
   "cell_type": "code",
   "execution_count": 1,
   "metadata": {
    "colab": {},
    "colab_type": "code",
    "id": "gvVhUeaRO_nA"
   },
   "outputs": [],
   "source": [
    "import tensorflow as tf\n",
    "#import tensorflow_addons as tfa\n",
    "import tensorflow_datasets as tfds\n",
    "import os\n",
    "import matplotlib.pyplot as plt"
   ]
  },
  {
   "cell_type": "code",
   "execution_count": 2,
   "metadata": {
    "colab": {},
    "colab_type": "code",
    "id": "XyuH48T4O_nS"
   },
   "outputs": [],
   "source": [
    "#tf.debugging.set_log_device_placement(True)"
   ]
  },
  {
   "cell_type": "code",
   "execution_count": 3,
   "metadata": {
    "colab": {},
    "colab_type": "code",
    "id": "ys0Y7XsBO_nY"
   },
   "outputs": [],
   "source": [
    "#physical_devices = tf.config.list_physical_devices('GPU')\n",
    "#tf.config.experimental.set_memory_growth(physical_devices[0], enable=True)\n",
    "#os.environ['TF_FORCE_GPU_ALLOW_GROWTH'] = 'true'"
   ]
  },
  {
   "cell_type": "code",
   "execution_count": 4,
   "metadata": {},
   "outputs": [],
   "source": [
    "from tensorflow.keras.models import Model\n",
    "from tensorflow.keras import layers\n",
    "import numpy as np\n",
    "from tensorflow.keras.preprocessing.sequence import pad_sequences"
   ]
  },
  {
   "cell_type": "markdown",
   "metadata": {
    "colab_type": "text",
    "id": "UYVG_U1HO_ne"
   },
   "source": [
    "## Preprocessing: Tokenize, clean-up, load, padding"
   ]
  },
  {
   "cell_type": "markdown",
   "metadata": {
    "colab_type": "text",
    "id": "5C4OBlaeO_nf"
   },
   "source": [
    "### Tokenize and clean up data"
   ]
  },
  {
   "cell_type": "code",
   "execution_count": 5,
   "metadata": {
    "colab": {},
    "colab_type": "code",
    "id": "gEI1uWtjO_nh"
   },
   "outputs": [],
   "source": [
    "# Lower case for the translation\n",
    "# Load original english text as is\n",
    "# install requirement.txt\n",
    "# python -m spacy download fr_core_news_sm\n",
    "# correction of tokenizer.py: add encoding='utf-8' to open method\n",
    "# same thing for punctuation_remover.py\n",
    "# python tokenizer.py --input train.lang2 --output tokenized --lang fr --keep-empty-lines\n",
    "# python punctuation_remover.py --input train.lang2.tok --output tokenized\n"
   ]
  },
  {
   "cell_type": "markdown",
   "metadata": {
    "colab_type": "text",
    "id": "CpNtsXsjO_nn"
   },
   "source": [
    "### Loading data "
   ]
  },
  {
   "cell_type": "code",
   "execution_count": 6,
   "metadata": {
    "colab": {},
    "colab_type": "code",
    "id": "y5nxMfzAO_no"
   },
   "outputs": [],
   "source": [
    "# Load data\n",
    "textdir = \"data/train/\"\n",
    "fr_text_file = os.path.join(textdir, 'train.lang2')\n",
    "en_text_file = os.path.join(textdir, 'train.lang1')\n",
    "\n",
    "en_data = tf.data.TextLineDataset(en_text_file)\n",
    "fr_data = tf.data.TextLineDataset(fr_text_file)"
   ]
  },
  {
   "cell_type": "code",
   "execution_count": 7,
   "metadata": {
    "colab": {
     "base_uri": "https://localhost:8080/",
     "height": 121
    },
    "colab_type": "code",
    "id": "4M2qgAmVO_nw",
    "outputId": "740e0255-0484-4ec8-a430-34b08edbb5b8"
   },
   "outputs": [
    {
     "name": "stdout",
     "output_type": "stream",
     "text": [
      "tf.Tensor(b'so too does the idea that accommodating religious differences is dangerous', shape=(), dtype=string)\n",
      "tf.Tensor(b'mr president ladies and gentlemen the financial perspective outlines the scope of the eu \\xe2\\x80\\x99s activities over coming years as well as providing a framework for such activities and determining how effective they will be', shape=(), dtype=string)\n",
      "tf.Tensor(b'reserve should turn into thought - provoking policy', shape=(), dtype=string)\n",
      "tf.Tensor(b'it is my profound belief that we can only advance through cooperation and negotiation', shape=(), dtype=string)\n",
      "tf.Tensor(b'the european union has territorial waters greater than its entire territory with 1 200 ports and 90 % of its exports are transported by sea', shape=(), dtype=string)\n"
     ]
    }
   ],
   "source": [
    "for ex in en_data.take(5):\n",
    "    print(ex)"
   ]
  },
  {
   "cell_type": "code",
   "execution_count": 8,
   "metadata": {
    "colab": {
     "base_uri": "https://localhost:8080/",
     "height": 121
    },
    "colab_type": "code",
    "id": "KQa51QDzO_n2",
    "outputId": "b80bf098-8c0e-4954-effa-55e32794d1a6"
   },
   "outputs": [
    {
     "name": "stdout",
     "output_type": "stream",
     "text": [
      "tf.Tensor(b'L\\xe2\\x80\\x99 id\\xc3\\xa9e de concilier les diff\\xc3\\xa9rences religieuses semble donc dangereuse .', shape=(), dtype=string)\n",
      "tf.Tensor(b'Monsieur le Pr\\xc3\\xa9sident , Mesdames et Messieurs , les perspectives financi\\xc3\\xa8res esquissent la port\\xc3\\xa9e des activit\\xc3\\xa9s de l\\xe2\\x80\\x99 UE pour les ann\\xc3\\xa9es \\xc3\\xa0 venir , fournissent un cadre pour ces activit\\xc3\\xa9s et d\\xc3\\xa9terminent leur efficacit\\xc3\\xa9 .', shape=(), dtype=string)\n",
      "tf.Tensor(b'La r\\xc3\\xa9ticence doit laisser place \\xc3\\xa0 une politique stimulante .', shape=(), dtype=string)\n",
      "tf.Tensor(b'Je suis intimement convaincu que nous ne pourrons progresser que si nous coop\\xc3\\xa9rons et n\\xc3\\xa9gocions .', shape=(), dtype=string)\n",
      "tf.Tensor(b\"Le territoire marin de l' Union europ\\xc3\\xa9enne est plus vaste que son territoire terrestre . On y d\\xc3\\xa9nombre 1 200 ports et 90 % de ses exportations sont achemin\\xc3\\xa9es par mer .\", shape=(), dtype=string)\n"
     ]
    }
   ],
   "source": [
    "for ex in fr_data.take(5):\n",
    "    print(ex)"
   ]
  },
  {
   "cell_type": "markdown",
   "metadata": {
    "colab_type": "text",
    "id": "1N8WPHYKO_oN"
   },
   "source": [
    "### Build the vocabulary"
   ]
  },
  {
   "cell_type": "code",
   "execution_count": 9,
   "metadata": {
    "colab": {},
    "colab_type": "code",
    "id": "K1jsDxHyO_oP"
   },
   "outputs": [],
   "source": [
    "def build_vocabulary(data):\n",
    "    tokenizer = tfds.features.text.Tokenizer()\n",
    "    vocabulary_set = set()\n",
    "    \n",
    "    for text_tensor in data:\n",
    "        some_tokens = tokenizer.tokenize(text_tensor.numpy())\n",
    "        vocabulary_set.update(some_tokens)\n",
    "    \n",
    "    return vocabulary_set"
   ]
  },
  {
   "cell_type": "code",
   "execution_count": 10,
   "metadata": {
    "colab": {
     "base_uri": "https://localhost:8080/",
     "height": 50
    },
    "colab_type": "code",
    "id": "T49ZrYG_O_oZ",
    "outputId": "6ba9fcbb-0eb7-4cf2-f510-2d88e0b2c92a"
   },
   "outputs": [
    {
     "name": "stdout",
     "output_type": "stream",
     "text": [
      "text vocab size is :  13517\n",
      "translation vocab size is :  17948\n"
     ]
    }
   ],
   "source": [
    "en_vocab = build_vocabulary(en_data)\n",
    "fr_vocab = build_vocabulary(fr_data)\n",
    "\n",
    "print(\"text vocab size is : \", len(en_vocab))\n",
    "print(\"translation vocab size is : \", len(fr_vocab))"
   ]
  },
  {
   "cell_type": "markdown",
   "metadata": {
    "colab_type": "text",
    "id": "8I2mb7eJO_oj"
   },
   "source": [
    "### Encoding"
   ]
  },
  {
   "cell_type": "code",
   "execution_count": 11,
   "metadata": {
    "colab": {},
    "colab_type": "code",
    "id": "nzUd9lHyO_ok"
   },
   "outputs": [],
   "source": [
    "#Encode words\n",
    "en_encoder = tfds.features.text.TokenTextEncoder(en_vocab)\n",
    "fr_encoder = tfds.features.text.TokenTextEncoder(fr_vocab)"
   ]
  },
  {
   "cell_type": "code",
   "execution_count": 12,
   "metadata": {
    "colab": {
     "base_uri": "https://localhost:8080/",
     "height": 34
    },
    "colab_type": "code",
    "id": "Jk35iuHlO_oo",
    "outputId": "f39415de-8f59-4fa0-f3e7-ed95c4ece318"
   },
   "outputs": [
    {
     "name": "stdout",
     "output_type": "stream",
     "text": [
      "b'so too does the idea that accommodating religious differences is dangerous'\n"
     ]
    }
   ],
   "source": [
    "example_text = next(iter(en_data)).numpy()\n",
    "print(example_text)"
   ]
  },
  {
   "cell_type": "code",
   "execution_count": 13,
   "metadata": {
    "colab": {
     "base_uri": "https://localhost:8080/",
     "height": 34
    },
    "colab_type": "code",
    "id": "y_lwxlvIO_os",
    "outputId": "8a6b831b-5e3d-4c36-a894-0ca51052bfdb"
   },
   "outputs": [
    {
     "name": "stdout",
     "output_type": "stream",
     "text": [
      "[6998, 91, 9832, 7980, 1546, 8255, 3406, 204, 10037, 2065, 3739]\n"
     ]
    }
   ],
   "source": [
    "encoded_example = en_encoder.encode(example_text)\n",
    "print(encoded_example)"
   ]
  },
  {
   "cell_type": "code",
   "execution_count": 14,
   "metadata": {
    "colab": {
     "base_uri": "https://localhost:8080/",
     "height": 34
    },
    "colab_type": "code",
    "id": "rEggIZIlO_ow",
    "outputId": "0f420fbe-6eeb-4434-c872-21a3dd965f7c"
   },
   "outputs": [
    {
     "name": "stdout",
     "output_type": "stream",
     "text": [
      "b'L\\xe2\\x80\\x99 id\\xc3\\xa9e de concilier les diff\\xc3\\xa9rences religieuses semble donc dangereuse .'\n"
     ]
    }
   ],
   "source": [
    "example_trans = next(iter(fr_data)).numpy()\n",
    "print(example_trans)"
   ]
  },
  {
   "cell_type": "code",
   "execution_count": 15,
   "metadata": {
    "colab": {
     "base_uri": "https://localhost:8080/",
     "height": 34
    },
    "colab_type": "code",
    "id": "GlSO3ci1O_o1",
    "outputId": "d27440e4-1149-4844-f7a4-9da4cd1a2d35"
   },
   "outputs": [
    {
     "name": "stdout",
     "output_type": "stream",
     "text": [
      "[8295, 10827, 14938, 17021, 14575, 10498, 5835, 16831, 2621, 10284]\n"
     ]
    }
   ],
   "source": [
    "encoded_example_trans = fr_encoder.encode(example_trans)\n",
    "print(encoded_example_trans)"
   ]
  },
  {
   "cell_type": "code",
   "execution_count": 16,
   "metadata": {
    "colab": {},
    "colab_type": "code",
    "id": "wLSAOValO_o4"
   },
   "outputs": [],
   "source": [
    "# Encoding\n",
    "def encode_en(text, trans):\n",
    "    encoded_text = en_encoder.encode(text.numpy())\n",
    "    \n",
    "    return encoded_text, trans\n",
    "\n",
    "def encode_fr(text, trans):\n",
    "    encoded_text = fr_encoder.encode(text.numpy())\n",
    "    \n",
    "    return encoded_text, trans\n",
    "\n",
    "def encode_map_en(text):\n",
    "    # py_func doesn't set the shape of the returned tensors.\n",
    "    encoded_text, _ = tf.py_function(encode_en, inp=[text, 0], Tout=(tf.int64,tf.int32))\n",
    "    return encoded_text\n",
    "\n",
    "def encode_map_fr(text):\n",
    "    encoded_text, _ = tf.py_function(encode_fr, inp=[text, 0], Tout=(tf.int64,tf.int32))\n",
    "    return encoded_text"
   ]
  },
  {
   "cell_type": "code",
   "execution_count": 17,
   "metadata": {
    "colab": {},
    "colab_type": "code",
    "id": "zTo73RlyO_pA"
   },
   "outputs": [],
   "source": [
    "# Encode the whole dataset\n",
    "en_encoded = en_data.map(encode_map_en)\n",
    "fr_encoded = fr_data.map(encode_map_fr)\n",
    "#encoded_tran = tran_dataset.map(encode_map_fn)"
   ]
  },
  {
   "cell_type": "code",
   "execution_count": 18,
   "metadata": {
    "colab": {
     "base_uri": "https://localhost:8080/",
     "height": 67
    },
    "colab_type": "code",
    "id": "z4jDFle1O_o7",
    "outputId": "21040e44-bb71-411c-e559-d438f08a909c"
   },
   "outputs": [
    {
     "data": {
      "text/plain": [
       "<tf.Tensor: id=22095, shape=(11,), dtype=int64, numpy=\n",
       "array([ 6998,    91,  9832,  7980,  1546,  8255,  3406,   204, 10037,\n",
       "        2065,  3739])>"
      ]
     },
     "execution_count": 18,
     "metadata": {},
     "output_type": "execute_result"
    }
   ],
   "source": [
    "exp1 = next(iter(en_encoded))\n",
    "exp1"
   ]
  },
  {
   "cell_type": "code",
   "execution_count": 19,
   "metadata": {
    "colab": {
     "base_uri": "https://localhost:8080/",
     "height": 67
    },
    "colab_type": "code",
    "id": "_kOEzu6hO_o-",
    "outputId": "6f67e974-bccd-401d-f0c7-696ca039a636"
   },
   "outputs": [
    {
     "data": {
      "text/plain": [
       "<tf.Tensor: id=22104, shape=(10,), dtype=int64, numpy=\n",
       "array([ 8295, 10827, 14938, 17021, 14575, 10498,  5835, 16831,  2621,\n",
       "       10284])>"
      ]
     },
     "execution_count": 19,
     "metadata": {},
     "output_type": "execute_result"
    }
   ],
   "source": [
    "exp1 = next(iter(fr_encoded))\n",
    "exp1"
   ]
  },
  {
   "cell_type": "markdown",
   "metadata": {
    "colab_type": "text",
    "id": "WoUaYni3O_pK"
   },
   "source": [
    "### Padding"
   ]
  },
  {
   "cell_type": "code",
   "execution_count": 20,
   "metadata": {
    "colab": {
     "base_uri": "https://localhost:8080/",
     "height": 50
    },
    "colab_type": "code",
    "id": "gbrmmbOEpSb8",
    "outputId": "534a5c63-8021-4353-e235-35b1bb4d7e22"
   },
   "outputs": [
    {
     "name": "stdout",
     "output_type": "stream",
     "text": [
      "en_max_len= 92\n",
      "fr_max_len= 104\n"
     ]
    }
   ],
   "source": [
    "en_prev=0\n",
    "fr_prev=0\n",
    "en_max_len=0\n",
    "for x in iter(en_encoded):\n",
    "    en_max_len = max(x.shape[0],en_prev)\n",
    "    en_prev = en_max_len\n",
    "\n",
    "for y in iter(fr_encoded):\n",
    "    fr_max_len = max(y.shape[0],fr_prev)\n",
    "    fr_prev = fr_max_len\n",
    "\n",
    "print(\"en_max_len=\",en_max_len)\n",
    "print(\"fr_max_len=\",fr_max_len)\n",
    "\n",
    "\n",
    "#X_max_len = max([len(sentence) for sentence in train])\n",
    "#y_max_len = max([len(sentence) for sentence in y])\n",
    "#print(train.apply(lambda x:len(x)))\n"
   ]
  },
  {
   "cell_type": "code",
   "execution_count": 21,
   "metadata": {
    "colab": {},
    "colab_type": "code",
    "id": "vcXBOcQ36KsP"
   },
   "outputs": [],
   "source": [
    "en_numpy = tfds.as_numpy(en_encoded)\n",
    "fr_numpy = tfds.as_numpy(fr_encoded)"
   ]
  },
  {
   "cell_type": "code",
   "execution_count": 22,
   "metadata": {
    "colab": {},
    "colab_type": "code",
    "id": "io3XhhNnO_pP"
   },
   "outputs": [],
   "source": [
    "en_padded = pad_sequences(list(en_numpy), maxlen=en_max_len, padding='post')\n",
    "fr_padded = pad_sequences(list(fr_numpy), maxlen=fr_max_len, padding='post')"
   ]
  },
  {
   "cell_type": "code",
   "execution_count": 23,
   "metadata": {},
   "outputs": [
    {
     "data": {
      "text/plain": [
       "11000"
      ]
     },
     "execution_count": 23,
     "metadata": {},
     "output_type": "execute_result"
    }
   ],
   "source": [
    "en_data_size = en_padded.shape[0]\n",
    "en_data_size"
   ]
  },
  {
   "cell_type": "code",
   "execution_count": 24,
   "metadata": {},
   "outputs": [
    {
     "data": {
      "text/plain": [
       "11000"
      ]
     },
     "execution_count": 24,
     "metadata": {},
     "output_type": "execute_result"
    }
   ],
   "source": [
    "fr_data_size = fr_padded.shape[0]\n",
    "fr_data_size"
   ]
  },
  {
   "cell_type": "code",
   "execution_count": 25,
   "metadata": {
    "colab": {
     "base_uri": "https://localhost:8080/",
     "height": 202
    },
    "colab_type": "code",
    "id": "fVjdmPrH3Qq0",
    "outputId": "619bd98a-49f6-4876-b0ef-bee2ac5c74df"
   },
   "outputs": [
    {
     "data": {
      "text/plain": [
       "array([ 6998,    91,  9832,  7980,  1546,  8255,  3406,   204, 10037,\n",
       "        2065,  3739,     0,     0,     0,     0,     0,     0,     0,\n",
       "           0,     0,     0,     0,     0,     0,     0,     0,     0,\n",
       "           0,     0,     0,     0,     0,     0,     0,     0,     0,\n",
       "           0,     0,     0,     0,     0,     0,     0,     0,     0,\n",
       "           0,     0,     0,     0,     0,     0,     0,     0,     0,\n",
       "           0,     0,     0,     0,     0,     0,     0,     0,     0,\n",
       "           0,     0,     0,     0,     0,     0,     0,     0,     0,\n",
       "           0,     0,     0,     0,     0,     0,     0,     0,     0,\n",
       "           0,     0,     0,     0,     0,     0,     0,     0,     0,\n",
       "           0,     0], dtype=int32)"
      ]
     },
     "execution_count": 25,
     "metadata": {},
     "output_type": "execute_result"
    }
   ],
   "source": [
    "en_padded[0]"
   ]
  },
  {
   "cell_type": "code",
   "execution_count": 26,
   "metadata": {
    "colab": {
     "base_uri": "https://localhost:8080/",
     "height": 218
    },
    "colab_type": "code",
    "id": "_iJEt2s2AOMO",
    "outputId": "aa1253f7-644e-4f45-82a1-1e942f396eeb"
   },
   "outputs": [
    {
     "data": {
      "text/plain": [
       "array([ 8295, 10827, 14938, 17021, 14575, 10498,  5835, 16831,  2621,\n",
       "       10284,     0,     0,     0,     0,     0,     0,     0,     0,\n",
       "           0,     0,     0,     0,     0,     0,     0,     0,     0,\n",
       "           0,     0,     0,     0,     0,     0,     0,     0,     0,\n",
       "           0,     0,     0,     0,     0,     0,     0,     0,     0,\n",
       "           0,     0,     0,     0,     0,     0,     0,     0,     0,\n",
       "           0,     0,     0,     0,     0,     0,     0,     0,     0,\n",
       "           0,     0,     0,     0,     0,     0,     0,     0,     0,\n",
       "           0,     0,     0,     0,     0,     0,     0,     0,     0,\n",
       "           0,     0,     0,     0,     0,     0,     0,     0,     0,\n",
       "           0,     0,     0,     0,     0,     0,     0,     0,     0,\n",
       "           0,     0,     0,     0,     0], dtype=int32)"
      ]
     },
     "execution_count": 26,
     "metadata": {},
     "output_type": "execute_result"
    }
   ],
   "source": [
    "fr_padded[0]"
   ]
  },
  {
   "cell_type": "code",
   "execution_count": 27,
   "metadata": {
    "colab": {},
    "colab_type": "code",
    "id": "gtIITkqoAljg"
   },
   "outputs": [],
   "source": [
    "en_dataset = tf.data.Dataset.from_tensor_slices(en_padded)\n",
    "fr_dataset = tf.data.Dataset.from_tensor_slices(fr_padded)\n",
    "pairs_dataset = tf.data.Dataset.zip((en_dataset, fr_dataset)) "
   ]
  },
  {
   "cell_type": "code",
   "execution_count": 28,
   "metadata": {
    "colab": {
     "base_uri": "https://localhost:8080/",
     "height": 437
    },
    "colab_type": "code",
    "id": "tbE5IRMsA-eC",
    "outputId": "b870a347-d392-48d3-926a-d5ba6d7e40f6"
   },
   "outputs": [
    {
     "data": {
      "text/plain": [
       "(<tf.Tensor: id=198135, shape=(92,), dtype=int32, numpy=\n",
       " array([ 6998,    91,  9832,  7980,  1546,  8255,  3406,   204, 10037,\n",
       "         2065,  3739,     0,     0,     0,     0,     0,     0,     0,\n",
       "            0,     0,     0,     0,     0,     0,     0,     0,     0,\n",
       "            0,     0,     0,     0,     0,     0,     0,     0,     0,\n",
       "            0,     0,     0,     0,     0,     0,     0,     0,     0,\n",
       "            0,     0,     0,     0,     0,     0,     0,     0,     0,\n",
       "            0,     0,     0,     0,     0,     0,     0,     0,     0,\n",
       "            0,     0,     0,     0,     0,     0,     0,     0,     0,\n",
       "            0,     0,     0,     0,     0,     0,     0,     0,     0,\n",
       "            0,     0,     0,     0,     0,     0,     0,     0,     0,\n",
       "            0,     0], dtype=int32)>,\n",
       " <tf.Tensor: id=198136, shape=(104,), dtype=int32, numpy=\n",
       " array([ 8295, 10827, 14938, 17021, 14575, 10498,  5835, 16831,  2621,\n",
       "        10284,     0,     0,     0,     0,     0,     0,     0,     0,\n",
       "            0,     0,     0,     0,     0,     0,     0,     0,     0,\n",
       "            0,     0,     0,     0,     0,     0,     0,     0,     0,\n",
       "            0,     0,     0,     0,     0,     0,     0,     0,     0,\n",
       "            0,     0,     0,     0,     0,     0,     0,     0,     0,\n",
       "            0,     0,     0,     0,     0,     0,     0,     0,     0,\n",
       "            0,     0,     0,     0,     0,     0,     0,     0,     0,\n",
       "            0,     0,     0,     0,     0,     0,     0,     0,     0,\n",
       "            0,     0,     0,     0,     0,     0,     0,     0,     0,\n",
       "            0,     0,     0,     0,     0,     0,     0,     0,     0,\n",
       "            0,     0,     0,     0,     0], dtype=int32)>)"
      ]
     },
     "execution_count": 28,
     "metadata": {},
     "output_type": "execute_result"
    }
   ],
   "source": [
    "next(iter(pairs_dataset))"
   ]
  },
  {
   "cell_type": "code",
   "execution_count": 29,
   "metadata": {},
   "outputs": [],
   "source": [
    "#dataset = tf.data.Dataset.range(11) \n",
    "#dataset = dataset.shuffle(5, reshuffle_each_iteration=False).repeat(1).batch(6, drop_remainder=False)\n",
    "#for x in dataset:\n",
    "#    print(x)\n",
    "#    print(\"next\")"
   ]
  },
  {
   "cell_type": "code",
   "execution_count": 30,
   "metadata": {
    "colab": {},
    "colab_type": "code",
    "id": "riRyHVuwzyBq"
   },
   "outputs": [],
   "source": [
    "#Split the original text dataset into test and train sets\n",
    "BUFFER_SIZE = 11000\n",
    "BATCH_SIZE = 20\n",
    "TAKE_SIZE = 1000\n",
    "train = pairs_dataset.skip(TAKE_SIZE).shuffle(BUFFER_SIZE, \n",
    "                                              reshuffle_each_iteration=True).batch(BATCH_SIZE, drop_remainder=False)\n",
    "\n",
    "test = pairs_dataset.take(TAKE_SIZE).batch(BATCH_SIZE, drop_remainder=False)"
   ]
  },
  {
   "cell_type": "code",
   "execution_count": 31,
   "metadata": {
    "colab": {
     "base_uri": "https://localhost:8080/",
     "height": 286
    },
    "colab_type": "code",
    "id": "t6H8KSb2xEwo",
    "outputId": "a2e41d23-64f8-4749-a81c-53a73be9d974"
   },
   "outputs": [
    {
     "name": "stdout",
     "output_type": "stream",
     "text": [
      "train size =  10000\n",
      "train batches =  500\n",
      "test size =  1000\n",
      "test batches =  50\n"
     ]
    }
   ],
   "source": [
    "i=0\n",
    "j=0\n",
    "for x in train:\n",
    "    i+=x[0].numpy().shape[0]\n",
    "    j+=1\n",
    "print(\"train size = \",i)\n",
    "print(\"train batches = \",j)\n",
    "i=0\n",
    "j=0\n",
    "for x in test:\n",
    "    i+=x[0].numpy().shape[0]\n",
    "    j+=1\n",
    "print(\"test size = \",i)\n",
    "print(\"test batches = \",j)"
   ]
  },
  {
   "cell_type": "code",
   "execution_count": 32,
   "metadata": {
    "colab": {},
    "colab_type": "code",
    "id": "SoFnK-p5O_pW"
   },
   "outputs": [],
   "source": [
    "en_vocab_size = len(en_vocab) + 1\n",
    "fr_vocab_size = len(fr_vocab) + 1\n",
    "#Since we have introduced a new token encoding (the zero used for padding), the vocabulary size has increased by one."
   ]
  },
  {
   "cell_type": "code",
   "execution_count": 33,
   "metadata": {},
   "outputs": [
    {
     "data": {
      "text/plain": [
       "17949"
      ]
     },
     "execution_count": 33,
     "metadata": {},
     "output_type": "execute_result"
    }
   ],
   "source": [
    "fr_vocab_size"
   ]
  },
  {
   "cell_type": "code",
   "execution_count": 34,
   "metadata": {
    "colab": {},
    "colab_type": "code",
    "id": "n2YdfpK3O_pY"
   },
   "outputs": [],
   "source": [
    "# configure problem\n",
    "embedings_dim = 20\n",
    "hidden_size = 512\n",
    "LR = 0.0001"
   ]
  },
  {
   "cell_type": "code",
   "execution_count": 48,
   "metadata": {
    "colab": {},
    "colab_type": "code",
    "id": "nUQk9hA3bfZE"
   },
   "outputs": [],
   "source": [
    "def create_model(X_vocab_len, X_max_len, y_vocab_len, y_max_len, hidden_size, emb_dim, LR):\n",
    "    model = tf.keras.Sequential()\n",
    "\n",
    "    # Creating encoder network\n",
    "    model.add(layers.Input(shape=(X_max_len,)))\n",
    "    model.add(layers.Embedding(X_vocab_len, emb_dim, input_length=X_max_len, mask_zero=True)) #input_length=X_max_len, input_dim=((None, X_max_len)), \n",
    "    model.add(layers.LSTM(hidden_size))\n",
    "    model.add(layers.RepeatVector(y_max_len))\n",
    "\n",
    "    # Creating decoder network\n",
    "    model.add(layers.LSTM(hidden_size, return_sequences=True))\n",
    "    model.add(layers.TimeDistributed(layers.Dense(y_vocab_len)))\n",
    "    model.add(layers.Activation('linear'))\n",
    "    model.compile(loss=tf.keras.losses.SparseCategoricalCrossentropy(from_logits=True),\n",
    "                  optimizer=tf.keras.optimizers.SGD(lr=0.1, decay=1e-3, momentum=0.9, nesterov=True),\n",
    "                  metrics=['accuracy'])\n",
    "    return model"
   ]
  },
  {
   "cell_type": "code",
   "execution_count": 49,
   "metadata": {
    "colab": {
     "base_uri": "https://localhost:8080/",
     "height": 34
    },
    "colab_type": "code",
    "id": "Z4-m7zcw2hqV",
    "outputId": "79978b94-9eca-418b-c4a7-1c1d20d1f710"
   },
   "outputs": [
    {
     "data": {
      "text/plain": [
       "(13518, 92, 17949, 104, 512, 20, 0.0001)"
      ]
     },
     "execution_count": 49,
     "metadata": {},
     "output_type": "execute_result"
    }
   ],
   "source": [
    "en_vocab_size, en_max_len, fr_vocab_size, fr_max_len, hidden_size, embedings_dim, LR"
   ]
  },
  {
   "cell_type": "code",
   "execution_count": 50,
   "metadata": {
    "colab": {},
    "colab_type": "code",
    "id": "nWyvrRopgBY6"
   },
   "outputs": [
    {
     "name": "stdout",
     "output_type": "stream",
     "text": [
      "Model: \"sequential_2\"\n",
      "_________________________________________________________________\n",
      "Layer (type)                 Output Shape              Param #   \n",
      "=================================================================\n",
      "embedding_2 (Embedding)      (None, 92, 20)            270360    \n",
      "_________________________________________________________________\n",
      "lstm_4 (LSTM)                (None, 512)               1091584   \n",
      "_________________________________________________________________\n",
      "repeat_vector_2 (RepeatVecto (None, 104, 512)          0         \n",
      "_________________________________________________________________\n",
      "lstm_5 (LSTM)                (None, 104, 512)          2099200   \n",
      "_________________________________________________________________\n",
      "time_distributed_2 (TimeDist (None, 104, 17949)        9207837   \n",
      "_________________________________________________________________\n",
      "activation_2 (Activation)    (None, 104, 17949)        0         \n",
      "=================================================================\n",
      "Total params: 12,668,981\n",
      "Trainable params: 12,668,981\n",
      "Non-trainable params: 0\n",
      "_________________________________________________________________\n",
      "None\n"
     ]
    }
   ],
   "source": [
    "model2 = create_model(en_vocab_size, en_max_len, fr_vocab_size, fr_max_len, hidden_size, embedings_dim, LR)\n",
    "print(model2.summary())"
   ]
  },
  {
   "cell_type": "code",
   "execution_count": 51,
   "metadata": {},
   "outputs": [
    {
     "name": "stdout",
     "output_type": "stream",
     "text": [
      "train_step =  550\n",
      "test_step =  50\n"
     ]
    }
   ],
   "source": [
    "BUFFER_SIZE, BATCH_SIZE\n",
    "train_step = BUFFER_SIZE // BATCH_SIZE\n",
    "test_step = TAKE_SIZE // BATCH_SIZE\n",
    "print(\"train_step = \",train_step)\n",
    "print(\"test_step = \",test_step)"
   ]
  },
  {
   "cell_type": "code",
   "execution_count": 52,
   "metadata": {
    "colab": {},
    "colab_type": "code",
    "id": "DJVGoHjsO_pi"
   },
   "outputs": [
    {
     "name": "stdout",
     "output_type": "stream",
     "text": [
      "Epoch 1/20\n",
      "\n",
      "Epoch 00001: val_loss improved from inf to 1.53855, saving model to EncoderDecoderRNN.hdf5\n",
      "500/500 - 87s - loss: 1.8032 - accuracy: 0.8048 - val_loss: 0.0000e+00 - val_accuracy: 0.0000e+00\n",
      "Epoch 2/20\n",
      "\n",
      "Epoch 00002: val_loss improved from 1.53855 to 1.49068, saving model to EncoderDecoderRNN.hdf5\n",
      "500/500 - 73s - loss: 1.4639 - accuracy: 0.8093 - val_loss: 1.4907 - val_accuracy: 0.8038\n",
      "Epoch 3/20\n",
      "\n",
      "Epoch 00003: val_loss improved from 1.49068 to 1.47567, saving model to EncoderDecoderRNN.hdf5\n",
      "500/500 - 72s - loss: 1.4340 - accuracy: 0.8096 - val_loss: 1.4757 - val_accuracy: 0.8042\n",
      "Epoch 4/20\n",
      "\n",
      "Epoch 00004: val_loss improved from 1.47567 to 1.46886, saving model to EncoderDecoderRNN.hdf5\n",
      "500/500 - 72s - loss: 1.4283 - accuracy: 0.8094 - val_loss: 1.4689 - val_accuracy: 0.8042\n",
      "Epoch 5/20\n",
      "\n",
      "Epoch 00005: val_loss improved from 1.46886 to 1.46134, saving model to EncoderDecoderRNN.hdf5\n",
      "500/500 - 72s - loss: 1.4159 - accuracy: 0.8098 - val_loss: 1.4613 - val_accuracy: 0.8045\n",
      "Epoch 6/20\n",
      "\n",
      "Epoch 00006: val_loss did not improve from 1.46134\n",
      "500/500 - 72s - loss: 1.4095 - accuracy: 0.8099 - val_loss: 1.4721 - val_accuracy: 0.8039\n",
      "Epoch 7/20\n",
      "\n",
      "Epoch 00007: val_loss improved from 1.46134 to 1.46071, saving model to EncoderDecoderRNN.hdf5\n",
      "500/500 - 72s - loss: 1.4064 - accuracy: 0.8099 - val_loss: 1.4607 - val_accuracy: 0.8044\n",
      "Epoch 8/20\n",
      "\n",
      "Epoch 00008: val_loss improved from 1.46071 to 1.45508, saving model to EncoderDecoderRNN.hdf5\n",
      "500/500 - 72s - loss: 1.4029 - accuracy: 0.8099 - val_loss: 1.4551 - val_accuracy: 0.8044\n",
      "Epoch 9/20\n",
      "\n",
      "Epoch 00009: val_loss improved from 1.45508 to 1.45459, saving model to EncoderDecoderRNN.hdf5\n",
      "500/500 - 72s - loss: 1.4010 - accuracy: 0.8100 - val_loss: 1.4546 - val_accuracy: 0.8044\n",
      "Epoch 10/20\n",
      "\n",
      "Epoch 00010: val_loss improved from 1.45459 to 1.45279, saving model to EncoderDecoderRNN.hdf5\n",
      "500/500 - 72s - loss: 1.3996 - accuracy: 0.8100 - val_loss: 1.4528 - val_accuracy: 0.8044\n",
      "Epoch 11/20\n",
      "\n",
      "Epoch 00011: val_loss improved from 1.45279 to 1.45271, saving model to EncoderDecoderRNN.hdf5\n",
      "500/500 - 72s - loss: 1.3978 - accuracy: 0.8100 - val_loss: 1.4527 - val_accuracy: 0.8044\n",
      "Epoch 12/20\n",
      "\n",
      "Epoch 00012: val_loss did not improve from 1.45271\n",
      "500/500 - 72s - loss: 1.3964 - accuracy: 0.8100 - val_loss: 1.4588 - val_accuracy: 0.8043\n",
      "Epoch 13/20\n",
      "\n",
      "Epoch 00013: val_loss did not improve from 1.45271\n",
      "500/500 - 72s - loss: 1.3957 - accuracy: 0.8100 - val_loss: 1.4536 - val_accuracy: 0.8044\n",
      "Epoch 14/20\n",
      "\n",
      "Epoch 00014: val_loss did not improve from 1.45271\n",
      "500/500 - 72s - loss: 1.3940 - accuracy: 0.8101 - val_loss: 1.4559 - val_accuracy: 0.8043\n",
      "Epoch 15/20\n",
      "\n",
      "Epoch 00015: val_loss improved from 1.45271 to 1.45095, saving model to EncoderDecoderRNN.hdf5\n",
      "500/500 - 72s - loss: 1.3942 - accuracy: 0.8100 - val_loss: 1.4510 - val_accuracy: 0.8044\n",
      "Epoch 16/20\n",
      "\n",
      "Epoch 00016: val_loss did not improve from 1.45095\n",
      "500/500 - 72s - loss: 1.3929 - accuracy: 0.8100 - val_loss: 1.4525 - val_accuracy: 0.8044\n",
      "Epoch 17/20\n",
      "\n",
      "Epoch 00017: val_loss improved from 1.45095 to 1.45001, saving model to EncoderDecoderRNN.hdf5\n",
      "500/500 - 72s - loss: 1.3925 - accuracy: 0.8101 - val_loss: 1.4500 - val_accuracy: 0.8044\n",
      "Epoch 18/20\n",
      "\n",
      "Epoch 00018: val_loss did not improve from 1.45001\n",
      "500/500 - 72s - loss: 1.3920 - accuracy: 0.8100 - val_loss: 1.4547 - val_accuracy: 0.8042\n",
      "Epoch 19/20\n",
      "\n",
      "Epoch 00019: val_loss did not improve from 1.45001\n",
      "500/500 - 72s - loss: 1.3922 - accuracy: 0.8100 - val_loss: 1.4516 - val_accuracy: 0.8044\n",
      "Epoch 20/20\n",
      "\n",
      "Epoch 00020: val_loss improved from 1.45001 to 1.44948, saving model to EncoderDecoderRNN.hdf5\n",
      "500/500 - 72s - loss: 1.3909 - accuracy: 0.8101 - val_loss: 1.4495 - val_accuracy: 0.8044\n"
     ]
    }
   ],
   "source": [
    "checkpointer = tf.keras.callbacks.ModelCheckpoint(filepath = 'EncoderDecoderRNN.hdf5', verbose=1, save_best_only=True)\n",
    "\n",
    "# This `fit` call will be distributed on 2 GPUs.\n",
    "# Since the batch size is 64, each GPU will process 32 samples.\n",
    "history = model2.fit(x=train, epochs=20, verbose=2, #steps_per_epoch = parallel_steps, \n",
    "           validation_data=test, callbacks=[checkpointer])#, validation_steps=parallel_steps)\n"
   ]
  },
  {
   "cell_type": "code",
   "execution_count": 53,
   "metadata": {},
   "outputs": [
    {
     "name": "stdout",
     "output_type": "stream",
     "text": [
      "dict_keys(['loss', 'accuracy', 'val_loss', 'val_accuracy'])\n"
     ]
    },
    {
     "data": {
      "image/png": "[encoded data removed]",
      "text/plain": [
       "<Figure size 432x288 with 1 Axes>"
      ]
     },
     "metadata": {
      "needs_background": "light"
     },
     "output_type": "display_data"
    },
    {
     "data": {
      "image/png": "[encoded data removed]",
      "text/plain": [
       "<Figure size 432x288 with 1 Axes>"
      ]
     },
     "metadata": {
      "needs_background": "light"
     },
     "output_type": "display_data"
    }
   ],
   "source": [
    "# list all data in history\n",
    "print(history.history.keys())\n",
    "# summarize history for accuracy\n",
    "plt.plot(history.history['accuracy'])\n",
    "plt.plot(history.history['val_accuracy'])\n",
    "plt.title('model accuracy')\n",
    "plt.ylabel('accuracy')\n",
    "plt.xlabel('epoch')\n",
    "plt.legend(['train', 'test'], loc='upper left')\n",
    "plt.show()\n",
    "# summarize history for loss\n",
    "plt.plot(history.history['loss'])\n",
    "plt.plot(history.history['val_loss'])\n",
    "plt.title('model loss')\n",
    "plt.ylabel('loss')\n",
    "plt.xlabel('epoch')\n",
    "plt.legend(['train', 'test'], loc='upper left')\n",
    "plt.show()"
   ]
  },
  {
   "cell_type": "code",
   "execution_count": null,
   "metadata": {},
   "outputs": [],
   "source": [
    "#from tensorflow.keras.utils import plot_model\n",
    "#plot_model(model2, to_file = \"seq2seq_translation.png\", show_shapes = True)"
   ]
  },
  {
   "cell_type": "markdown",
   "metadata": {},
   "source": [
    "## Evaluation"
   ]
  },
  {
   "cell_type": "code",
   "execution_count": 55,
   "metadata": {
    "colab": {},
    "colab_type": "code",
    "id": "bjLII6chO_pr"
   },
   "outputs": [],
   "source": [
    "model2.load_weights('EncoderDecoderRNN.hdf5')"
   ]
  },
  {
   "cell_type": "code",
   "execution_count": 62,
   "metadata": {},
   "outputs": [
    {
     "name": "stdout",
     "output_type": "stream",
     "text": [
      "['so too does the idea that accommodating religious differences is dangerous\\n', 'mr president ladies and gentlemen the financial perspective outlines the scope of the eu ’s activities over coming years as well as providing a framework for such activities and determining how effective they will be\\n', 'reserve should turn into thought - provoking policy\\n', 'it is my profound belief that we can only advance through cooperation and negotiation\\n', 'the european union has territorial waters greater than its entire territory with 1 200 ports and 90 % of its exports are transported by sea\\n']\n"
     ]
    }
   ],
   "source": [
    "text_inputs = []\n",
    "with open(en_text_file, 'r', encoding='utf-8') as en_file:\n",
    "    input_text = en_file.readlines()\n",
    "    en_file.close() \n",
    "print(input_text[0:5])\n",
    "input_text = input_text[0:5]"
   ]
  },
  {
   "cell_type": "code",
   "execution_count": 63,
   "metadata": {},
   "outputs": [],
   "source": [
    "with open(\"text_inputs.txt\", \"w\", encoding='utf-8') as in_file:\n",
    "    in_file.writelines(input_text)\n",
    "    in_file.close()"
   ]
  },
  {
   "cell_type": "code",
   "execution_count": 64,
   "metadata": {},
   "outputs": [
    {
     "name": "stdout",
     "output_type": "stream",
     "text": [
      "['L’ idée de concilier les différences religieuses semble donc dangereuse .\\n', 'Monsieur le Président , Mesdames et Messieurs , les perspectives financières esquissent la portée des activités de l’ UE pour les années à venir , fournissent un cadre pour ces activités et déterminent leur efficacité .\\n', 'La réticence doit laisser place à une politique stimulante .\\n', 'Je suis intimement convaincu que nous ne pourrons progresser que si nous coopérons et négocions .\\n', \"Le territoire marin de l' Union européenne est plus vaste que son territoire terrestre . On y dénombre 1 200 ports et 90 % de ses exportations sont acheminées par mer .\\n\"]\n"
     ]
    }
   ],
   "source": [
    "targets = []\n",
    "with open(fr_text_file, 'r', encoding='utf-8') as fr_file:\n",
    "    targets = fr_file.readlines()\n",
    "    fr_file.close() \n",
    "print(targets[0:5])\n",
    "targets = targets[0:5]"
   ]
  },
  {
   "cell_type": "code",
   "execution_count": 65,
   "metadata": {},
   "outputs": [],
   "source": [
    "with open(\"targets.txt\", \"w\", encoding='utf-8') as target_file:\n",
    "    target_file.writelines(targets)\n",
    "    target_file.close()"
   ]
  },
  {
   "cell_type": "code",
   "execution_count": 69,
   "metadata": {},
   "outputs": [
    {
     "data": {
      "text/plain": [
       "<tf.Tensor: id=326641, shape=(), dtype=string, numpy=b'so too does the idea that accommodating religious differences is dangerous'>"
      ]
     },
     "execution_count": 69,
     "metadata": {},
     "output_type": "execute_result"
    }
   ],
   "source": [
    "d = tf.data.TextLineDataset('text_inputs.txt')\n",
    "next(iter(d))"
   ]
  },
  {
   "cell_type": "code",
   "execution_count": null,
   "metadata": {},
   "outputs": [],
   "source": [
    "f.close()"
   ]
  },
  {
   "cell_type": "code",
   "execution_count": 70,
   "metadata": {},
   "outputs": [
    {
     "data": {
      "text/plain": [
       "array([[ 1998, 14513, 14513, 14938, 14938, 14938, 14938, 14938, 14938,\n",
       "            0,     0,     0,     0,     0,     0,     0,     0,     0,\n",
       "            0,     0,     0,     0,     0,     0,     0,     0,     0,\n",
       "            0,     0,     0,     0,     0,     0,     0,     0,     0,\n",
       "            0,     0,     0,     0,     0,     0,     0,     0,     0,\n",
       "            0,     0,     0,     0,     0,     0,     0,     0,     0,\n",
       "            0,     0,     0,     0,     0,     0,     0,     0,     0,\n",
       "            0,     0,     0,     0,     0,     0,     0,     0,     0,\n",
       "            0,     0,     0,     0,     0,     0,     0,     0,     0,\n",
       "            0,     0,     0,     0,     0,     0,     0,     0,     0,\n",
       "            0,     0,     0,     0,     0,     0,     0,     0,     0,\n",
       "            0,     0,     0,     0,     0],\n",
       "       [ 1998, 14513, 14938, 14938, 14938, 14938, 14938, 14938, 14938,\n",
       "        14938, 14938, 14938, 14938, 14938, 14938, 14938, 14938, 14938,\n",
       "        14938, 14938, 14938, 14938, 14938, 14938, 14938, 14938, 14938,\n",
       "        14938, 14938,     0,     0,     0,     0,     0,     0,     0,\n",
       "            0,     0,     0,     0,     0,     0,     0,     0,     0,\n",
       "            0,     0,     0,     0,     0,     0,     0,     0,     0,\n",
       "            0,     0,     0,     0,     0,     0,     0,     0,     0,\n",
       "            0,     0,     0,     0,     0,     0,     0,     0,     0,\n",
       "            0,     0,     0,     0,     0,     0,     0,     0,     0,\n",
       "            0,     0,     0,     0,     0,     0,     0,     0,     0,\n",
       "            0,     0,     0,     0,     0,     0,     0,     0,     0,\n",
       "            0,     0,     0,     0,     0],\n",
       "       [ 1998, 14513, 14513, 14938, 14938,     0,     0,     0,     0,\n",
       "            0,     0,     0,     0,     0,     0,     0,     0,     0,\n",
       "            0,     0,     0,     0,     0,     0,     0,     0,     0,\n",
       "            0,     0,     0,     0,     0,     0,     0,     0,     0,\n",
       "            0,     0,     0,     0,     0,     0,     0,     0,     0,\n",
       "            0,     0,     0,     0,     0,     0,     0,     0,     0,\n",
       "            0,     0,     0,     0,     0,     0,     0,     0,     0,\n",
       "            0,     0,     0,     0,     0,     0,     0,     0,     0,\n",
       "            0,     0,     0,     0,     0,     0,     0,     0,     0,\n",
       "            0,     0,     0,     0,     0,     0,     0,     0,     0,\n",
       "            0,     0,     0,     0,     0,     0,     0,     0,     0,\n",
       "            0,     0,     0,     0,     0],\n",
       "       [ 1998, 14513, 14938, 14938, 14938, 14938, 14938, 14938, 14938,\n",
       "        14938, 14938,     0,     0,     0,     0,     0,     0,     0,\n",
       "            0,     0,     0,     0,     0,     0,     0,     0,     0,\n",
       "            0,     0,     0,     0,     0,     0,     0,     0,     0,\n",
       "            0,     0,     0,     0,     0,     0,     0,     0,     0,\n",
       "            0,     0,     0,     0,     0,     0,     0,     0,     0,\n",
       "            0,     0,     0,     0,     0,     0,     0,     0,     0,\n",
       "            0,     0,     0,     0,     0,     0,     0,     0,     0,\n",
       "            0,     0,     0,     0,     0,     0,     0,     0,     0,\n",
       "            0,     0,     0,     0,     0,     0,     0,     0,     0,\n",
       "            0,     0,     0,     0,     0,     0,     0,     0,     0,\n",
       "            0,     0,     0,     0,     0],\n",
       "       [ 1998, 14513, 14938, 14938, 14938, 14938, 14938, 14938, 14938,\n",
       "        14938, 14938, 14938, 14938, 14938, 14938, 14938, 14938, 14938,\n",
       "        14938, 14938,     0,     0,     0,     0,     0,     0,     0,\n",
       "            0,     0,     0,     0,     0,     0,     0,     0,     0,\n",
       "            0,     0,     0,     0,     0,     0,     0,     0,     0,\n",
       "            0,     0,     0,     0,     0,     0,     0,     0,     0,\n",
       "            0,     0,     0,     0,     0,     0,     0,     0,     0,\n",
       "            0,     0,     0,     0,     0,     0,     0,     0,     0,\n",
       "            0,     0,     0,     0,     0,     0,     0,     0,     0,\n",
       "            0,     0,     0,     0,     0,     0,     0,     0,     0,\n",
       "            0,     0,     0,     0,     0,     0,     0,     0,     0,\n",
       "            0,     0,     0,     0,     0]])"
      ]
     },
     "execution_count": 70,
     "metadata": {},
     "output_type": "execute_result"
    }
   ],
   "source": [
    "from pathlib import Path\n",
    "args_input_file_path = \"text_inputs.txt\"\n",
    "pred_file_path = \"predictions.txt\"\n",
    "\n",
    "# Load text input\n",
    "data_input = tf.data.TextLineDataset(args_input_file_path)\n",
    "\n",
    "# Encode text\n",
    "encode_input = data_input.map(encode_map_en)\n",
    "\n",
    "# Paddind\n",
    "pad_input = pad_sequences(list(encode_input), maxlen=en_max_len, padding='post')\n",
    "\n",
    "# Run prediction\n",
    "predictions = np.argmax(model2.predict(pad_input), axis=2)\n",
    "predictions"
   ]
  },
  {
   "cell_type": "code",
   "execution_count": 72,
   "metadata": {},
   "outputs": [
    {
     "data": {
      "text/plain": [
       "['paire réalisée réalisée embargos embargos embargos embargos embargos embargos',\n",
       " 'paire réalisée embargos embargos embargos embargos embargos embargos embargos embargos embargos embargos embargos embargos embargos embargos embargos embargos embargos embargos embargos embargos embargos embargos embargos embargos embargos embargos embargos',\n",
       " 'paire réalisée réalisée embargos embargos',\n",
       " 'paire réalisée embargos embargos embargos embargos embargos embargos embargos embargos embargos',\n",
       " 'paire réalisée embargos embargos embargos embargos embargos embargos embargos embargos embargos embargos embargos embargos embargos embargos embargos embargos embargos embargos']"
      ]
     },
     "execution_count": 72,
     "metadata": {},
     "output_type": "execute_result"
    }
   ],
   "source": [
    "sequences = []\n",
    "for prediction in predictions:\n",
    "    sequence = ' '.join([list(fr_vocab)[index] for index in prediction if index > 0])\n",
    "    #print(sequence)\n",
    "    sequences.append(sequence)\n",
    "sequences"
   ]
  },
  {
   "cell_type": "code",
   "execution_count": 73,
   "metadata": {},
   "outputs": [],
   "source": [
    "np.savetxt(pred_file_path, sequences, fmt='%s')"
   ]
  },
  {
   "cell_type": "code",
   "execution_count": null,
   "metadata": {},
   "outputs": [],
   "source": [
    "def generate_predictions(input_file_path, pred_file_path):\n",
    "    # load model's parameters\n",
    "    \n",
    "    # Load input text\n",
    "    \n",
    "    # Preprocess input text (tokenized, encoded, padded)\n",
    "    \n",
    "    # Run prediction\n",
    "    \n",
    "    # Save to file\n",
    "    \n",
    "    # Run Evaluator.py\n",
    "    \n",
    "    return None\n",
    "    "
   ]
  },
  {
   "cell_type": "markdown",
   "metadata": {
    "colab": {},
    "colab_type": "code",
    "id": "eq0ggv-VO_py"
   },
   "source": [
    "## SacreBLEU Evaluation \n",
    "['1.9', '0.5', '2.0', '1.2', '0.5', '']\n",
    "\n",
    "final avg bleu score: 1.22"
   ]
  },
  {
   "cell_type": "code",
   "execution_count": null,
   "metadata": {},
   "outputs": [],
   "source": []
  }
 ],
 "metadata": {
  "colab": {
   "name": "Project2_baseline.ipynb",
   "provenance": []
  },
  "kernelspec": {
   "display_name": "jynbenv",
   "language": "python",
   "name": "jynbenv"
  },
  "language_info": {
   "codemirror_mode": {
    "name": "ipython",
    "version": 3
   },
   "file_extension": ".py",
   "mimetype": "text/x-python",
   "name": "python",
   "nbconvert_exporter": "python",
   "pygments_lexer": "ipython3",
   "version": "3.7.4"
  }
 },
 "nbformat": 4,
 "nbformat_minor": 4
}
