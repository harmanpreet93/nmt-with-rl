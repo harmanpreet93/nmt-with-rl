{
 "cells": [
  {
   "cell_type": "code",
   "execution_count": 1,
   "metadata": {},
   "outputs": [],
   "source": [
    "#!pip install --no-index --upgrade pip"
   ]
  },
  {
   "cell_type": "code",
   "execution_count": 2,
   "metadata": {},
   "outputs": [],
   "source": [
    "#!pip install --no-index tensorflow-gpu"
   ]
  },
  {
   "cell_type": "code",
   "execution_count": 3,
   "metadata": {},
   "outputs": [],
   "source": [
    "#!pip install --no-index matplotlib"
   ]
  },
  {
   "cell_type": "code",
   "execution_count": 4,
   "metadata": {
    "colab": {},
    "colab_type": "code",
    "id": "gvVhUeaRO_nA"
   },
   "outputs": [],
   "source": [
    "import tensorflow as tf\n",
    "import os\n",
    "import matplotlib.pyplot as plt\n",
    "from collections import Counter\n",
    "from tensorflow.keras.models import Model\n",
    "from tensorflow.keras import layers\n",
    "import numpy as np\n",
    "from tensorflow.keras.preprocessing.sequence import pad_sequences"
   ]
  },
  {
   "cell_type": "code",
   "execution_count": 5,
   "metadata": {
    "colab": {},
    "colab_type": "code",
    "id": "ys0Y7XsBO_nY"
   },
   "outputs": [],
   "source": [
    "physical_devices = tf.config.list_physical_devices('GPU')\n",
    "tf.config.experimental.set_memory_growth(physical_devices[0], enable=True)\n",
    "os.environ['TF_FORCE_GPU_ALLOW_GROWTH'] = 'true'"
   ]
  },
  {
   "cell_type": "markdown",
   "metadata": {
    "colab_type": "text",
    "id": "UYVG_U1HO_ne"
   },
   "source": [
    "## Preprocessing: Tokenize, clean-up, load, padding"
   ]
  },
  {
   "cell_type": "markdown",
   "metadata": {
    "colab_type": "text",
    "id": "CpNtsXsjO_nn"
   },
   "source": [
    "### Loading data "
   ]
  },
  {
   "cell_type": "code",
   "execution_count": 6,
   "metadata": {
    "colab": {},
    "colab_type": "code",
    "id": "y5nxMfzAO_no"
   },
   "outputs": [],
   "source": [
    "# Load data\n",
    "DIRECTORY_URL = \"data/train/\"\n",
    "FILE_NAMES = [\"train.lang1\",\"train.lang2\"]"
   ]
  },
  {
   "cell_type": "code",
   "execution_count": 7,
   "metadata": {},
   "outputs": [],
   "source": [
    "decoder_input_text = []\n",
    "decoder_target_text = []\n",
    "\n",
    "with open(os.path.join(DIRECTORY_URL, FILE_NAMES[1]), 'r', encoding=\"UTF-8\") as fr_file:\n",
    "    for line in fr_file.readlines():\n",
    "        line = line.rstrip().split('\\n')\n",
    "\n",
    "        target_line = line[0]+\" <eos>\"\n",
    "        input_line = \"<bos> \"+line[0]\n",
    "\n",
    "        decoder_input_text.append(input_line)\n",
    "        decoder_target_text.append(target_line)\n",
    "    fr_file.close()"
   ]
  },
  {
   "cell_type": "code",
   "execution_count": 8,
   "metadata": {},
   "outputs": [
    {
     "data": {
      "text/plain": [
       "['<bos> L’ idée de concilier les différences religieuses semble donc dangereuse .',\n",
       " '<bos> Monsieur le Président , Mesdames et Messieurs , les perspectives financières esquissent la portée des activités de l’ UE pour les années à venir , fournissent un cadre pour ces activités et déterminent leur efficacité .',\n",
       " '<bos> La réticence doit laisser place à une politique stimulante .']"
      ]
     },
     "execution_count": 8,
     "metadata": {},
     "output_type": "execute_result"
    }
   ],
   "source": [
    "decoder_input_text[0:3]"
   ]
  },
  {
   "cell_type": "code",
   "execution_count": 9,
   "metadata": {},
   "outputs": [
    {
     "data": {
      "text/plain": [
       "['L’ idée de concilier les différences religieuses semble donc dangereuse . <eos>',\n",
       " 'Monsieur le Président , Mesdames et Messieurs , les perspectives financières esquissent la portée des activités de l’ UE pour les années à venir , fournissent un cadre pour ces activités et déterminent leur efficacité . <eos>',\n",
       " 'La réticence doit laisser place à une politique stimulante . <eos>']"
      ]
     },
     "execution_count": 9,
     "metadata": {},
     "output_type": "execute_result"
    }
   ],
   "source": [
    "decoder_target_text[0:3]"
   ]
  },
  {
   "cell_type": "code",
   "execution_count": 10,
   "metadata": {},
   "outputs": [],
   "source": [
    "encoder_input_text = []\n",
    "with open(os.path.join(DIRECTORY_URL, FILE_NAMES[0]), 'r', encoding=\"UTF-8\") as en_file:\n",
    "    for line in en_file.readlines():\n",
    "        line = line.rstrip().split('\\n')\n",
    "        encoder_input_text.append(line[0]+\" .\")\n",
    "    en_file.close()"
   ]
  },
  {
   "cell_type": "code",
   "execution_count": 11,
   "metadata": {},
   "outputs": [
    {
     "data": {
      "text/plain": [
       "['so too does the idea that accommodating religious differences is dangerous .',\n",
       " 'mr president ladies and gentlemen the financial perspective outlines the scope of the eu ’s activities over coming years as well as providing a framework for such activities and determining how effective they will be .',\n",
       " 'reserve should turn into thought - provoking policy .']"
      ]
     },
     "execution_count": 11,
     "metadata": {},
     "output_type": "execute_result"
    }
   ],
   "source": [
    "encoder_input_text[0:3]"
   ]
  },
  {
   "cell_type": "code",
   "execution_count": 12,
   "metadata": {},
   "outputs": [
    {
     "data": {
      "text/plain": [
       "(11000, 11000, 11000)"
      ]
     },
     "execution_count": 12,
     "metadata": {},
     "output_type": "execute_result"
    }
   ],
   "source": [
    "len(encoder_input_text), len(decoder_input_text), len(decoder_target_text)"
   ]
  },
  {
   "cell_type": "markdown",
   "metadata": {
    "colab_type": "text",
    "id": "8I2mb7eJO_oj"
   },
   "source": [
    "### Encoding the encoder input text"
   ]
  },
  {
   "cell_type": "code",
   "execution_count": 13,
   "metadata": {},
   "outputs": [
    {
     "name": "stdout",
     "output_type": "stream",
     "text": [
      "Total unique words in the input: 13538\n",
      "Length of longest sentence in input: 91\n"
     ]
    }
   ],
   "source": [
    "input_tokenizer = tf.keras.preprocessing.text.Tokenizer()\n",
    "input_tokenizer.fit_on_texts(encoder_input_text)\n",
    "input_integer_seq = input_tokenizer.texts_to_sequences(encoder_input_text)\n",
    "\n",
    "word2idx_inputs = input_tokenizer.word_index\n",
    "num_words_input = len(word2idx_inputs) + 1\n",
    "print('Total unique words in the input: %s' % num_words_input)\n",
    "\n",
    "\n",
    "max_input_len = max(len(sen) for sen in input_integer_seq)\n",
    "print(\"Length of longest sentence in input: %g\" % max_input_len)"
   ]
  },
  {
   "cell_type": "markdown",
   "metadata": {
    "colab_type": "text",
    "id": "8I2mb7eJO_oj"
   },
   "source": [
    "### Encoding the decoder input and target text"
   ]
  },
  {
   "cell_type": "code",
   "execution_count": 14,
   "metadata": {},
   "outputs": [
    {
     "name": "stdout",
     "output_type": "stream",
     "text": [
      "Total unique words in the output: 17364\n",
      "Length of longest sentence in the output: 113\n"
     ]
    }
   ],
   "source": [
    "output_tokenizer = tf.keras.preprocessing.text.Tokenizer(filters='')\n",
    "output_tokenizer.fit_on_texts(decoder_input_text + decoder_target_text)\n",
    "\n",
    "\n",
    "output_integer_seq       = output_tokenizer.texts_to_sequences(decoder_target_text)\n",
    "output_input_integer_seq = output_tokenizer.texts_to_sequences(decoder_input_text)\n",
    "\n",
    "word2idx_outputs = output_tokenizer.word_index\n",
    "num_words_output = len(word2idx_outputs) + 2\n",
    "print('Total unique words in the output: %s' % num_words_output)\n",
    "\n",
    "\n",
    "max_out_len = max(len(sen) for sen in output_integer_seq)\n",
    "print(\"Length of longest sentence in the output: %g\" % max_out_len)"
   ]
  },
  {
   "cell_type": "markdown",
   "metadata": {},
   "source": [
    "### Statistics on data"
   ]
  },
  {
   "cell_type": "code",
   "execution_count": 15,
   "metadata": {},
   "outputs": [],
   "source": [
    "en_sen_len = [len(x) for x in input_integer_seq]\n",
    "fr_sen_len = [len(x) for x in output_integer_seq]"
   ]
  },
  {
   "cell_type": "code",
   "execution_count": 16,
   "metadata": {},
   "outputs": [],
   "source": [
    "en_sequence_length = np.sort(np.unique(np.array(en_sen_len), return_counts=True),axis=1)\n",
    "fr_sequence_length = np.sort(np.unique(np.array(fr_sen_len), return_counts=True),axis=1)"
   ]
  },
  {
   "cell_type": "code",
   "execution_count": 17,
   "metadata": {},
   "outputs": [
    {
     "data": {
      "text/plain": [
       "<matplotlib.collections.PathCollection at 0x1d34f394a88>"
      ]
     },
     "execution_count": 17,
     "metadata": {},
     "output_type": "execute_result"
    },
    {
     "data": {
      "image/png": "[encoded data removed]",
      "text/plain": [
       "<Figure size 432x288 with 1 Axes>"
      ]
     },
     "metadata": {
      "needs_background": "light"
     },
     "output_type": "display_data"
    }
   ],
   "source": [
    "plt.scatter(en_sequence_length[0],en_sequence_length[1])"
   ]
  },
  {
   "cell_type": "code",
   "execution_count": 18,
   "metadata": {},
   "outputs": [
    {
     "data": {
      "text/plain": [
       "<matplotlib.collections.PathCollection at 0x1d350927548>"
      ]
     },
     "execution_count": 18,
     "metadata": {},
     "output_type": "execute_result"
    },
    {
     "data": {
      "image/png": "[encoded data removed]",
      "text/plain": [
       "<Figure size 432x288 with 1 Axes>"
      ]
     },
     "metadata": {
      "needs_background": "light"
     },
     "output_type": "display_data"
    }
   ],
   "source": [
    "plt.scatter(fr_sequence_length[0],fr_sequence_length[1])"
   ]
  },
  {
   "cell_type": "markdown",
   "metadata": {},
   "source": [
    "We notice here that french sentences are longer than english sentences, and hence the former used more tokens than the latter"
   ]
  },
  {
   "cell_type": "markdown",
   "metadata": {},
   "source": [
    "### Reverse the input sequence"
   ]
  },
  {
   "cell_type": "markdown",
   "metadata": {},
   "source": [
    "As described in Sutskever et al. 2013, they inversed the input senquence of the encoder to reduce the distance between its correspondant from decoder sequence."
   ]
  },
  {
   "cell_type": "code",
   "execution_count": 19,
   "metadata": {},
   "outputs": [],
   "source": [
    "reversed_sequence = [list(reversed(x)) for x in input_integer_seq]"
   ]
  },
  {
   "cell_type": "code",
   "execution_count": 20,
   "metadata": {},
   "outputs": [
    {
     "data": {
      "text/plain": [
       "[42, 155, 118, 1, 338, 8, 7411, 966, 1366, 7, 823]"
      ]
     },
     "execution_count": 20,
     "metadata": {},
     "output_type": "execute_result"
    }
   ],
   "source": [
    "input_integer_seq[0]"
   ]
  },
  {
   "cell_type": "code",
   "execution_count": 21,
   "metadata": {},
   "outputs": [
    {
     "data": {
      "text/plain": [
       "[823, 7, 1366, 966, 7411, 8, 338, 1, 118, 155, 42]"
      ]
     },
     "execution_count": 21,
     "metadata": {},
     "output_type": "execute_result"
    }
   ],
   "source": [
    "reversed_sequence[0]"
   ]
  },
  {
   "cell_type": "markdown",
   "metadata": {},
   "source": [
    "### Padding"
   ]
  },
  {
   "cell_type": "code",
   "execution_count": 22,
   "metadata": {},
   "outputs": [
    {
     "name": "stdout",
     "output_type": "stream",
     "text": [
      "encoder_input_sequences.shape: (11000, 91)\n",
      "encoder_input_sequences[0]: [   0    0    0    0    0    0    0    0    0    0    0    0    0    0\n",
      "    0    0    0    0    0    0    0    0    0    0    0    0    0    0\n",
      "    0    0    0    0    0    0    0    0    0    0    0    0    0    0\n",
      "    0    0    0    0    0    0    0    0    0    0    0    0    0    0\n",
      "    0    0    0    0    0    0    0    0    0    0    0    0    0    0\n",
      "    0    0    0    0    0    0    0    0    0    0   42  155  118    1\n",
      "  338    8 7411  966 1366    7  823]\n"
     ]
    }
   ],
   "source": [
    "encoder_input_sequences = pad_sequences(input_integer_seq, maxlen=max_input_len)\n",
    "print(\"encoder_input_sequences.shape:\", encoder_input_sequences.shape)\n",
    "print(\"encoder_input_sequences[0]:\", encoder_input_sequences[0])"
   ]
  },
  {
   "cell_type": "code",
   "execution_count": 23,
   "metadata": {},
   "outputs": [
    {
     "name": "stdout",
     "output_type": "stream",
     "text": [
      "decoder_input_sequences.shape: (11000, 113)\n",
      "decoder_input_sequences[0]: [   5   33  283    2 3485    9 1408 3053  358   85 4097    1    0    0\n",
      "    0    0    0    0    0    0    0    0    0    0    0    0    0    0\n",
      "    0    0    0    0    0    0    0    0    0    0    0    0    0    0\n",
      "    0    0    0    0    0    0    0    0    0    0    0    0    0    0\n",
      "    0    0    0    0    0    0    0    0    0    0    0    0    0    0\n",
      "    0    0    0    0    0    0    0    0    0    0    0    0    0    0\n",
      "    0    0    0    0    0    0    0    0    0    0    0    0    0    0\n",
      "    0    0    0    0    0    0    0    0    0    0    0    0    0    0\n",
      "    0]\n"
     ]
    }
   ],
   "source": [
    "decoder_input_sequences = pad_sequences(output_input_integer_seq, maxlen=max_out_len, padding='post')\n",
    "print(\"decoder_input_sequences.shape:\", decoder_input_sequences.shape)\n",
    "print(\"decoder_input_sequences[0]:\", decoder_input_sequences[0])"
   ]
  },
  {
   "cell_type": "code",
   "execution_count": 24,
   "metadata": {
    "scrolled": true
   },
   "outputs": [
    {
     "name": "stdout",
     "output_type": "stream",
     "text": [
      "decoder_output_sequences.shape: (11000, 113)\n",
      "decoder_output_sequences[0]: [  33  283    2 3485    9 1408 3053  358   85 4097    1    6    0    0\n",
      "    0    0    0    0    0    0    0    0    0    0    0    0    0    0\n",
      "    0    0    0    0    0    0    0    0    0    0    0    0    0    0\n",
      "    0    0    0    0    0    0    0    0    0    0    0    0    0    0\n",
      "    0    0    0    0    0    0    0    0    0    0    0    0    0    0\n",
      "    0    0    0    0    0    0    0    0    0    0    0    0    0    0\n",
      "    0    0    0    0    0    0    0    0    0    0    0    0    0    0\n",
      "    0    0    0    0    0    0    0    0    0    0    0    0    0    0\n",
      "    0]\n"
     ]
    }
   ],
   "source": [
    "decoder_output_sequences = pad_sequences(output_integer_seq, maxlen=max_out_len, padding='post')\n",
    "print(\"decoder_output_sequences.shape:\", decoder_output_sequences.shape)\n",
    "print(\"decoder_output_sequences[0]:\", decoder_output_sequences[0])"
   ]
  },
  {
   "cell_type": "markdown",
   "metadata": {},
   "source": [
    "### Preprocess the data"
   ]
  },
  {
   "cell_type": "markdown",
   "metadata": {},
   "source": [
    "The following method wrapup all the previous steps, in order to simplify the execution"
   ]
  },
  {
   "cell_type": "code",
   "execution_count": 25,
   "metadata": {},
   "outputs": [],
   "source": [
    "def preprocess_input_text(text, tokenizer, reverse=True):\n",
    "    # Tokenize the data\n",
    "    input_text = tokenizer.texts_to_sequences(text)\n",
    "    \n",
    "    # Reverse the sequence\n",
    "    if reverse: input_text = [list(reversed(x)) for x in input_text]\n",
    "    \n",
    "    # Padding left side paddin='pre'\n",
    "    input_padded = pad_sequences(input_text, maxlen=max_input_len, padding='pre')\n",
    "    \n",
    "    return input_padded"
   ]
  },
  {
   "cell_type": "code",
   "execution_count": 26,
   "metadata": {},
   "outputs": [],
   "source": [
    "prep_input = preprocess_input_text(encoder_input_text, input_tokenizer)"
   ]
  },
  {
   "cell_type": "code",
   "execution_count": 27,
   "metadata": {},
   "outputs": [
    {
     "data": {
      "text/plain": [
       "array([   0,    0,    0,    0,    0,    0,    0,    0,    0,    0,    0,\n",
       "          0,    0,    0,    0,    0,    0,    0,    0,    0,    0,    0,\n",
       "          0,    0,    0,    0,    0,    0,    0,    0,    0,    0,    0,\n",
       "          0,    0,    0,    0,    0,    0,    0,    0,    0,    0,    0,\n",
       "          0,    0,    0,    0,    0,    0,    0,    0,    0,    0,    0,\n",
       "          0,    0,    0,    0,    0,    0,    0,    0,    0,    0,    0,\n",
       "          0,    0,    0,    0,    0,    0,    0,    0,    0,    0,    0,\n",
       "          0,    0,    0,  823,    7, 1366,  966, 7411,    8,  338,    1,\n",
       "        118,  155,   42])"
      ]
     },
     "execution_count": 27,
     "metadata": {},
     "output_type": "execute_result"
    }
   ],
   "source": [
    "prep_input[0]"
   ]
  },
  {
   "cell_type": "code",
   "execution_count": 28,
   "metadata": {},
   "outputs": [
    {
     "data": {
      "text/plain": [
       "[[42, 155, 118, 1, 338, 8, 7411, 966, 1366, 7, 823]]"
      ]
     },
     "execution_count": 28,
     "metadata": {},
     "output_type": "execute_result"
    }
   ],
   "source": [
    "# Sanity check\n",
    "input_tokenizer.texts_to_sequences([encoder_input_text[0]])"
   ]
  },
  {
   "cell_type": "code",
   "execution_count": 29,
   "metadata": {},
   "outputs": [],
   "source": [
    "def preprocess_output_text(text, tokenizer):\n",
    "    \n",
    "    # Encoding\n",
    "    input_encoded = tokenizer.texts_to_sequences(text)\n",
    "    \n",
    "    # Padding\n",
    "    input_padded = pad_sequences(input_encoded, maxlen=max_input_len, padding='post')\n",
    "    \n",
    "    return input_padded"
   ]
  },
  {
   "cell_type": "markdown",
   "metadata": {},
   "source": [
    "### Define the seq2seq model"
   ]
  },
  {
   "cell_type": "code",
   "execution_count": 49,
   "metadata": {
    "colab": {},
    "colab_type": "code",
    "id": "n2YdfpK3O_pY"
   },
   "outputs": [],
   "source": [
    "# configure problem\n",
    "embedings_dim = 64\n",
    "hidden_units = 512\n",
    "LR = 0.0001\n",
    "dropout = 0.5"
   ]
  },
  {
   "cell_type": "code",
   "execution_count": 50,
   "metadata": {
    "colab": {
     "base_uri": "https://localhost:8080/",
     "height": 34
    },
    "colab_type": "code",
    "id": "Z4-m7zcw2hqV",
    "outputId": "79978b94-9eca-418b-c4a7-1c1d20d1f710"
   },
   "outputs": [],
   "source": [
    "#en_vocab_size, en_max_len, fr_vocab_size, fr_max_len, hidden_units, embedings_dim, LR"
   ]
  },
  {
   "cell_type": "code",
   "execution_count": 51,
   "metadata": {
    "colab": {},
    "colab_type": "code",
    "id": "nUQk9hA3bfZE"
   },
   "outputs": [],
   "source": [
    "# Encoder\n",
    "def seq2seq_model(num_en_tokens, embedings_dim, hidden_units, num_fr_tokens, max_input_len, max_out_len, LR, dropout):      \n",
    "    \n",
    "    encoder_inputs = layers.Input(shape=(None,))\n",
    "    encoder_embeddings = layers.Embedding(num_en_tokens, embedings_dim, mask_zero=True)\n",
    "    encoder_embedded = encoder_embeddings(encoder_inputs)\n",
    "    encoder_bilstm = layers.Bidirectional(layers.LSTM(hidden_units, return_state=True, dropout=dropout))\n",
    "    # Return states in addition to output\n",
    "    output, forward_h, forward_c, backward_h, backward_c = encoder_bilstm(encoder_embedded)\n",
    "    \n",
    "    state_h = layers.Concatenate()([forward_h, backward_h])\n",
    "    state_c = layers.Concatenate()([forward_c, backward_c])\n",
    "    encoder_states = [state_h, state_c]\n",
    "    \n",
    "    #encoder_states = [forward_h, forward_c, backward_h, backward_c]\n",
    "\n",
    "    # Decoder\n",
    "    decoder_inputs = layers.Input(shape=(None, ))\n",
    "    decoder_embeddings = layers.Embedding(num_fr_tokens, embedings_dim, mask_zero=True)\n",
    "    decoder_embedded = decoder_embeddings(decoder_inputs)\n",
    "\n",
    "    # Pass the 2 states to a new LSTM layer, as initial state\n",
    "    decoder_lstm = layers.LSTM(hidden_units*2, return_sequences=True, return_state=True, dropout=dropout)\n",
    "    decoder_outputs, _, _, = decoder_lstm(decoder_embedded, initial_state=encoder_states)\n",
    "\n",
    "    decoder_dense = layers.Dense(num_fr_tokens, activation='linear')\n",
    "    decoder_outputs = decoder_dense(decoder_outputs)\n",
    "\n",
    "    model = Model([encoder_inputs, decoder_inputs], decoder_outputs)\n",
    "    model.compile(loss=tf.keras.losses.SparseCategoricalCrossentropy(from_logits=True),\n",
    "                  optimizer=tf.keras.optimizers.Adam(learning_rate=LR),\n",
    "                  metrics=['accuracy'])\n",
    "    model.summary()\n",
    "    #SGD(learning_rate=0.2, decay=1e-4, momentum=0.9, nesterov=True), #\n",
    "    \n",
    "    # Evaluation model:\n",
    "    encoder_model = Model(encoder_inputs, encoder_states)\n",
    "    \n",
    "    decoder_state_h = layers.Input(shape=(hidden_units*2,))\n",
    "    decoder_state_c = layers.Input(shape=(hidden_units*2,))\n",
    "    #decoder_state_b_h = layers.Input(shape=(hidden_units,))\n",
    "    #decoder_state_b_c = layers.Input(shape=(hidden_units,))\n",
    "    \n",
    "    #e_state_h = layers.Concatenate()([decoder_state_f_h, decoder_state_b_h])\n",
    "    #e_state_c = layers.Concatenate()([decoder_state_f_c, decoder_state_b_c])\n",
    "    \n",
    "    decoder_states_inputs = [decoder_state_h, decoder_state_c]#, decoder_state_b_h, decoder_state_b_c]\n",
    "    \n",
    "    decoder_inputs_single = layers.Input(shape=(1,))\n",
    "    decoder_inputs_single_x = decoder_embeddings(decoder_inputs_single)\n",
    "    decoder_outputs, h, c = decoder_lstm(decoder_inputs_single_x, initial_state=decoder_states_inputs)\n",
    "    decoder_states = [h, c]\n",
    "    decoder_outputs = decoder_dense(decoder_outputs)\n",
    "    decoder_model = Model(\n",
    "        [decoder_inputs_single] + decoder_states_inputs,\n",
    "        [decoder_outputs] + decoder_states\n",
    "    )\n",
    "     \n",
    "    \n",
    "    return model, encoder_model, decoder_model"
   ]
  },
  {
   "cell_type": "code",
   "execution_count": 52,
   "metadata": {},
   "outputs": [
    {
     "name": "stdout",
     "output_type": "stream",
     "text": [
      "Model: \"model_3\"\n",
      "__________________________________________________________________________________________________\n",
      "Layer (type)                    Output Shape         Param #     Connected to                     \n",
      "==================================================================================================\n",
      "input_6 (InputLayer)            [(None, None)]       0                                            \n",
      "__________________________________________________________________________________________________\n",
      "embedding_2 (Embedding)         (None, None, 64)     866432      input_6[0][0]                    \n",
      "__________________________________________________________________________________________________\n",
      "input_7 (InputLayer)            [(None, None)]       0                                            \n",
      "__________________________________________________________________________________________________\n",
      "bidirectional_1 (Bidirectional) [(None, 1024), (None 2363392     embedding_2[0][0]                \n",
      "__________________________________________________________________________________________________\n",
      "embedding_3 (Embedding)         (None, None, 64)     1111296     input_7[0][0]                    \n",
      "__________________________________________________________________________________________________\n",
      "concatenate_2 (Concatenate)     (None, 1024)         0           bidirectional_1[0][1]            \n",
      "                                                                 bidirectional_1[0][3]            \n",
      "__________________________________________________________________________________________________\n",
      "concatenate_3 (Concatenate)     (None, 1024)         0           bidirectional_1[0][2]            \n",
      "                                                                 bidirectional_1[0][4]            \n",
      "__________________________________________________________________________________________________\n",
      "lstm_3 (LSTM)                   [(None, None, 1024), 4460544     embedding_3[0][0]                \n",
      "                                                                 concatenate_2[0][0]              \n",
      "                                                                 concatenate_3[0][0]              \n",
      "__________________________________________________________________________________________________\n",
      "dense_1 (Dense)                 (None, None, 17364)  17798100    lstm_3[0][0]                     \n",
      "==================================================================================================\n",
      "Total params: 26,599,764\n",
      "Trainable params: 26,599,764\n",
      "Non-trainable params: 0\n",
      "__________________________________________________________________________________________________\n"
     ]
    }
   ],
   "source": [
    "model, encoder_model, decoder_model = seq2seq_model(num_words_input, embedings_dim, hidden_units, num_words_output, max_input_len, max_out_len, LR, dropout)"
   ]
  },
  {
   "cell_type": "markdown",
   "metadata": {},
   "source": [
    "### Train the model"
   ]
  },
  {
   "cell_type": "code",
   "execution_count": 53,
   "metadata": {},
   "outputs": [],
   "source": [
    "batch_size = 20\n",
    "epochs=20"
   ]
  },
  {
   "cell_type": "code",
   "execution_count": 54,
   "metadata": {
    "colab": {},
    "colab_type": "code",
    "id": "DJVGoHjsO_pi"
   },
   "outputs": [
    {
     "name": "stdout",
     "output_type": "stream",
     "text": [
      "Train on 8800 samples, validate on 2200 samples\n",
      "Epoch 1/20\n",
      "8780/8800 [============================>.] - ETA: 0s - loss: 1.4516 - accuracy: 0.0735\n",
      "Epoch 00001: val_loss improved from inf to 1.38158, saving model to BidirectionalLSTMv3.hdf5\n",
      "8800/8800 [==============================] - 200s 23ms/sample - loss: 1.4516 - accuracy: 0.0735 - val_loss: 1.3816 - val_accuracy: 0.0890\n",
      "Epoch 2/20\n",
      "8780/8800 [============================>.] - ETA: 0s - loss: 1.3249 - accuracy: 0.1036\n",
      "Epoch 00002: val_loss improved from 1.38158 to 1.35180, saving model to BidirectionalLSTMv3.hdf5\n",
      "8800/8800 [==============================] - 196s 22ms/sample - loss: 1.3243 - accuracy: 0.1037 - val_loss: 1.3518 - val_accuracy: 0.1175\n",
      "Epoch 3/20\n",
      "8780/8800 [============================>.] - ETA: 0s - loss: 1.2850 - accuracy: 0.1199\n",
      "Epoch 00003: val_loss improved from 1.35180 to 1.32335, saving model to BidirectionalLSTMv3.hdf5\n",
      "8800/8800 [==============================] - 195s 22ms/sample - loss: 1.2851 - accuracy: 0.1199 - val_loss: 1.3233 - val_accuracy: 0.1219\n",
      "Epoch 4/20\n",
      "8780/8800 [============================>.] - ETA: 0s - loss: 1.2504 - accuracy: 0.1269\n",
      "Epoch 00004: val_loss improved from 1.32335 to 1.29993, saving model to BidirectionalLSTMv3.hdf5\n",
      "8800/8800 [==============================] - 196s 22ms/sample - loss: 1.2512 - accuracy: 0.1269 - val_loss: 1.2999 - val_accuracy: 0.1288\n",
      "Epoch 5/20\n",
      "8780/8800 [============================>.] - ETA: 0s - loss: 1.2241 - accuracy: 0.1312\n",
      "Epoch 00005: val_loss improved from 1.29993 to 1.28427, saving model to BidirectionalLSTMv3.hdf5\n",
      "8800/8800 [==============================] - 196s 22ms/sample - loss: 1.2238 - accuracy: 0.1312 - val_loss: 1.2843 - val_accuracy: 0.1338\n",
      "Epoch 6/20\n",
      "8780/8800 [============================>.] - ETA: 0s - loss: 1.2027 - accuracy: 0.1350\n",
      "Epoch 00006: val_loss improved from 1.28427 to 1.27420, saving model to BidirectionalLSTMv3.hdf5\n",
      "8800/8800 [==============================] - 196s 22ms/sample - loss: 1.2025 - accuracy: 0.1351 - val_loss: 1.2742 - val_accuracy: 0.1353\n",
      "Epoch 7/20\n",
      "8780/8800 [============================>.] - ETA: 0s - loss: 1.1839 - accuracy: 0.1395\n",
      "Epoch 00007: val_loss improved from 1.27420 to 1.26558, saving model to BidirectionalLSTMv3.hdf5\n",
      "8800/8800 [==============================] - 193s 22ms/sample - loss: 1.1844 - accuracy: 0.1395 - val_loss: 1.2656 - val_accuracy: 0.1390\n",
      "Epoch 8/20\n",
      "8780/8800 [============================>.] - ETA: 0s - loss: 1.1685 - accuracy: 0.1424\n",
      "Epoch 00008: val_loss improved from 1.26558 to 1.25904, saving model to BidirectionalLSTMv3.hdf5\n",
      "8800/8800 [==============================] - 196s 22ms/sample - loss: 1.1686 - accuracy: 0.1424 - val_loss: 1.2590 - val_accuracy: 0.1419\n",
      "Epoch 9/20\n",
      "8780/8800 [============================>.] - ETA: 0s - loss: 1.1535 - accuracy: 0.1460\n",
      "Epoch 00009: val_loss improved from 1.25904 to 1.25264, saving model to BidirectionalLSTMv3.hdf5\n",
      "8800/8800 [==============================] - 195s 22ms/sample - loss: 1.1543 - accuracy: 0.1460 - val_loss: 1.2526 - val_accuracy: 0.1454\n",
      "Epoch 10/20\n",
      "8780/8800 [============================>.] - ETA: 0s - loss: 1.1408 - accuracy: 0.1497\n",
      "Epoch 00010: val_loss improved from 1.25264 to 1.24824, saving model to BidirectionalLSTMv3.hdf5\n",
      "8800/8800 [==============================] - 197s 22ms/sample - loss: 1.1407 - accuracy: 0.1498 - val_loss: 1.2482 - val_accuracy: 0.1486\n",
      "Epoch 11/20\n",
      "8780/8800 [============================>.] - ETA: 0s - loss: 1.1277 - accuracy: 0.1533\n",
      "Epoch 00011: val_loss improved from 1.24824 to 1.24352, saving model to BidirectionalLSTMv3.hdf5\n",
      "8800/8800 [==============================] - 195s 22ms/sample - loss: 1.1276 - accuracy: 0.1534 - val_loss: 1.2435 - val_accuracy: 0.1533\n",
      "Epoch 12/20\n",
      "8780/8800 [============================>.] - ETA: 0s - loss: 1.1138 - accuracy: 0.1570\n",
      "Epoch 00012: val_loss improved from 1.24352 to 1.23751, saving model to BidirectionalLSTMv3.hdf5\n",
      "8800/8800 [==============================] - 210s 24ms/sample - loss: 1.1145 - accuracy: 0.1569 - val_loss: 1.2375 - val_accuracy: 0.1575\n",
      "Epoch 13/20\n",
      "8780/8800 [============================>.] - ETA: 0s - loss: 1.1021 - accuracy: 0.1615\n",
      "Epoch 00013: val_loss improved from 1.23751 to 1.23315, saving model to BidirectionalLSTMv3.hdf5\n",
      "8800/8800 [==============================] - 213s 24ms/sample - loss: 1.1016 - accuracy: 0.1616 - val_loss: 1.2331 - val_accuracy: 0.1606\n",
      "Epoch 14/20\n",
      "8780/8800 [============================>.] - ETA: 0s - loss: 1.0884 - accuracy: 0.1651\n",
      "Epoch 00014: val_loss improved from 1.23315 to 1.22864, saving model to BidirectionalLSTMv3.hdf5\n",
      "8800/8800 [==============================] - 210s 24ms/sample - loss: 1.0885 - accuracy: 0.1651 - val_loss: 1.2286 - val_accuracy: 0.1629\n",
      "Epoch 15/20\n",
      "8780/8800 [============================>.] - ETA: 0s - loss: 1.0757 - accuracy: 0.1681\n",
      "Epoch 00015: val_loss improved from 1.22864 to 1.22506, saving model to BidirectionalLSTMv3.hdf5\n",
      "8800/8800 [==============================] - 207s 24ms/sample - loss: 1.0759 - accuracy: 0.1682 - val_loss: 1.2251 - val_accuracy: 0.1659\n",
      "Epoch 16/20\n",
      "8780/8800 [============================>.] - ETA: 0s - loss: 1.0634 - accuracy: 0.1718\n",
      "Epoch 00016: val_loss improved from 1.22506 to 1.22113, saving model to BidirectionalLSTMv3.hdf5\n",
      "8800/8800 [==============================] - 195s 22ms/sample - loss: 1.0633 - accuracy: 0.1718 - val_loss: 1.2211 - val_accuracy: 0.1692\n",
      "Epoch 17/20\n",
      "8780/8800 [============================>.] - ETA: 0s - loss: 1.0508 - accuracy: 0.1748\n",
      "Epoch 00017: val_loss improved from 1.22113 to 1.21877, saving model to BidirectionalLSTMv3.hdf5\n",
      "8800/8800 [==============================] - 194s 22ms/sample - loss: 1.0510 - accuracy: 0.1748 - val_loss: 1.2188 - val_accuracy: 0.1709\n",
      "Epoch 18/20\n",
      "8780/8800 [============================>.] - ETA: 0s - loss: 1.0386 - accuracy: 0.1783\n",
      "Epoch 00018: val_loss improved from 1.21877 to 1.21533, saving model to BidirectionalLSTMv3.hdf5\n",
      "8800/8800 [==============================] - 193s 22ms/sample - loss: 1.0384 - accuracy: 0.1783 - val_loss: 1.2153 - val_accuracy: 0.1746\n",
      "Epoch 19/20\n",
      "8780/8800 [============================>.] - ETA: 0s - loss: 1.0257 - accuracy: 0.1814\n",
      "Epoch 00019: val_loss improved from 1.21533 to 1.21239, saving model to BidirectionalLSTMv3.hdf5\n",
      "8800/8800 [==============================] - 195s 22ms/sample - loss: 1.0262 - accuracy: 0.1814 - val_loss: 1.2124 - val_accuracy: 0.1762\n",
      "Epoch 20/20\n",
      "8780/8800 [============================>.] - ETA: 0s - loss: 1.0136 - accuracy: 0.1853\n",
      "Epoch 00020: val_loss improved from 1.21239 to 1.20955, saving model to BidirectionalLSTMv3.hdf5\n",
      "8800/8800 [==============================] - 195s 22ms/sample - loss: 1.0137 - accuracy: 0.1854 - val_loss: 1.2095 - val_accuracy: 0.1796\n"
     ]
    }
   ],
   "source": [
    "checkpointer = tf.keras.callbacks.ModelCheckpoint(filepath='BidirectionalLSTMv3.hdf5', verbose=2, save_best_only=True)\n",
    "\n",
    "history = model.fit([encoder_input_sequences, decoder_input_sequences],\n",
    "                            decoder_output_sequences,\n",
    "                            batch_size=batch_size,\n",
    "                            epochs=epochs, \n",
    "                            validation_split=0.2,\n",
    "                            callbacks=[checkpointer])"
   ]
  },
  {
   "cell_type": "code",
   "execution_count": 55,
   "metadata": {},
   "outputs": [
    {
     "data": {
      "image/png": "[encoded data removed]",
      "text/plain": [
       "<Figure size 432x288 with 1 Axes>"
      ]
     },
     "metadata": {
      "needs_background": "light"
     },
     "output_type": "display_data"
    },
    {
     "data": {
      "image/png": "[encoded data removed]",
      "text/plain": [
       "<Figure size 432x288 with 1 Axes>"
      ]
     },
     "metadata": {
      "needs_background": "light"
     },
     "output_type": "display_data"
    }
   ],
   "source": [
    "# summarize history for accuracy\n",
    "plt.plot(history.history['accuracy'])\n",
    "plt.plot(history.history['val_accuracy'])\n",
    "plt.title('model accuracy')\n",
    "plt.ylabel('accuracy')\n",
    "plt.xlabel('epoch')\n",
    "plt.legend(['train', 'test'], loc='upper left')\n",
    "plt.show()\n",
    "# summarize history for loss\n",
    "plt.plot(history.history['loss'])\n",
    "plt.plot(history.history['val_loss'])\n",
    "plt.title('model loss')\n",
    "plt.ylabel('loss')\n",
    "plt.xlabel('epoch')\n",
    "plt.legend(['train', 'test'], loc='upper left')\n",
    "plt.show()"
   ]
  },
  {
   "cell_type": "code",
   "execution_count": 56,
   "metadata": {},
   "outputs": [],
   "source": [
    "from tensorflow.keras.utils import plot_model\n",
    "#plot_model(model, to_file = \"seq2seq_translation.png\", show_shapes = True)"
   ]
  },
  {
   "cell_type": "markdown",
   "metadata": {},
   "source": [
    "## Evaluation"
   ]
  },
  {
   "cell_type": "code",
   "execution_count": 57,
   "metadata": {},
   "outputs": [],
   "source": [
    "# load best weights\n",
    "model.load_weights('BidirectionalLSTMv3.hdf5')"
   ]
  },
  {
   "cell_type": "code",
   "execution_count": 58,
   "metadata": {},
   "outputs": [],
   "source": [
    "idx2word_input = {v:k for k, v in word2idx_inputs.items()}\n",
    "idx2word_target = {v:k for k, v in word2idx_outputs.items()}"
   ]
  },
  {
   "cell_type": "code",
   "execution_count": 59,
   "metadata": {},
   "outputs": [],
   "source": [
    "def translate_sentence(input_seq):\n",
    "    \n",
    "    # Preprocess input text\n",
    "    input_seq = preprocess_input_text([input_seq], input_tokenizer)[0].reshape(-1,max_input_len)\n",
    "    \n",
    "    # Calculate encoder states value\n",
    "    #print(input_seq)\n",
    "    states_value = encoder_model.predict(input_seq)\n",
    "    \n",
    "    # Build special tokens\n",
    "    target_seq = np.zeros((1, 1))\n",
    "    target_seq[0, 0] = word2idx_outputs['<bos>']\n",
    "    eos1 = word2idx_outputs['<eos>']\n",
    "    eos2 = word2idx_outputs['.']\n",
    "    output_sentence = []\n",
    "    \n",
    "    #print(\"Translating sequence: \", input_seq)\n",
    "    for _ in range(max_out_len):\n",
    "        #print(\"target_seq = \", target_seq)\n",
    "        output_tokens, h, c = decoder_model.predict([target_seq] + states_value)\n",
    "        idx = np.argmax(output_tokens[0, 0, :])\n",
    "\n",
    "        if ((eos1 == idx) or (eos2== idx)):\n",
    "            break\n",
    "\n",
    "        word = ''\n",
    "\n",
    "        if idx > 0:\n",
    "            word = idx2word_target[idx]\n",
    "            output_sentence.append(word)\n",
    "            #print(\"Predicting word \"+word+\"for index \"+str(idx))\n",
    "\n",
    "        target_seq[0, 0] = idx\n",
    "        states_value = [h, c]\n",
    "        \n",
    "        \n",
    "\n",
    "    return ' '.join(output_sentence)"
   ]
  },
  {
   "cell_type": "code",
   "execution_count": 60,
   "metadata": {},
   "outputs": [],
   "source": [
    "target_text = []\n",
    "with open(os.path.join(DIRECTORY_URL, FILE_NAMES[1]), 'r', encoding=\"UTF-8\") as fr_file:\n",
    "    for line in fr_file.readlines():\n",
    "        line = line.rstrip().split('\\n')\n",
    "        target_text.append(line[0])\n",
    "    fr_file.close()"
   ]
  },
  {
   "cell_type": "code",
   "execution_count": 61,
   "metadata": {},
   "outputs": [],
   "source": [
    "np.random.seed(3)\n",
    "ids = np.random.randint(0,100,10)"
   ]
  },
  {
   "cell_type": "code",
   "execution_count": 62,
   "metadata": {},
   "outputs": [
    {
     "data": {
      "text/plain": [
       "(\"now let 's go to the visuals .\", 'Maintenant , passons à la scénographie .')"
      ]
     },
     "execution_count": 62,
     "metadata": {},
     "output_type": "execute_result"
    }
   ],
   "source": [
    "encoder_input_text[ids[0]], target_text[ids[0]]"
   ]
  },
  {
   "cell_type": "code",
   "execution_count": 63,
   "metadata": {},
   "outputs": [
    {
     "data": {
      "text/plain": [
       "['Maintenant , passons à la scénographie .',\n",
       " 'Je suis intimement convaincu que nous ne pourrons progresser que si nous coopérons et négocions .',\n",
       " 'Quels sports aimes - tu ?',\n",
       " \"C' est pourquoi le lynchage de Kadhafi est de mauvais augure pour la Libye .\",\n",
       " 'L’ idée de concilier les différences religieuses semble donc dangereuse .',\n",
       " \"Peut - elle indiquer si les inspecteurs agissaient en tant qu' inspecteurs de la NAFO ou en tant qu' inspecteurs du gouvernement canadien ?\",\n",
       " \"Le contexte humanitaire a profondément changé au cours des dernières années , d' où le besoin d' améliorer la capacité de réaction de l' UE .\",\n",
       " \"Au sujet de l' amendement 18 sur les pouvoirs d' enquête de la Commission , cette matière ne relève pas du règlement financier mais d' arrangements entre les institutions .\",\n",
       " 'Cette opportunité s’ appelle Barack Obama .',\n",
       " 'Règlement appliquant un schéma de préférences tarifaires généralisées ( vote )']"
      ]
     },
     "execution_count": 63,
     "metadata": {},
     "output_type": "execute_result"
    }
   ],
   "source": [
    "targets = [target_text[i] for i in ids]\n",
    "targets"
   ]
  },
  {
   "cell_type": "code",
   "execution_count": 64,
   "metadata": {},
   "outputs": [
    {
     "name": "stdout",
     "output_type": "stream",
     "text": [
      "Input: now let 's go to the visuals .\n",
      "------------------------------\n",
      "Response: il est un chose\n",
      "==============================\n",
      "Input: it is my profound belief that we can only advance through cooperation and negotiation .\n",
      "------------------------------\n",
      "Response: il est donc que la commission de la commission de la commission de la commission\n",
      "==============================\n",
      "Input: what sports do you like .\n",
      "------------------------------\n",
      "Response: il est un chose\n",
      "==============================\n",
      "Input: this is why qaddafi ’s lynching party is a dangerous omen for libya .\n",
      "------------------------------\n",
      "Response: il est donc que les états membres , il est pas une question\n",
      "==============================\n",
      "Input: so too does the idea that accommodating religious differences is dangerous .\n",
      "------------------------------\n",
      "Response: il est donc que les question de la commission de la commission\n",
      "==============================\n",
      "Input: can it clarify whether the inspectors were acting on behalf of nafo or the canadian government .\n",
      "------------------------------\n",
      "Response: il est donc que les états membres , il est pas une situation de la commission\n",
      "==============================\n",
      "Input: the humanitarian context has changed profoundly in recent years hence the need to improve the eu 's disaster response capability .\n",
      "------------------------------\n",
      "Response: il est donc que les états membres , la commission de la commission , et la commission de la commission et des droits de la commission\n",
      "==============================\n",
      "Input: in connection with amendment no 18 on the commission 's powers of inquiry this is not a matter for the financial regulation but for arrangements between the institutions .\n",
      "------------------------------\n",
      "Response: il est donc que la commission de la commission de la commission , et la commission de la commission , et la commission de la commission et la commission\n",
      "==============================\n",
      "Input: this opportunity is called barack obama .\n",
      "------------------------------\n",
      "Response: il est un chose de la commission\n",
      "==============================\n",
      "Input: regulation applying a scheme of generalised tariff preferences vote .\n",
      "------------------------------\n",
      "Response: le conseil de la commission est la commission de la commission\n",
      "==============================\n"
     ]
    }
   ],
   "source": [
    "predictions = []\n",
    "for i in ids:\n",
    "    translation = translate_sentence(encoder_input_text[i])\n",
    "\n",
    "    print('Input:', encoder_input_text[i])\n",
    "    print('------------------------------')\n",
    "    print('Response:', translation)\n",
    "    print('==============================')\n",
    "    predictions.append(translation+'\\n')"
   ]
  },
  {
   "cell_type": "code",
   "execution_count": 65,
   "metadata": {},
   "outputs": [],
   "source": [
    "with open(\"targets.txt\", \"w\", encoding='utf-8') as target_file:\n",
    "    target_file.writelines(target_text)\n",
    "    target_file.close()"
   ]
  },
  {
   "cell_type": "code",
   "execution_count": 66,
   "metadata": {},
   "outputs": [],
   "source": [
    "with open(\"predictions.txt\", \"w\", encoding='utf-8') as target_file:\n",
    "    target_file.writelines(predictions)\n",
    "    target_file.close()"
   ]
  },
  {
   "cell_type": "markdown",
   "metadata": {
    "colab": {},
    "colab_type": "code",
    "id": "eq0ggv-VO_py"
   },
   "source": [
    "## SacreBLEU Evaluation \n",
    "['0.3', '0.2', '0.3', '0.2', '0.3', '']\n",
    "\n",
    "final avg bleu score: 0.26"
   ]
  },
  {
   "cell_type": "code",
   "execution_count": null,
   "metadata": {},
   "outputs": [],
   "source": []
  }
 ],
 "metadata": {
  "colab": {
   "name": "Project2_baseline.ipynb",
   "provenance": []
  },
  "kernelspec": {
   "display_name": "Python 3.7.6 64-bit ('env1': venv)",
   "language": "python",
   "name": "python37664bitenv1venv65b3d667bd5b4de888060908243be41e"
  },
  "language_info": {
   "codemirror_mode": {
    "name": "ipython",
    "version": 3
   },
   "file_extension": ".py",
   "mimetype": "text/x-python",
   "name": "python",
   "nbconvert_exporter": "python",
   "pygments_lexer": "ipython3",
   "version": "3.7.6"
  }
 },
 "nbformat": 4,
 "nbformat_minor": 4
}
