{
 "cells": [
  {
   "cell_type": "code",
   "execution_count": 1,
   "metadata": {},
   "outputs": [],
   "source": [
    "import io\n",
    "import numpy as np"
   ]
  },
  {
   "cell_type": "code",
   "execution_count": 2,
   "metadata": {},
   "outputs": [],
   "source": [
    "def create_mix_dataset(synthetic_data_path_lang1, true_data_path_lang1, true_unaligned_data_path_lang2,\n",
    "                       true_data_path_lang2, num_of_times_to_add_true_data: int):\n",
    "    assert num_of_times_to_add_true_data > 0\n",
    "\n",
    "    synthetic_data_lang1 = io.open(synthetic_data_path_lang1).read().strip().split('\\n')\n",
    "    true_aligned_data_lang1 = io.open(true_data_path_lang1).read().strip().split('\\n')\n",
    "    true_unaligned_data_lang2 = io.open(true_unaligned_data_path_lang2).read().strip().split('\\n')\n",
    "    true_aligned_data_lang2 = io.open(true_data_path_lang2).read().strip().split('\\n')\n",
    "\n",
    "    new_data_lang1, new_data_lang2 = synthetic_data_lang1, true_unaligned_data_lang2\n",
    "    for i in range(num_of_times_to_add_true_data):\n",
    "        new_data_lang1 += true_aligned_data_lang1\n",
    "        new_data_lang2 += true_aligned_data_lang2\n",
    "\n",
    "    shuffle_together = list(zip(new_data_lang1, new_data_lang2))\n",
    "    np.random.shuffle(shuffle_together)\n",
    "    new_data_lang1, new_data_lang2 = zip(*shuffle_together)\n",
    "\n",
    "    return list(new_data_lang1), list(new_data_lang2)"
   ]
  },
  {
   "cell_type": "code",
   "execution_count": 3,
   "metadata": {},
   "outputs": [],
   "source": [
    "new_data_lang1, new_data_lang2 = create_mix_dataset(\"../data/back_translated_en.txt\", \n",
    "                                                    \"../data/train_en.txt\", \n",
    "                                                    \"../data/processed_unaligned.fr\", \n",
    "                                                    \"../data/train_fr.txt\", 8)"
   ]
  },
  {
   "cell_type": "code",
   "execution_count": 4,
   "metadata": {},
   "outputs": [
    {
     "data": {
      "text/plain": [
       "(553200, 553200)"
      ]
     },
     "execution_count": 4,
     "metadata": {},
     "output_type": "execute_result"
    }
   ],
   "source": [
    "len(new_data_lang1), len(new_data_lang2)"
   ]
  },
  {
   "cell_type": "code",
   "execution_count": 7,
   "metadata": {},
   "outputs": [
    {
     "data": {
      "text/plain": [
       "['thank you mrs kinnock',\n",
       " 'this includes not just the details of the voting',\n",
       " 'and that certainly involves many studies of doing the right of working']"
      ]
     },
     "execution_count": 7,
     "metadata": {},
     "output_type": "execute_result"
    }
   ],
   "source": [
    "new_data_lang1[0:3]"
   ]
  },
  {
   "cell_type": "code",
   "execution_count": 10,
   "metadata": {},
   "outputs": [
    {
     "data": {
      "text/plain": [
       "['Merci beaucoup , Madame Kinnock .',\n",
       " \"Ce remplacement n' apparaît justement pas dans le procès-verbal .\",\n",
       " \"Et cela m' a donc donné de nombreuses occasions de faire du shopping .\"]"
      ]
     },
     "execution_count": 10,
     "metadata": {},
     "output_type": "execute_result"
    }
   ],
   "source": [
    "new_data_lang2[0:3]"
   ]
  },
  {
   "cell_type": "code",
   "execution_count": 9,
   "metadata": {},
   "outputs": [],
   "source": [
    "with open(\"../data/final_en.txt\",'w') as fout_en, open(\"../data/final_fr.txt\",'w') as fout_fr:\n",
    "    for en, fr in zip(new_data_lang1, new_data_lang2):\n",
    "        fout_en.write(en + \"\\n\")\n",
    "        fout_fr.write(fr + \"\\n\")"
   ]
  },
  {
   "cell_type": "code",
   "execution_count": null,
   "metadata": {},
   "outputs": [],
   "source": []
  }
 ],
 "metadata": {
  "kernelspec": {
   "display_name": "Python 3",
   "language": "python",
   "name": "python3"
  },
  "language_info": {
   "codemirror_mode": {
    "name": "ipython",
    "version": 3
   },
   "file_extension": ".py",
   "mimetype": "text/x-python",
   "name": "python",
   "nbconvert_exporter": "python",
   "pygments_lexer": "ipython3",
   "version": "3.6.10"
  }
 },
 "nbformat": 4,
 "nbformat_minor": 4
}
