{
  "nbformat": 4,
  "nbformat_minor": 0,
  "metadata": {
    "colab": {
      "name": "Word_embeddings.ipynb",
      "provenance": [],
      "collapsed_sections": [],
      "toc_visible": true
    },
    "kernelspec": {
      "name": "python3",
      "display_name": "Python 3"
    }
  },
  "cells": [
    {
      "cell_type": "code",
      "metadata": {
        "id": "i0-cOZihxL1d",
        "colab_type": "code",
        "colab": {}
      },
      "source": [
        "# select tensorflow 2.x\n",
        "try:\n",
        "  # %tensorflow_version only exists in Colab.\n",
        "  %tensorflow_version 2.x\n",
        "except Exception:\n",
        "  pass"
      ],
      "execution_count": 0,
      "outputs": []
    },
    {
      "cell_type": "code",
      "metadata": {
        "id": "p9fvKpdiDKro",
        "colab_type": "code",
        "colab": {}
      },
      "source": [
        "import tensorflow as tf\n",
        "import spacy\n",
        "from tqdm import tqdm\n",
        "from gensim.models import Word2Vec\n",
        "from gensim.models import KeyedVectors"
      ],
      "execution_count": 0,
      "outputs": []
    },
    {
      "cell_type": "code",
      "metadata": {
        "id": "ktiu9lGyLKr-",
        "colab_type": "code",
        "outputId": "a2393437-04f4-49b8-e576-c14cc6885114",
        "colab": {
          "base_uri": "https://localhost:8080/",
          "height": 122
        }
      },
      "source": [
        "from google.colab import drive\n",
        "drive.mount('/content/drive')"
      ],
      "execution_count": 0,
      "outputs": [
        {
          "output_type": "stream",
          "text": [
            "Go to this URL in a browser: https://accounts.google.com/o/oauth2/auth?client_id=947318989803-6bn6qk8qdgf4n4g3pfee6491hc0brc4i.apps.googleusercontent.com&redirect_uri=urn%3aietf%3awg%3aoauth%3a2.0%3aoob&response_type=code&scope=email%20https%3a%2f%2fwww.googleapis.com%2fauth%2fdocs.test%20https%3a%2f%2fwww.googleapis.com%2fauth%2fdrive%20https%3a%2f%2fwww.googleapis.com%2fauth%2fdrive.photos.readonly%20https%3a%2f%2fwww.googleapis.com%2fauth%2fpeopleapi.readonly\n",
            "\n",
            "Enter your authorization code:\n",
            "··········\n",
            "Mounted at /content/drive\n"
          ],
          "name": "stdout"
        }
      ]
    },
    {
      "cell_type": "code",
      "metadata": {
        "id": "N9U06sQWLSZ6",
        "colab_type": "code",
        "outputId": "50ef8d23-8cde-494f-88da-c4faf45616f1",
        "colab": {
          "base_uri": "https://localhost:8080/",
          "height": 34
        }
      },
      "source": [
        "%cd drive/My Drive/ift6759/data"
      ],
      "execution_count": 0,
      "outputs": [
        {
          "output_type": "stream",
          "text": [
            "/content/drive/My Drive/ift6759/data\n"
          ],
          "name": "stdout"
        }
      ]
    },
    {
      "cell_type": "code",
      "metadata": {
        "id": "hLJLACcBxtdg",
        "colab_type": "code",
        "outputId": "fca99ea6-beb2-4cb7-b84b-2da2ce682d4b",
        "colab": {
          "resources": {
            "http://localhost:8080/nbextensions/google.colab/files.js": {
              "data": "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",
              "ok": true,
              "headers": [
                [
                  "content-type",
                  "application/javascript"
                ]
              ],
              "status": 200,
              "status_text": ""
            }
          },
          "base_uri": "https://localhost:8080/",
          "height": 111
        }
      },
      "source": [
        "# loading tokenizer.py, punctuation_remover.py & unaligned.en files\n",
        "from google.colab import files\n",
        "files.upload() "
      ],
      "execution_count": 0,
      "outputs": [
        {
          "output_type": "display_data",
          "data": {
            "text/html": [
              "\n",
              "     <input type=\"file\" id=\"files-3057d2d6-f33a-4990-bf10-8b8ee93950fb\" name=\"files[]\" multiple disabled />\n",
              "     <output id=\"result-3057d2d6-f33a-4990-bf10-8b8ee93950fb\">\n",
              "      Upload widget is only available when the cell has been executed in the\n",
              "      current browser session. Please rerun this cell to enable.\n",
              "      </output>\n",
              "      <script src=\"/nbextensions/google.colab/files.js\"></script> "
            ],
            "text/plain": [
              "<IPython.core.display.HTML object>"
            ]
          },
          "metadata": {
            "tags": []
          }
        },
        {
          "output_type": "stream",
          "text": [
            "Saving punctuation_remover.py to punctuation_remover (1).py\n"
          ],
          "name": "stdout"
        },
        {
          "output_type": "execute_result",
          "data": {
            "text/plain": [
              "{'punctuation_remover.py': b'import argparse\\r\\nimport logging\\r\\nimport ntpath\\r\\nimport os\\r\\n\\r\\nimport tqdm\\r\\n\\r\\nlogger = logging.getLogger(__name__)\\r\\n\\r\\nPUNCTUATION = {\",\", \";\", \":\", \"!\", \"?\", \".\", \"\\'\", \\'\"\\', \"(\", \")\", \"...\", \"[\", \"]\", \"{\", \"}\"}\\r\\n\\r\\n\\r\\ndef main():\\r\\n    parser = argparse.ArgumentParser(\\r\\n        \\'script to remove punctuation. Data must be already tokenized.\\')\\r\\n    parser.add_argument(\\'--input\\', nargs=\\'+\\', help=\\'input file. Note it can be more than one\\')\\r\\n    parser.add_argument(\\'--output\\', help=\\'path to outputs - will store files here\\',\\r\\n                        required=True)\\r\\n\\r\\n    args = parser.parse_args()\\r\\n    logging.basicConfig(level=logging.INFO)\\r\\n\\r\\n    if not os.path.exists(args.output):\\r\\n        os.makedirs(args.output)\\r\\n\\r\\n    for current_file in args.input:\\r\\n        logger.info(\\'tokenizing file {}\\'.format(current_file))\\r\\n        tot_lines, removed_punctuations = remove_punctuation(current_file, args.output)\\r\\n        logger.info(\\'done - parsed {} lines and removed {} (punctuation) symbols\\'.format(\\r\\n            tot_lines, removed_punctuations))\\r\\n\\r\\n\\r\\ndef remove_punctuation(current_file, output):\\r\\n    file_name = ntpath.basename(current_file)\\r\\n    out_tokenized_path = os.path.join(output, file_name)\\r\\n    tot_lines = 0\\r\\n    removed_punctuations = 0\\r\\n    with open(current_file, \\'r\\') as stream:\\r\\n        with open(out_tokenized_path, \\'w\\') as out_tokenized_stream:\\r\\n            for line in tqdm.tqdm(stream):\\r\\n                tot_lines += 1\\r\\n                tokens = line.strip().split()\\r\\n                filtered_tokens = [token for token in tokens if token not in PUNCTUATION]\\r\\n                out_tokenized_stream.write(\\' \\'.join(filtered_tokens) + \\'\\\\n\\')\\r\\n                removed_punctuations += (len(tokens) - len(filtered_tokens))\\r\\n    return tot_lines, removed_punctuations\\r\\n\\r\\n\\r\\nif __name__ == \\'__main__\\':\\r\\n    main()'}"
            ]
          },
          "metadata": {
            "tags": []
          },
          "execution_count": 14
        }
      ]
    },
    {
      "cell_type": "markdown",
      "metadata": {
        "id": "O3OyYjaK2gVo",
        "colab_type": "text"
      },
      "source": [
        "## Pre-processing"
      ]
    },
    {
      "cell_type": "code",
      "metadata": {
        "id": "O51PFle2Ffaa",
        "colab_type": "code",
        "outputId": "3cffe861-bdf5-426d-e780-bdda2133cf7d",
        "colab": {
          "base_uri": "https://localhost:8080/",
          "height": 136
        }
      },
      "source": [
        "# tokenizing, takes about 1h30. Already did it and saved files in order to mount colab to drive for future exploration\n",
        "!python tokenizer.py --input=unaligned.en --output=/content/sample_data/tokenized --lang=en"
      ],
      "execution_count": 0,
      "outputs": [
        {
          "output_type": "stream",
          "text": [
            "INFO:__main__:will keep the case? False\n",
            "INFO:__main__:will keep empty lines? False\n",
            "INFO:__main__:will convert newlines to space? False\n",
            "INFO:__main__:will skip lines with the following regex: []\n",
            "INFO:__main__:tokenizing file unaligned.en\n",
            "100% 474000/474000 [1:20:39<00:00, 97.95it/s] \n",
            "INFO:__main__:done (1 / 1) - skipped 0 lines (over 474000 - i.e., 0.00%) because empty, skipped 0 lines (over 474000 - i.e., 0.00%) because of regex\n"
          ],
          "name": "stdout"
        }
      ]
    },
    {
      "cell_type": "code",
      "metadata": {
        "id": "aKMAPnHJHrRH",
        "colab_type": "code",
        "outputId": "d808a5d8-d5ff-42a5-b114-59a0f6253860",
        "colab": {
          "base_uri": "https://localhost:8080/",
          "height": 68
        }
      },
      "source": [
        "# removing punctuation\n",
        "!python punctuation_remover.py --input=/content/sample_data/tokenized/unaligned.en --output=/content/sample_data/unaligned_nopunc"
      ],
      "execution_count": 0,
      "outputs": [
        {
          "output_type": "stream",
          "text": [
            "INFO:__main__:tokenizing file /content/sample_data/tokenized/unaligned.en\n",
            "474000it [00:02, 171604.66it/s]\n",
            "INFO:__main__:done - parsed 474000 lines and removed 993949 (punctuation) symbols\n"
          ],
          "name": "stdout"
        }
      ]
    },
    {
      "cell_type": "code",
      "metadata": {
        "id": "TGYE9IYW4JD-",
        "colab_type": "code",
        "colab": {}
      },
      "source": [
        "def create_word_doc(input_file : str):\n",
        "  \"creates a list with all words\"\n",
        "  words = []\n",
        "  with open(input_file) as f:  \n",
        "    for line in f:\n",
        "      for word in line.lower().split():\n",
        "        words.append(word)\n",
        "    #words = list(set(words))\n",
        "  return words"
      ],
      "execution_count": 0,
      "outputs": []
    },
    {
      "cell_type": "code",
      "metadata": {
        "id": "oUmkaLbKvTW9",
        "colab_type": "code",
        "colab": {}
      },
      "source": [
        "def remove_stop_words(lang, word_doc=None, sentences=None):\n",
        "  \"\"\"\n",
        "  removes stop words depending on the language and depending on the input\n",
        "  lang: str -> ('en' or 'fr')\n",
        "  word_doc: list of str containing every word of the input file\n",
        "  sentences: list of list of str representing the sentences of the input file\n",
        "  \"\"\"\n",
        "  filtered_doc = []\n",
        "  if lang == 'en':\n",
        "    try:\n",
        "      nlp = spacy.load(\"en_core_web_sm\")\n",
        "      spacy_stopwords = spacy.lang.en.stop_words.STOP_WORDS\n",
        "    except OSError:\n",
        "      raise ValueError('please run the following to download the model: '\n",
        "                             'python -m spacy download en_core_web_sm')\n",
        "  elif lang == 'fr':\n",
        "    try:\n",
        "      nlp = spacy.load(\"fr_core_news_sm\")\n",
        "      spacy_stopwords = spacy.lang.fr.stop_words.STOP_WORDS\n",
        "    except OSError:\n",
        "      raise ValueError('please run the following to download the model: '\n",
        "                             'python -m spacy download fr_core_news_sm')\n",
        "  else:\n",
        "    raise ValueError('lang {} not supported'.format(lang))\n",
        "  \n",
        "  if word_doc is not None:\n",
        "    for word in word_doc:\n",
        "      if word not in spacy_stopwords:\n",
        "        filtered_doc.append(word)\n",
        "    print('removed', len(word_doc) - len(filtered_doc), 'stopwords')\n",
        "\n",
        "  elif sentences is not None:\n",
        "    for sentence in sentences:\n",
        "      sent = [word for word in sentence if word not in spacy_stopwords]\n",
        "      filtered_doc.append(sent)\n",
        "\n",
        "  return filtered_doc"
      ],
      "execution_count": 0,
      "outputs": []
    },
    {
      "cell_type": "code",
      "metadata": {
        "id": "ImmkzqXuICv0",
        "colab_type": "code",
        "colab": {}
      },
      "source": [
        "word_doc = create_word_doc('tokenized_nopunc_unaligned.en')"
      ],
      "execution_count": 0,
      "outputs": []
    },
    {
      "cell_type": "code",
      "metadata": {
        "id": "Yyq2zuEraJSZ",
        "colab_type": "code",
        "outputId": "428edc8c-4375-4d28-ac0f-5590c64df1d0",
        "colab": {
          "base_uri": "https://localhost:8080/",
          "height": 357
        }
      },
      "source": [
        "# we can see that the punctuation remover does not include '-', this could be modified easily depending on our design decisions\n",
        "word_doc[:20]"
      ],
      "execution_count": 0,
      "outputs": [
        {
          "output_type": "execute_result",
          "data": {
            "text/plain": [
              "['for',\n",
              " 'the',\n",
              " 'second',\n",
              " 'phase',\n",
              " 'of',\n",
              " 'the',\n",
              " 'trials',\n",
              " 'we',\n",
              " 'just',\n",
              " 'had',\n",
              " 'different',\n",
              " 'sizes',\n",
              " 'small',\n",
              " 'medium',\n",
              " 'large',\n",
              " 'and',\n",
              " 'extra',\n",
              " '-',\n",
              " 'large',\n",
              " 'it']"
            ]
          },
          "metadata": {
            "tags": []
          },
          "execution_count": 8
        }
      ]
    },
    {
      "cell_type": "code",
      "metadata": {
        "id": "04i-oWdRwjHs",
        "colab_type": "code",
        "outputId": "4166da42-98a2-4f8e-8629-62e4ca6aef46",
        "colab": {
          "base_uri": "https://localhost:8080/",
          "height": 34
        }
      },
      "source": [
        "filtered_tokens = remove_stop_words('en', word_doc=word_doc)"
      ],
      "execution_count": 0,
      "outputs": [
        {
          "output_type": "stream",
          "text": [
            "removed 4854524 stopwords\n"
          ],
          "name": "stdout"
        }
      ]
    },
    {
      "cell_type": "code",
      "metadata": {
        "id": "pGwrJeAk6Ahe",
        "colab_type": "code",
        "outputId": "2b7d4144-6fd3-411d-a89d-cd3669e05bdf",
        "colab": {
          "base_uri": "https://localhost:8080/",
          "height": 187
        }
      },
      "source": [
        "filtered_tokens[:10]"
      ],
      "execution_count": 0,
      "outputs": [
        {
          "output_type": "execute_result",
          "data": {
            "text/plain": [
              "['second',\n",
              " 'phase',\n",
              " 'trials',\n",
              " 'different',\n",
              " 'sizes',\n",
              " 'small',\n",
              " 'medium',\n",
              " 'large',\n",
              " 'extra',\n",
              " '-']"
            ]
          },
          "metadata": {
            "tags": []
          },
          "execution_count": 10
        }
      ]
    },
    {
      "cell_type": "markdown",
      "metadata": {
        "id": "PmjgYTtF2jze",
        "colab_type": "text"
      },
      "source": [
        "## Word embeddings"
      ]
    },
    {
      "cell_type": "markdown",
      "metadata": {
        "id": "xRiJ3BfWl8Ee",
        "colab_type": "text"
      },
      "source": [
        "Word2Vec"
      ]
    },
    {
      "cell_type": "code",
      "metadata": {
        "id": "B_bUntFk2qjr",
        "colab_type": "code",
        "colab": {}
      },
      "source": [
        "def list_of_sentences(input_file):\n",
        "  \" creates a list of sentences \"\n",
        "  words = []\n",
        "  with open(input_file, 'r') as f:\n",
        "    for line in f:\n",
        "      line = line.strip()\n",
        "      words.append(line.split(\" \"))\n",
        "  return words"
      ],
      "execution_count": 0,
      "outputs": []
    },
    {
      "cell_type": "code",
      "metadata": {
        "id": "Ll0go2bQ-D0i",
        "colab_type": "code",
        "outputId": "0e8c007d-0f52-479c-9b32-a396fb853702",
        "colab": {
          "base_uri": "https://localhost:8080/",
          "height": 88
        }
      },
      "source": [
        "# make a list of list of sentences and print before/after removing stop words\n",
        "sentences = list_of_sentences('tokenized_nopunc_unaligned.en')\n",
        "print(sentences[:4], '\\n')\n",
        "sentences = remove_stop_words('en', sentences=sentences)\n",
        "print(sentences[:4])"
      ],
      "execution_count": 0,
      "outputs": [
        {
          "output_type": "stream",
          "text": [
            "[['for', 'the', 'second', 'phase', 'of', 'the', 'trials', 'we', 'just', 'had', 'different', 'sizes', 'small', 'medium', 'large', 'and', 'extra', '-', 'large', 'it', \"'s\", 'true'], ['geng', 'had', 'been', 'my', 'host', 'the', 'previous', 'january', 'when', 'i', 'was', 'the', 'first', 'us', 'defense', 'secretary', 'to', 'visit', 'china', 'acting', 'as', 'an', 'interlocutor', 'for', 'president', 'jimmy', 'carter', '’s', 'administration'], ['i', \"'m\", 'not', 'at', 'all', 'tired'], ['it', 'is', 'true', 'that', 'the', 'crisis', 'is', 'putting', 'the', 'member', 'states', 'budgets', 'under', 'pressure', 'at', 'the', 'moment']] \n",
            "\n",
            "[['second', 'phase', 'trials', 'different', 'sizes', 'small', 'medium', 'large', 'extra', '-', 'large', 'true'], ['geng', 'host', 'previous', 'january', 'defense', 'secretary', 'visit', 'china', 'acting', 'interlocutor', 'president', 'jimmy', 'carter', 'administration'], ['tired'], ['true', 'crisis', 'putting', 'member', 'states', 'budgets', 'pressure', 'moment']]\n"
          ],
          "name": "stdout"
        }
      ]
    },
    {
      "cell_type": "code",
      "metadata": {
        "id": "duOoLGJc7wDz",
        "colab_type": "code",
        "outputId": "4974d40c-f21a-4825-d6eb-d1204ba2abc9",
        "colab": {
          "base_uri": "https://localhost:8080/",
          "height": 34
        }
      },
      "source": [
        "print('There are', len(sentences),\"sentences in unaligned.en\")"
      ],
      "execution_count": 0,
      "outputs": [
        {
          "output_type": "stream",
          "text": [
            "There are 474000 sentences in unaligned.en\n"
          ],
          "name": "stdout"
        }
      ]
    },
    {
      "cell_type": "code",
      "metadata": {
        "id": "EpkN9lc7ooE5",
        "colab_type": "code",
        "outputId": "013bd173-9cc9-490b-a6b5-e22ccad28eed",
        "colab": {
          "base_uri": "https://localhost:8080/",
          "height": 51
        }
      },
      "source": [
        "# for the sake of the pre-trained embeddings, I will not be removing stopwords in the sentences otherwise there is too much oov words\n",
        "sentences = list_of_sentences('tokenized_nopunc_unaligned.en')\n",
        "# train the model\n",
        "model = Word2Vec(sentences, size=100, window=2, min_count=1, seed=0)\n",
        "# summarize the loaded model\n",
        "print(model)\n",
        "# summarize vocabulary\n",
        "words = list(model.wv.vocab)\n",
        "print(words[:10])"
      ],
      "execution_count": 0,
      "outputs": [
        {
          "output_type": "stream",
          "text": [
            "Word2Vec(vocab=60008, size=100, alpha=0.025)\n",
            "['for', 'the', 'second', 'phase', 'of', 'trials', 'we', 'just', 'had', 'different']\n"
          ],
          "name": "stdout"
        }
      ]
    },
    {
      "cell_type": "code",
      "metadata": {
        "id": "PLmgiTCZ6L58",
        "colab_type": "code",
        "outputId": "35e774cc-e493-4d35-af93-891c98084a0d",
        "colab": {
          "base_uri": "https://localhost:8080/",
          "height": 71
        }
      },
      "source": [
        "# word vectors of word2vec\n",
        "word_vectors = model.wv\n",
        "# saving the word vectors\n",
        "word_vectors.save('wordvectors')\n",
        "# loading the word vectors\n",
        "reloaded_vectors = KeyedVectors.load('wordvectors')\n",
        "# then you can do everything that you would do with the original word vectors\n",
        "# like : reloaded_vectors.similar_by_word('computer')"
      ],
      "execution_count": 0,
      "outputs": [
        {
          "output_type": "stream",
          "text": [
            "/usr/local/lib/python3.6/dist-packages/smart_open/smart_open_lib.py:410: UserWarning: This function is deprecated, use smart_open.open instead. See the migration notes for details: https://github.com/RaRe-Technologies/smart_open/blob/master/README.rst#migrating-to-the-new-open-function\n",
            "  'See the migration notes for details: %s' % _MIGRATION_NOTES_URL\n"
          ],
          "name": "stderr"
        }
      ]
    },
    {
      "cell_type": "code",
      "metadata": {
        "id": "UWHm-jvs9tP5",
        "colab_type": "code",
        "outputId": "86df613c-2ca4-46f5-e116-ee2273ed67db",
        "colab": {
          "base_uri": "https://localhost:8080/",
          "height": 34
        }
      },
      "source": [
        "print(\"Found %s word vectors of word2vec\" % len(reloaded_vectors.vocab))"
      ],
      "execution_count": 0,
      "outputs": [
        {
          "output_type": "stream",
          "text": [
            "Found 59693 word vectors of word2vec\n"
          ],
          "name": "stdout"
        }
      ]
    },
    {
      "cell_type": "code",
      "metadata": {
        "id": "0zqS6qFmpPRj",
        "colab_type": "code",
        "outputId": "674ae917-6b57-40e2-9aa9-40afd4e5fa18",
        "colab": {
          "base_uri": "https://localhost:8080/",
          "height": 306
        }
      },
      "source": [
        "# access vector for one word\n",
        "print(model.wv['trials'])"
      ],
      "execution_count": 0,
      "outputs": [
        {
          "output_type": "stream",
          "text": [
            "[-0.07791899 -0.2345535   0.42905703  0.23463583  0.07651802 -0.08713882\n",
            " -0.36118275  0.17693822  0.48205525  0.16157383  0.13352415 -0.08086362\n",
            " -0.12736306 -0.13218361  0.10681197  0.42875636 -0.31715858 -0.01096464\n",
            " -0.14425828  0.2629153  -0.08394623  0.46243575  0.2956793   0.3587908\n",
            "  0.14930563 -0.6716609   0.19027396  0.10168021  0.20657474 -0.5313685\n",
            "  0.11076208 -0.60807043 -0.02768914 -0.14102021 -0.41052777  0.1376199\n",
            " -0.3321069   0.46940333 -0.03463029 -0.02277536  0.18874967 -0.00720735\n",
            "  0.2718243   0.16026554 -0.24115555  0.05837119  0.56308657 -0.38954264\n",
            "  0.1211292  -0.20882297 -0.24718614 -0.39581898  0.23866177  0.2508282\n",
            " -0.04695142 -0.0042771  -0.37739235  0.13699728  0.1566623   0.08627667\n",
            " -0.40006799  0.05918857 -0.38084963  0.14330687  0.34714493  0.35953957\n",
            "  0.3486214   0.2175911  -0.05509248 -0.27492717 -0.51909894 -0.19181764\n",
            " -0.17222056  0.22600386  0.04964686  0.28793523 -0.16695467 -0.08882768\n",
            "  0.00424347 -0.06314412 -0.32101837  0.16464606  0.1152842  -0.24268353\n",
            "  0.25830653  0.22624244 -0.33787397 -0.04715443 -0.09268363  0.02235972\n",
            "  0.740032    0.09522198 -0.38001594 -0.08203617 -0.3168828  -0.19248626\n",
            " -0.27559593  0.01879552  0.25081727  0.5859752 ]\n"
          ],
          "name": "stdout"
        }
      ]
    },
    {
      "cell_type": "code",
      "metadata": {
        "id": "vwSX_xRWW2wL",
        "colab_type": "code",
        "outputId": "1e70f423-b907-49d0-acbd-7491ca81a8e7",
        "colab": {
          "base_uri": "https://localhost:8080/",
          "height": 241
        }
      },
      "source": [
        "model.wv.similar_by_word('computer')"
      ],
      "execution_count": 0,
      "outputs": [
        {
          "output_type": "stream",
          "text": [
            "/usr/local/lib/python3.6/dist-packages/gensim/matutils.py:737: FutureWarning: Conversion of the second argument of issubdtype from `int` to `np.signedinteger` is deprecated. In future, it will be treated as `np.int64 == np.dtype(int).type`.\n",
            "  if np.issubdtype(vec.dtype, np.int):\n"
          ],
          "name": "stderr"
        },
        {
          "output_type": "execute_result",
          "data": {
            "text/plain": [
              "[('computers', 0.857736349105835),\n",
              " ('software', 0.8481405377388),\n",
              " ('splicing', 0.8111925721168518),\n",
              " ('machine', 0.8111383318901062),\n",
              " ('device', 0.8080402612686157),\n",
              " ('battery', 0.8070384860038757),\n",
              " ('entertainment', 0.8010045289993286),\n",
              " ('cell', 0.7959043383598328),\n",
              " ('machines', 0.7943541407585144),\n",
              " ('web', 0.7930951118469238)]"
            ]
          },
          "metadata": {
            "tags": []
          },
          "execution_count": 17
        }
      ]
    },
    {
      "cell_type": "code",
      "metadata": {
        "id": "iQ_aIO0DXrY6",
        "colab_type": "code",
        "colab": {}
      },
      "source": [
        "# visualizing, function I took inspiration from online for now\n",
        "from sklearn.manifold import TSNE\n",
        "import matplotlib.pyplot as plt\n",
        "import numpy as np\n",
        "\n",
        "def display_closestwords(model, word):\n",
        "  \n",
        "  arr = np.empty((0,100), dtype='f')\n",
        "  word_labels = [word]\n",
        "\n",
        "  # get close words\n",
        "  close_words = model.wv.similar_by_word(word)\n",
        "  \n",
        "  # add the vector for each of the closest words to the array\n",
        "  arr = np.append(arr, np.array([model.wv[word]]), axis=0)\n",
        "  for wrd_score in close_words:\n",
        "      wrd_vector = model.wv[wrd_score[0]]\n",
        "      word_labels.append(wrd_score[0])\n",
        "      arr = np.append(arr, np.array([wrd_vector]), axis=0)\n",
        "        \n",
        "    # find tsne coords for 2 dimensions\n",
        "  tsne = TSNE(n_components=2, random_state=0)\n",
        "  np.set_printoptions(suppress=True)\n",
        "  Y = tsne.fit_transform(arr)\n",
        "\n",
        "  x_coords = Y[:, 0]\n",
        "  y_coords = Y[:, 1]\n",
        "  # display scatter plot\n",
        "  plt.scatter(x_coords, y_coords)\n",
        "\n",
        "  for label, x, y in zip(word_labels, x_coords, y_coords):\n",
        "      plt.annotate(label, xy=(x, y), xytext=(0, 0), textcoords='offset points')\n",
        "  plt.xlim(x_coords.min()+0.00005, x_coords.max()+0.00005)\n",
        "  plt.ylim(y_coords.min()+0.00005, y_coords.max()+0.00005)\n",
        "  plt.show()"
      ],
      "execution_count": 0,
      "outputs": []
    },
    {
      "cell_type": "code",
      "metadata": {
        "id": "bzMyCfZ4YFJf",
        "colab_type": "code",
        "outputId": "5a5e9388-0f65-4406-b0a7-2f89dc6c240e",
        "colab": {
          "base_uri": "https://localhost:8080/",
          "height": 327
        }
      },
      "source": [
        "display_closestwords(model, 'size')"
      ],
      "execution_count": 0,
      "outputs": [
        {
          "output_type": "stream",
          "text": [
            "/usr/local/lib/python3.6/dist-packages/gensim/matutils.py:737: FutureWarning: Conversion of the second argument of issubdtype from `int` to `np.signedinteger` is deprecated. In future, it will be treated as `np.int64 == np.dtype(int).type`.\n",
            "  if np.issubdtype(vec.dtype, np.int):\n"
          ],
          "name": "stderr"
        },
        {
          "output_type": "display_data",
          "data": {
            "image/png": "[encoded data removed]",
            "text/plain": [
              "<Figure size 432x288 with 1 Axes>"
            ]
          },
          "metadata": {
            "tags": []
          }
        }
      ]
    },
    {
      "cell_type": "markdown",
      "metadata": {
        "id": "Enbry1j0s3Tq",
        "colab_type": "text"
      },
      "source": [
        "Trying another word2vec model with the addition of \\<start> and \\<end> token for each sentence"
      ]
    },
    {
      "cell_type": "code",
      "metadata": {
        "id": "raH9-qM2Ti0Q",
        "colab_type": "code",
        "colab": {}
      },
      "source": [
        "# trying other word2vec model with the preprocessing of the attention.ipynb (adding <start> and <end> tag for each sentence)\n",
        "def list_of_sentences_wtg(input_file):\n",
        "  \" creates a list of sentences \"\n",
        "  words = []\n",
        "  with open(input_file, 'r') as f:\n",
        "    for line in f:\n",
        "      line = line.strip()\n",
        "      # adding <start> and <end> tag for each sentence\n",
        "      line = '<start> ' + line + ' <end>'\n",
        "      words.append(line.split(\" \"))\n",
        "  return words"
      ],
      "execution_count": 0,
      "outputs": []
    },
    {
      "cell_type": "code",
      "metadata": {
        "id": "0RvPRTahV-Ux",
        "colab_type": "code",
        "outputId": "2e2709d7-906a-4f5b-c327-7e68b290d9d1",
        "colab": {
          "base_uri": "https://localhost:8080/",
          "height": 51
        }
      },
      "source": [
        "# for the sake of the pre-trained embeddings, I will not be removing stopwords in the sentences otherwise there is too much oov words\n",
        "sentences = list_of_sentences_wtg('tokenized_nopunc_unaligned.en')\n",
        "# train the model\n",
        "model_wtag = Word2Vec(sentences, size=100, window=2, min_count=1, seed=0)\n",
        "# summarize the loaded model\n",
        "print(model_wtag)\n",
        "# summarize vocabulary\n",
        "words = list(model_wtag.wv.vocab)\n",
        "print(words[:10])"
      ],
      "execution_count": 0,
      "outputs": [
        {
          "output_type": "stream",
          "text": [
            "Word2Vec(vocab=60010, size=100, alpha=0.025)\n",
            "['<start>', 'for', 'the', 'second', 'phase', 'of', 'trials', 'we', 'just', 'had']\n"
          ],
          "name": "stdout"
        }
      ]
    },
    {
      "cell_type": "code",
      "metadata": {
        "id": "yGJ9vBHFWYgQ",
        "colab_type": "code",
        "outputId": "1a2ec570-5b0c-4e76-9cec-25785fa34a80",
        "colab": {
          "base_uri": "https://localhost:8080/",
          "height": 71
        }
      },
      "source": [
        "# word vectors of word2vec\n",
        "word_vectors = model_wtag.wv\n",
        "# saving the word vectors\n",
        "word_vectors.save('wordvectors_wtag')\n",
        "# loading the word vectors\n",
        "reloaded_vectors = KeyedVectors.load('wordvectors_wtag')\n",
        "# then you can do everything that you would do with the original word vectors\n",
        "# like : reloaded_vectors.similar_by_word('computer')"
      ],
      "execution_count": 0,
      "outputs": [
        {
          "output_type": "stream",
          "text": [
            "/usr/local/lib/python3.6/dist-packages/smart_open/smart_open_lib.py:410: UserWarning: This function is deprecated, use smart_open.open instead. See the migration notes for details: https://github.com/RaRe-Technologies/smart_open/blob/master/README.rst#migrating-to-the-new-open-function\n",
            "  'See the migration notes for details: %s' % _MIGRATION_NOTES_URL\n"
          ],
          "name": "stderr"
        }
      ]
    },
    {
      "cell_type": "code",
      "metadata": {
        "id": "ey0V0j-TaMXS",
        "colab_type": "code",
        "outputId": "d8a954aa-080e-48c7-f82d-121e20b6ff57",
        "colab": {
          "base_uri": "https://localhost:8080/",
          "height": 34
        }
      },
      "source": [
        "print(\"Found %s word vectors of word2vec\" % len(reloaded_vectors.vocab))"
      ],
      "execution_count": 0,
      "outputs": [
        {
          "output_type": "stream",
          "text": [
            "Found 60010 word vectors of word2vec\n"
          ],
          "name": "stdout"
        }
      ]
    },
    {
      "cell_type": "markdown",
      "metadata": {
        "id": "FEbEJGbcFGg1",
        "colab_type": "text"
      },
      "source": [
        "French embedding"
      ]
    },
    {
      "cell_type": "code",
      "metadata": {
        "id": "Me-kcKOkFJwE",
        "colab_type": "code",
        "outputId": "f835c447-cfd0-41f0-c37b-cd3922710208",
        "colab": {
          "base_uri": "https://localhost:8080/",
          "height": 136
        }
      },
      "source": [
        "!python tokenizer.py --input=unaligned.fr --output=/content/sample_data/tokenized_fr --lang=fr"
      ],
      "execution_count": 0,
      "outputs": [
        {
          "output_type": "stream",
          "text": [
            "INFO:__main__:will keep the case? False\n",
            "INFO:__main__:will keep empty lines? False\n",
            "INFO:__main__:will convert newlines to space? False\n",
            "INFO:__main__:will skip lines with the following regex: []\n",
            "INFO:__main__:tokenizing file unaligned.fr\n",
            "100% 474000/474000 [1:05:55<00:00, 119.83it/s]\n",
            "INFO:__main__:done (1 / 1) - skipped 0 lines (over 474000 - i.e., 0.00%) because empty, skipped 0 lines (over 474000 - i.e., 0.00%) because of regex\n"
          ],
          "name": "stdout"
        }
      ]
    },
    {
      "cell_type": "code",
      "metadata": {
        "id": "R_TMtNLfXka-",
        "colab_type": "code",
        "outputId": "8cf3f08f-d85c-4f04-cf4e-aa96c92b4b09",
        "colab": {
          "base_uri": "https://localhost:8080/",
          "height": 68
        }
      },
      "source": [
        "!python punctuation_remover.py --input=unaligned_tokenized.fr --output=/content/sample_data/unaligned_nopunc"
      ],
      "execution_count": 0,
      "outputs": [
        {
          "output_type": "stream",
          "text": [
            "INFO:__main__:tokenizing file unaligned_tokenized.fr\n",
            "474000it [00:04, 98627.34it/s]\n",
            "INFO:__main__:done - parsed 474000 lines and removed 1003641 (punctuation) symbols\n"
          ],
          "name": "stdout"
        }
      ]
    },
    {
      "cell_type": "code",
      "metadata": {
        "id": "HGGAXCO4mhQ_",
        "colab_type": "code",
        "outputId": "f9c9737a-fbf4-43ef-f884-ca6cab11ac2d",
        "colab": {
          "base_uri": "https://localhost:8080/",
          "height": 71
        }
      },
      "source": [
        "# make a list of list of sentences without removing stopwords\n",
        "french_sentences = list_of_sentences('tokenized_nopunc_unaligned.fr')\n",
        "print(french_sentences[:4], '\\n')"
      ],
      "execution_count": 0,
      "outputs": [
        {
          "output_type": "stream",
          "text": [
            "[['nous', 'n’', 'aurions', 'pas', 'pu', 'dégager', 'd’', 'accord', 'sur', 'un', 'calendrier', 'de', 'conclusion', 'de', 'la', 'cig', 'sans', 'l’', 'engagement', 'politique', 'de', 'mes', 'collègues', 'du', 'conseil', 'européen'], ['de', 'madame', 'la', 'présidente', 'monsieur', 'le', 'commissaire', 'mesdames', 'et', 'messieurs', \"c'\", 'est', 'un', 'des', 'signes', 'de', 'la', 'pauvreté', 'absolue', 'de', 'notre', 'société', 'que', 'nous', 'devions', 'encore', 'discuter', 'de', 'la', 'question', 'de', \"l'\", 'égalité', 'entre', 'les', 'hommes', 'et', 'les', 'femmes'], ['y', 'a', '-t', '-il', 'une', 'remise', 'étudiant'], ['votre', 'travail', 'semble', 'suggérer', 'que', \"c'\", 'est', 'profondément', 'faux']] \n",
            "\n"
          ],
          "name": "stdout"
        }
      ]
    },
    {
      "cell_type": "code",
      "metadata": {
        "id": "mj0u5M1jnHpB",
        "colab_type": "code",
        "outputId": "bbc1b039-6c49-41b8-cffc-838bbac26c6c",
        "colab": {
          "base_uri": "https://localhost:8080/",
          "height": 51
        }
      },
      "source": [
        "# train the model\n",
        "french_w2v = Word2Vec(french_sentences, size=100, window=2, min_count=1, seed=0)\n",
        "# summarize the loaded model\n",
        "print(french_w2v)\n",
        "# summarize vocabulary\n",
        "french_words = list(french_w2v.wv.vocab)\n",
        "print(french_words[:10])"
      ],
      "execution_count": 0,
      "outputs": [
        {
          "output_type": "stream",
          "text": [
            "Word2Vec(vocab=83314, size=100, alpha=0.025)\n",
            "['nous', 'n’', 'aurions', 'pas', 'pu', 'dégager', 'd’', 'accord', 'sur', 'un']\n"
          ],
          "name": "stdout"
        }
      ]
    },
    {
      "cell_type": "code",
      "metadata": {
        "id": "IO-bPAnCnReG",
        "colab_type": "code",
        "outputId": "f64987c8-360f-4883-baf4-3212b6ceba01",
        "colab": {
          "base_uri": "https://localhost:8080/",
          "height": 71
        }
      },
      "source": [
        "# word vectors of word2vec\n",
        "french_word_vectors = french_w2v.wv\n",
        "# saving the word vectors\n",
        "french_word_vectors.save('french_wordvectors')\n",
        "# loading the word vectors\n",
        "reloaded_french_vectors = KeyedVectors.load('french_wordvectors')\n",
        "# then you can do everything that you would do with the original word vectors\n",
        "# like : reloaded_french_vectors.similar_by_word('computer')"
      ],
      "execution_count": 0,
      "outputs": [
        {
          "output_type": "stream",
          "text": [
            "/usr/local/lib/python3.6/dist-packages/smart_open/smart_open_lib.py:410: UserWarning: This function is deprecated, use smart_open.open instead. See the migration notes for details: https://github.com/RaRe-Technologies/smart_open/blob/master/README.rst#migrating-to-the-new-open-function\n",
            "  'See the migration notes for details: %s' % _MIGRATION_NOTES_URL\n"
          ],
          "name": "stderr"
        }
      ]
    },
    {
      "cell_type": "code",
      "metadata": {
        "id": "fgylklhEqz1I",
        "colab_type": "code",
        "outputId": "aa8e8ce3-68b7-4f73-affa-d73e2a328b0f",
        "colab": {
          "base_uri": "https://localhost:8080/",
          "height": 34
        }
      },
      "source": [
        "print(\"Found %s word vectors of word2vec\" % len(reloaded_french_vectors.vocab))"
      ],
      "execution_count": 0,
      "outputs": [
        {
          "output_type": "stream",
          "text": [
            "Found 83314 word vectors of word2vec\n"
          ],
          "name": "stdout"
        }
      ]
    },
    {
      "cell_type": "code",
      "metadata": {
        "id": "n0LGEXfupgWE",
        "colab_type": "code",
        "outputId": "787288d9-1123-4123-a131-5cf65f9c0d86",
        "colab": {
          "base_uri": "https://localhost:8080/",
          "height": 241
        }
      },
      "source": [
        "reloaded_french_vectors.similar_by_word('chien')"
      ],
      "execution_count": 0,
      "outputs": [
        {
          "output_type": "stream",
          "text": [
            "/usr/local/lib/python3.6/dist-packages/gensim/matutils.py:737: FutureWarning: Conversion of the second argument of issubdtype from `int` to `np.signedinteger` is deprecated. In future, it will be treated as `np.int64 == np.dtype(int).type`.\n",
            "  if np.issubdtype(vec.dtype, np.int):\n"
          ],
          "name": "stderr"
        },
        {
          "output_type": "execute_result",
          "data": {
            "text/plain": [
              "[('bébé', 0.9125365614891052),\n",
              " ('chat', 0.9087815284729004),\n",
              " ('garçon', 0.8899517059326172),\n",
              " ('chapeau', 0.8764127492904663),\n",
              " ('frère', 0.8654128909111023),\n",
              " ('cheval', 0.8622058629989624),\n",
              " ('père', 0.8548506498336792),\n",
              " ('docteur', 0.8471784591674805),\n",
              " ('manteau', 0.8337758779525757),\n",
              " ('sac', 0.8265551328659058)]"
            ]
          },
          "metadata": {
            "tags": []
          },
          "execution_count": 28
        }
      ]
    },
    {
      "cell_type": "markdown",
      "metadata": {
        "id": "qBI_78mmqE7_",
        "colab_type": "text"
      },
      "source": [
        "FastText\n",
        "\n",
        "(FastText is an extension to Word2Vec proposed by Facebook in 2016. Instead of feeding individual words into the Neural Network, FastText breaks words into several n-grams. For instance, the tri-grams for the word apple is app, ppl, and ple (ignoring the starting and ending of boundaries of words). The word embedding vector for apple will be the sum of all these n-grams. After training the Neural Network, we will have word embeddings for all the n-grams given the training dataset. Rare words can now be properly represented since it is highly likely that some of their n-grams also appears in other words.)"
      ]
    },
    {
      "cell_type": "markdown",
      "metadata": {
        "id": "4IOSf14Kvlhl",
        "colab_type": "text"
      },
      "source": [
        "English"
      ]
    },
    {
      "cell_type": "code",
      "metadata": {
        "id": "LAfIm0TJNfsE",
        "colab_type": "code",
        "outputId": "7f7a6fbe-3be5-4687-9cea-450d78c73769",
        "colab": {
          "base_uri": "https://localhost:8080/",
          "height": 51
        }
      },
      "source": [
        "from gensim.models import FastText\n",
        "sentences = list_of_sentences('tokenized_nopunc_unaligned.en')\n",
        "# instantiate model\n",
        "fasttext = FastText(size=100, window=2, min_count=1, seed=0)\n",
        "fasttext.build_vocab(sentences=sentences)\n",
        "# train the model\n",
        "fasttext.train(sentences=sentences, total_examples=len(sentences), epochs=5)\n",
        "# summarize the loaded model\n",
        "print(fasttext)\n",
        "# summarize vocabulary\n",
        "words = list(fasttext.wv.vocab)\n",
        "print(words[:10])"
      ],
      "execution_count": 0,
      "outputs": [
        {
          "output_type": "stream",
          "text": [
            "FastText(vocab=60008, size=100, alpha=0.025)\n",
            "['for', 'the', 'second', 'phase', 'of', 'trials', 'we', 'just', 'had', 'different']\n"
          ],
          "name": "stdout"
        }
      ]
    },
    {
      "cell_type": "code",
      "metadata": {
        "id": "CqrIdYkFOy0R",
        "colab_type": "code",
        "outputId": "ffb284fc-0d7b-4fb7-a915-fa13bcc49d8f",
        "colab": {
          "base_uri": "https://localhost:8080/",
          "height": 71
        }
      },
      "source": [
        "# word vectors of fastText\n",
        "ft_wv = fasttext.wv\n",
        "# saving the word vectors\n",
        "ft_wv.save('fasttext_wordvectors')\n",
        "# loading the word vectors\n",
        "ft_wv_reloaded = KeyedVectors.load('fasttext_wordvectors')"
      ],
      "execution_count": 0,
      "outputs": [
        {
          "output_type": "stream",
          "text": [
            "/usr/local/lib/python3.6/dist-packages/smart_open/smart_open_lib.py:410: UserWarning: This function is deprecated, use smart_open.open instead. See the migration notes for details: https://github.com/RaRe-Technologies/smart_open/blob/master/README.rst#migrating-to-the-new-open-function\n",
            "  'See the migration notes for details: %s' % _MIGRATION_NOTES_URL\n"
          ],
          "name": "stderr"
        }
      ]
    },
    {
      "cell_type": "code",
      "metadata": {
        "id": "QEsdVZZlPJMz",
        "colab_type": "code",
        "outputId": "5177eb55-e244-409b-a7a7-0059d597e1ab",
        "colab": {
          "base_uri": "https://localhost:8080/",
          "height": 241
        }
      },
      "source": [
        "ft_wv_reloaded.similar_by_word('computer')"
      ],
      "execution_count": 0,
      "outputs": [
        {
          "output_type": "stream",
          "text": [
            "/usr/local/lib/python3.6/dist-packages/gensim/matutils.py:737: FutureWarning: Conversion of the second argument of issubdtype from `int` to `np.signedinteger` is deprecated. In future, it will be treated as `np.int64 == np.dtype(int).type`.\n",
            "  if np.issubdtype(vec.dtype, np.int):\n"
          ],
          "name": "stderr"
        },
        {
          "output_type": "execute_result",
          "data": {
            "text/plain": [
              "[('microcomputer', 0.9597269296646118),\n",
              " ('supercomputer', 0.9489483833312988),\n",
              " ('compute', 0.935151219367981),\n",
              " ('minicomputer', 0.9287465214729309),\n",
              " ('computerize', 0.9194146990776062),\n",
              " ('neuter', 0.8692580461502075),\n",
              " ('cosmology', 0.8677105903625488),\n",
              " ('computers', 0.8607681393623352),\n",
              " ('filter', 0.859724760055542),\n",
              " ('clutter', 0.8521075248718262)]"
            ]
          },
          "metadata": {
            "tags": []
          },
          "execution_count": 15
        }
      ]
    },
    {
      "cell_type": "markdown",
      "metadata": {
        "id": "LKdSWHXvO1Cf",
        "colab_type": "text"
      },
      "source": [
        "With start and end token"
      ]
    },
    {
      "cell_type": "code",
      "metadata": {
        "id": "HdUQnRg5qJlZ",
        "colab_type": "code",
        "outputId": "43a50f24-5a8e-4569-f39f-9b6c495cc85c",
        "colab": {
          "base_uri": "https://localhost:8080/",
          "height": 231
        }
      },
      "source": [
        "from gensim.models import FastText\n",
        "# for the sake of the pre-trained embeddings, I will not be removing stopwords in the sentences otherwise there is too much oov words\n",
        "sentences = list_of_sentences_wtg('tokenized_nopunc_unaligned.en')\n",
        "# instantiate model\n",
        "fasttext_wtag = FastText(size=100, window=2, min_count=1, seed=0)\n",
        "fasttext_wtag.build_vocab(sentences=sentences)\n",
        "# train the model\n",
        "fasttext_wtag.train(sentences=sentences, total_examples=len(sentences), epochs=5)\n",
        "# summarize the loaded model\n",
        "print(fasttext_wtag)\n",
        "# summarize vocabulary\n",
        "words = list(fasttext_wtag.wv.vocab)\n",
        "print(words[:10])"
      ],
      "execution_count": 0,
      "outputs": [
        {
          "output_type": "error",
          "ename": "NameError",
          "evalue": "ignored",
          "traceback": [
            "\u001b[0;31m---------------------------------------------------------------------------\u001b[0m",
            "\u001b[0;31mNameError\u001b[0m                                 Traceback (most recent call last)",
            "\u001b[0;32m<ipython-input-9-c839f343fa6b>\u001b[0m in \u001b[0;36m<module>\u001b[0;34m()\u001b[0m\n\u001b[1;32m      1\u001b[0m \u001b[0;32mfrom\u001b[0m \u001b[0mgensim\u001b[0m\u001b[0;34m.\u001b[0m\u001b[0mmodels\u001b[0m \u001b[0;32mimport\u001b[0m \u001b[0mFastText\u001b[0m\u001b[0;34m\u001b[0m\u001b[0;34m\u001b[0m\u001b[0m\n\u001b[1;32m      2\u001b[0m \u001b[0;31m# for the sake of the pre-trained embeddings, I will not be removing stopwords in the sentences otherwise there is too much oov words\u001b[0m\u001b[0;34m\u001b[0m\u001b[0;34m\u001b[0m\u001b[0;34m\u001b[0m\u001b[0m\n\u001b[0;32m----> 3\u001b[0;31m \u001b[0msentences\u001b[0m \u001b[0;34m=\u001b[0m \u001b[0mlist_of_sentences_wtg\u001b[0m\u001b[0;34m(\u001b[0m\u001b[0;34m'tokenized_nopunc_unaligned.en'\u001b[0m\u001b[0;34m)\u001b[0m\u001b[0;34m\u001b[0m\u001b[0;34m\u001b[0m\u001b[0m\n\u001b[0m\u001b[1;32m      4\u001b[0m \u001b[0;31m# instantiate model\u001b[0m\u001b[0;34m\u001b[0m\u001b[0;34m\u001b[0m\u001b[0;34m\u001b[0m\u001b[0m\n\u001b[1;32m      5\u001b[0m \u001b[0mfasttext_wtag\u001b[0m \u001b[0;34m=\u001b[0m \u001b[0mFastText\u001b[0m\u001b[0;34m(\u001b[0m\u001b[0msize\u001b[0m\u001b[0;34m=\u001b[0m\u001b[0;36m100\u001b[0m\u001b[0;34m,\u001b[0m \u001b[0mwindow\u001b[0m\u001b[0;34m=\u001b[0m\u001b[0;36m2\u001b[0m\u001b[0;34m,\u001b[0m \u001b[0mmin_count\u001b[0m\u001b[0;34m=\u001b[0m\u001b[0;36m1\u001b[0m\u001b[0;34m,\u001b[0m \u001b[0mseed\u001b[0m\u001b[0;34m=\u001b[0m\u001b[0;36m0\u001b[0m\u001b[0;34m)\u001b[0m\u001b[0;34m\u001b[0m\u001b[0;34m\u001b[0m\u001b[0m\n",
            "\u001b[0;31mNameError\u001b[0m: name 'list_of_sentences_wtg' is not defined"
          ]
        }
      ]
    },
    {
      "cell_type": "code",
      "metadata": {
        "id": "wEQPAwdVscc6",
        "colab_type": "code",
        "outputId": "55caac4d-e575-4060-f6d7-bc3784115e71",
        "colab": {
          "base_uri": "https://localhost:8080/",
          "height": 71
        }
      },
      "source": [
        "# word vectors of fastText\n",
        "ft_word_vectors = fasttext_wtag.wv\n",
        "# saving the word vectors\n",
        "ft_word_vectors.save('fasttext_wordvectors_wtag')\n",
        "# loading the word vectors\n",
        "ft_reloaded_vectors = KeyedVectors.load('fasttext_wordvectors_wtag')\n",
        "# then you can do everything that you would do with the original word vectors\n",
        "# like : reloaded_vectors.similar_by_word('computer')"
      ],
      "execution_count": 0,
      "outputs": [
        {
          "output_type": "stream",
          "text": [
            "/usr/local/lib/python3.6/dist-packages/smart_open/smart_open_lib.py:410: UserWarning: This function is deprecated, use smart_open.open instead. See the migration notes for details: https://github.com/RaRe-Technologies/smart_open/blob/master/README.rst#migrating-to-the-new-open-function\n",
            "  'See the migration notes for details: %s' % _MIGRATION_NOTES_URL\n"
          ],
          "name": "stderr"
        }
      ]
    },
    {
      "cell_type": "code",
      "metadata": {
        "id": "ixfnocKHsvrP",
        "colab_type": "code",
        "outputId": "727e504a-9591-49e0-f989-feab99077867",
        "colab": {
          "base_uri": "https://localhost:8080/",
          "height": 241
        }
      },
      "source": [
        "ft_reloaded_vectors.similar_by_word('computer')"
      ],
      "execution_count": 0,
      "outputs": [
        {
          "output_type": "stream",
          "text": [
            "/usr/local/lib/python3.6/dist-packages/gensim/matutils.py:737: FutureWarning: Conversion of the second argument of issubdtype from `int` to `np.signedinteger` is deprecated. In future, it will be treated as `np.int64 == np.dtype(int).type`.\n",
            "  if np.issubdtype(vec.dtype, np.int):\n"
          ],
          "name": "stderr"
        },
        {
          "output_type": "execute_result",
          "data": {
            "text/plain": [
              "[('microcomputer', 0.958284854888916),\n",
              " ('supercomputer', 0.9478648900985718),\n",
              " ('compute', 0.9334449768066406),\n",
              " ('minicomputer', 0.9266951084136963),\n",
              " ('computerize', 0.9147630333900452),\n",
              " ('neuter', 0.8789759874343872),\n",
              " ('filter', 0.8617266416549683),\n",
              " ('cosmology', 0.8581469058990479),\n",
              " ('computers', 0.8510715961456299),\n",
              " ('screenwriter', 0.8489061594009399)]"
            ]
          },
          "metadata": {
            "tags": []
          },
          "execution_count": 35
        }
      ]
    },
    {
      "cell_type": "markdown",
      "metadata": {
        "id": "mtIPrkO3vnfB",
        "colab_type": "text"
      },
      "source": [
        "French"
      ]
    },
    {
      "cell_type": "code",
      "metadata": {
        "id": "5eBFOEMqvoBS",
        "colab_type": "code",
        "outputId": "10a60ce3-54a3-48d0-fec5-4e6934bc8535",
        "colab": {
          "base_uri": "https://localhost:8080/",
          "height": 51
        }
      },
      "source": [
        "# instantiate model\n",
        "fasttext_french = FastText(size=100, window=2, min_count=1, seed=0)\n",
        "fasttext_french.build_vocab(sentences=french_sentences)\n",
        "# train the model\n",
        "fasttext_french.train(sentences=french_sentences, total_examples=len(french_sentences), epochs=5)\n",
        "# summarize the loaded model\n",
        "print(fasttext_french)\n",
        "# summarize vocabulary\n",
        "words = list(fasttext_french.wv.vocab)\n",
        "print(words[:10])"
      ],
      "execution_count": 0,
      "outputs": [
        {
          "output_type": "stream",
          "text": [
            "FastText(vocab=83314, size=100, alpha=0.025)\n",
            "['nous', 'n’', 'aurions', 'pas', 'pu', 'dégager', 'd’', 'accord', 'sur', 'un']\n"
          ],
          "name": "stdout"
        }
      ]
    },
    {
      "cell_type": "code",
      "metadata": {
        "id": "CZTZx9BixR-m",
        "colab_type": "code",
        "outputId": "dde02705-2321-4465-e184-926d9f81042b",
        "colab": {
          "base_uri": "https://localhost:8080/",
          "height": 71
        }
      },
      "source": [
        "ft_french_word_vectors = fasttext_french.wv\n",
        "# saving the word vectors\n",
        "ft_french_word_vectors.save('fasttext_french_wordvectors')\n",
        "# loading the word vectors\n",
        "ft_french_reloaded_vectors = KeyedVectors.load('fasttext_french_wordvectors')"
      ],
      "execution_count": 0,
      "outputs": [
        {
          "output_type": "stream",
          "text": [
            "/usr/local/lib/python3.6/dist-packages/smart_open/smart_open_lib.py:410: UserWarning: This function is deprecated, use smart_open.open instead. See the migration notes for details: https://github.com/RaRe-Technologies/smart_open/blob/master/README.rst#migrating-to-the-new-open-function\n",
            "  'See the migration notes for details: %s' % _MIGRATION_NOTES_URL\n"
          ],
          "name": "stderr"
        }
      ]
    },
    {
      "cell_type": "code",
      "metadata": {
        "id": "G1_xUf23xjgn",
        "colab_type": "code",
        "outputId": "f6795200-10d1-43b9-c3de-2ecc11b252ba",
        "colab": {
          "base_uri": "https://localhost:8080/",
          "height": 241
        }
      },
      "source": [
        "ft_french_reloaded_vectors.similar_by_word('chien')"
      ],
      "execution_count": 0,
      "outputs": [
        {
          "output_type": "stream",
          "text": [
            "/usr/local/lib/python3.6/dist-packages/gensim/matutils.py:737: FutureWarning: Conversion of the second argument of issubdtype from `int` to `np.signedinteger` is deprecated. In future, it will be treated as `np.int64 == np.dtype(int).type`.\n",
            "  if np.issubdtype(vec.dtype, np.int):\n"
          ],
          "name": "stderr"
        },
        {
          "output_type": "execute_result",
          "data": {
            "text/plain": [
              "[('chirurgien', 0.9313361644744873),\n",
              " ('chilien', 0.9080785512924194),\n",
              " ('freudien', 0.9062057733535767),\n",
              " ('oedipien', 0.9046527743339539),\n",
              " ('chopin', 0.9042898416519165),\n",
              " ('fidjien', 0.900428295135498),\n",
              " ('gordien', 0.8996549844741821),\n",
              " ('musicien', 0.8981028199195862),\n",
              " ('chiot', 0.896364152431488),\n",
              " ('chicken', 0.8962879776954651)]"
            ]
          },
          "metadata": {
            "tags": []
          },
          "execution_count": 38
        }
      ]
    }
  ]
}