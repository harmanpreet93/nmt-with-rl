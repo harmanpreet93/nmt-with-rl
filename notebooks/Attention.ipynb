{
  "nbformat": 4,
  "nbformat_minor": 0,
  "metadata": {
    "colab": {
      "name": "Attention.ipynb",
      "provenance": [],
      "collapsed_sections": []
    },
    "kernelspec": {
      "name": "python3",
      "display_name": "Python 3"
    },
    "accelerator": "GPU"
  },
  "cells": [
    {
      "cell_type": "markdown",
      "metadata": {
        "id": "GJMhAX-Py9K2",
        "colab_type": "text"
      },
      "source": [
        "# Seq2seq"
      ]
    },
    {
      "cell_type": "markdown",
      "metadata": {
        "id": "qxX8qL1sgAeB",
        "colab_type": "text"
      },
      "source": [
        "Implementation of seq2seq model with attention from https://www.tensorflow.org/tutorials/text/nmt_with_attention\n",
        "\n",
        "To run this notebook : \n",
        "\n",
        "1.   Have the file train.lang1 and train.lang2 (aligned french-english data) in a Google Drive directory\n",
        "2.   Have the wordvectors and wordvectors_wtg files from word_embeddings.ipynb in a Google Drive directory\n"
      ]
    },
    {
      "cell_type": "code",
      "metadata": {
        "id": "hDqFxbKOG54e",
        "colab_type": "code",
        "colab": {}
      },
      "source": [
        "from __future__ import absolute_import, division, print_function, unicode_literals\n",
        "\n",
        "try:\n",
        "  # %tensorflow_version only exists in Colab.\n",
        "  %tensorflow_version 2.x\n",
        "except Exception:\n",
        "  pass\n",
        "  \n",
        "import tensorflow as tf\n",
        "\n",
        "import matplotlib.pyplot as plt\n",
        "import matplotlib.ticker as ticker\n",
        "from sklearn.model_selection import train_test_split\n",
        "\n",
        "#import unicodedata\n",
        "import re\n",
        "import numpy as np\n",
        "import os\n",
        "import time"
      ],
      "execution_count": 0,
      "outputs": []
    },
    {
      "cell_type": "code",
      "metadata": {
        "id": "vQbU6YNYxGQp",
        "colab_type": "code",
        "colab": {}
      },
      "source": [
        "# reproducibility\n",
        "tf.random.set_seed(0)\n",
        "np.random.seed(0)"
      ],
      "execution_count": 0,
      "outputs": []
    },
    {
      "cell_type": "code",
      "metadata": {
        "id": "eY5eWMSPJXNc",
        "colab_type": "code",
        "outputId": "15d59898-c62f-44d8-8744-4bf92699b8b4",
        "colab": {
          "base_uri": "https://localhost:8080/",
          "height": 122
        }
      },
      "source": [
        "from google.colab import drive\n",
        "drive.mount('/content/gdrive')"
      ],
      "execution_count": 3,
      "outputs": [
        {
          "output_type": "stream",
          "text": [
            "Go to this URL in a browser: https://accounts.google.com/o/oauth2/auth?client_id=947318989803-6bn6qk8qdgf4n4g3pfee6491hc0brc4i.apps.googleusercontent.com&redirect_uri=urn%3aietf%3awg%3aoauth%3a2.0%3aoob&response_type=code&scope=email%20https%3a%2f%2fwww.googleapis.com%2fauth%2fdocs.test%20https%3a%2f%2fwww.googleapis.com%2fauth%2fdrive%20https%3a%2f%2fwww.googleapis.com%2fauth%2fdrive.photos.readonly%20https%3a%2f%2fwww.googleapis.com%2fauth%2fpeopleapi.readonly\n",
            "\n",
            "Enter your authorization code:\n",
            "··········\n",
            "Mounted at /content/gdrive\n"
          ],
          "name": "stdout"
        }
      ]
    },
    {
      "cell_type": "code",
      "metadata": {
        "id": "ITqtCu-dJmHm",
        "colab_type": "code",
        "outputId": "330880e2-5b1a-4ab1-8f5b-6b8a6ecf04c6",
        "colab": {
          "base_uri": "https://localhost:8080/",
          "height": 34
        }
      },
      "source": [
        "# Mounting colab with google drive\n",
        "# In my Drive I have data folder containing train.lang1 and train.lang2\n",
        "%cd /content/gdrive/My Drive/ift6759"
      ],
      "execution_count": 4,
      "outputs": [
        {
          "output_type": "stream",
          "text": [
            "/content/gdrive/My Drive/ift6759\n"
          ],
          "name": "stdout"
        }
      ]
    },
    {
      "cell_type": "markdown",
      "metadata": {
        "id": "I018Q9Z1ZxWp",
        "colab_type": "text"
      },
      "source": [
        "## Preprocessing"
      ]
    },
    {
      "cell_type": "code",
      "metadata": {
        "id": "JlMkBRf9Jxix",
        "colab_type": "code",
        "colab": {}
      },
      "source": [
        "# design decision included here, decided to keep é, è, ê, etc. for french \n",
        "# since otherwise it would divide a word like 'événementiel' into \"v\", \"nementiel\"\n",
        "\n",
        "def preprocess_sentence(w):\n",
        "  w = w.lower().strip()\n",
        "\n",
        "  # creating a space between a word and the punctuation following it\n",
        "  # eg: \"he is a boy.\" => \"he is a boy .\"\n",
        "  w = re.sub(r\"([?.!,¿])\", r\" \\1 \", w)\n",
        "  w = re.sub(r'[\" \"]+', \" \", w)\n",
        "\n",
        "  # replacing everything with space except (a-z, A-Z, \".\", \"?\", \"!\", \",\", \"é\", \"è\", \"ê\", \"ç\", \"î\", \"ï\", \"ô\", \"à\", \"û\")\n",
        "  w = re.sub(r\"[^a-zA-Z?.!,¿éèçêîôïàû]+\", \" \", w)\n",
        "\n",
        "  w = w.strip()\n",
        "\n",
        "  # adding a start and an end token to the sentence\n",
        "  # so that the model know when to start and stop predicting.\n",
        "  w = '<start> ' + w + ' <end>'\n",
        "  return w"
      ],
      "execution_count": 0,
      "outputs": []
    },
    {
      "cell_type": "code",
      "metadata": {
        "id": "VkNx9iMbLnQi",
        "colab_type": "code",
        "outputId": "8dfd22a0-2a5a-43d3-d3b3-6d410400a0e3",
        "colab": {
          "base_uri": "https://localhost:8080/",
          "height": 51
        }
      },
      "source": [
        "fr_sentence = f\"J'aime beaucoup le chocolat!\"\n",
        "en_sentence = f\"I really like chocolate!\"\n",
        "print(preprocess_sentence(fr_sentence))\n",
        "print(preprocess_sentence(en_sentence))"
      ],
      "execution_count": 6,
      "outputs": [
        {
          "output_type": "stream",
          "text": [
            "<start> j aime beaucoup le chocolat ! <end>\n",
            "<start> i really like chocolate ! <end>\n"
          ],
          "name": "stdout"
        }
      ]
    },
    {
      "cell_type": "code",
      "metadata": {
        "id": "oId1lJorQlFt",
        "colab_type": "code",
        "colab": {}
      },
      "source": [
        "# mapping english sentences to french sentences\n",
        "def combine_files(path_to_en_file, path_to_fr_file, output_path):\n",
        "  with open(path_to_en_file, 'r') as en:\n",
        "    with open(path_to_fr_file, 'r') as fr:\n",
        "      with open(output_path, 'w') as outfile:\n",
        "        en_lines = en.readlines()\n",
        "        fr_lines = fr.readlines()\n",
        "        for i in range(len(en_lines)):\n",
        "          line = en_lines[i].strip() + '\\t' + fr_lines[i]\n",
        "          outfile.write(line)"
      ],
      "execution_count": 0,
      "outputs": []
    },
    {
      "cell_type": "code",
      "metadata": {
        "id": "2r_-7XlPPQ5j",
        "colab_type": "code",
        "colab": {}
      },
      "source": [
        "def print_n(path_to_file, n):\n",
        "  n = range(n)\n",
        "  with open(path_to_file, 'r') as f:\n",
        "    for i, line in enumerate(f):\n",
        "      if i in n:\n",
        "        print(line)"
      ],
      "execution_count": 0,
      "outputs": []
    },
    {
      "cell_type": "code",
      "metadata": {
        "id": "dI-h5RCaaDLD",
        "colab_type": "code",
        "outputId": "09502c0e-3c6e-4341-cfab-4055cce3de28",
        "colab": {
          "base_uri": "https://localhost:8080/",
          "height": 207
        }
      },
      "source": [
        "print('ENGLISH')\n",
        "print_n('data/train.lang1', 2)\n",
        "\n",
        "print('FRENCH')\n",
        "print_n('data/train.lang2', 2)"
      ],
      "execution_count": 9,
      "outputs": [
        {
          "output_type": "stream",
          "text": [
            "ENGLISH\n",
            "so too does the idea that accommodating religious differences is dangerous\n",
            "\n",
            "mr president ladies and gentlemen the financial perspective outlines the scope of the eu ’s activities over coming years as well as providing a framework for such activities and determining how effective they will be\n",
            "\n",
            "FRENCH\n",
            "L’ idée de concilier les différences religieuses semble donc dangereuse .\n",
            "\n",
            "Monsieur le Président , Mesdames et Messieurs , les perspectives financières esquissent la portée des activités de l’ UE pour les années à venir , fournissent un cadre pour ces activités et déterminent leur efficacité .\n",
            "\n"
          ],
          "name": "stdout"
        }
      ]
    },
    {
      "cell_type": "code",
      "metadata": {
        "id": "RCkbGI9QXJXM",
        "colab_type": "code",
        "colab": {}
      },
      "source": [
        "# only need to do it once, uncomment if not done\n",
        "#combine_files('data/train.lang1', 'data/train.lang2', 'data/en-fr.txt')"
      ],
      "execution_count": 0,
      "outputs": []
    },
    {
      "cell_type": "code",
      "metadata": {
        "id": "lL6kVkCPUlfT",
        "colab_type": "code",
        "outputId": "ff42e5a1-f441-46a8-c519-6aa31fb0b2e9",
        "colab": {
          "base_uri": "https://localhost:8080/",
          "height": 105
        }
      },
      "source": [
        "# check if the combine_files function worked\n",
        "print_n('data/en-fr.txt', 2)"
      ],
      "execution_count": 10,
      "outputs": [
        {
          "output_type": "stream",
          "text": [
            "so too does the idea that accommodating religious differences is dangerous\tL’ idée de concilier les différences religieuses semble donc dangereuse .\n",
            "\n",
            "mr president ladies and gentlemen the financial perspective outlines the scope of the eu ’s activities over coming years as well as providing a framework for such activities and determining how effective they will be\tMonsieur le Président , Mesdames et Messieurs , les perspectives financières esquissent la portée des activités de l’ UE pour les années à venir , fournissent un cadre pour ces activités et déterminent leur efficacité .\n",
            "\n"
          ],
          "name": "stdout"
        }
      ]
    },
    {
      "cell_type": "code",
      "metadata": {
        "id": "EL3j-jwuMN4M",
        "colab_type": "code",
        "colab": {}
      },
      "source": [
        "# 1. Clean the sentences\n",
        "# 2. Return word pairs in the format: [ENGLISH, SPANISH]\n",
        "def create_dataset(path, num_examples):\n",
        "  lines = open(path, encoding='UTF-8').read().strip().split('\\n')\n",
        "\n",
        "  word_pairs = [[preprocess_sentence(w) for w in l.split('\\t')]  for l in lines[:num_examples]]\n",
        "\n",
        "  return zip(*word_pairs)"
      ],
      "execution_count": 0,
      "outputs": []
    },
    {
      "cell_type": "code",
      "metadata": {
        "id": "7PTIujuCairh",
        "colab_type": "code",
        "colab": {}
      },
      "source": [
        "en, fr = create_dataset('data/en-fr.txt', None)"
      ],
      "execution_count": 0,
      "outputs": []
    },
    {
      "cell_type": "code",
      "metadata": {
        "id": "0WTD0tTxap66",
        "colab_type": "code",
        "outputId": "d0a13137-36c1-4309-c088-7c6afc287439",
        "colab": {
          "base_uri": "https://localhost:8080/",
          "height": 51
        }
      },
      "source": [
        "# let's see what it outputs\n",
        "print(en[-1])\n",
        "print(fr[-1])"
      ],
      "execution_count": 13,
      "outputs": [
        {
          "output_type": "stream",
          "text": [
            "<start> i agree that we need an ambitious social agenda which will include combating poverty and social exclusion <end>\n",
            "<start> je conviens que nous avons besoin d un agenda social ambitieux qui englobera la lutte contre la pauvreté et l exclusion sociale . <end>\n"
          ],
          "name": "stdout"
        }
      ]
    },
    {
      "cell_type": "code",
      "metadata": {
        "id": "HiXM8nIPa36p",
        "colab_type": "code",
        "colab": {}
      },
      "source": [
        "def max_length(tensor):\n",
        "  return max(len(t) for t in tensor)"
      ],
      "execution_count": 0,
      "outputs": []
    },
    {
      "cell_type": "code",
      "metadata": {
        "id": "5Ojbd1H2c6aG",
        "colab_type": "code",
        "colab": {}
      },
      "source": [
        "def tokenize(lang):\n",
        "  lang_tokenizer = tf.keras.preprocessing.text.Tokenizer(filters='')\n",
        "  lang_tokenizer.fit_on_texts(lang)\n",
        "\n",
        "  tensor = lang_tokenizer.texts_to_sequences(lang)\n",
        "\n",
        "  tensor = tf.keras.preprocessing.sequence.pad_sequences(tensor, padding='post')\n",
        "\n",
        "  return tensor, lang_tokenizer"
      ],
      "execution_count": 0,
      "outputs": []
    },
    {
      "cell_type": "code",
      "metadata": {
        "id": "RgJftlqFdZKR",
        "colab_type": "code",
        "colab": {}
      },
      "source": [
        "def load_dataset(path, num_examples=None):\n",
        "  # creating cleaned input, output pairs\n",
        "  inp_lang, targ_lang = create_dataset(path, num_examples)\n",
        "\n",
        "  input_tensor, inp_lang_tokenizer = tokenize(inp_lang)\n",
        "  target_tensor, targ_lang_tokenizer = tokenize(targ_lang)\n",
        "\n",
        "  return input_tensor, target_tensor, inp_lang_tokenizer, targ_lang_tokenizer"
      ],
      "execution_count": 0,
      "outputs": []
    },
    {
      "cell_type": "code",
      "metadata": {
        "id": "G1Xub_8ad42W",
        "colab_type": "code",
        "colab": {}
      },
      "source": [
        "input_tensor, target_tensor, inp_lang, targ_lang = load_dataset(path='data/en-fr.txt')"
      ],
      "execution_count": 0,
      "outputs": []
    },
    {
      "cell_type": "code",
      "metadata": {
        "id": "fRa2fO7eNMF9",
        "colab_type": "code",
        "outputId": "87d49ecd-712c-4951-cb62-6542442c224f",
        "colab": {
          "base_uri": "https://localhost:8080/",
          "height": 51
        }
      },
      "source": [
        "print(f\"Found {len(inp_lang.word_index)} unique tokens in English\")\n",
        "print(f\"Found {len(targ_lang.word_index)} unique tokens in French\")"
      ],
      "execution_count": 18,
      "outputs": [
        {
          "output_type": "stream",
          "text": [
            "Found 13239 unique tokens in English\n",
            "Found 16780 unique tokens in French\n"
          ],
          "name": "stdout"
        }
      ]
    },
    {
      "cell_type": "code",
      "metadata": {
        "id": "cztNbHsYe3IJ",
        "colab_type": "code",
        "outputId": "1a589714-c2d2-46bb-e331-bc3a415cfb4a",
        "colab": {
          "base_uri": "https://localhost:8080/",
          "height": 34
        }
      },
      "source": [
        "# Calculate max_length of the target tensors\n",
        "max_length_targ, max_length_inp = max_length(target_tensor), max_length(input_tensor)\n",
        "print(f\"The maximum lenght of input is {max_length_inp} and the maximum length of target is {max_length_targ}.\")"
      ],
      "execution_count": 19,
      "outputs": [
        {
          "output_type": "stream",
          "text": [
            "The maximum lenght of input is 94 and the maximum length of target is 113.\n"
          ],
          "name": "stdout"
        }
      ]
    },
    {
      "cell_type": "code",
      "metadata": {
        "id": "nMCLFkEafes8",
        "colab_type": "code",
        "colab": {}
      },
      "source": [
        "# Creating training and validation sets using an 90-10 split, could be modified of course\n",
        "input_tensor_train, input_tensor_val, target_tensor_train, target_tensor_val = train_test_split(input_tensor, target_tensor, test_size=0.1, random_state=6759)"
      ],
      "execution_count": 0,
      "outputs": []
    },
    {
      "cell_type": "code",
      "metadata": {
        "id": "b_sise0Pfsqk",
        "colab_type": "code",
        "outputId": "7faee39f-7407-4d7e-c49a-535c2a864a6f",
        "colab": {
          "base_uri": "https://localhost:8080/",
          "height": 34
        }
      },
      "source": [
        "# Show length\n",
        "print(len(input_tensor_train), len(target_tensor_train), len(input_tensor_val), len(target_tensor_val))"
      ],
      "execution_count": 21,
      "outputs": [
        {
          "output_type": "stream",
          "text": [
            "9900 9900 1100 1100\n"
          ],
          "name": "stdout"
        }
      ]
    },
    {
      "cell_type": "code",
      "metadata": {
        "id": "nLVdUwxZfwyI",
        "colab_type": "code",
        "colab": {}
      },
      "source": [
        "def convert(lang, tensor):\n",
        "  for t in tensor:\n",
        "    if t!=0:\n",
        "      print (\"%d ----> %s\" % (t, lang.index_word[t]))"
      ],
      "execution_count": 0,
      "outputs": []
    },
    {
      "cell_type": "code",
      "metadata": {
        "id": "TIiKqYlGgQBU",
        "colab_type": "code",
        "outputId": "0bad0f30-b237-430e-9220-8049934f7c48",
        "colab": {
          "base_uri": "https://localhost:8080/",
          "height": 714
        }
      },
      "source": [
        "print (\"Input Language; index to word mapping\")\n",
        "convert(inp_lang, input_tensor_train[-1])\n",
        "print ()\n",
        "print (\"Target Language; index to word mapping\")\n",
        "convert(targ_lang, target_tensor_train[-1])"
      ],
      "execution_count": 23,
      "outputs": [
        {
          "output_type": "stream",
          "text": [
            "Input Language; index to word mapping\n",
            "2 ----> <start>\n",
            "10 ----> that\n",
            "9 ----> is\n",
            "1043 ----> unacceptable\n",
            "5 ----> to\n",
            "61 ----> us\n",
            "16 ----> on\n",
            "165 ----> both\n",
            "1954 ----> moral\n",
            "6 ----> and\n",
            "242 ----> security\n",
            "97 ----> policy\n",
            "2783 ----> grounds\n",
            "3 ----> <end>\n",
            "\n",
            "Target Language; index to word mapping\n",
            "2 ----> <start>\n",
            "18 ----> une\n",
            "514 ----> telle\n",
            "1222 ----> attitude\n",
            "19 ----> nous\n",
            "342 ----> semble\n",
            "16018 ----> indéfendable\n",
            "5 ----> ,\n",
            "151 ----> tant\n",
            "31 ----> sur\n",
            "8 ----> le\n",
            "358 ----> plan\n",
            "4557 ----> moral\n",
            "13 ----> que\n",
            "31 ----> sur\n",
            "8 ----> le\n",
            "358 ----> plan\n",
            "4 ----> de\n",
            "6 ----> la\n",
            "80 ----> politique\n",
            "4 ----> de\n",
            "136 ----> sécurité\n",
            "1 ----> .\n",
            "3 ----> <end>\n"
          ],
          "name": "stdout"
        }
      ]
    },
    {
      "cell_type": "markdown",
      "metadata": {
        "id": "PH0AI8tAmDc5",
        "colab_type": "text"
      },
      "source": [
        "## Model"
      ]
    },
    {
      "cell_type": "code",
      "metadata": {
        "id": "zCU8N5VYgvKE",
        "colab_type": "code",
        "colab": {}
      },
      "source": [
        "# create tf.dataset and decide architecture choices\n",
        "# needed to change batch size and #of units so it didn't throw out-of-memory error in colab\n",
        "BUFFER_SIZE = len(input_tensor_train)\n",
        "BATCH_SIZE = 24 \n",
        "steps_per_epoch = len(input_tensor_train) // BATCH_SIZE\n",
        "embedding_dim = 256\n",
        "units = 512\n",
        "vocab_inp_size = len(inp_lang.word_index)+1\n",
        "vocab_tar_size = len(targ_lang.word_index)+1\n",
        "\n",
        "dataset = tf.data.Dataset.from_tensor_slices((input_tensor_train, target_tensor_train)).shuffle(BUFFER_SIZE)\n",
        "dataset = dataset.batch(BATCH_SIZE, drop_remainder=True)"
      ],
      "execution_count": 0,
      "outputs": []
    },
    {
      "cell_type": "code",
      "metadata": {
        "id": "9MwZFT1LhSuH",
        "colab_type": "code",
        "outputId": "c0a6a3f8-7ff2-42c4-ea44-247c7a0e3fd6",
        "colab": {
          "base_uri": "https://localhost:8080/",
          "height": 34
        }
      },
      "source": [
        "example_input_batch, example_target_batch = next(iter(dataset))\n",
        "example_input_batch.shape, example_target_batch.shape"
      ],
      "execution_count": 25,
      "outputs": [
        {
          "output_type": "execute_result",
          "data": {
            "text/plain": [
              "(TensorShape([24, 94]), TensorShape([24, 113]))"
            ]
          },
          "metadata": {
            "tags": []
          },
          "execution_count": 25
        }
      ]
    },
    {
      "cell_type": "code",
      "metadata": {
        "id": "HTVkqnGrhtQo",
        "colab_type": "code",
        "colab": {}
      },
      "source": [
        "# Encoder with GRU gates\n",
        "class Encoder(tf.keras.Model):\n",
        "  def __init__(self, vocab_size, embedding_dim, enc_units, batch_sz):\n",
        "    super(Encoder, self).__init__()\n",
        "    self.batch_sz = batch_sz\n",
        "    self.enc_units = enc_units\n",
        "    # could modify the embeddings for pre-trained embeddings\n",
        "    self.embedding = tf.keras.layers.Embedding(vocab_size, embedding_dim)\n",
        "    self.gru = tf.keras.layers.GRU(self.enc_units,\n",
        "                                   return_sequences=True,\n",
        "                                   return_state=True,\n",
        "                                   recurrent_initializer='glorot_uniform')\n",
        "\n",
        "  def call(self, x, hidden):\n",
        "    x = self.embedding(x)\n",
        "    output, state = self.gru(x, initial_state = hidden)\n",
        "    return output, state\n",
        "\n",
        "  def initialize_hidden_state(self):\n",
        "    return tf.zeros((self.batch_sz, self.enc_units))"
      ],
      "execution_count": 0,
      "outputs": []
    },
    {
      "cell_type": "code",
      "metadata": {
        "id": "FrJ8OQzyk6tx",
        "colab_type": "code",
        "outputId": "2e2c043f-9bd7-4a86-eebb-e054c765eda9",
        "colab": {
          "base_uri": "https://localhost:8080/",
          "height": 51
        }
      },
      "source": [
        "encoder = Encoder(vocab_inp_size, embedding_dim, units, BATCH_SIZE)\n",
        "\n",
        "# sample input\n",
        "sample_hidden = encoder.initialize_hidden_state()\n",
        "sample_output, sample_hidden = encoder(example_input_batch, sample_hidden)\n",
        "print ('Encoder output shape: (batch size, sequence length, units) {}'.format(sample_output.shape))\n",
        "print ('Encoder Hidden state shape: (batch size, units) {}'.format(sample_hidden.shape))"
      ],
      "execution_count": 27,
      "outputs": [
        {
          "output_type": "stream",
          "text": [
            "Encoder output shape: (batch size, sequence length, units) (24, 94, 512)\n",
            "Encoder Hidden state shape: (batch size, units) (24, 512)\n"
          ],
          "name": "stdout"
        }
      ]
    },
    {
      "cell_type": "code",
      "metadata": {
        "id": "HfQX-8i2lf0Q",
        "colab_type": "code",
        "colab": {}
      },
      "source": [
        "class BahdanauAttention(tf.keras.layers.Layer):\n",
        "  def __init__(self, units):\n",
        "    super(BahdanauAttention, self).__init__()\n",
        "    self.W1 = tf.keras.layers.Dense(units)\n",
        "    self.W2 = tf.keras.layers.Dense(units)\n",
        "    self.V = tf.keras.layers.Dense(1)\n",
        "\n",
        "  def call(self, query, values):\n",
        "    # query hidden state shape == (batch_size, hidden size)\n",
        "    # query_with_time_axis shape == (batch_size, 1, hidden size)\n",
        "    # values shape == (batch_size, max_len, hidden size)\n",
        "    # we are doing this to broadcast addition along the time axis to calculate the score\n",
        "    query_with_time_axis = tf.expand_dims(query, 1)\n",
        "\n",
        "    # score shape == (batch_size, max_length, 1)\n",
        "    # we get 1 at the last axis because we are applying score to self.V\n",
        "    # the shape of the tensor before applying self.V is (batch_size, max_length, units)\n",
        "    score = self.V(tf.nn.tanh(\n",
        "        self.W1(query_with_time_axis) + self.W2(values)))\n",
        "\n",
        "    # attention_weights shape == (batch_size, max_length, 1)\n",
        "    attention_weights = tf.nn.softmax(score, axis=1)\n",
        "\n",
        "    # context_vector shape after sum == (batch_size, hidden_size)\n",
        "    context_vector = attention_weights * values\n",
        "    context_vector = tf.reduce_sum(context_vector, axis=1)\n",
        "\n",
        "    return context_vector, attention_weights"
      ],
      "execution_count": 0,
      "outputs": []
    },
    {
      "cell_type": "code",
      "metadata": {
        "id": "KYkDe7z3l1jl",
        "colab_type": "code",
        "outputId": "f3a0d46f-c339-43d7-f725-9f9cbce1e638",
        "colab": {
          "base_uri": "https://localhost:8080/",
          "height": 51
        }
      },
      "source": [
        "attention_layer = BahdanauAttention(10)\n",
        "attention_result, attention_weights = attention_layer(sample_hidden, sample_output)\n",
        "\n",
        "print(\"Attention result shape: (batch size, units) {}\".format(attention_result.shape))\n",
        "print(\"Attention weights shape: (batch_size, sequence_length, 1) {}\".format(attention_weights.shape))"
      ],
      "execution_count": 29,
      "outputs": [
        {
          "output_type": "stream",
          "text": [
            "Attention result shape: (batch size, units) (24, 512)\n",
            "Attention weights shape: (batch_size, sequence_length, 1) (24, 94, 1)\n"
          ],
          "name": "stdout"
        }
      ]
    },
    {
      "cell_type": "code",
      "metadata": {
        "id": "H9a7Io4xl4_c",
        "colab_type": "code",
        "colab": {}
      },
      "source": [
        "# GRU decoder\n",
        "class Decoder(tf.keras.Model):\n",
        "  def __init__(self, vocab_size, embedding_dim, dec_units, batch_sz):\n",
        "    super(Decoder, self).__init__()\n",
        "    self.batch_sz = batch_sz\n",
        "    self.dec_units = dec_units\n",
        "    self.embedding = tf.keras.layers.Embedding(vocab_size, embedding_dim)\n",
        "    self.gru = tf.keras.layers.GRU(self.dec_units,\n",
        "                                   return_sequences=True,\n",
        "                                   return_state=True,\n",
        "                                   recurrent_initializer='glorot_uniform')\n",
        "    self.fc = tf.keras.layers.Dense(vocab_size)\n",
        "\n",
        "    # used for attention\n",
        "    self.attention = BahdanauAttention(self.dec_units)\n",
        "\n",
        "  def call(self, x, hidden, enc_output):\n",
        "    # enc_output shape == (batch_size, max_length, hidden_size)\n",
        "    context_vector, attention_weights = self.attention(hidden, enc_output)\n",
        "\n",
        "    # x shape after passing through embedding == (batch_size, 1, embedding_dim)\n",
        "    x = self.embedding(x)\n",
        "\n",
        "    # x shape after concatenation == (batch_size, 1, embedding_dim + hidden_size)\n",
        "    x = tf.concat([tf.expand_dims(context_vector, 1), x], axis=-1)\n",
        "\n",
        "    # passing the concatenated vector to the GRU\n",
        "    output, state = self.gru(x)\n",
        "\n",
        "    # output shape == (batch_size * 1, hidden_size)\n",
        "    output = tf.reshape(output, (-1, output.shape[2]))\n",
        "\n",
        "    # output shape == (batch_size, vocab)\n",
        "    x = self.fc(output)\n",
        "\n",
        "    return x, state, attention_weights"
      ],
      "execution_count": 0,
      "outputs": []
    },
    {
      "cell_type": "code",
      "metadata": {
        "id": "QCSYqltGmJFN",
        "colab_type": "code",
        "outputId": "69e5ffe0-d71a-44f9-f50b-05b286d917df",
        "colab": {
          "base_uri": "https://localhost:8080/",
          "height": 34
        }
      },
      "source": [
        "decoder = Decoder(vocab_tar_size, embedding_dim, units, BATCH_SIZE)\n",
        "\n",
        "sample_decoder_output, _, _ = decoder(tf.random.uniform((BATCH_SIZE, 1)),\n",
        "                                      sample_hidden, sample_output)\n",
        "\n",
        "print ('Decoder output shape: (batch_size, vocab size) {}'.format(sample_decoder_output.shape))"
      ],
      "execution_count": 31,
      "outputs": [
        {
          "output_type": "stream",
          "text": [
            "Decoder output shape: (batch_size, vocab size) (24, 16781)\n"
          ],
          "name": "stdout"
        }
      ]
    },
    {
      "cell_type": "code",
      "metadata": {
        "id": "lQ2LLlE_mXgL",
        "colab_type": "code",
        "colab": {}
      },
      "source": [
        "# Optimizer and loss function\n",
        "optimizer = tf.keras.optimizers.Adam()\n",
        "loss_object = tf.keras.losses.SparseCategoricalCrossentropy(\n",
        "    from_logits=True, reduction='none')\n",
        "\n",
        "def loss_function(real, pred):\n",
        "  mask = tf.math.logical_not(tf.math.equal(real, 0))\n",
        "  loss_ = loss_object(real, pred)\n",
        "\n",
        "  mask = tf.cast(mask, dtype=loss_.dtype)\n",
        "  loss_ *= mask\n",
        "\n",
        "  return tf.reduce_mean(loss_)"
      ],
      "execution_count": 0,
      "outputs": []
    },
    {
      "cell_type": "code",
      "metadata": {
        "id": "1T6Ilao2mxrA",
        "colab_type": "code",
        "colab": {}
      },
      "source": [
        "# checkpoints\n",
        "checkpoint_dir = './training_checkpoints'\n",
        "checkpoint_prefix = os.path.join(checkpoint_dir, \"ckpt\")\n",
        "checkpoint = tf.train.Checkpoint(optimizer=optimizer,\n",
        "                                 encoder=encoder,\n",
        "                                 decoder=decoder)"
      ],
      "execution_count": 0,
      "outputs": []
    },
    {
      "cell_type": "markdown",
      "metadata": {
        "id": "GlAJcH2Qns2r",
        "colab_type": "text"
      },
      "source": [
        "## Training"
      ]
    },
    {
      "cell_type": "code",
      "metadata": {
        "id": "11p8Pfd7nBCo",
        "colab_type": "code",
        "colab": {}
      },
      "source": [
        "# Training steps\n",
        "# 1. Pass the input through the encoder which return encoder output and the encoder hidden state.\n",
        "# 2. The encoder output, encoder hidden state and the decoder input (which is the start token) is passed to the decoder.\n",
        "# 3. The decoder returns the predictions and the decoder hidden state.\n",
        "# 4. The decoder hidden state is then passed back into the model and the predictions are used to calculate the loss.\n",
        "# 5. Use teacher forcing to decide the next input to the decoder.\n",
        "# 6. Teacher forcing is the technique where the target word is passed as the next input to the decoder.\n",
        "# 7. The final step is to calculate the gradients and apply it to the optimizer and backpropagate."
      ],
      "execution_count": 0,
      "outputs": []
    },
    {
      "cell_type": "code",
      "metadata": {
        "id": "GzRcZWwYnbdj",
        "colab_type": "code",
        "colab": {}
      },
      "source": [
        "@tf.function\n",
        "def train_step(inp, targ, enc_hidden):\n",
        "  loss = 0\n",
        "\n",
        "  with tf.GradientTape() as tape:\n",
        "    enc_output, enc_hidden = encoder(inp, enc_hidden)\n",
        "\n",
        "    dec_hidden = enc_hidden\n",
        "\n",
        "    dec_input = tf.expand_dims([targ_lang.word_index['<start>']] * BATCH_SIZE, 1)\n",
        "\n",
        "    # Teacher forcing - feeding the target as the next input\n",
        "    for t in range(1, targ.shape[1]):\n",
        "      # passing enc_output to the decoder\n",
        "      predictions, dec_hidden, _ = decoder(dec_input, dec_hidden, enc_output)\n",
        "\n",
        "      loss += loss_function(targ[:, t], predictions)\n",
        "\n",
        "      # using teacher forcing\n",
        "      dec_input = tf.expand_dims(targ[:, t], 1)\n",
        "\n",
        "  batch_loss = (loss / int(targ.shape[1]))\n",
        "\n",
        "  variables = encoder.trainable_variables + decoder.trainable_variables\n",
        "\n",
        "  gradients = tape.gradient(loss, variables)\n",
        "\n",
        "  optimizer.apply_gradients(zip(gradients, variables))\n",
        "\n",
        "  return batch_loss"
      ],
      "execution_count": 0,
      "outputs": []
    },
    {
      "cell_type": "code",
      "metadata": {
        "id": "FXBhE2r3niOs",
        "colab_type": "code",
        "outputId": "b577a5b0-e333-4f36-a936-21d3dd0e6081",
        "colab": {
          "base_uri": "https://localhost:8080/",
          "height": 1000
        }
      },
      "source": [
        "EPOCHS = 10\n",
        "\n",
        "for epoch in range(EPOCHS):\n",
        "  start = time.time()\n",
        "\n",
        "  enc_hidden = encoder.initialize_hidden_state()\n",
        "  total_loss = 0\n",
        "\n",
        "  for (batch, (inp, targ)) in enumerate(dataset.take(steps_per_epoch)):\n",
        "    batch_loss = train_step(inp, targ, enc_hidden)\n",
        "    total_loss += batch_loss\n",
        "\n",
        "    if batch % 100 == 0:\n",
        "      print('Epoch {} Batch {} Loss {:.4f}'.format(epoch + 1,\n",
        "                                                   batch,\n",
        "                                                   batch_loss.numpy()))\n",
        "  # saving (checkpoint) the model every 2 epochs\n",
        "  if (epoch + 1) % 2 == 0:\n",
        "    checkpoint.save(file_prefix = checkpoint_prefix)\n",
        "\n",
        "  print('Epoch {} Loss {:.4f}'.format(epoch + 1,\n",
        "                                      total_loss / steps_per_epoch))\n",
        "  print('Time taken for 1 epoch {} sec\\n'.format(time.time() - start))"
      ],
      "execution_count": 0,
      "outputs": [
        {
          "output_type": "stream",
          "text": [
            "Epoch 1 Batch 0 Loss 2.1737\n",
            "Epoch 1 Batch 100 Loss 1.4118\n",
            "Epoch 1 Batch 200 Loss 1.2433\n",
            "Epoch 1 Batch 300 Loss 1.0743\n",
            "Epoch 1 Batch 400 Loss 1.2302\n",
            "Epoch 1 Loss 1.3073\n",
            "Time taken for 1 epoch 278.2491250038147 sec\n",
            "\n",
            "Epoch 2 Batch 0 Loss 1.1065\n",
            "Epoch 2 Batch 100 Loss 1.1736\n",
            "Epoch 2 Batch 200 Loss 1.4891\n",
            "Epoch 2 Batch 300 Loss 1.2028\n",
            "Epoch 2 Batch 400 Loss 0.9736\n",
            "Epoch 2 Loss 1.1133\n",
            "Time taken for 1 epoch 157.77699995040894 sec\n",
            "\n",
            "Epoch 3 Batch 0 Loss 1.1558\n",
            "Epoch 3 Batch 100 Loss 1.0555\n",
            "Epoch 3 Batch 200 Loss 0.9161\n",
            "Epoch 3 Batch 300 Loss 1.0650\n",
            "Epoch 3 Batch 400 Loss 0.9764\n",
            "Epoch 3 Loss 1.0154\n",
            "Time taken for 1 epoch 156.28116106987 sec\n",
            "\n",
            "Epoch 4 Batch 0 Loss 1.0975\n",
            "Epoch 4 Batch 100 Loss 0.9382\n",
            "Epoch 4 Batch 200 Loss 0.7956\n",
            "Epoch 4 Batch 300 Loss 1.0140\n",
            "Epoch 4 Batch 400 Loss 0.9949\n",
            "Epoch 4 Loss 0.9619\n",
            "Time taken for 1 epoch 156.99899339675903 sec\n",
            "\n",
            "Epoch 5 Batch 0 Loss 0.8135\n",
            "Epoch 5 Batch 100 Loss 0.8581\n",
            "Epoch 5 Batch 200 Loss 0.9308\n",
            "Epoch 5 Batch 300 Loss 0.8936\n",
            "Epoch 5 Batch 400 Loss 0.9873\n",
            "Epoch 5 Loss 0.9203\n",
            "Time taken for 1 epoch 155.71992874145508 sec\n",
            "\n",
            "Epoch 6 Batch 0 Loss 0.9420\n",
            "Epoch 6 Batch 100 Loss 0.8989\n",
            "Epoch 6 Batch 200 Loss 0.7293\n",
            "Epoch 6 Batch 300 Loss 0.8089\n",
            "Epoch 6 Batch 400 Loss 0.9111\n",
            "Epoch 6 Loss 0.8848\n",
            "Time taken for 1 epoch 157.06845474243164 sec\n",
            "\n",
            "Epoch 7 Batch 0 Loss 0.8300\n",
            "Epoch 7 Batch 100 Loss 0.8012\n",
            "Epoch 7 Batch 200 Loss 0.8844\n",
            "Epoch 7 Batch 300 Loss 0.8029\n",
            "Epoch 7 Batch 400 Loss 0.9143\n",
            "Epoch 7 Loss 0.8574\n",
            "Time taken for 1 epoch 156.99375939369202 sec\n",
            "\n",
            "Epoch 8 Batch 0 Loss 0.8175\n",
            "Epoch 8 Batch 100 Loss 0.8100\n",
            "Epoch 8 Batch 200 Loss 0.7458\n",
            "Epoch 8 Batch 300 Loss 0.8109\n",
            "Epoch 8 Batch 400 Loss 0.8851\n",
            "Epoch 8 Loss 0.8356\n",
            "Time taken for 1 epoch 159.17632055282593 sec\n",
            "\n",
            "Epoch 9 Batch 0 Loss 0.8453\n",
            "Epoch 9 Batch 100 Loss 0.8435\n",
            "Epoch 9 Batch 200 Loss 0.7454\n",
            "Epoch 9 Batch 300 Loss 0.9265\n",
            "Epoch 9 Batch 400 Loss 0.8038\n",
            "Epoch 9 Loss 0.8176\n",
            "Time taken for 1 epoch 157.93453001976013 sec\n",
            "\n",
            "Epoch 10 Batch 0 Loss 0.7767\n",
            "Epoch 10 Batch 100 Loss 0.7473\n",
            "Epoch 10 Batch 200 Loss 0.7602\n",
            "Epoch 10 Batch 300 Loss 0.8505\n",
            "Epoch 10 Batch 400 Loss 0.7664\n",
            "Epoch 10 Loss 0.8019\n",
            "Time taken for 1 epoch 159.19420766830444 sec\n",
            "\n"
          ],
          "name": "stdout"
        }
      ]
    },
    {
      "cell_type": "code",
      "metadata": {
        "id": "eqCEMpma7s-X",
        "colab_type": "code",
        "colab": {}
      },
      "source": [
        "def evaluate(sentence):\n",
        "  attention_plot = np.zeros((max_length_targ, max_length_inp))\n",
        "\n",
        "  sentence = preprocess_sentence(sentence)\n",
        "\n",
        "  # if input word not in input vocab, output random input word\n",
        "  inputs = [inp_lang.word_index[i] if i in inp_lang.word_index else np.random.randint(low=0, high=len(inp_lang.word_index), size=1) for i in sentence.split(' ')]\n",
        "  inputs = tf.keras.preprocessing.sequence.pad_sequences([inputs],\n",
        "                                                         maxlen=max_length_inp,\n",
        "                                                         padding='post')\n",
        "  inputs = tf.convert_to_tensor(inputs)\n",
        "\n",
        "  result = ''\n",
        "\n",
        "  hidden = [tf.zeros((1, units))]\n",
        "  enc_out, enc_hidden = encoder(inputs, hidden)\n",
        "\n",
        "  dec_hidden = enc_hidden\n",
        "  dec_input = tf.expand_dims([targ_lang.word_index['<start>']], 0)\n",
        "\n",
        "  for t in range(max_length_targ):\n",
        "    predictions, dec_hidden, attention_weights = decoder(dec_input,\n",
        "                                                         dec_hidden,\n",
        "                                                         enc_out)\n",
        "\n",
        "    # storing the attention weights to plot later on\n",
        "    attention_weights = tf.reshape(attention_weights, (-1, ))\n",
        "    attention_plot[t] = attention_weights.numpy()\n",
        "\n",
        "    predicted_id = tf.argmax(predictions[0]).numpy()\n",
        "    #print(predicted_id)\n",
        "\n",
        "    result += targ_lang.index_word[predicted_id] + ' '\n",
        "\n",
        "    if targ_lang.index_word[predicted_id] == '<end>':\n",
        "      return result, sentence, attention_plot\n",
        "\n",
        "    # the predicted ID is fed back into the model\n",
        "    dec_input = tf.expand_dims([predicted_id], 0)\n",
        "\n",
        "  return result, sentence, attention_plot"
      ],
      "execution_count": 0,
      "outputs": []
    },
    {
      "cell_type": "code",
      "metadata": {
        "id": "sz6_ol99J-6T",
        "colab_type": "code",
        "colab": {}
      },
      "source": [
        "# function for plotting the attention weights\n",
        "def plot_attention(attention, sentence, predicted_sentence):\n",
        "  fig = plt.figure(figsize=(10,10))\n",
        "  ax = fig.add_subplot(1, 1, 1)\n",
        "  ax.matshow(attention, cmap='viridis')\n",
        "\n",
        "  fontdict = {'fontsize': 14}\n",
        "\n",
        "  ax.set_xticklabels([''] + sentence, fontdict=fontdict, rotation=90)\n",
        "  ax.set_yticklabels([''] + predicted_sentence, fontdict=fontdict)\n",
        "\n",
        "  ax.xaxis.set_major_locator(ticker.MultipleLocator(1))\n",
        "  ax.yaxis.set_major_locator(ticker.MultipleLocator(1))\n",
        "\n",
        "  plt.show()"
      ],
      "execution_count": 0,
      "outputs": []
    },
    {
      "cell_type": "code",
      "metadata": {
        "id": "560kroWtKCOn",
        "colab_type": "code",
        "colab": {}
      },
      "source": [
        "def translate(sentence):\n",
        "  result, sentence, attention_plot = evaluate(sentence)\n",
        "\n",
        "  print('Input: %s' % (sentence))\n",
        "  print('Predicted translation: {}'.format(result))\n",
        "  print(f\"length of the predicted translation : {len(result.split(' '))}\")\n",
        "\n",
        "  attention_plot = attention_plot[:len(result.split(' ')), :len(sentence.split(' '))]\n",
        "  plot_attention(attention_plot, sentence.split(' '), result.split(' '))"
      ],
      "execution_count": 0,
      "outputs": []
    },
    {
      "cell_type": "code",
      "metadata": {
        "id": "tECI2njjKEYN",
        "colab_type": "code",
        "outputId": "67c187a6-d07a-4f17-c5f7-dac5c7316166",
        "colab": {
          "base_uri": "https://localhost:8080/",
          "height": 34
        }
      },
      "source": [
        "checkpoint.restore(tf.train.latest_checkpoint(checkpoint_dir))"
      ],
      "execution_count": 39,
      "outputs": [
        {
          "output_type": "execute_result",
          "data": {
            "text/plain": [
              "<tensorflow.python.training.tracking.util.CheckpointLoadStatus at 0x7fda68363278>"
            ]
          },
          "metadata": {
            "tags": []
          },
          "execution_count": 39
        }
      ]
    },
    {
      "cell_type": "code",
      "metadata": {
        "id": "emW9iIawKJpp",
        "colab_type": "code",
        "outputId": "44253418-a7ab-4ed5-bb70-cd881723922b",
        "colab": {
          "base_uri": "https://localhost:8080/",
          "height": 1000
        }
      },
      "source": [
        "# last sentence of validation\n",
        "print (\"Input Language; index to word mapping\")\n",
        "convert(inp_lang, input_tensor_val[-1])\n",
        "print ()\n",
        "print (\"Target Language; index to word mapping\")\n",
        "convert(targ_lang, target_tensor_val[-1])"
      ],
      "execution_count": 40,
      "outputs": [
        {
          "output_type": "stream",
          "text": [
            "Input Language; index to word mapping\n",
            "2 ----> <start>\n",
            "71 ----> europe\n",
            "9 ----> is\n",
            "30 ----> at\n",
            "8 ----> a\n",
            "6938 ----> crossroads\n",
            "100 ----> just\n",
            "24 ----> as\n",
            "12 ----> it\n",
            "35 ----> was\n",
            "168 ----> after\n",
            "1 ----> the\n",
            "307 ----> second\n",
            "108 ----> world\n",
            "351 ----> war\n",
            "28 ----> which\n",
            "2874 ----> resulted\n",
            "7 ----> in\n",
            "1 ----> the\n",
            "1629 ----> birth\n",
            "4 ----> of\n",
            "41 ----> what\n",
            "35 ----> was\n",
            "19 ----> not\n",
            "135 ----> then\n",
            "846 ----> known\n",
            "24 ----> as\n",
            "1 ----> the\n",
            "31 ----> european\n",
            "66 ----> union\n",
            "3 ----> <end>\n",
            "\n",
            "Target Language; index to word mapping\n",
            "2 ----> <start>\n",
            "7 ----> l\n",
            "83 ----> europe\n",
            "45 ----> se\n",
            "473 ----> trouve\n",
            "11 ----> à\n",
            "369 ----> moment\n",
            "3732 ----> décisif\n",
            "4 ----> de\n",
            "69 ----> son\n",
            "520 ----> histoire\n",
            "5 ----> ,\n",
            "57 ----> tout\n",
            "56 ----> comme\n",
            "50 ----> elle\n",
            "7 ----> l\n",
            "93 ----> était\n",
            "11 ----> à\n",
            "6 ----> la\n",
            "311 ----> fin\n",
            "4 ----> de\n",
            "6 ----> la\n",
            "1494 ----> seconde\n",
            "363 ----> guerre\n",
            "355 ----> mondiale\n",
            "5 ----> ,\n",
            "510 ----> lorsqu\n",
            "16 ----> est\n",
            "4527 ----> née\n",
            "7 ----> l\n",
            "2150 ----> association\n",
            "3436 ----> connue\n",
            "99 ----> aujourd\n",
            "100 ----> hui\n",
            "222 ----> sous\n",
            "8 ----> le\n",
            "305 ----> nom\n",
            "14 ----> d\n",
            "65 ----> union\n",
            "61 ----> européenne\n",
            "1 ----> .\n",
            "3 ----> <end>\n"
          ],
          "name": "stdout"
        }
      ]
    },
    {
      "cell_type": "code",
      "metadata": {
        "id": "T63OaST7KsS0",
        "colab_type": "code",
        "outputId": "eff2f873-6e06-4c5e-970c-d82eabf3997c",
        "colab": {
          "base_uri": "https://localhost:8080/",
          "height": 268
        }
      },
      "source": [
        "# trying to predict last sentence of validation set\n",
        "translate(f\"europe is at a crossroad just as it was after the second world war which resulted in the birth of what was not then known as the european union\")"
      ],
      "execution_count": 41,
      "outputs": [
        {
          "output_type": "stream",
          "text": [
            "Input: <start> europe is at a crossroad just as it was after the second world war which resulted in the birth of what was not then known as the european union <end>\n",
            "Predicted translation: l union européenne . <end> \n",
            "length of the predicted translation : 6\n"
          ],
          "name": "stdout"
        },
        {
          "output_type": "display_data",
          "data": {
            "image/png": "[encoded data removed]",
            "text/plain": [
              "<Figure size 720x720 with 1 Axes>"
            ]
          },
          "metadata": {
            "tags": []
          }
        }
      ]
    },
    {
      "cell_type": "code",
      "metadata": {
        "id": "72qlVD1fOR_0",
        "colab_type": "code",
        "outputId": "ebb15a5c-9eb4-4f04-9074-a9c0f48b2a5c",
        "colab": {
          "base_uri": "https://localhost:8080/",
          "height": 629
        }
      },
      "source": [
        "# predicting another sentence of validation set\n",
        "print (\"Input Language; index to word mapping\")\n",
        "convert(inp_lang, input_tensor_val[3])\n",
        "print ()\n",
        "print (\"Target Language; index to word mapping\")\n",
        "convert(targ_lang, target_tensor_val[3])"
      ],
      "execution_count": 42,
      "outputs": [
        {
          "output_type": "stream",
          "text": [
            "Input Language; index to word mapping\n",
            "2 ----> <start>\n",
            "11 ----> i\n",
            "188 ----> m\n",
            "19 ----> not\n",
            "1 ----> the\n",
            "80 ----> only\n",
            "52 ----> one\n",
            "77 ----> who\n",
            "21 ----> s\n",
            "3789 ----> obsessed\n",
            "23 ----> with\n",
            "14 ----> this\n",
            "275 ----> whole\n",
            "159 ----> year\n",
            "306 ----> thing\n",
            "3 ----> <end>\n",
            "\n",
            "Target Language; index to word mapping\n",
            "2 ----> <start>\n",
            "23 ----> je\n",
            "29 ----> ne\n",
            "95 ----> suis\n",
            "28 ----> pas\n",
            "6 ----> la\n",
            "334 ----> seule\n",
            "11 ----> à\n",
            "42 ----> être\n",
            "15078 ----> obsédée\n",
            "33 ----> par\n",
            "37 ----> cette\n",
            "755 ----> affaire\n",
            "12 ----> des\n",
            "165 ----> ans\n",
            "1 ----> .\n",
            "3 ----> <end>\n"
          ],
          "name": "stdout"
        }
      ]
    },
    {
      "cell_type": "code",
      "metadata": {
        "id": "gl_7oMhUbxSp",
        "colab_type": "code",
        "outputId": "72d2dae7-8a56-447e-bf42-804b35c69992",
        "colab": {
          "base_uri": "https://localhost:8080/",
          "height": 724
        }
      },
      "source": [
        "# Here we see some not so good behavior of the model, the lenght of the predicted translation is 114 because its max lenght is 113 and the model adds a space afterwards\n",
        "translate(f\"i'm not the only one who's obsessed with this whole year thing\")"
      ],
      "execution_count": 43,
      "outputs": [
        {
          "output_type": "stream",
          "text": [
            "Input: <start> i m not the only one who s obsessed with this whole year thing <end>\n",
            "Predicted translation: je voudrais dire que nous avons pas de la commission , mais je voudrais dire que nous avons pas de la commission , mais je voudrais dire que nous avons pas de la commission , mais je voudrais dire que nous avons pas de la commission , mais je voudrais dire que nous avons pas de la commission , mais je voudrais dire que nous avons pas de la commission , mais je voudrais dire que nous avons pas de la commission , mais je voudrais dire que nous avons pas de la commission , mais je voudrais dire que nous avons pas de la commission , mais je voudrais dire que nous \n",
            "length of the predicted translation : 114\n"
          ],
          "name": "stdout"
        },
        {
          "output_type": "display_data",
          "data": {
            "image/png": "[encoded data removed]",
            "text/plain": [
              "<Figure size 720x720 with 1 Axes>"
            ]
          },
          "metadata": {
            "tags": []
          }
        }
      ]
    },
    {
      "cell_type": "code",
      "metadata": {
        "id": "-KcIheS9OXu6",
        "colab_type": "code",
        "outputId": "174d4548-5439-4f32-f889-fb8545fa62da",
        "colab": {
          "base_uri": "https://localhost:8080/",
          "height": 221
        }
      },
      "source": [
        "print (\"Input Language; index to word mapping\")\n",
        "convert(inp_lang, input_tensor_val[1])"
      ],
      "execution_count": 0,
      "outputs": [
        {
          "output_type": "stream",
          "text": [
            "Input Language; index to word mapping\n",
            "2 ----> <start>\n",
            "25 ----> will\n",
            "63 ----> he\n",
            "1949 ----> pass\n",
            "1 ----> the\n",
            "3402 ----> examination\n",
            "11 ----> i\n",
            "102 ----> am\n",
            "1220 ----> afraid\n",
            "19 ----> not\n",
            "3 ----> <end>\n"
          ],
          "name": "stdout"
        }
      ]
    },
    {
      "cell_type": "code",
      "metadata": {
        "id": "RzI9rNvd2vgo",
        "colab_type": "code",
        "outputId": "224c8a53-fbfa-470d-f232-bf064f91efc6",
        "colab": {
          "base_uri": "https://localhost:8080/",
          "height": 723
        }
      },
      "source": [
        "translate(f\"will he pass the examination i am afraid not\")"
      ],
      "execution_count": 0,
      "outputs": [
        {
          "output_type": "stream",
          "text": [
            "Input: <start> will he pass the examination i am afraid not <end>\n",
            "Predicted translation: il est pas de la commission , et les états membres . <end> \n",
            "length of the predicted translation : 14\n"
          ],
          "name": "stdout"
        },
        {
          "output_type": "display_data",
          "data": {
            "image/png": "[encoded data removed]",
            "text/plain": [
              "<Figure size 720x720 with 1 Axes>"
            ]
          },
          "metadata": {
            "tags": []
          }
        }
      ]
    },
    {
      "cell_type": "markdown",
      "metadata": {
        "id": "QzNBPtbDY_Sq",
        "colab_type": "text"
      },
      "source": [
        "## Models with pre-trained word2vec embeddings"
      ]
    },
    {
      "cell_type": "markdown",
      "metadata": {
        "id": "INcNRt0vo8f0",
        "colab_type": "text"
      },
      "source": [
        "Please refer to the word_embeddings.ipynb for the code. Note that two word2vec models were trained. One where each sentence doesn't have a start and end tag and one where each sentence does."
      ]
    },
    {
      "cell_type": "markdown",
      "metadata": {
        "id": "cC8YlDyS2gSC",
        "colab_type": "text"
      },
      "source": [
        "### pre-trained word2vec embeddings (no start and end token)"
      ]
    },
    {
      "cell_type": "code",
      "metadata": {
        "id": "uVX9i0lgLAEA",
        "colab_type": "code",
        "outputId": "2911e896-1346-41b3-f4ba-f4fecf739a9e",
        "colab": {
          "base_uri": "https://localhost:8080/",
          "height": 71
        }
      },
      "source": [
        "# loading word2vec embeddings\n",
        "from gensim.models import KeyedVectors\n",
        "# model without tag\n",
        "w2v_english = KeyedVectors.load('data/wordvectors')\n",
        "w2v_french = KeyedVectors.load('data/french_wordvectors')"
      ],
      "execution_count": 51,
      "outputs": [
        {
          "output_type": "stream",
          "text": [
            "/usr/local/lib/python3.6/dist-packages/smart_open/smart_open_lib.py:410: UserWarning: This function is deprecated, use smart_open.open instead. See the migration notes for details: https://github.com/RaRe-Technologies/smart_open/blob/master/README.rst#migrating-to-the-new-open-function\n",
            "  'See the migration notes for details: %s' % _MIGRATION_NOTES_URL\n"
          ],
          "name": "stderr"
        }
      ]
    },
    {
      "cell_type": "code",
      "metadata": {
        "id": "dAvSmJURLVgH",
        "colab_type": "code",
        "colab": {}
      },
      "source": [
        "# embedding matrix\n",
        "def create_embedding_matrix(inp_lang, embedding_dim, embedding_model):\n",
        "  print('Preparing embedding matrix')\n",
        "  oov = 0\n",
        "  oov_words = []\n",
        "  vocab_size = len(inp_lang.word_index) + 1\n",
        "  word_index = inp_lang.word_index\n",
        "  embedding_matrix = np.zeros((vocab_size, embedding_dim))\n",
        "  for word, i in word_index.items():\n",
        "    if word not in embedding_model:\n",
        "      # we can investigate the oov words\n",
        "      oov_words.append(word)\n",
        "      oov += 1\n",
        "      # words not found in embedding_model will all be set to 0\n",
        "      embedding_vector = np.zeros((100,))\n",
        "    else:\n",
        "      embedding_vector = embedding_model.get_vector(word)\n",
        "    embedding_matrix[i] = embedding_vector\n",
        "  print(f\"Found {oov} out-of-vocabulary words (not present in the embedding model)\")\n",
        "  return embedding_matrix"
      ],
      "execution_count": 0,
      "outputs": []
    },
    {
      "cell_type": "code",
      "metadata": {
        "id": "Rv0dyVd42tes",
        "colab_type": "code",
        "colab": {
          "base_uri": "https://localhost:8080/",
          "height": 51
        },
        "outputId": "a808bba0-dd46-4e80-c3f2-1563b4438445"
      },
      "source": [
        "embedding_matrix = create_embedding_matrix(inp_lang, embedding_dim=100, embedding_model=w2v_english)"
      ],
      "execution_count": 28,
      "outputs": [
        {
          "output_type": "stream",
          "text": [
            "Preparing embedding matrix\n",
            "Found 435 out-of-vocabulary words (not present in the embedding model)\n"
          ],
          "name": "stdout"
        }
      ]
    },
    {
      "cell_type": "code",
      "metadata": {
        "id": "je0xEPwRY9r1",
        "colab_type": "code",
        "outputId": "c07cb5c9-1498-4f8d-e466-0cf0f66d2637",
        "colab": {
          "base_uri": "https://localhost:8080/",
          "height": 34
        }
      },
      "source": [
        "print(np.shape(embedding_matrix))"
      ],
      "execution_count": 29,
      "outputs": [
        {
          "output_type": "stream",
          "text": [
            "(13240, 100)\n"
          ],
          "name": "stdout"
        }
      ]
    },
    {
      "cell_type": "code",
      "metadata": {
        "id": "CWA3Slhm8-CC",
        "colab_type": "code",
        "colab": {
          "base_uri": "https://localhost:8080/",
          "height": 51
        },
        "outputId": "8b5b07ab-686a-4d69-d203-8f2771ce578d"
      },
      "source": [
        "french_embedding_matrix = create_embedding_matrix(targ_lang, embedding_dim=100, embedding_model=w2v_french)"
      ],
      "execution_count": 52,
      "outputs": [
        {
          "output_type": "stream",
          "text": [
            "Preparing embedding matrix\n",
            "Found 668 out-of-vocabulary words (not present in the embedding model)\n"
          ],
          "name": "stdout"
        }
      ]
    },
    {
      "cell_type": "code",
      "metadata": {
        "id": "Ika30Eba9Ip9",
        "colab_type": "code",
        "colab": {
          "base_uri": "https://localhost:8080/",
          "height": 34
        },
        "outputId": "08fdec99-6e75-4471-a254-90a4f35b6fd0"
      },
      "source": [
        "print(np.shape(french_embedding_matrix))"
      ],
      "execution_count": 53,
      "outputs": [
        {
          "output_type": "stream",
          "text": [
            "(16781, 100)\n"
          ],
          "name": "stdout"
        }
      ]
    },
    {
      "cell_type": "code",
      "metadata": {
        "id": "sFrZwxZZC65T",
        "colab_type": "code",
        "colab": {}
      },
      "source": [
        "# Encoder with GRU gates and pre-trained embedding with word2vec without start and end token\n",
        "class Encoder(tf.keras.Model):\n",
        "  def __init__(self, vocab_size, embedding_dim, enc_units, batch_sz, embedding_matrix):\n",
        "    super(Encoder, self).__init__()\n",
        "    self.batch_sz = batch_sz\n",
        "    self.enc_units = enc_units\n",
        "    # could modify the embeddings for pre-trained embeddings\n",
        "    self.embedding = tf.keras.layers.Embedding(input_dim=vocab_size, output_dim=embedding_dim, weights=[embedding_matrix], trainable=False)\n",
        "    self.gru = tf.keras.layers.GRU(self.enc_units,\n",
        "                                   return_sequences=True,\n",
        "                                   return_state=True,\n",
        "                                   recurrent_initializer='glorot_uniform')\n",
        "\n",
        "  def call(self, x, hidden):\n",
        "    x = self.embedding(x)\n",
        "    output, state = self.gru(x, initial_state = hidden)\n",
        "    return output, state\n",
        "\n",
        "  def initialize_hidden_state(self):\n",
        "    return tf.zeros((self.batch_sz, self.enc_units))"
      ],
      "execution_count": 0,
      "outputs": []
    },
    {
      "cell_type": "code",
      "metadata": {
        "id": "kQoSMsvREWBE",
        "colab_type": "code",
        "outputId": "3f56aac4-133c-4e7a-edad-f95cf5217487",
        "colab": {
          "base_uri": "https://localhost:8080/",
          "height": 51
        }
      },
      "source": [
        "# specify the embedding dim to be equal to the embedding dim chosen for word embeddings\n",
        "embedding_dim = 100\n",
        "vocab_inp_size = len(inp_lang.word_index)+1\n",
        "encoder = Encoder(vocab_inp_size, embedding_dim, units, BATCH_SIZE, embedding_matrix)\n",
        "\n",
        "# sample input\n",
        "sample_hidden = encoder.initialize_hidden_state()\n",
        "sample_output, sample_hidden = encoder(example_input_batch, sample_hidden)\n",
        "print ('Encoder output shape: (batch size, sequence length, units) {}'.format(sample_output.shape))\n",
        "print ('Encoder Hidden state shape: (batch size, units) {}'.format(sample_hidden.shape))"
      ],
      "execution_count": 35,
      "outputs": [
        {
          "output_type": "stream",
          "text": [
            "Encoder output shape: (batch size, sequence length, units) (24, 94, 512)\n",
            "Encoder Hidden state shape: (batch size, units) (24, 512)\n"
          ],
          "name": "stdout"
        }
      ]
    },
    {
      "cell_type": "code",
      "metadata": {
        "id": "Hotv5Zf2E-e4",
        "colab_type": "code",
        "outputId": "c6988ca2-c76b-47a0-9400-816492cbfaa3",
        "colab": {
          "base_uri": "https://localhost:8080/",
          "height": 51
        }
      },
      "source": [
        "attention_layer = BahdanauAttention(10)\n",
        "attention_result, attention_weights = attention_layer(sample_hidden, sample_output)\n",
        "\n",
        "print(\"Attention result shape: (batch size, units) {}\".format(attention_result.shape))\n",
        "print(\"Attention weights shape: (batch_size, sequence_length, 1) {}\".format(attention_weights.shape))"
      ],
      "execution_count": 40,
      "outputs": [
        {
          "output_type": "stream",
          "text": [
            "Attention result shape: (batch size, units) (24, 512)\n",
            "Attention weights shape: (batch_size, sequence_length, 1) (24, 94, 1)\n"
          ],
          "name": "stdout"
        }
      ]
    },
    {
      "cell_type": "code",
      "metadata": {
        "id": "r3uMEsQZ9ZkF",
        "colab_type": "code",
        "colab": {}
      },
      "source": [
        "# GRU decoder\n",
        "class Decoder(tf.keras.Model):\n",
        "  def __init__(self, vocab_size, embedding_dim, dec_units, batch_sz):\n",
        "    super(Decoder, self).__init__()\n",
        "    self.batch_sz = batch_sz\n",
        "    self.dec_units = dec_units\n",
        "    # Here we specify the pre-trained embeddings\n",
        "    self.embedding = tf.keras.layers.Embedding(vocab_size, embedding_dim, weights=[french_embedding_matrix], trainable=False)\n",
        "    self.gru = tf.keras.layers.GRU(self.dec_units,\n",
        "                                   return_sequences=True,\n",
        "                                   return_state=True,\n",
        "                                   recurrent_initializer='glorot_uniform')\n",
        "    self.fc = tf.keras.layers.Dense(vocab_size)\n",
        "\n",
        "    # used for attention\n",
        "    self.attention = BahdanauAttention(self.dec_units)\n",
        "\n",
        "  def call(self, x, hidden, enc_output):\n",
        "    # enc_output shape == (batch_size, max_length, hidden_size)\n",
        "    context_vector, attention_weights = self.attention(hidden, enc_output)\n",
        "\n",
        "    # x shape after passing through embedding == (batch_size, 1, embedding_dim)\n",
        "    x = self.embedding(x)\n",
        "\n",
        "    # x shape after concatenation == (batch_size, 1, embedding_dim + hidden_size)\n",
        "    x = tf.concat([tf.expand_dims(context_vector, 1), x], axis=-1)\n",
        "\n",
        "    # passing the concatenated vector to the GRU\n",
        "    output, state = self.gru(x)\n",
        "\n",
        "    # output shape == (batch_size * 1, hidden_size)\n",
        "    output = tf.reshape(output, (-1, output.shape[2]))\n",
        "\n",
        "    # output shape == (batch_size, vocab)\n",
        "    x = self.fc(output)\n",
        "\n",
        "    return x, state, attention_weights"
      ],
      "execution_count": 0,
      "outputs": []
    },
    {
      "cell_type": "code",
      "metadata": {
        "id": "WDy5m9utHn7i",
        "colab_type": "code",
        "outputId": "c5e47271-1057-469f-bcdc-a85ba7c62e03",
        "colab": {
          "base_uri": "https://localhost:8080/",
          "height": 34
        }
      },
      "source": [
        "decoder = Decoder(vocab_tar_size, embedding_dim, units, BATCH_SIZE)\n",
        "\n",
        "sample_decoder_output, _, _ = decoder(tf.random.uniform((BATCH_SIZE, 1)),\n",
        "                                      sample_hidden, sample_output)\n",
        "\n",
        "print ('Decoder output shape: (batch_size, vocab size) {}'.format(sample_decoder_output.shape))"
      ],
      "execution_count": 56,
      "outputs": [
        {
          "output_type": "stream",
          "text": [
            "Decoder output shape: (batch_size, vocab size) (24, 16781)\n"
          ],
          "name": "stdout"
        }
      ]
    },
    {
      "cell_type": "code",
      "metadata": {
        "id": "j8xzLjHNIPv6",
        "colab_type": "code",
        "colab": {}
      },
      "source": [
        "# Optimizer and loss function\n",
        "optimizer = tf.keras.optimizers.Adam()\n",
        "loss_object = tf.keras.losses.SparseCategoricalCrossentropy(\n",
        "    from_logits=True, reduction='none')"
      ],
      "execution_count": 0,
      "outputs": []
    },
    {
      "cell_type": "code",
      "metadata": {
        "id": "Ny-Nere0IWRc",
        "colab_type": "code",
        "colab": {}
      },
      "source": [
        "# checkpoints do not want to override previous model\n",
        "checkpoint_dir_w2v = './training_checkpoints_word2vec'\n",
        "checkpoint_prefix = os.path.join(checkpoint_dir_w2v, \"ckpt\")\n",
        "checkpoint = tf.train.Checkpoint(optimizer=optimizer,\n",
        "                                 encoder=encoder,\n",
        "                                 decoder=decoder)"
      ],
      "execution_count": 0,
      "outputs": []
    },
    {
      "cell_type": "code",
      "metadata": {
        "id": "auZtmUbw92Jh",
        "colab_type": "code",
        "colab": {}
      },
      "source": [
        "@tf.function\n",
        "def train_step(inp, targ, enc_hidden):\n",
        "  loss = 0\n",
        "\n",
        "  with tf.GradientTape() as tape:\n",
        "    enc_output, enc_hidden = encoder(inp, enc_hidden)\n",
        "\n",
        "    dec_hidden = enc_hidden\n",
        "\n",
        "    dec_input = tf.expand_dims([targ_lang.word_index['<start>']] * BATCH_SIZE, 1)\n",
        "\n",
        "    # Teacher forcing - feeding the target as the next input\n",
        "    for t in range(1, targ.shape[1]):\n",
        "      # passing enc_output to the decoder\n",
        "      predictions, dec_hidden, _ = decoder(dec_input, dec_hidden, enc_output)\n",
        "\n",
        "      loss += loss_function(targ[:, t], predictions)\n",
        "\n",
        "      # using teacher forcing\n",
        "      dec_input = tf.expand_dims(targ[:, t], 1)\n",
        "\n",
        "  batch_loss = (loss / int(targ.shape[1]))\n",
        "\n",
        "  variables = encoder.trainable_variables + decoder.trainable_variables\n",
        "\n",
        "  gradients = tape.gradient(loss, variables)\n",
        "\n",
        "  optimizer.apply_gradients(zip(gradients, variables))\n",
        "\n",
        "  return batch_loss"
      ],
      "execution_count": 0,
      "outputs": []
    },
    {
      "cell_type": "code",
      "metadata": {
        "id": "f6wVw0dRIhMj",
        "colab_type": "code",
        "outputId": "07d8e72f-aa8d-4382-e95e-a982ffa99d0e",
        "colab": {
          "base_uri": "https://localhost:8080/",
          "height": 1000
        }
      },
      "source": [
        "EPOCHS = 10\n",
        "\n",
        "for epoch in range(EPOCHS):\n",
        "  start = time.time()\n",
        "\n",
        "  enc_hidden = encoder.initialize_hidden_state()\n",
        "  total_loss = 0\n",
        "\n",
        "  for (batch, (inp, targ)) in enumerate(dataset.take(steps_per_epoch)):\n",
        "    batch_loss = train_step(inp, targ, enc_hidden)\n",
        "    total_loss += batch_loss\n",
        "\n",
        "    if batch % 100 == 0:\n",
        "      print('Epoch {} Batch {} Loss {:.4f}'.format(epoch + 1,\n",
        "                                                   batch,\n",
        "                                                   batch_loss.numpy()))\n",
        "  # saving (checkpoint) the model every 2 epochs\n",
        "  if (epoch + 1) % 2 == 0:\n",
        "    checkpoint.save(file_prefix = checkpoint_prefix)\n",
        "\n",
        "  print('Epoch {} Loss {:.4f}'.format(epoch + 1,\n",
        "                                      total_loss / steps_per_epoch))\n",
        "  print('Time taken for 1 epoch {} sec\\n'.format(time.time() - start))"
      ],
      "execution_count": 61,
      "outputs": [
        {
          "output_type": "stream",
          "text": [
            "Epoch 1 Batch 0 Loss 1.7494\n",
            "Epoch 1 Batch 100 Loss 1.2133\n",
            "Epoch 1 Batch 200 Loss 0.8494\n",
            "Epoch 1 Batch 300 Loss 1.1852\n",
            "Epoch 1 Batch 400 Loss 0.8876\n",
            "Epoch 1 Loss 1.1691\n",
            "Time taken for 1 epoch 259.0653929710388 sec\n",
            "\n",
            "Epoch 2 Batch 0 Loss 0.9291\n",
            "Epoch 2 Batch 100 Loss 0.9233\n",
            "Epoch 2 Batch 200 Loss 0.9167\n",
            "Epoch 2 Batch 300 Loss 1.0230\n",
            "Epoch 2 Batch 400 Loss 0.9295\n",
            "Epoch 2 Loss 0.9484\n",
            "Time taken for 1 epoch 139.60873818397522 sec\n",
            "\n",
            "Epoch 3 Batch 0 Loss 0.6911\n",
            "Epoch 3 Batch 100 Loss 0.9318\n",
            "Epoch 3 Batch 200 Loss 1.0349\n",
            "Epoch 3 Batch 300 Loss 1.0104\n",
            "Epoch 3 Batch 400 Loss 0.7851\n",
            "Epoch 3 Loss 0.8492\n",
            "Time taken for 1 epoch 139.2361297607422 sec\n",
            "\n",
            "Epoch 4 Batch 0 Loss 0.5827\n",
            "Epoch 4 Batch 100 Loss 0.7439\n",
            "Epoch 4 Batch 200 Loss 0.7491\n",
            "Epoch 4 Batch 300 Loss 0.7972\n",
            "Epoch 4 Batch 400 Loss 0.9051\n",
            "Epoch 4 Loss 0.7623\n",
            "Time taken for 1 epoch 140.0453760623932 sec\n",
            "\n",
            "Epoch 5 Batch 0 Loss 0.7580\n",
            "Epoch 5 Batch 100 Loss 0.7179\n",
            "Epoch 5 Batch 200 Loss 0.5218\n",
            "Epoch 5 Batch 300 Loss 0.8019\n",
            "Epoch 5 Batch 400 Loss 0.6260\n",
            "Epoch 5 Loss 0.6809\n",
            "Time taken for 1 epoch 139.01913738250732 sec\n",
            "\n",
            "Epoch 6 Batch 0 Loss 0.5240\n",
            "Epoch 6 Batch 100 Loss 0.8011\n",
            "Epoch 6 Batch 200 Loss 0.5327\n",
            "Epoch 6 Batch 300 Loss 0.6635\n",
            "Epoch 6 Batch 400 Loss 0.5765\n",
            "Epoch 6 Loss 0.6158\n",
            "Time taken for 1 epoch 139.87640690803528 sec\n",
            "\n",
            "Epoch 7 Batch 0 Loss 0.5402\n",
            "Epoch 7 Batch 100 Loss 0.5268\n",
            "Epoch 7 Batch 200 Loss 0.6613\n",
            "Epoch 7 Batch 300 Loss 0.5504\n",
            "Epoch 7 Batch 400 Loss 0.6134\n",
            "Epoch 7 Loss 0.5445\n",
            "Time taken for 1 epoch 139.08675694465637 sec\n",
            "\n",
            "Epoch 8 Batch 0 Loss 0.4966\n",
            "Epoch 8 Batch 100 Loss 0.4884\n",
            "Epoch 8 Batch 200 Loss 0.5556\n",
            "Epoch 8 Batch 300 Loss 0.4738\n",
            "Epoch 8 Batch 400 Loss 0.4815\n",
            "Epoch 8 Loss 0.4919\n",
            "Time taken for 1 epoch 140.27177834510803 sec\n",
            "\n",
            "Epoch 9 Batch 0 Loss 0.3929\n",
            "Epoch 9 Batch 100 Loss 0.4362\n",
            "Epoch 9 Batch 200 Loss 0.4489\n",
            "Epoch 9 Batch 300 Loss 0.4015\n",
            "Epoch 9 Batch 400 Loss 0.5141\n",
            "Epoch 9 Loss 0.4427\n",
            "Time taken for 1 epoch 139.00533437728882 sec\n",
            "\n",
            "Epoch 10 Batch 0 Loss 0.3695\n",
            "Epoch 10 Batch 100 Loss 0.5001\n",
            "Epoch 10 Batch 200 Loss 0.4895\n",
            "Epoch 10 Batch 300 Loss 0.4750\n",
            "Epoch 10 Batch 400 Loss 0.3989\n",
            "Epoch 10 Loss 0.4034\n",
            "Time taken for 1 epoch 139.84835052490234 sec\n",
            "\n"
          ],
          "name": "stdout"
        }
      ]
    },
    {
      "cell_type": "markdown",
      "metadata": {
        "id": "p9A1aDLmqZjM",
        "colab_type": "text"
      },
      "source": [
        "Here we load the previously trained GRU with attention with pre-trained embeddings without start and end tag."
      ]
    },
    {
      "cell_type": "code",
      "metadata": {
        "id": "CLRBsWgMmWpq",
        "colab_type": "code",
        "outputId": "41288ca1-3f5a-47b0-8168-21ffd0bd4293",
        "colab": {
          "base_uri": "https://localhost:8080/",
          "height": 34
        }
      },
      "source": [
        "# compared to predicting first sentence of validation set with word2vec model (without <start> and <end> for each sentence)\n",
        "\n",
        "# checkpoints\n",
        "checkpoint_dir_w2v = './training_checkpoints_word2vec'\n",
        "checkpoint_prefix = os.path.join(checkpoint_dir_w2v, \"ckpt\")\n",
        "checkpoint = tf.train.Checkpoint(optimizer=optimizer,\n",
        "                                 encoder=encoder,\n",
        "                                 decoder=decoder)\n",
        "\n",
        "checkpoint.restore(tf.train.latest_checkpoint(checkpoint_dir_w2v))"
      ],
      "execution_count": 63,
      "outputs": [
        {
          "output_type": "execute_result",
          "data": {
            "text/plain": [
              "<tensorflow.python.training.tracking.util.CheckpointLoadStatus at 0x7fbe50aa58d0>"
            ]
          },
          "metadata": {
            "tags": []
          },
          "execution_count": 63
        }
      ]
    },
    {
      "cell_type": "code",
      "metadata": {
        "id": "4MQ8PYttmhME",
        "colab_type": "code",
        "outputId": "bfd71a99-ed54-4b2b-c591-d7bbceadb9b1",
        "colab": {
          "base_uri": "https://localhost:8080/",
          "height": 538
        }
      },
      "source": [
        "translate(f\"europe is at a crossroad just as it was after the second world war which resulted in the birth of what was not then known as the european union\")"
      ],
      "execution_count": 67,
      "outputs": [
        {
          "output_type": "stream",
          "text": [
            "Input: <start> europe is at a crossroad just as it was after the second world war which resulted in the birth of what was not then known as the european union <end>\n",
            "Predicted translation: l europe est un seul exemple comme l heure actuelle , le plus grande surprise que le monde , <end> \n",
            "length of the predicted translation : 21\n"
          ],
          "name": "stdout"
        },
        {
          "output_type": "display_data",
          "data": {
            "image/png": "[encoded data removed]",
            "text/plain": [
              "<Figure size 720x720 with 1 Axes>"
            ]
          },
          "metadata": {
            "tags": []
          }
        }
      ]
    },
    {
      "cell_type": "code",
      "metadata": {
        "id": "DAHilYCGrD01",
        "colab_type": "code",
        "outputId": "89405381-dab0-4682-8a6b-52ceaa753dc0",
        "colab": {
          "base_uri": "https://localhost:8080/",
          "height": 702
        }
      },
      "source": [
        "translate(f\"i'm not the only one who's obsessed with this whole year thing\")"
      ],
      "execution_count": 68,
      "outputs": [
        {
          "output_type": "stream",
          "text": [
            "Input: <start> i m not the only one who s obsessed with this whole year thing <end>\n",
            "Predicted translation: je n enfreins pas seulement le seul qui a quelque chose qui se trouve avec ce genre de ce genre . <end> \n",
            "length of the predicted translation : 23\n"
          ],
          "name": "stdout"
        },
        {
          "output_type": "display_data",
          "data": {
            "image/png": "[encoded data removed]",
            "text/plain": [
              "<Figure size 720x720 with 1 Axes>"
            ]
          },
          "metadata": {
            "tags": []
          }
        }
      ]
    },
    {
      "cell_type": "code",
      "metadata": {
        "id": "sPUj_RdKrMHf",
        "colab_type": "code",
        "outputId": "110f8e6d-e8ea-43ef-c006-842cebc36893",
        "colab": {
          "base_uri": "https://localhost:8080/",
          "height": 723
        }
      },
      "source": [
        "translate(f\"will he pass the examination i am afraid not\")"
      ],
      "execution_count": 69,
      "outputs": [
        {
          "output_type": "stream",
          "text": [
            "Input: <start> will he pass the examination i am afraid not <end>\n",
            "Predicted translation: il est parti de la proposition , je ne me pas ? <end> \n",
            "length of the predicted translation : 14\n"
          ],
          "name": "stdout"
        },
        {
          "output_type": "display_data",
          "data": {
            "image/png": "[encoded data removed]",
            "text/plain": [
              "<Figure size 720x720 with 1 Axes>"
            ]
          },
          "metadata": {
            "tags": []
          }
        }
      ]
    },
    {
      "cell_type": "markdown",
      "metadata": {
        "id": "achz2Tifp5Xi",
        "colab_type": "text"
      },
      "source": [
        "### pre-trained word2vec embeddings with start and end tag."
      ]
    },
    {
      "cell_type": "code",
      "metadata": {
        "id": "VAb6nqa5Ekc_",
        "colab_type": "code",
        "colab": {
          "base_uri": "https://localhost:8080/",
          "height": 71
        },
        "outputId": "2fd98970-da97-4b31-f997-b5da74a7682d"
      },
      "source": [
        "# model with tag\n",
        "w2v_english_wtag = KeyedVectors.load('data/wordvectors_wtag')"
      ],
      "execution_count": 94,
      "outputs": [
        {
          "output_type": "stream",
          "text": [
            "/usr/local/lib/python3.6/dist-packages/smart_open/smart_open_lib.py:410: UserWarning: This function is deprecated, use smart_open.open instead. See the migration notes for details: https://github.com/RaRe-Technologies/smart_open/blob/master/README.rst#migrating-to-the-new-open-function\n",
            "  'See the migration notes for details: %s' % _MIGRATION_NOTES_URL\n"
          ],
          "name": "stderr"
        }
      ]
    },
    {
      "cell_type": "code",
      "metadata": {
        "id": "5M_rF8VME_7h",
        "colab_type": "code",
        "colab": {
          "base_uri": "https://localhost:8080/",
          "height": 51
        },
        "outputId": "effce599-b844-40f1-c72c-2e388f1038c6"
      },
      "source": [
        "embedding_matrix_wtg = create_embedding_matrix(inp_lang, embedding_dim=100, embedding_model=w2v_english_wtag)"
      ],
      "execution_count": 95,
      "outputs": [
        {
          "output_type": "stream",
          "text": [
            "Preparing embedding matrix\n",
            "Found 433 out-of-vocabulary words (not present in the embedding model)\n"
          ],
          "name": "stdout"
        }
      ]
    },
    {
      "cell_type": "code",
      "metadata": {
        "id": "KQ8rJbt0FRGg",
        "colab_type": "code",
        "colab": {}
      },
      "source": [
        "# Encoder with GRU gates and pre-trained embedding with word2vec without start and end token\n",
        "class Encoder(tf.keras.Model):\n",
        "  def __init__(self, vocab_size, embedding_dim, enc_units, batch_sz, embedding_matrix):\n",
        "    super(Encoder, self).__init__()\n",
        "    self.batch_sz = batch_sz\n",
        "    self.enc_units = enc_units\n",
        "    # could modify the embeddings for pre-trained embeddings\n",
        "    self.embedding = tf.keras.layers.Embedding(input_dim=vocab_size, output_dim=embedding_dim, weights=[embedding_matrix_wtg], trainable=False)\n",
        "    self.gru = tf.keras.layers.GRU(self.enc_units,\n",
        "                                   return_sequences=True,\n",
        "                                   return_state=True,\n",
        "                                   recurrent_initializer='glorot_uniform')\n",
        "\n",
        "  def call(self, x, hidden):\n",
        "    x = self.embedding(x)\n",
        "    output, state = self.gru(x, initial_state = hidden)\n",
        "    return output, state\n",
        "\n",
        "  def initialize_hidden_state(self):\n",
        "    return tf.zeros((self.batch_sz, self.enc_units))"
      ],
      "execution_count": 0,
      "outputs": []
    },
    {
      "cell_type": "code",
      "metadata": {
        "id": "qH6hG-0cFdfT",
        "colab_type": "code",
        "colab": {
          "base_uri": "https://localhost:8080/",
          "height": 51
        },
        "outputId": "1cda4c5f-706e-4db1-ef0d-30226256ad0f"
      },
      "source": [
        "# specify the embedding dim to be equal to the embedding dim chosen for word embeddings\n",
        "embedding_dim = 100\n",
        "vocab_inp_size = len(inp_lang.word_index)+1\n",
        "encoder = Encoder(vocab_inp_size, embedding_dim, units, BATCH_SIZE, embedding_matrix_wtg)\n",
        "\n",
        "# sample input\n",
        "sample_hidden = encoder.initialize_hidden_state()\n",
        "sample_output, sample_hidden = encoder(example_input_batch, sample_hidden)\n",
        "print ('Encoder output shape: (batch size, sequence length, units) {}'.format(sample_output.shape))\n",
        "print ('Encoder Hidden state shape: (batch size, units) {}'.format(sample_hidden.shape))"
      ],
      "execution_count": 97,
      "outputs": [
        {
          "output_type": "stream",
          "text": [
            "Encoder output shape: (batch size, sequence length, units) (24, 94, 512)\n",
            "Encoder Hidden state shape: (batch size, units) (24, 512)\n"
          ],
          "name": "stdout"
        }
      ]
    },
    {
      "cell_type": "code",
      "metadata": {
        "id": "r0lX5_k9FdnP",
        "colab_type": "code",
        "colab": {
          "base_uri": "https://localhost:8080/",
          "height": 51
        },
        "outputId": "339ba524-2725-452c-90c9-2e0ec6ed9fe5"
      },
      "source": [
        "attention_layer = BahdanauAttention(10)\n",
        "attention_result, attention_weights = attention_layer(sample_hidden, sample_output)\n",
        "\n",
        "print(\"Attention result shape: (batch size, units) {}\".format(attention_result.shape))\n",
        "print(\"Attention weights shape: (batch_size, sequence_length, 1) {}\".format(attention_weights.shape))"
      ],
      "execution_count": 98,
      "outputs": [
        {
          "output_type": "stream",
          "text": [
            "Attention result shape: (batch size, units) (24, 512)\n",
            "Attention weights shape: (batch_size, sequence_length, 1) (24, 94, 1)\n"
          ],
          "name": "stdout"
        }
      ]
    },
    {
      "cell_type": "code",
      "metadata": {
        "id": "nRtrVKt6Fl9p",
        "colab_type": "code",
        "colab": {
          "base_uri": "https://localhost:8080/",
          "height": 34
        },
        "outputId": "78eaace9-26bc-476c-92aa-cad252648c4c"
      },
      "source": [
        "decoder = Decoder(vocab_tar_size, embedding_dim, units, BATCH_SIZE)\n",
        "\n",
        "sample_decoder_output, _, _ = decoder(tf.random.uniform((BATCH_SIZE, 1)),\n",
        "                                      sample_hidden, sample_output)\n",
        "\n",
        "print ('Decoder output shape: (batch_size, vocab size) {}'.format(sample_decoder_output.shape))"
      ],
      "execution_count": 99,
      "outputs": [
        {
          "output_type": "stream",
          "text": [
            "Decoder output shape: (batch_size, vocab size) (24, 16781)\n"
          ],
          "name": "stdout"
        }
      ]
    },
    {
      "cell_type": "code",
      "metadata": {
        "id": "ddq16mC4FmB8",
        "colab_type": "code",
        "colab": {}
      },
      "source": [
        "# Optimizer and loss function\n",
        "optimizer = tf.keras.optimizers.Adam()\n",
        "loss_object = tf.keras.losses.SparseCategoricalCrossentropy(\n",
        "    from_logits=True, reduction='none')"
      ],
      "execution_count": 0,
      "outputs": []
    },
    {
      "cell_type": "code",
      "metadata": {
        "id": "k86ChH_NGKd2",
        "colab_type": "code",
        "colab": {}
      },
      "source": [
        "# checkpoints do not want to override previous model\n",
        "checkpoint_dir_w2v_wtg = './training_checkpoints_word2vec_wtg'\n",
        "checkpoint_prefix = os.path.join(checkpoint_dir_w2v_wtg, \"ckpt\")\n",
        "checkpoint = tf.train.Checkpoint(optimizer=optimizer, encoder=encoder, decoder=decoder)"
      ],
      "execution_count": 0,
      "outputs": []
    },
    {
      "cell_type": "code",
      "metadata": {
        "id": "Vn0fxJmGGKag",
        "colab_type": "code",
        "colab": {}
      },
      "source": [
        "@tf.function\n",
        "def train_step(inp, targ, enc_hidden):\n",
        "  loss = 0\n",
        "\n",
        "  with tf.GradientTape() as tape:\n",
        "    enc_output, enc_hidden = encoder(inp, enc_hidden)\n",
        "\n",
        "    dec_hidden = enc_hidden\n",
        "\n",
        "    dec_input = tf.expand_dims([targ_lang.word_index['<start>']] * BATCH_SIZE, 1)\n",
        "\n",
        "    # Teacher forcing - feeding the target as the next input\n",
        "    for t in range(1, targ.shape[1]):\n",
        "      # passing enc_output to the decoder\n",
        "      predictions, dec_hidden, _ = decoder(dec_input, dec_hidden, enc_output)\n",
        "\n",
        "      loss += loss_function(targ[:, t], predictions)\n",
        "\n",
        "      # using teacher forcing\n",
        "      dec_input = tf.expand_dims(targ[:, t], 1)\n",
        "\n",
        "  batch_loss = (loss / int(targ.shape[1]))\n",
        "\n",
        "  variables = encoder.trainable_variables + decoder.trainable_variables\n",
        "\n",
        "  gradients = tape.gradient(loss, variables)\n",
        "\n",
        "  optimizer.apply_gradients(zip(gradients, variables))\n",
        "\n",
        "  return batch_loss"
      ],
      "execution_count": 0,
      "outputs": []
    },
    {
      "cell_type": "code",
      "metadata": {
        "id": "GES0TRJqGKYK",
        "colab_type": "code",
        "colab": {
          "base_uri": "https://localhost:8080/",
          "height": 1000
        },
        "outputId": "caf4666e-213b-47e1-b0a3-4cbfa1296f6b"
      },
      "source": [
        "EPOCHS = 10\n",
        "\n",
        "for epoch in range(EPOCHS):\n",
        "  start = time.time()\n",
        "\n",
        "  enc_hidden = encoder.initialize_hidden_state()\n",
        "  total_loss = 0\n",
        "\n",
        "  for (batch, (inp, targ)) in enumerate(dataset.take(steps_per_epoch)):\n",
        "    batch_loss = train_step(inp, targ, enc_hidden)\n",
        "    total_loss += batch_loss\n",
        "\n",
        "    if batch % 100 == 0:\n",
        "      print('Epoch {} Batch {} Loss {:.4f}'.format(epoch + 1,\n",
        "                                                   batch,\n",
        "                                                   batch_loss.numpy()))\n",
        "  # saving (checkpoint) the model every 2 epochs\n",
        "  if (epoch + 1) % 2 == 0:\n",
        "    checkpoint.save(file_prefix = checkpoint_prefix)\n",
        "\n",
        "  print('Epoch {} Loss {:.4f}'.format(epoch + 1,\n",
        "                                      total_loss / steps_per_epoch))\n",
        "  print('Time taken for 1 epoch {} sec\\n'.format(time.time() - start))"
      ],
      "execution_count": 103,
      "outputs": [
        {
          "output_type": "stream",
          "text": [
            "Epoch 1 Batch 0 Loss 1.9939\n",
            "Epoch 1 Batch 100 Loss 1.3583\n",
            "Epoch 1 Batch 200 Loss 1.3191\n",
            "Epoch 1 Batch 300 Loss 1.1664\n",
            "Epoch 1 Batch 400 Loss 1.1638\n",
            "Epoch 1 Loss 1.2820\n",
            "Time taken for 1 epoch 258.0109508037567 sec\n",
            "\n",
            "Epoch 2 Batch 0 Loss 1.0469\n",
            "Epoch 2 Batch 100 Loss 1.0140\n",
            "Epoch 2 Batch 200 Loss 1.1356\n",
            "Epoch 2 Batch 300 Loss 1.2557\n",
            "Epoch 2 Batch 400 Loss 1.1684\n",
            "Epoch 2 Loss 1.0832\n",
            "Time taken for 1 epoch 139.75686192512512 sec\n",
            "\n",
            "Epoch 3 Batch 0 Loss 1.0625\n",
            "Epoch 3 Batch 100 Loss 0.8479\n",
            "Epoch 3 Batch 200 Loss 1.0465\n",
            "Epoch 3 Batch 300 Loss 1.2973\n",
            "Epoch 3 Batch 400 Loss 0.9463\n",
            "Epoch 3 Loss 0.9955\n",
            "Time taken for 1 epoch 138.82635688781738 sec\n",
            "\n",
            "Epoch 4 Batch 0 Loss 1.0755\n",
            "Epoch 4 Batch 100 Loss 0.9934\n",
            "Epoch 4 Batch 200 Loss 0.9167\n",
            "Epoch 4 Batch 300 Loss 0.6764\n",
            "Epoch 4 Batch 400 Loss 0.8040\n",
            "Epoch 4 Loss 0.9229\n",
            "Time taken for 1 epoch 139.39134454727173 sec\n",
            "\n",
            "Epoch 5 Batch 0 Loss 0.8911\n",
            "Epoch 5 Batch 100 Loss 1.0606\n",
            "Epoch 5 Batch 200 Loss 0.8014\n",
            "Epoch 5 Batch 300 Loss 1.0307\n",
            "Epoch 5 Batch 400 Loss 0.7750\n",
            "Epoch 5 Loss 0.8629\n",
            "Time taken for 1 epoch 138.86949753761292 sec\n",
            "\n",
            "Epoch 6 Batch 0 Loss 0.7894\n",
            "Epoch 6 Batch 100 Loss 0.7145\n",
            "Epoch 6 Batch 200 Loss 0.8005\n",
            "Epoch 6 Batch 300 Loss 0.8538\n",
            "Epoch 6 Batch 400 Loss 0.8702\n",
            "Epoch 6 Loss 0.8075\n",
            "Time taken for 1 epoch 139.56799626350403 sec\n",
            "\n",
            "Epoch 7 Batch 0 Loss 0.5818\n",
            "Epoch 7 Batch 100 Loss 0.7810\n",
            "Epoch 7 Batch 200 Loss 0.8303\n",
            "Epoch 7 Batch 300 Loss 0.7196\n",
            "Epoch 7 Batch 400 Loss 0.8559\n",
            "Epoch 7 Loss 0.7463\n",
            "Time taken for 1 epoch 138.89482283592224 sec\n",
            "\n",
            "Epoch 8 Batch 0 Loss 0.7016\n",
            "Epoch 8 Batch 100 Loss 0.6319\n",
            "Epoch 8 Batch 200 Loss 0.7890\n",
            "Epoch 8 Batch 300 Loss 0.7380\n",
            "Epoch 8 Batch 400 Loss 0.6928\n",
            "Epoch 8 Loss 0.6870\n",
            "Time taken for 1 epoch 139.13687229156494 sec\n",
            "\n",
            "Epoch 9 Batch 0 Loss 0.6547\n",
            "Epoch 9 Batch 100 Loss 0.6187\n",
            "Epoch 9 Batch 200 Loss 0.5942\n",
            "Epoch 9 Batch 300 Loss 0.7423\n",
            "Epoch 9 Batch 400 Loss 0.6930\n",
            "Epoch 9 Loss 0.6253\n",
            "Time taken for 1 epoch 138.61462426185608 sec\n",
            "\n",
            "Epoch 10 Batch 0 Loss 0.4642\n",
            "Epoch 10 Batch 100 Loss 0.5693\n",
            "Epoch 10 Batch 200 Loss 0.6971\n",
            "Epoch 10 Batch 300 Loss 0.6995\n",
            "Epoch 10 Batch 400 Loss 0.5493\n",
            "Epoch 10 Loss 0.5712\n",
            "Time taken for 1 epoch 139.23504281044006 sec\n",
            "\n"
          ],
          "name": "stdout"
        }
      ]
    },
    {
      "cell_type": "code",
      "metadata": {
        "id": "KeZ1cPDlLNAN",
        "colab_type": "code",
        "colab": {
          "base_uri": "https://localhost:8080/",
          "height": 34
        },
        "outputId": "66db662f-7ccf-4376-dc57-754401bdc572"
      },
      "source": [
        "# checkpoints\n",
        "checkpoint_dir_w2v_wtg = './training_checkpoints_word2vec_wtg'\n",
        "checkpoint_prefix = os.path.join(checkpoint_dir_w2v_wtg, \"ckpt\")\n",
        "checkpoint = tf.train.Checkpoint(optimizer=optimizer, encoder=encoder, decoder=decoder)\n",
        "\n",
        "checkpoint.restore(tf.train.latest_checkpoint(checkpoint_dir_w2v_wtg))"
      ],
      "execution_count": 104,
      "outputs": [
        {
          "output_type": "execute_result",
          "data": {
            "text/plain": [
              "<tensorflow.python.training.tracking.util.CheckpointLoadStatus at 0x7fbe5855cf98>"
            ]
          },
          "metadata": {
            "tags": []
          },
          "execution_count": 104
        }
      ]
    },
    {
      "cell_type": "code",
      "metadata": {
        "id": "7OxySJsJPqoA",
        "colab_type": "code",
        "outputId": "bbb01f96-f7ed-47ae-b45a-b419b599b693",
        "colab": {
          "base_uri": "https://localhost:8080/",
          "height": 538
        }
      },
      "source": [
        "# trying to predict first sentence of validation set with word2vec_wtg model\n",
        "translate(f\"europe is at a crossroad just as it was after the second world war which resulted in the birth of what was not then known as the european union\")"
      ],
      "execution_count": 106,
      "outputs": [
        {
          "output_type": "stream",
          "text": [
            "Input: <start> europe is at a crossroad just as it was after the second world war which resulted in the birth of what was not then known as the european union <end>\n",
            "Predicted translation: l europe est une seule , il n a pas été le plus important que l union européenne . <end> \n",
            "length of the predicted translation : 21\n"
          ],
          "name": "stdout"
        },
        {
          "output_type": "display_data",
          "data": {
            "image/png": "[encoded data removed]",
            "text/plain": [
              "<Figure size 720x720 with 1 Axes>"
            ]
          },
          "metadata": {
            "tags": []
          }
        }
      ]
    },
    {
      "cell_type": "code",
      "metadata": {
        "id": "gSVaZ18unwaV",
        "colab_type": "code",
        "outputId": "8321d0a0-086a-4bd9-9abf-f8c17ba7a044",
        "colab": {
          "base_uri": "https://localhost:8080/",
          "height": 542
        }
      },
      "source": [
        "translate(f\"i'm not the only one who's obsessed with this whole year thing\")"
      ],
      "execution_count": 107,
      "outputs": [
        {
          "output_type": "stream",
          "text": [
            "Input: <start> i m not the only one who s obsessed with this whole year thing <end>\n",
            "Predicted translation: je ne suis pas seulement une seule chose . <end> \n",
            "length of the predicted translation : 11\n"
          ],
          "name": "stdout"
        },
        {
          "output_type": "display_data",
          "data": {
            "image/png": "[encoded data removed]",
            "text/plain": [
              "<Figure size 720x720 with 1 Axes>"
            ]
          },
          "metadata": {
            "tags": []
          }
        }
      ]
    },
    {
      "cell_type": "code",
      "metadata": {
        "id": "vjJXYxYjoayr",
        "colab_type": "code",
        "outputId": "0a22be6c-5e95-414e-d5de-ff015687b617",
        "colab": {
          "base_uri": "https://localhost:8080/",
          "height": 535
        }
      },
      "source": [
        "translate(f\"will he pass the examination i am afraid not\")"
      ],
      "execution_count": 108,
      "outputs": [
        {
          "output_type": "stream",
          "text": [
            "Input: <start> will he pass the examination i am afraid not <end>\n",
            "Predicted translation: devra il prendre note ? <end> \n",
            "length of the predicted translation : 7\n"
          ],
          "name": "stdout"
        },
        {
          "output_type": "display_data",
          "data": {
            "image/png": "[encoded data removed]",
            "text/plain": [
              "<Figure size 720x720 with 1 Axes>"
            ]
          },
          "metadata": {
            "tags": []
          }
        }
      ]
    },
    {
      "cell_type": "markdown",
      "metadata": {
        "id": "uyrwO5-lM1qT",
        "colab_type": "text"
      },
      "source": [
        "## Models with pre-trained FastText embeddings"
      ]
    },
    {
      "cell_type": "markdown",
      "metadata": {
        "id": "dq13nFTQfWKR",
        "colab_type": "text"
      },
      "source": [
        "### pre-trained FastText embeddings (no start and end token)"
      ]
    },
    {
      "cell_type": "code",
      "metadata": {
        "id": "dEzFnhAMM5ab",
        "colab_type": "code",
        "colab": {
          "base_uri": "https://localhost:8080/",
          "height": 71
        },
        "outputId": "75b4c89a-3eeb-4dcb-f6a1-8edd6970dfb9"
      },
      "source": [
        "# loading fastText embeddings\n",
        "from gensim.models import KeyedVectors\n",
        "# model without tag\n",
        "fasttext_english = KeyedVectors.load('data/fasttext_wordvectors')\n",
        "fasttext_french = KeyedVectors.load('data/fasttext_french_wordvectors')"
      ],
      "execution_count": 109,
      "outputs": [
        {
          "output_type": "stream",
          "text": [
            "/usr/local/lib/python3.6/dist-packages/smart_open/smart_open_lib.py:410: UserWarning: This function is deprecated, use smart_open.open instead. See the migration notes for details: https://github.com/RaRe-Technologies/smart_open/blob/master/README.rst#migrating-to-the-new-open-function\n",
            "  'See the migration notes for details: %s' % _MIGRATION_NOTES_URL\n"
          ],
          "name": "stderr"
        }
      ]
    },
    {
      "cell_type": "code",
      "metadata": {
        "id": "nVGgSnY2M5pH",
        "colab_type": "code",
        "colab": {
          "base_uri": "https://localhost:8080/",
          "height": 51
        },
        "outputId": "b238b8cf-7268-49ec-cb4e-a60c075aac33"
      },
      "source": [
        "# english embedding matrix for fasttext\n",
        "ft_en_embedding_matrix = create_embedding_matrix(inp_lang, embedding_dim=100, embedding_model=fasttext_english)\n",
        "\n",
        "print(np.shape(ft_en_embedding_matrix))"
      ],
      "execution_count": 110,
      "outputs": [
        {
          "output_type": "stream",
          "text": [
            "Preparing embedding matrix\n",
            "Found 2 out-of-vocabulary words (not present in the embedding model)\n"
          ],
          "name": "stdout"
        }
      ]
    },
    {
      "cell_type": "code",
      "metadata": {
        "id": "wjqmHdUBM51U",
        "colab_type": "code",
        "colab": {
          "base_uri": "https://localhost:8080/",
          "height": 68
        },
        "outputId": "f51e7a95-c124-4238-a9ff-8034a2355319"
      },
      "source": [
        "ft_fr_embedding_matrix = create_embedding_matrix(targ_lang, embedding_dim=100, embedding_model=fasttext_french)\n",
        "\n",
        "print(np.shape(ft_fr_embedding_matrix))"
      ],
      "execution_count": 113,
      "outputs": [
        {
          "output_type": "stream",
          "text": [
            "Preparing embedding matrix\n",
            "Found 4 out-of-vocabulary words (not present in the embedding model)\n",
            "(16781, 100)\n"
          ],
          "name": "stdout"
        }
      ]
    },
    {
      "cell_type": "code",
      "metadata": {
        "id": "Ig7crfkKM56Q",
        "colab_type": "code",
        "colab": {}
      },
      "source": [
        "# Encoder with GRU gates and pre-trained embedding with word2vec without start and end token\n",
        "class Encoder(tf.keras.Model):\n",
        "  def __init__(self, vocab_size, embedding_dim, enc_units, batch_sz, embedding_matrix):\n",
        "    super(Encoder, self).__init__()\n",
        "    self.batch_sz = batch_sz\n",
        "    self.enc_units = enc_units\n",
        "    # could modify the embeddings for pre-trained embeddings\n",
        "    self.embedding = tf.keras.layers.Embedding(input_dim=vocab_size, output_dim=embedding_dim, weights=[ft_en_embedding_matrix], trainable=False)\n",
        "    self.gru = tf.keras.layers.GRU(self.enc_units,\n",
        "                                   return_sequences=True,\n",
        "                                   return_state=True,\n",
        "                                   recurrent_initializer='glorot_uniform')\n",
        "\n",
        "  def call(self, x, hidden):\n",
        "    x = self.embedding(x)\n",
        "    output, state = self.gru(x, initial_state = hidden)\n",
        "    return output, state\n",
        "\n",
        "  def initialize_hidden_state(self):\n",
        "    return tf.zeros((self.batch_sz, self.enc_units))"
      ],
      "execution_count": 0,
      "outputs": []
    },
    {
      "cell_type": "code",
      "metadata": {
        "id": "3pFbs9v2M6Gr",
        "colab_type": "code",
        "colab": {
          "base_uri": "https://localhost:8080/",
          "height": 51
        },
        "outputId": "a7e7a96e-3723-4a6b-850d-a8f9d0687c31"
      },
      "source": [
        "# specify the embedding dim to be equal to the embedding dim chosen for word embeddings\n",
        "embedding_dim = 100\n",
        "vocab_inp_size = len(inp_lang.word_index)+1\n",
        "encoder = Encoder(vocab_inp_size, embedding_dim, units, BATCH_SIZE, ft_en_embedding_matrix)\n",
        "\n",
        "# sample input\n",
        "sample_hidden = encoder.initialize_hidden_state()\n",
        "sample_output, sample_hidden = encoder(example_input_batch, sample_hidden)\n",
        "print ('Encoder output shape: (batch size, sequence length, units) {}'.format(sample_output.shape))\n",
        "print ('Encoder Hidden state shape: (batch size, units) {}'.format(sample_hidden.shape))"
      ],
      "execution_count": 115,
      "outputs": [
        {
          "output_type": "stream",
          "text": [
            "Encoder output shape: (batch size, sequence length, units) (24, 94, 512)\n",
            "Encoder Hidden state shape: (batch size, units) (24, 512)\n"
          ],
          "name": "stdout"
        }
      ]
    },
    {
      "cell_type": "code",
      "metadata": {
        "id": "yQzcoi1AM5y1",
        "colab_type": "code",
        "colab": {
          "base_uri": "https://localhost:8080/",
          "height": 51
        },
        "outputId": "20f50e88-49ec-4022-ffed-0a012e167732"
      },
      "source": [
        "attention_layer = BahdanauAttention(10)\n",
        "attention_result, attention_weights = attention_layer(sample_hidden, sample_output)\n",
        "\n",
        "print(\"Attention result shape: (batch size, units) {}\".format(attention_result.shape))\n",
        "print(\"Attention weights shape: (batch_size, sequence_length, 1) {}\".format(attention_weights.shape))"
      ],
      "execution_count": 116,
      "outputs": [
        {
          "output_type": "stream",
          "text": [
            "Attention result shape: (batch size, units) (24, 512)\n",
            "Attention weights shape: (batch_size, sequence_length, 1) (24, 94, 1)\n"
          ],
          "name": "stdout"
        }
      ]
    },
    {
      "cell_type": "code",
      "metadata": {
        "id": "StiqlJT7M5xS",
        "colab_type": "code",
        "colab": {}
      },
      "source": [
        "# GRU decoder\n",
        "class Decoder(tf.keras.Model):\n",
        "  def __init__(self, vocab_size, embedding_dim, dec_units, batch_sz):\n",
        "    super(Decoder, self).__init__()\n",
        "    self.batch_sz = batch_sz\n",
        "    self.dec_units = dec_units\n",
        "    # Here we specify the pre-trained embeddings\n",
        "    self.embedding = tf.keras.layers.Embedding(vocab_size, embedding_dim, weights=[ft_fr_embedding_matrix], trainable=False)\n",
        "    self.gru = tf.keras.layers.GRU(self.dec_units,\n",
        "                                   return_sequences=True,\n",
        "                                   return_state=True,\n",
        "                                   recurrent_initializer='glorot_uniform')\n",
        "    self.fc = tf.keras.layers.Dense(vocab_size)\n",
        "\n",
        "    # used for attention\n",
        "    self.attention = BahdanauAttention(self.dec_units)\n",
        "\n",
        "  def call(self, x, hidden, enc_output):\n",
        "    # enc_output shape == (batch_size, max_length, hidden_size)\n",
        "    context_vector, attention_weights = self.attention(hidden, enc_output)\n",
        "\n",
        "    # x shape after passing through embedding == (batch_size, 1, embedding_dim)\n",
        "    x = self.embedding(x)\n",
        "\n",
        "    # x shape after concatenation == (batch_size, 1, embedding_dim + hidden_size)\n",
        "    x = tf.concat([tf.expand_dims(context_vector, 1), x], axis=-1)\n",
        "\n",
        "    # passing the concatenated vector to the GRU\n",
        "    output, state = self.gru(x)\n",
        "\n",
        "    # output shape == (batch_size * 1, hidden_size)\n",
        "    output = tf.reshape(output, (-1, output.shape[2]))\n",
        "\n",
        "    # output shape == (batch_size, vocab)\n",
        "    x = self.fc(output)\n",
        "\n",
        "    return x, state, attention_weights"
      ],
      "execution_count": 0,
      "outputs": []
    },
    {
      "cell_type": "code",
      "metadata": {
        "id": "efwZUtowYDyf",
        "colab_type": "code",
        "colab": {
          "base_uri": "https://localhost:8080/",
          "height": 34
        },
        "outputId": "ebb6252c-1aa8-48e1-dc26-9b898bb58d76"
      },
      "source": [
        "decoder = Decoder(vocab_tar_size, embedding_dim, units, BATCH_SIZE)\n",
        "\n",
        "sample_decoder_output, _, _ = decoder(tf.random.uniform((BATCH_SIZE, 1)),\n",
        "                                      sample_hidden, sample_output)\n",
        "\n",
        "print ('Decoder output shape: (batch_size, vocab size) {}'.format(sample_decoder_output.shape))"
      ],
      "execution_count": 118,
      "outputs": [
        {
          "output_type": "stream",
          "text": [
            "Decoder output shape: (batch_size, vocab size) (24, 16781)\n"
          ],
          "name": "stdout"
        }
      ]
    },
    {
      "cell_type": "code",
      "metadata": {
        "id": "sJ9mRN_oYR6d",
        "colab_type": "code",
        "colab": {}
      },
      "source": [
        "# Optimizer and loss function\n",
        "optimizer = tf.keras.optimizers.Adam()\n",
        "loss_object = tf.keras.losses.SparseCategoricalCrossentropy(\n",
        "    from_logits=True, reduction='none')"
      ],
      "execution_count": 0,
      "outputs": []
    },
    {
      "cell_type": "code",
      "metadata": {
        "id": "ppS7IDN0YSDO",
        "colab_type": "code",
        "colab": {}
      },
      "source": [
        "# checkpoints do not want to override previous model\n",
        "checkpoint_dir_ft = './training_checkpoints_fasttext'\n",
        "checkpoint_prefix = os.path.join(checkpoint_dir_ft, \"ckpt\")\n",
        "checkpoint = tf.train.Checkpoint(optimizer=optimizer, encoder=encoder, decoder=decoder)"
      ],
      "execution_count": 0,
      "outputs": []
    },
    {
      "cell_type": "code",
      "metadata": {
        "id": "tx4E-ufEYSBb",
        "colab_type": "code",
        "colab": {}
      },
      "source": [
        "@tf.function\n",
        "def train_step(inp, targ, enc_hidden):\n",
        "  loss = 0\n",
        "\n",
        "  with tf.GradientTape() as tape:\n",
        "    enc_output, enc_hidden = encoder(inp, enc_hidden)\n",
        "\n",
        "    dec_hidden = enc_hidden\n",
        "\n",
        "    dec_input = tf.expand_dims([targ_lang.word_index['<start>']] * BATCH_SIZE, 1)\n",
        "\n",
        "    # Teacher forcing - feeding the target as the next input\n",
        "    for t in range(1, targ.shape[1]):\n",
        "      # passing enc_output to the decoder\n",
        "      predictions, dec_hidden, _ = decoder(dec_input, dec_hidden, enc_output)\n",
        "\n",
        "      loss += loss_function(targ[:, t], predictions)\n",
        "\n",
        "      # using teacher forcing\n",
        "      dec_input = tf.expand_dims(targ[:, t], 1)\n",
        "\n",
        "  batch_loss = (loss / int(targ.shape[1]))\n",
        "\n",
        "  variables = encoder.trainable_variables + decoder.trainable_variables\n",
        "\n",
        "  gradients = tape.gradient(loss, variables)\n",
        "\n",
        "  optimizer.apply_gradients(zip(gradients, variables))\n",
        "\n",
        "  return batch_loss"
      ],
      "execution_count": 0,
      "outputs": []
    },
    {
      "cell_type": "code",
      "metadata": {
        "id": "RjDWjAX2YR_l",
        "colab_type": "code",
        "colab": {
          "base_uri": "https://localhost:8080/",
          "height": 1000
        },
        "outputId": "8c75a5ca-815d-42df-ae66-1a40ab952ad3"
      },
      "source": [
        "EPOCHS = 10\n",
        "\n",
        "for epoch in range(EPOCHS):\n",
        "  start = time.time()\n",
        "\n",
        "  enc_hidden = encoder.initialize_hidden_state()\n",
        "  total_loss = 0\n",
        "\n",
        "  for (batch, (inp, targ)) in enumerate(dataset.take(steps_per_epoch)):\n",
        "    batch_loss = train_step(inp, targ, enc_hidden)\n",
        "    total_loss += batch_loss\n",
        "\n",
        "    if batch % 100 == 0:\n",
        "      print('Epoch {} Batch {} Loss {:.4f}'.format(epoch + 1,\n",
        "                                                   batch,\n",
        "                                                   batch_loss.numpy()))\n",
        "  # saving (checkpoint) the model every 2 epochs\n",
        "  if (epoch + 1) % 2 == 0:\n",
        "    checkpoint.save(file_prefix = checkpoint_prefix)\n",
        "\n",
        "  print('Epoch {} Loss {:.4f}'.format(epoch + 1,\n",
        "                                      total_loss / steps_per_epoch))\n",
        "  print('Time taken for 1 epoch {} sec\\n'.format(time.time() - start))"
      ],
      "execution_count": 122,
      "outputs": [
        {
          "output_type": "stream",
          "text": [
            "Epoch 1 Batch 0 Loss 2.2530\n",
            "Epoch 1 Batch 100 Loss 1.2381\n",
            "Epoch 1 Batch 200 Loss 0.9874\n",
            "Epoch 1 Batch 300 Loss 0.9048\n",
            "Epoch 1 Batch 400 Loss 0.9285\n",
            "Epoch 1 Loss 1.1769\n",
            "Time taken for 1 epoch 256.83527517318726 sec\n",
            "\n",
            "Epoch 2 Batch 0 Loss 0.8669\n",
            "Epoch 2 Batch 100 Loss 0.9540\n",
            "Epoch 2 Batch 200 Loss 0.8572\n",
            "Epoch 2 Batch 300 Loss 1.0422\n",
            "Epoch 2 Batch 400 Loss 0.9373\n",
            "Epoch 2 Loss 0.9945\n",
            "Time taken for 1 epoch 139.23003315925598 sec\n",
            "\n",
            "Epoch 3 Batch 0 Loss 0.8121\n",
            "Epoch 3 Batch 100 Loss 1.0457\n",
            "Epoch 3 Batch 200 Loss 0.9419\n",
            "Epoch 3 Batch 300 Loss 0.8934\n",
            "Epoch 3 Batch 400 Loss 0.8975\n",
            "Epoch 3 Loss 0.9144\n",
            "Time taken for 1 epoch 138.9230124950409 sec\n",
            "\n",
            "Epoch 4 Batch 0 Loss 1.0459\n",
            "Epoch 4 Batch 100 Loss 0.7864\n",
            "Epoch 4 Batch 200 Loss 1.0072\n",
            "Epoch 4 Batch 300 Loss 0.8839\n",
            "Epoch 4 Batch 400 Loss 0.9448\n",
            "Epoch 4 Loss 0.8436\n",
            "Time taken for 1 epoch 139.30845141410828 sec\n",
            "\n",
            "Epoch 5 Batch 0 Loss 0.8629\n",
            "Epoch 5 Batch 100 Loss 0.7522\n",
            "Epoch 5 Batch 200 Loss 0.7946\n",
            "Epoch 5 Batch 300 Loss 0.7246\n",
            "Epoch 5 Batch 400 Loss 0.6889\n",
            "Epoch 5 Loss 0.7769\n",
            "Time taken for 1 epoch 138.84769463539124 sec\n",
            "\n",
            "Epoch 6 Batch 0 Loss 0.7237\n",
            "Epoch 6 Batch 100 Loss 0.6312\n",
            "Epoch 6 Batch 200 Loss 0.6843\n",
            "Epoch 6 Batch 300 Loss 0.7670\n",
            "Epoch 6 Batch 400 Loss 0.8577\n",
            "Epoch 6 Loss 0.7135\n",
            "Time taken for 1 epoch 139.34454250335693 sec\n",
            "\n",
            "Epoch 7 Batch 0 Loss 0.6153\n",
            "Epoch 7 Batch 100 Loss 0.5571\n",
            "Epoch 7 Batch 200 Loss 0.8038\n",
            "Epoch 7 Batch 300 Loss 0.8619\n",
            "Epoch 7 Batch 400 Loss 0.6568\n",
            "Epoch 7 Loss 0.6605\n",
            "Time taken for 1 epoch 138.89299035072327 sec\n",
            "\n",
            "Epoch 8 Batch 0 Loss 0.5721\n",
            "Epoch 8 Batch 100 Loss 0.5940\n",
            "Epoch 8 Batch 200 Loss 0.5349\n",
            "Epoch 8 Batch 300 Loss 0.6814\n",
            "Epoch 8 Batch 400 Loss 0.6219\n",
            "Epoch 8 Loss 0.5944\n",
            "Time taken for 1 epoch 139.9129240512848 sec\n",
            "\n",
            "Epoch 9 Batch 0 Loss 0.5179\n",
            "Epoch 9 Batch 100 Loss 0.5329\n",
            "Epoch 9 Batch 200 Loss 0.5265\n",
            "Epoch 9 Batch 300 Loss 0.4956\n",
            "Epoch 9 Batch 400 Loss 0.6111\n",
            "Epoch 9 Loss 0.5410\n",
            "Time taken for 1 epoch 138.85584044456482 sec\n",
            "\n",
            "Epoch 10 Batch 0 Loss 0.4556\n",
            "Epoch 10 Batch 100 Loss 0.4175\n",
            "Epoch 10 Batch 200 Loss 0.5457\n",
            "Epoch 10 Batch 300 Loss 0.4063\n",
            "Epoch 10 Batch 400 Loss 0.5018\n",
            "Epoch 10 Loss 0.4922\n",
            "Time taken for 1 epoch 139.38565921783447 sec\n",
            "\n"
          ],
          "name": "stdout"
        }
      ]
    },
    {
      "cell_type": "code",
      "metadata": {
        "id": "t2o39AxsYx1u",
        "colab_type": "code",
        "colab": {
          "base_uri": "https://localhost:8080/",
          "height": 34
        },
        "outputId": "bd58b5c8-e9fc-48af-fd1b-10a0943b8d00"
      },
      "source": [
        "# checkpoints\n",
        "checkpoint_dir_ft = './training_checkpoints_fasttext'\n",
        "checkpoint_prefix = os.path.join(checkpoint_dir_ft, \"ckpt\")\n",
        "checkpoint = tf.train.Checkpoint(optimizer=optimizer, encoder=encoder, decoder=decoder)\n",
        "checkpoint.restore(tf.train.latest_checkpoint(checkpoint_dir_ft))"
      ],
      "execution_count": 123,
      "outputs": [
        {
          "output_type": "execute_result",
          "data": {
            "text/plain": [
              "<tensorflow.python.training.tracking.util.CheckpointLoadStatus at 0x7fc058e98f28>"
            ]
          },
          "metadata": {
            "tags": []
          },
          "execution_count": 123
        }
      ]
    },
    {
      "cell_type": "code",
      "metadata": {
        "id": "HashxEP4YyFP",
        "colab_type": "code",
        "colab": {
          "base_uri": "https://localhost:8080/",
          "height": 592
        },
        "outputId": "ff8a830d-fc5b-4d51-a88f-f26fe6a42cd2"
      },
      "source": [
        "translate(f\"europe is at a crossroad just as it was after the second world war which resulted in the birth of what was not then known as the european union\")"
      ],
      "execution_count": 124,
      "outputs": [
        {
          "output_type": "stream",
          "text": [
            "Input: <start> europe is at a crossroad just as it was after the second world war which resulted in the birth of what was not then known as the european union <end>\n",
            "Predicted translation: l europe est une chose qui , comme l on rassasiera l o o o est pas de l union européenne . <end> \n",
            "length of the predicted translation : 24\n"
          ],
          "name": "stdout"
        },
        {
          "output_type": "display_data",
          "data": {
            "image/png": "[encoded data removed]",
            "text/plain": [
              "<Figure size 720x720 with 1 Axes>"
            ]
          },
          "metadata": {
            "tags": []
          }
        }
      ]
    },
    {
      "cell_type": "code",
      "metadata": {
        "id": "9HTyPor0e9qd",
        "colab_type": "code",
        "colab": {
          "base_uri": "https://localhost:8080/",
          "height": 702
        },
        "outputId": "401ce394-94ed-4fd7-af63-96df4bbdf901"
      },
      "source": [
        "translate(f\"i'm not the only one who's obsessed with this whole year thing\")"
      ],
      "execution_count": 125,
      "outputs": [
        {
          "output_type": "stream",
          "text": [
            "Input: <start> i m not the only one who s obsessed with this whole year thing <end>\n",
            "Predicted translation: je ne suis pas la seule personne qui se trouve avec cette nouvelle fois . <end> \n",
            "length of the predicted translation : 17\n"
          ],
          "name": "stdout"
        },
        {
          "output_type": "display_data",
          "data": {
            "image/png": "[encoded data removed]",
            "text/plain": [
              "<Figure size 720x720 with 1 Axes>"
            ]
          },
          "metadata": {
            "tags": []
          }
        }
      ]
    },
    {
      "cell_type": "code",
      "metadata": {
        "id": "jSAhIS7SfMYp",
        "colab_type": "code",
        "colab": {
          "base_uri": "https://localhost:8080/",
          "height": 723
        },
        "outputId": "ed4632f9-c259-472c-b97b-e7e286ab2cac"
      },
      "source": [
        "translate(f\"will he pass the examination i am afraid not\")"
      ],
      "execution_count": 126,
      "outputs": [
        {
          "output_type": "stream",
          "text": [
            "Input: <start> will he pass the examination i am afraid not <end>\n",
            "Predicted translation: il ne peux pas dire . je ne suis pas . <end> \n",
            "length of the predicted translation : 13\n"
          ],
          "name": "stdout"
        },
        {
          "output_type": "display_data",
          "data": {
            "image/png": "[encoded data removed]",
            "text/plain": [
              "<Figure size 720x720 with 1 Axes>"
            ]
          },
          "metadata": {
            "tags": []
          }
        }
      ]
    },
    {
      "cell_type": "markdown",
      "metadata": {
        "id": "wdvKQOGHfd_-",
        "colab_type": "text"
      },
      "source": [
        "### pre-trained FastText embeddings with start and end token"
      ]
    },
    {
      "cell_type": "code",
      "metadata": {
        "id": "-SdzXWp7fidr",
        "colab_type": "code",
        "colab": {
          "base_uri": "https://localhost:8080/",
          "height": 71
        },
        "outputId": "8565aa80-bc44-4740-aebf-ac501507365f"
      },
      "source": [
        "# loading fastText embeddings\n",
        "from gensim.models import KeyedVectors\n",
        "\n",
        "fasttext_english_wtg = KeyedVectors.load('data/fasttext_wordvectors_wtag')\n",
        "fasttext_french = KeyedVectors.load('data/fasttext_french_wordvectors')"
      ],
      "execution_count": 128,
      "outputs": [
        {
          "output_type": "stream",
          "text": [
            "/usr/local/lib/python3.6/dist-packages/smart_open/smart_open_lib.py:410: UserWarning: This function is deprecated, use smart_open.open instead. See the migration notes for details: https://github.com/RaRe-Technologies/smart_open/blob/master/README.rst#migrating-to-the-new-open-function\n",
            "  'See the migration notes for details: %s' % _MIGRATION_NOTES_URL\n"
          ],
          "name": "stderr"
        }
      ]
    },
    {
      "cell_type": "code",
      "metadata": {
        "id": "gWyjAsdcfiw8",
        "colab_type": "code",
        "colab": {
          "base_uri": "https://localhost:8080/",
          "height": 51
        },
        "outputId": "d307a3fe-489c-4a5b-9498-eef52b73d6a2"
      },
      "source": [
        "ft_en_embedding_matrix_wtg = create_embedding_matrix(inp_lang, embedding_dim=100, embedding_model=fasttext_english_wtg)"
      ],
      "execution_count": 129,
      "outputs": [
        {
          "output_type": "stream",
          "text": [
            "Preparing embedding matrix\n",
            "Found 2 out-of-vocabulary words (not present in the embedding model)\n"
          ],
          "name": "stdout"
        }
      ]
    },
    {
      "cell_type": "code",
      "metadata": {
        "id": "sANl-msxfi4e",
        "colab_type": "code",
        "colab": {}
      },
      "source": [
        "# Encoder with GRU gates and pre-trained embedding with word2vec without start and end token\n",
        "class Encoder(tf.keras.Model):\n",
        "  def __init__(self, vocab_size, embedding_dim, enc_units, batch_sz, embedding_matrix):\n",
        "    super(Encoder, self).__init__()\n",
        "    self.batch_sz = batch_sz\n",
        "    self.enc_units = enc_units\n",
        "    # could modify the embeddings for pre-trained embeddings\n",
        "    self.embedding = tf.keras.layers.Embedding(input_dim=vocab_size, output_dim=embedding_dim, weights=[ft_en_embedding_matrix_wtg], trainable=False)\n",
        "    self.gru = tf.keras.layers.GRU(self.enc_units,\n",
        "                                   return_sequences=True,\n",
        "                                   return_state=True,\n",
        "                                   recurrent_initializer='glorot_uniform')\n",
        "\n",
        "  def call(self, x, hidden):\n",
        "    x = self.embedding(x)\n",
        "    output, state = self.gru(x, initial_state = hidden)\n",
        "    return output, state\n",
        "\n",
        "  def initialize_hidden_state(self):\n",
        "    return tf.zeros((self.batch_sz, self.enc_units))"
      ],
      "execution_count": 0,
      "outputs": []
    },
    {
      "cell_type": "code",
      "metadata": {
        "id": "cD-gTbrkfi-5",
        "colab_type": "code",
        "colab": {
          "base_uri": "https://localhost:8080/",
          "height": 51
        },
        "outputId": "98e0a4fb-bf24-46eb-c412-cd37ff451365"
      },
      "source": [
        "# specify the embedding dim to be equal to the embedding dim chosen for word embeddings\n",
        "embedding_dim = 100\n",
        "vocab_inp_size = len(inp_lang.word_index)+1\n",
        "encoder = Encoder(vocab_inp_size, embedding_dim, units, BATCH_SIZE, ft_en_embedding_matrix_wtg)\n",
        "\n",
        "# sample input\n",
        "sample_hidden = encoder.initialize_hidden_state()\n",
        "sample_output, sample_hidden = encoder(example_input_batch, sample_hidden)\n",
        "print ('Encoder output shape: (batch size, sequence length, units) {}'.format(sample_output.shape))\n",
        "print ('Encoder Hidden state shape: (batch size, units) {}'.format(sample_hidden.shape))"
      ],
      "execution_count": 131,
      "outputs": [
        {
          "output_type": "stream",
          "text": [
            "Encoder output shape: (batch size, sequence length, units) (24, 94, 512)\n",
            "Encoder Hidden state shape: (batch size, units) (24, 512)\n"
          ],
          "name": "stdout"
        }
      ]
    },
    {
      "cell_type": "code",
      "metadata": {
        "id": "p2bP0v-6fjFX",
        "colab_type": "code",
        "colab": {
          "base_uri": "https://localhost:8080/",
          "height": 51
        },
        "outputId": "ee295180-b327-468b-f0af-bbcebbf7ea5e"
      },
      "source": [
        "attention_layer = BahdanauAttention(10)\n",
        "attention_result, attention_weights = attention_layer(sample_hidden, sample_output)\n",
        "\n",
        "print(\"Attention result shape: (batch size, units) {}\".format(attention_result.shape))\n",
        "print(\"Attention weights shape: (batch_size, sequence_length, 1) {}\".format(attention_weights.shape))"
      ],
      "execution_count": 132,
      "outputs": [
        {
          "output_type": "stream",
          "text": [
            "Attention result shape: (batch size, units) (24, 512)\n",
            "Attention weights shape: (batch_size, sequence_length, 1) (24, 94, 1)\n"
          ],
          "name": "stdout"
        }
      ]
    },
    {
      "cell_type": "code",
      "metadata": {
        "id": "1RqNG0egfjLM",
        "colab_type": "code",
        "colab": {}
      },
      "source": [
        "# GRU decoder\n",
        "class Decoder(tf.keras.Model):\n",
        "  def __init__(self, vocab_size, embedding_dim, dec_units, batch_sz):\n",
        "    super(Decoder, self).__init__()\n",
        "    self.batch_sz = batch_sz\n",
        "    self.dec_units = dec_units\n",
        "    # Here we specify the pre-trained embeddings\n",
        "    self.embedding = tf.keras.layers.Embedding(vocab_size, embedding_dim, weights=[ft_fr_embedding_matrix], trainable=False)\n",
        "    self.gru = tf.keras.layers.GRU(self.dec_units,\n",
        "                                   return_sequences=True,\n",
        "                                   return_state=True,\n",
        "                                   recurrent_initializer='glorot_uniform')\n",
        "    self.fc = tf.keras.layers.Dense(vocab_size)\n",
        "\n",
        "    # used for attention\n",
        "    self.attention = BahdanauAttention(self.dec_units)\n",
        "\n",
        "  def call(self, x, hidden, enc_output):\n",
        "    # enc_output shape == (batch_size, max_length, hidden_size)\n",
        "    context_vector, attention_weights = self.attention(hidden, enc_output)\n",
        "\n",
        "    # x shape after passing through embedding == (batch_size, 1, embedding_dim)\n",
        "    x = self.embedding(x)\n",
        "\n",
        "    # x shape after concatenation == (batch_size, 1, embedding_dim + hidden_size)\n",
        "    x = tf.concat([tf.expand_dims(context_vector, 1), x], axis=-1)\n",
        "\n",
        "    # passing the concatenated vector to the GRU\n",
        "    output, state = self.gru(x)\n",
        "\n",
        "    # output shape == (batch_size * 1, hidden_size)\n",
        "    output = tf.reshape(output, (-1, output.shape[2]))\n",
        "\n",
        "    # output shape == (batch_size, vocab)\n",
        "    x = self.fc(output)\n",
        "\n",
        "    return x, state, attention_weights"
      ],
      "execution_count": 0,
      "outputs": []
    },
    {
      "cell_type": "code",
      "metadata": {
        "id": "DRgmpKmXfjQT",
        "colab_type": "code",
        "colab": {
          "base_uri": "https://localhost:8080/",
          "height": 34
        },
        "outputId": "f714a81c-13b8-4af0-b751-f1e31bc7c250"
      },
      "source": [
        "decoder = Decoder(vocab_tar_size, embedding_dim, units, BATCH_SIZE)\n",
        "\n",
        "sample_decoder_output, _, _ = decoder(tf.random.uniform((BATCH_SIZE, 1)),\n",
        "                                      sample_hidden, sample_output)\n",
        "\n",
        "print ('Decoder output shape: (batch_size, vocab size) {}'.format(sample_decoder_output.shape))"
      ],
      "execution_count": 135,
      "outputs": [
        {
          "output_type": "stream",
          "text": [
            "Decoder output shape: (batch_size, vocab size) (24, 16781)\n"
          ],
          "name": "stdout"
        }
      ]
    },
    {
      "cell_type": "code",
      "metadata": {
        "id": "vhBaba0GgejS",
        "colab_type": "code",
        "colab": {}
      },
      "source": [
        "# Optimizer and loss function\n",
        "optimizer = tf.keras.optimizers.Adam()\n",
        "loss_object = tf.keras.losses.SparseCategoricalCrossentropy(\n",
        "    from_logits=True, reduction='none')"
      ],
      "execution_count": 0,
      "outputs": []
    },
    {
      "cell_type": "code",
      "metadata": {
        "id": "WEMUkV2Qgeqo",
        "colab_type": "code",
        "colab": {}
      },
      "source": [
        "# checkpoints do not want to override previous model\n",
        "checkpoint_dir_ft_wtg = './training_checkpoints_fasttext_wtg'\n",
        "checkpoint_prefix = os.path.join(checkpoint_dir_ft_wtg, \"ckpt\")\n",
        "checkpoint = tf.train.Checkpoint(optimizer=optimizer, encoder=encoder, decoder=decoder)"
      ],
      "execution_count": 0,
      "outputs": []
    },
    {
      "cell_type": "code",
      "metadata": {
        "id": "JdXBWpjWgfCF",
        "colab_type": "code",
        "colab": {}
      },
      "source": [
        "@tf.function\n",
        "def train_step(inp, targ, enc_hidden):\n",
        "  loss = 0\n",
        "\n",
        "  with tf.GradientTape() as tape:\n",
        "    enc_output, enc_hidden = encoder(inp, enc_hidden)\n",
        "\n",
        "    dec_hidden = enc_hidden\n",
        "\n",
        "    dec_input = tf.expand_dims([targ_lang.word_index['<start>']] * BATCH_SIZE, 1)\n",
        "\n",
        "    # Teacher forcing - feeding the target as the next input\n",
        "    for t in range(1, targ.shape[1]):\n",
        "      # passing enc_output to the decoder\n",
        "      predictions, dec_hidden, _ = decoder(dec_input, dec_hidden, enc_output)\n",
        "\n",
        "      loss += loss_function(targ[:, t], predictions)\n",
        "\n",
        "      # using teacher forcing\n",
        "      dec_input = tf.expand_dims(targ[:, t], 1)\n",
        "\n",
        "  batch_loss = (loss / int(targ.shape[1]))\n",
        "\n",
        "  variables = encoder.trainable_variables + decoder.trainable_variables\n",
        "\n",
        "  gradients = tape.gradient(loss, variables)\n",
        "\n",
        "  optimizer.apply_gradients(zip(gradients, variables))\n",
        "\n",
        "  return batch_loss"
      ],
      "execution_count": 0,
      "outputs": []
    },
    {
      "cell_type": "code",
      "metadata": {
        "id": "PONSpt4tg4L7",
        "colab_type": "code",
        "colab": {
          "base_uri": "https://localhost:8080/",
          "height": 1000
        },
        "outputId": "63b2a9d0-1bc1-4908-c18f-c8bb03e33f4f"
      },
      "source": [
        "EPOCHS = 10\n",
        "\n",
        "for epoch in range(EPOCHS):\n",
        "  start = time.time()\n",
        "\n",
        "  enc_hidden = encoder.initialize_hidden_state()\n",
        "  total_loss = 0\n",
        "\n",
        "  for (batch, (inp, targ)) in enumerate(dataset.take(steps_per_epoch)):\n",
        "    batch_loss = train_step(inp, targ, enc_hidden)\n",
        "    total_loss += batch_loss\n",
        "\n",
        "    if batch % 100 == 0:\n",
        "      print('Epoch {} Batch {} Loss {:.4f}'.format(epoch + 1,\n",
        "                                                   batch,\n",
        "                                                   batch_loss.numpy()))\n",
        "  # saving (checkpoint) the model every 2 epochs\n",
        "  if (epoch + 1) % 2 == 0:\n",
        "    checkpoint.save(file_prefix = checkpoint_prefix)\n",
        "\n",
        "  print('Epoch {} Loss {:.4f}'.format(epoch + 1,\n",
        "                                      total_loss / steps_per_epoch))\n",
        "  print('Time taken for 1 epoch {} sec\\n'.format(time.time() - start))"
      ],
      "execution_count": 139,
      "outputs": [
        {
          "output_type": "stream",
          "text": [
            "Epoch 1 Batch 0 Loss 2.0194\n",
            "Epoch 1 Batch 100 Loss 1.2437\n",
            "Epoch 1 Batch 200 Loss 1.0798\n",
            "Epoch 1 Batch 300 Loss 1.1100\n",
            "Epoch 1 Batch 400 Loss 1.4164\n",
            "Epoch 1 Loss 1.1830\n",
            "Time taken for 1 epoch 261.59091663360596 sec\n",
            "\n",
            "Epoch 2 Batch 0 Loss 0.8752\n",
            "Epoch 2 Batch 100 Loss 0.9979\n",
            "Epoch 2 Batch 200 Loss 0.8763\n",
            "Epoch 2 Batch 300 Loss 0.8445\n",
            "Epoch 2 Batch 400 Loss 0.9131\n",
            "Epoch 2 Loss 0.9948\n",
            "Time taken for 1 epoch 139.41678595542908 sec\n",
            "\n",
            "Epoch 3 Batch 0 Loss 1.1747\n",
            "Epoch 3 Batch 100 Loss 1.0096\n",
            "Epoch 3 Batch 200 Loss 1.0119\n",
            "Epoch 3 Batch 300 Loss 0.8927\n",
            "Epoch 3 Batch 400 Loss 0.8483\n",
            "Epoch 3 Loss 0.9133\n",
            "Time taken for 1 epoch 138.93417859077454 sec\n",
            "\n",
            "Epoch 4 Batch 0 Loss 0.8726\n",
            "Epoch 4 Batch 100 Loss 0.8994\n",
            "Epoch 4 Batch 200 Loss 0.7136\n",
            "Epoch 4 Batch 300 Loss 0.9682\n",
            "Epoch 4 Batch 400 Loss 0.7378\n",
            "Epoch 4 Loss 0.8455\n",
            "Time taken for 1 epoch 139.52025938034058 sec\n",
            "\n",
            "Epoch 5 Batch 0 Loss 0.8444\n",
            "Epoch 5 Batch 100 Loss 0.7684\n",
            "Epoch 5 Batch 200 Loss 0.6334\n",
            "Epoch 5 Batch 300 Loss 0.7939\n",
            "Epoch 5 Batch 400 Loss 0.8343\n",
            "Epoch 5 Loss 0.7860\n",
            "Time taken for 1 epoch 139.0829861164093 sec\n",
            "\n",
            "Epoch 6 Batch 0 Loss 0.5496\n",
            "Epoch 6 Batch 100 Loss 0.7039\n",
            "Epoch 6 Batch 200 Loss 0.6912\n",
            "Epoch 6 Batch 300 Loss 0.9300\n",
            "Epoch 6 Batch 400 Loss 0.8448\n",
            "Epoch 6 Loss 0.7239\n",
            "Time taken for 1 epoch 139.52468013763428 sec\n",
            "\n",
            "Epoch 7 Batch 0 Loss 0.5613\n",
            "Epoch 7 Batch 100 Loss 0.6123\n",
            "Epoch 7 Batch 200 Loss 0.6248\n",
            "Epoch 7 Batch 300 Loss 0.6554\n",
            "Epoch 7 Batch 400 Loss 0.6727\n",
            "Epoch 7 Loss 0.6634\n",
            "Time taken for 1 epoch 139.039297580719 sec\n",
            "\n",
            "Epoch 8 Batch 0 Loss 0.5924\n",
            "Epoch 8 Batch 100 Loss 0.5399\n",
            "Epoch 8 Batch 200 Loss 0.6319\n",
            "Epoch 8 Batch 300 Loss 0.6230\n",
            "Epoch 8 Batch 400 Loss 0.6830\n",
            "Epoch 8 Loss 0.6098\n",
            "Time taken for 1 epoch 139.666983127594 sec\n",
            "\n",
            "Epoch 9 Batch 0 Loss 0.6445\n",
            "Epoch 9 Batch 100 Loss 0.6288\n",
            "Epoch 9 Batch 200 Loss 0.6720\n",
            "Epoch 9 Batch 300 Loss 0.6140\n",
            "Epoch 9 Batch 400 Loss 0.5627\n",
            "Epoch 9 Loss 0.5591\n",
            "Time taken for 1 epoch 139.12170886993408 sec\n",
            "\n",
            "Epoch 10 Batch 0 Loss 0.5216\n",
            "Epoch 10 Batch 100 Loss 0.4274\n",
            "Epoch 10 Batch 200 Loss 0.4999\n",
            "Epoch 10 Batch 300 Loss 0.6533\n",
            "Epoch 10 Batch 400 Loss 0.5749\n",
            "Epoch 10 Loss 0.5144\n",
            "Time taken for 1 epoch 139.61304759979248 sec\n",
            "\n"
          ],
          "name": "stdout"
        }
      ]
    },
    {
      "cell_type": "code",
      "metadata": {
        "id": "qHbckWqUg4S8",
        "colab_type": "code",
        "colab": {
          "base_uri": "https://localhost:8080/",
          "height": 34
        },
        "outputId": "c805569c-7869-4b72-c22b-24caa5da81f6"
      },
      "source": [
        "# checkpoints\n",
        "checkpoint_dir_ft_wtg = './training_checkpoints_fasttext_wtg'\n",
        "checkpoint_prefix = os.path.join(checkpoint_dir_ft_wtg, \"ckpt\")\n",
        "checkpoint = tf.train.Checkpoint(optimizer=optimizer, encoder=encoder, decoder=decoder)\n",
        "\n",
        "checkpoint.restore(tf.train.latest_checkpoint(checkpoint_dir_ft_wtg))"
      ],
      "execution_count": 140,
      "outputs": [
        {
          "output_type": "execute_result",
          "data": {
            "text/plain": [
              "<tensorflow.python.training.tracking.util.CheckpointLoadStatus at 0x7fbe59833898>"
            ]
          },
          "metadata": {
            "tags": []
          },
          "execution_count": 140
        }
      ]
    },
    {
      "cell_type": "code",
      "metadata": {
        "id": "N4v5nBkslkTb",
        "colab_type": "code",
        "colab": {
          "base_uri": "https://localhost:8080/",
          "height": 726
        },
        "outputId": "320de59f-93ab-4b15-f87b-205d6929d073"
      },
      "source": [
        "translate(f\"europe is at a crossroad just as it was after the second world war which resulted in the birth of what was not then known as the european union\")"
      ],
      "execution_count": 141,
      "outputs": [
        {
          "output_type": "stream",
          "text": [
            "Input: <start> europe is at a crossroad just as it was after the second world war which resulted in the birth of what was not then known as the european union <end>\n",
            "Predicted translation: l europe est en fait , le début de la zone euro , qui n était pas seulement comme le monde entier . qui n était pas seulement comme le monde entier . qui n était pas seulement comme le monde entier . qui n était pas seulement comme le monde entier . qui n était pas seulement comme le monde entier . qui n était pas seulement comme le monde entier . qui n était pas seulement comme le monde entier . qui n était pas seulement comme le monde entier . qui n était pas seulement comme le monde entier . qui n était pas seulement comme le monde entier . \n",
            "length of the predicted translation : 114\n"
          ],
          "name": "stdout"
        },
        {
          "output_type": "display_data",
          "data": {
            "image/png": "[encoded data removed]",
            "text/plain": [
              "<Figure size 720x720 with 1 Axes>"
            ]
          },
          "metadata": {
            "tags": []
          }
        }
      ]
    },
    {
      "cell_type": "code",
      "metadata": {
        "id": "twBJ-U1tlxKy",
        "colab_type": "code",
        "colab": {
          "base_uri": "https://localhost:8080/",
          "height": 681
        },
        "outputId": "c255464d-1a35-49bc-c92d-0097a5fe75f6"
      },
      "source": [
        "translate(f\"i'm not the only one who's obsessed with this whole year thing\")"
      ],
      "execution_count": 142,
      "outputs": [
        {
          "output_type": "stream",
          "text": [
            "Input: <start> i m not the only one who s obsessed with this whole year thing <end>\n",
            "Predicted translation: je n ai pas la seule personne qui est de cette assemblée . <end> \n",
            "length of the predicted translation : 15\n"
          ],
          "name": "stdout"
        },
        {
          "output_type": "display_data",
          "data": {
            "image/png": "[encoded data removed]",
            "text/plain": [
              "<Figure size 720x720 with 1 Axes>"
            ]
          },
          "metadata": {
            "tags": []
          }
        }
      ]
    },
    {
      "cell_type": "code",
      "metadata": {
        "id": "Z4uksuu5l0zs",
        "colab_type": "code",
        "colab": {
          "base_uri": "https://localhost:8080/",
          "height": 535
        },
        "outputId": "e958beec-ab1f-4879-d4a1-95f905641752"
      },
      "source": [
        "translate(f\"will he pass the examination i am afraid not\")"
      ],
      "execution_count": 143,
      "outputs": [
        {
          "output_type": "stream",
          "text": [
            "Input: <start> will he pass the examination i am afraid not <end>\n",
            "Predicted translation: il n est pas , <end> \n",
            "length of the predicted translation : 7\n"
          ],
          "name": "stdout"
        },
        {
          "output_type": "display_data",
          "data": {
            "image/png": "[encoded data removed]",
            "text/plain": [
              "<Figure size 720x720 with 1 Axes>"
            ]
          },
          "metadata": {
            "tags": []
          }
        }
      ]
    },
    {
      "cell_type": "markdown",
      "metadata": {
        "id": "0ssZdbIzDT6B",
        "colab_type": "text"
      },
      "source": [
        "## Evaluation"
      ]
    },
    {
      "cell_type": "code",
      "metadata": {
        "id": "0FeDmQX_DVUc",
        "colab_type": "code",
        "colab": {}
      },
      "source": [
        "# used to map indices of target tensor to the aligned train.lang2 file \n",
        "# so we don't lose which original sentence from the aligned files is in train and test\n",
        "import pandas as pd\n",
        "target_df = pd.DataFrame(target_tensor)\n",
        "input_df = pd.DataFrame(input_tensor)\n",
        "\n",
        "input_df_train, input_df_val, target_df_train, target_df_val = train_test_split(input_df, target_df, test_size=0.1, random_state=6759)"
      ],
      "execution_count": 0,
      "outputs": []
    },
    {
      "cell_type": "code",
      "metadata": {
        "id": "A0IW-Ei-DbEt",
        "colab_type": "code",
        "colab": {}
      },
      "source": [
        "#indices = [x + 1 for x in list(target_df_val.index)]\n",
        "indices = list(target_df_val.index)"
      ],
      "execution_count": 0,
      "outputs": []
    },
    {
      "cell_type": "code",
      "metadata": {
        "id": "6mbQsgoDHRP5",
        "colab_type": "code",
        "colab": {}
      },
      "source": [
        "# indicies of english test set\n",
        "indices_en = list(input_df_val.index)"
      ],
      "execution_count": 0,
      "outputs": []
    },
    {
      "cell_type": "code",
      "metadata": {
        "id": "WlwKkCDrQNG_",
        "colab_type": "code",
        "colab": {
          "base_uri": "https://localhost:8080/",
          "height": 34
        },
        "outputId": "c3678cee-36b2-478b-9829-ff7ad3dd09bf"
      },
      "source": [
        "indices_en_train = list(input_df_train.index)"
      ],
      "execution_count": 48,
      "outputs": [
        {
          "output_type": "execute_result",
          "data": {
            "text/plain": [
              "9900"
            ]
          },
          "metadata": {
            "tags": []
          },
          "execution_count": 48
        }
      ]
    },
    {
      "cell_type": "code",
      "metadata": {
        "id": "TJ6u-W4cDf5M",
        "colab_type": "code",
        "colab": {}
      },
      "source": [
        "# need to change this function so it doesn't really on anything else before that is not in the function itself\n",
        "def target_to_file(input_path, output_path, indices):\n",
        "  \"\"\" Function that writes only the sentences used in the train-test split to a file so it can be used to write targets.txt for evaluator.py or the input to write_prediction_file \"\"\"\n",
        "  with open(input_path, 'r') as f:\n",
        "    with open(output_path, 'w') as outfile:\n",
        "      for index, line in enumerate(f):\n",
        "        if index in indices:\n",
        "          line = line.strip() + \"\\n\"\n",
        "          outfile.write(line)"
      ],
      "execution_count": 0,
      "outputs": []
    },
    {
      "cell_type": "code",
      "metadata": {
        "id": "tlrMdt3TIINs",
        "colab_type": "code",
        "colab": {}
      },
      "source": [
        "# creates input_en.txt (used in the generate_predictions function) which are the test sentences to be translated\n",
        "# only need to do it once, uncomment if not done\n",
        "# target_to_file('data/train.lang1', 'data/input_en.txt', indices_en)"
      ],
      "execution_count": 0,
      "outputs": []
    },
    {
      "cell_type": "code",
      "metadata": {
        "id": "BBKgAzGtQbwo",
        "colab_type": "code",
        "colab": {}
      },
      "source": [
        "# training set\n",
        "target_to_file('data/train.lang1', 'data/train_en.txt', indices_en_train)"
      ],
      "execution_count": 0,
      "outputs": []
    },
    {
      "cell_type": "code",
      "metadata": {
        "id": "9r_SYyRpEGmu",
        "colab_type": "code",
        "colab": {}
      },
      "source": [
        "# creates targets.txt which are true translation from english to french\n",
        "# only need to do it once, uncomment if not done\n",
        "# target_to_file('data/train.lang2', 'data/targets.txt', indices)"
      ],
      "execution_count": 0,
      "outputs": []
    },
    {
      "cell_type": "code",
      "metadata": {
        "id": "724VAfqc4Yqd",
        "colab_type": "code",
        "colab": {}
      },
      "source": [
        "# need to add docstring to function\n",
        "def generate_predictions(input_lang_file, prediction_file_path, model):\n",
        "  # base doesn't work, throw out an error with shapes\n",
        "  if model == 'base':\n",
        "    checkpoint_dir = './training_checkpoints'\n",
        "    checkpoint.restore(tf.train.latest_checkpoint(checkpoint_dir))\n",
        "\n",
        "  elif model == 'word2vec':\n",
        "    checkpoint_dir_w2v = './training_checkpoints_word2vec'\n",
        "    checkpoint.restore(tf.train.latest_checkpoint(checkpoint_dir_w2v))\n",
        "  elif model == 'word2vec_wtg':\n",
        "    checkpoint_dir_w2v_wtg = './training_checkpoints_word2vec_wtg'\n",
        "    checkpoint.restore(tf.train.latest_checkpoint(checkpoint_dir_w2v_wtg))\n",
        "  elif model == 'fasttext':\n",
        "    checkpoint_dir_ft = './training_checkpoints_fasttext'\n",
        "    checkpoint.restore(tf.train.latest_checkpoint(checkpoint_dir_ft))\n",
        "  elif model == 'fasttext_wtg':\n",
        "    checkpoint_dir_ft_wtg = './training_checkpoints_fasttext_wtg'\n",
        "    checkpoint.restore(tf.train.latest_checkpoint(checkpoint_dir_ft_wtg))\n",
        "  else:\n",
        "    raise ValueError('model name not recognized')\n",
        "\n",
        "  with open(input_lang_file, 'r') as f:\n",
        "    with open(prediction_file_path, 'w') as outfile:\n",
        "      for index, sentence in enumerate(f):\n",
        "        sent = preprocess_sentence(sentence)\n",
        "        \n",
        "        inputs = [inp_lang.word_index[i] if i in inp_lang.word_index else np.random.randint(low=0, high=len(inp_lang.word_index), size=1) for i in sent.split(' ')]\n",
        "        inputs = tf.keras.preprocessing.sequence.pad_sequences([inputs], maxlen=max_length_inp, padding='post')\n",
        "        inputs = tf.convert_to_tensor(inputs)\n",
        "        result = ''\n",
        "        hidden = [tf.zeros((1, units))]\n",
        "        enc_out, enc_hidden = encoder(inputs, hidden)\n",
        "        dec_hidden = enc_hidden\n",
        "        dec_input = tf.expand_dims([targ_lang.word_index['<start>']], 0)\n",
        "        sentence_list = []\n",
        "\n",
        "        for t in range(max_length_targ):\n",
        "          predictions, dec_hidden, attention_weights = decoder(dec_input, dec_hidden, enc_out)\n",
        "          predicted_id = tf.argmax(predictions[0]).numpy()\n",
        "          result = targ_lang.index_word[predicted_id]\n",
        "          sentence_list.append(result)\n",
        "          if targ_lang.index_word[predicted_id] == '<end>':\n",
        "              break\n",
        "          # the predicted ID is fed back into the model\n",
        "          dec_input = tf.expand_dims([predicted_id], 0)\n",
        "\n",
        "        if \"<end>\" in sentence_list:\n",
        "          sentence_list.remove(\"<end>\")\n",
        "        outfile.write(' '.join([str(word) for word in sentence_list]) + \"\\n\")"
      ],
      "execution_count": 0,
      "outputs": []
    },
    {
      "cell_type": "code",
      "metadata": {
        "id": "tCFCTwtUW9YB",
        "colab_type": "code",
        "colab": {}
      },
      "source": [
        "# only need to do it once per model, uncomment if not done\n",
        "generate_predictions('data/input_en.txt', 'data/predictions_word2vec.txt', 'word2vec')"
      ],
      "execution_count": 0,
      "outputs": []
    },
    {
      "cell_type": "code",
      "metadata": {
        "id": "dQVzy7T7TCrp",
        "colab_type": "code",
        "outputId": "b7252299-0c52-42e6-ccef-841c869121b0",
        "colab": {
          "base_uri": "https://localhost:8080/",
          "height": 34
        }
      },
      "source": [
        "%cd /content/gdrive/My Drive/ift6759/code"
      ],
      "execution_count": 0,
      "outputs": [
        {
          "output_type": "stream",
          "text": [
            "/content/gdrive/My Drive/ift6759/code\n"
          ],
          "name": "stdout"
        }
      ]
    },
    {
      "cell_type": "code",
      "metadata": {
        "id": "hnDsKmZxljVr",
        "colab_type": "code",
        "outputId": "2f40d78d-f29d-44c1-e4e1-aa4e97ea1da7",
        "colab": {
          "base_uri": "https://localhost:8080/",
          "height": 187
        }
      },
      "source": [
        "!python evaluator.py --input-file-path predictions.txt --target-file-path targets.txt --do-not-run-model"
      ],
      "execution_count": 0,
      "outputs": [
        {
          "output_type": "stream",
          "text": [
            "Traceback (most recent call last):\n",
            "  File \"evaluator.py\", line 64, in <module>\n",
            "    main()\n",
            "  File \"evaluator.py\", line 56, in main\n",
            "    compute_bleu(args.input_file_path, args.target_file_path, args.print_all_scores)\n",
            "  File \"evaluator.py\", line 33, in compute_bleu\n",
            "    stdout=subprocess.PIPE, stderr=subprocess.STDOUT, text=True)\n",
            "  File \"/usr/lib/python3.6/subprocess.py\", line 423, in run\n",
            "    with Popen(*popenargs, **kwargs) as process:\n",
            "TypeError: __init__() got an unexpected keyword argument 'text'\n"
          ],
          "name": "stdout"
        }
      ]
    }
  ]
}