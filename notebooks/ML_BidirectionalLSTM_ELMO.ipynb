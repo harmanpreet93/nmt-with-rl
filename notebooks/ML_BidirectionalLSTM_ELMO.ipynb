{
 "cells": [
  {
   "cell_type": "code",
   "execution_count": 1,
   "metadata": {},
   "outputs": [],
   "source": [
    "#!pip install --no-index --upgrade pip"
   ]
  },
  {
   "cell_type": "code",
   "execution_count": 2,
   "metadata": {},
   "outputs": [],
   "source": [
    "#!pip install --no-index numpy"
   ]
  },
  {
   "cell_type": "code",
   "execution_count": 3,
   "metadata": {},
   "outputs": [],
   "source": [
    "#!pip install --no-index tensorflow-gpu"
   ]
  },
  {
   "cell_type": "code",
   "execution_count": 4,
   "metadata": {},
   "outputs": [],
   "source": [
    "#!pip install --no-index matplotlib"
   ]
  },
  {
   "cell_type": "code",
   "execution_count": 5,
   "metadata": {
    "colab": {},
    "colab_type": "code",
    "id": "gvVhUeaRO_nA"
   },
   "outputs": [],
   "source": [
    "import tensorflow as tf\n",
    "#import tensorflow_addons as tfa\n",
    "#import tensorflow_datasets as tfds\n",
    "import os\n",
    "import matplotlib.pyplot as plt\n",
    "import io\n",
    "import unicodedata\n",
    "import re\n",
    "import gc\n",
    "from collections import Counter\n",
    "#import keras as k"
   ]
  },
  {
   "cell_type": "code",
   "execution_count": 6,
   "metadata": {
    "colab": {},
    "colab_type": "code",
    "id": "ys0Y7XsBO_nY"
   },
   "outputs": [],
   "source": [
    "#physical_devices = tf.config.list_physical_devices('GPU')\n",
    "#physical_devices"
   ]
  },
  {
   "cell_type": "code",
   "execution_count": 7,
   "metadata": {},
   "outputs": [],
   "source": [
    "#tf.config.experimental.set_memory_growth(physical_devices[0], enable=True)\n",
    "#os.environ['TF_FORCE_GPU_ALLOW_GROWTH'] = 'true'"
   ]
  },
  {
   "cell_type": "code",
   "execution_count": 8,
   "metadata": {},
   "outputs": [
    {
     "data": {
      "text/plain": [
       "'1.15.0'"
      ]
     },
     "execution_count": 8,
     "metadata": {},
     "output_type": "execute_result"
    }
   ],
   "source": [
    "tf.__version__"
   ]
  },
  {
   "cell_type": "code",
   "execution_count": 9,
   "metadata": {},
   "outputs": [
    {
     "name": "stderr",
     "output_type": "stream",
     "text": [
      "Using TensorFlow backend.\n"
     ]
    }
   ],
   "source": [
    "from tensorflow.keras.models import Model\n",
    "from tensorflow.keras import layers\n",
    "from tensorflow.keras.layers import concatenate\n",
    "import numpy as np\n",
    "from keras.preprocessing.sequence import pad_sequences\n",
    "import h5py\n",
    "import os\n",
    "import bilm\n",
    "from bilm import Batcher, BidirectionalLanguageModel, weight_layers\n",
    "import datetime as dt"
   ]
  },
  {
   "cell_type": "markdown",
   "metadata": {
    "colab_type": "text",
    "id": "UYVG_U1HO_ne"
   },
   "source": [
    "## Preprocessing: Tokenize, clean-up, load, padding"
   ]
  },
  {
   "cell_type": "markdown",
   "metadata": {
    "colab_type": "text",
    "id": "5C4OBlaeO_nf"
   },
   "source": [
    "### Tokenize and clean up data"
   ]
  },
  {
   "cell_type": "code",
   "execution_count": 10,
   "metadata": {
    "colab": {},
    "colab_type": "code",
    "id": "gEI1uWtjO_nh"
   },
   "outputs": [],
   "source": [
    "# Lower case for the translation\n",
    "# Load original english text as is\n",
    "# install requirement.txt\n",
    "# python -m spacy download fr_core_news_sm\n",
    "# correction of tokenizer.py: add encoding='utf-8' to open method\n",
    "# same thing for punctuation_remover.py\n",
    "# python tokenizer.py --input train.lang2 --output tokenized --lang fr --keep-empty-lines\n",
    "# python punctuation_remover.py --input train.lang2.tok --output tokenized\n"
   ]
  },
  {
   "cell_type": "markdown",
   "metadata": {
    "colab_type": "text",
    "id": "CpNtsXsjO_nn"
   },
   "source": [
    "### Loading weights"
   ]
  },
  {
   "cell_type": "code",
   "execution_count": 11,
   "metadata": {
    "colab": {},
    "colab_type": "code",
    "id": "y5nxMfzAO_no"
   },
   "outputs": [],
   "source": [
    "# Load data\n",
    "textdir = \"data/train/\"\n",
    "fr_text_file = os.path.join(textdir, 'train.lang2')\n",
    "en_text_file = os.path.join(textdir, 'train.lang1')\n",
    "\n",
    "#FILE_NAMES = [\"train.lang1\",\"train.lang2\"]\n",
    "#ELMo_Embeddings = [\"new_ELMo_input_en_embeddings.hdf5\",\"ELMo_emb_fr.hdf5\"]\n",
    "\n",
    "datadir = \"ELMo/\"\n",
    "Elmo_emb_dec_input_file = os.path.join(datadir, 'swb_fr/', 'ELMo_decoder_input_embeddings.hdf5')\n",
    "Elmo_emb_dec_targets_file = os.path.join(datadir, 'swb_fr/', 'ELMo_decoder_output_embeddings.hdf5')\n",
    "\n",
    "fr_vocab_file = os.path.join(datadir, 'swb_fr/', 'vocab.txt')\n",
    "fr_options_file = os.path.join(datadir, 'swb_fr/', 'options_eval_fr.json')\n",
    "    fr_weight_file = os.path.join(datadir, 'swb_fr/', 'swb_weights_fr.hdf5')\n",
    "\n",
    "Elmo_emb_enc_file = os.path.join(datadir, 'swb_en/', 'ELMo_encoder_embeddings_post.hdf5')\n",
    "en_vocab_file = os.path.join(datadir, 'swb_en/', 'vocab.txt')\n",
    "en_options_file = os.path.join(datadir, 'swb_en/', 'options_eval.json')\n",
    "en_weight_file = os.path.join(datadir, 'swb_en/', 'swb_weights_en.hdf5')\n",
    "\n",
    "\n",
    "SOS_ELMo_emb_file = os.path.join(datadir, '../', 'SOS_ELMo_emb.hdf5')\n"
   ]
  },
  {
   "cell_type": "code",
   "execution_count": 12,
   "metadata": {},
   "outputs": [],
   "source": [
    "en_elmo_emb = h5py.File(Elmo_emb_enc_file, 'r')\n",
    "fr_elmo_emb = h5py.File(Elmo_emb_dec_input_file, 'r')\n",
    "#fr_elmo_emb_targets = h5py.File(Elmo_emb_dec_targets_file, 'r')"
   ]
  },
  {
   "cell_type": "markdown",
   "metadata": {},
   "source": [
    "### Load vocabulary"
   ]
  },
  {
   "cell_type": "code",
   "execution_count": 13,
   "metadata": {},
   "outputs": [
    {
     "data": {
      "text/plain": [
       "['<PAD>', '<S>', '</S>', '<UNK>', 'the', 'to', 'of', 'and', 'in', 'a']"
      ]
     },
     "execution_count": 13,
     "metadata": {},
     "output_type": "execute_result"
    }
   ],
   "source": [
    "en_vocab = []\n",
    "with open(en_vocab_file, 'r', encoding='utf-8') as f:\n",
    "    for line in f.readlines():\n",
    "        line = line.rstrip().split('\\n')\n",
    "        en_vocab.append(line[0])\n",
    "    f.close()\n",
    "\n",
    "en_vocab = ['<PAD>'] + en_vocab\n",
    "en_vocab[:10]"
   ]
  },
  {
   "cell_type": "code",
   "execution_count": 14,
   "metadata": {},
   "outputs": [
    {
     "name": "stdout",
     "output_type": "stream",
     "text": [
      "Number of input lang tokens:  165670\n"
     ]
    }
   ],
   "source": [
    "en_word2idx = {v:k for k, v in enumerate(en_vocab)}\n",
    "#print(en_word2idx)\n",
    "num_words_input = len(en_word2idx)\n",
    "print(\"Number of input lang tokens: \",num_words_input)"
   ]
  },
  {
   "cell_type": "code",
   "execution_count": 15,
   "metadata": {},
   "outputs": [
    {
     "data": {
      "text/plain": [
       "['<PAD>', '<S>', '</S>', '<UNK>', 'de', '.', ',', 'la', 'et', 'le']"
      ]
     },
     "execution_count": 15,
     "metadata": {},
     "output_type": "execute_result"
    }
   ],
   "source": [
    "fr_vocab = []\n",
    "with open(fr_vocab_file, 'r', encoding='utf-8') as f:\n",
    "    for line in f.readlines():\n",
    "        line = line.rstrip().split('\\n')\n",
    "        fr_vocab.append(line[0])\n",
    "    f.close()\n",
    "\n",
    "fr_vocab = ['<PAD>'] + fr_vocab\n",
    "fr_vocab[:10]"
   ]
  },
  {
   "cell_type": "code",
   "execution_count": 16,
   "metadata": {},
   "outputs": [
    {
     "name": "stdout",
     "output_type": "stream",
     "text": [
      "Number of output lang tokens:  83332\n"
     ]
    }
   ],
   "source": [
    "fr_word2idx = {v:k for k, v in enumerate(fr_vocab)}\n",
    "fr_idx2word = {k:v for k, v in enumerate(fr_vocab)}\n",
    "#print(fr_word2idx)\n",
    "num_words_output = len(fr_word2idx)\n",
    "print(\"Number of output lang tokens: \",num_words_output)"
   ]
  },
  {
   "cell_type": "markdown",
   "metadata": {},
   "source": [
    "### Load ELMo embeddings"
   ]
  },
  {
   "cell_type": "code",
   "execution_count": 17,
   "metadata": {},
   "outputs": [],
   "source": [
    "# Encoder embeddings\n",
    "dset = list(en_elmo_emb.keys())[0]\n",
    "encoder_input_sequences = en_elmo_emb[dset][()]\n",
    "en_elmo_emb.close()"
   ]
  },
  {
   "cell_type": "code",
   "execution_count": 18,
   "metadata": {},
   "outputs": [
    {
     "data": {
      "text/plain": [
       "(11000, 96, 256)"
      ]
     },
     "execution_count": 18,
     "metadata": {},
     "output_type": "execute_result"
    }
   ],
   "source": [
    "encoder_input_sequences.shape"
   ]
  },
  {
   "cell_type": "code",
   "execution_count": 19,
   "metadata": {},
   "outputs": [
    {
     "data": {
      "text/plain": [
       "96"
      ]
     },
     "execution_count": 19,
     "metadata": {},
     "output_type": "execute_result"
    }
   ],
   "source": [
    "# max input sentence length\n",
    "max_input_len = encoder_input_sequences.shape[1]\n",
    "max_input_len"
   ]
  },
  {
   "cell_type": "code",
   "execution_count": 20,
   "metadata": {},
   "outputs": [
    {
     "data": {
      "text/plain": [
       "array([[ 0.9377234 ,  0.11211856, -1.815702  , ..., -1.0165986 ,\n",
       "         0.2566865 , -1.4266841 ],\n",
       "       [ 0.76397216, -0.72957176, -1.2059255 , ..., -0.53055835,\n",
       "        -0.28045744, -1.6430402 ],\n",
       "       [-0.09817386, -2.4250271 ,  1.2986397 , ...,  0.80349994,\n",
       "         0.70233214, -3.0202804 ],\n",
       "       ...,\n",
       "       [ 0.        ,  0.        ,  0.        , ...,  0.        ,\n",
       "         0.        ,  0.        ],\n",
       "       [ 0.        ,  0.        ,  0.        , ...,  0.        ,\n",
       "         0.        ,  0.        ],\n",
       "       [ 0.        ,  0.        ,  0.        , ...,  0.        ,\n",
       "         0.        ,  0.        ]], dtype=float32)"
      ]
     },
     "execution_count": 20,
     "metadata": {},
     "output_type": "execute_result"
    }
   ],
   "source": [
    "encoder_input_sequences[0]"
   ]
  },
  {
   "cell_type": "markdown",
   "metadata": {},
   "source": [
    "### Decoder input embeddings"
   ]
  },
  {
   "cell_type": "code",
   "execution_count": 21,
   "metadata": {},
   "outputs": [],
   "source": [
    "# Decoder input embeddings\n",
    "dset = list(fr_elmo_emb.keys())[0]\n",
    "decoder_input_sequences = fr_elmo_emb[dset][()]\n",
    "fr_elmo_emb.close()"
   ]
  },
  {
   "cell_type": "code",
   "execution_count": 22,
   "metadata": {},
   "outputs": [
    {
     "data": {
      "text/plain": [
       "(11000, 113, 256)"
      ]
     },
     "execution_count": 22,
     "metadata": {},
     "output_type": "execute_result"
    }
   ],
   "source": [
    "decoder_input_sequences.shape"
   ]
  },
  {
   "cell_type": "code",
   "execution_count": 23,
   "metadata": {},
   "outputs": [
    {
     "data": {
      "text/plain": [
       "113"
      ]
     },
     "execution_count": 23,
     "metadata": {},
     "output_type": "execute_result"
    }
   ],
   "source": [
    "# max input sentence length\n",
    "max_out_len = decoder_input_sequences.shape[1]\n",
    "max_out_len"
   ]
  },
  {
   "cell_type": "code",
   "execution_count": 24,
   "metadata": {},
   "outputs": [
    {
     "data": {
      "text/plain": [
       "array([[-1.3515264 , -0.4155752 , -1.1044897 , ..., -0.6278715 ,\n",
       "         1.9337945 , -1.7928498 ],\n",
       "       [ 1.0957094 ,  0.7679421 ,  1.6110834 , ...,  0.3838907 ,\n",
       "        -0.34145802,  1.4356495 ],\n",
       "       [ 0.7996905 ,  0.6359963 ,  0.70580614, ..., -0.95944005,\n",
       "         1.1262033 , -1.3790954 ],\n",
       "       ...,\n",
       "       [ 0.        ,  0.        ,  0.        , ...,  0.        ,\n",
       "         0.        ,  0.        ],\n",
       "       [ 0.        ,  0.        ,  0.        , ...,  0.        ,\n",
       "         0.        ,  0.        ],\n",
       "       [ 0.        ,  0.        ,  0.        , ...,  0.        ,\n",
       "         0.        ,  0.        ]], dtype=float32)"
      ]
     },
     "execution_count": 24,
     "metadata": {},
     "output_type": "execute_result"
    }
   ],
   "source": [
    "decoder_input_sequences[0]"
   ]
  },
  {
   "cell_type": "markdown",
   "metadata": {},
   "source": [
    "### Decoder targets"
   ]
  },
  {
   "cell_type": "code",
   "execution_count": 25,
   "metadata": {},
   "outputs": [],
   "source": [
    "# Load french train text\n",
    "decoder_target_text = []\n",
    "\n",
    "with open(fr_text_file, 'r', encoding=\"UTF-8\") as fr_file:\n",
    "    for line in fr_file.readlines():\n",
    "        line = line.rstrip().split('\\n')\n",
    "\n",
    "        target_line = line[0]+\" </S>\"\n",
    "        #input_line = \"<S> \"+line[0]+\"\\n\"\n",
    "\n",
    "        #decoder_input_text.append(input_line)\n",
    "        decoder_target_text.append(target_line)\n",
    "    fr_file.close()"
   ]
  },
  {
   "cell_type": "code",
   "execution_count": 26,
   "metadata": {},
   "outputs": [
    {
     "data": {
      "text/plain": [
       "['L’ idée de concilier les différences religieuses semble donc dangereuse . </S>',\n",
       " 'Monsieur le Président , Mesdames et Messieurs , les perspectives financières esquissent la portée des activités de l’ UE pour les années à venir , fournissent un cadre pour ces activités et déterminent leur efficacité . </S>',\n",
       " 'La réticence doit laisser place à une politique stimulante . </S>']"
      ]
     },
     "execution_count": 26,
     "metadata": {},
     "output_type": "execute_result"
    }
   ],
   "source": [
    "decoder_target_text[:3]"
   ]
  },
  {
   "cell_type": "code",
   "execution_count": 27,
   "metadata": {},
   "outputs": [],
   "source": [
    "# Tokenize text\n",
    "tokenized_context = [sentence.split() for sentence in decoder_target_text]"
   ]
  },
  {
   "cell_type": "code",
   "execution_count": 28,
   "metadata": {},
   "outputs": [],
   "source": [
    "#tokenized_context[1]"
   ]
  },
  {
   "cell_type": "code",
   "execution_count": 29,
   "metadata": {},
   "outputs": [],
   "source": [
    "def get_idx_from_word(word, encode_dict):\n",
    "    #print(encode_dict.get(word))\n",
    "    if encode_dict.get(word)==None:\n",
    "        if encode_dict.get(word.lower())==None:\n",
    "            return encode_dict.get('<UNK>')\n",
    "        else:\n",
    "            return encode_dict.get(word.lower())\n",
    "    else:\n",
    "        return encode_dict.get(word)\n",
    "    \n",
    "def encode_sequence(seq, encode_dict):\n",
    "    #print([j.lower() for j in seq])\n",
    "    return [get_idx_from_word(j, encode_dict) for j in seq]"
   ]
  },
  {
   "cell_type": "code",
   "execution_count": 30,
   "metadata": {},
   "outputs": [],
   "source": [
    "def get_word_from_idx(idx, decode_dict):\n",
    "    if decode_dict.get(idx)==None:\n",
    "        return '<UNK>'\n",
    "    else:\n",
    "        return decode_dict.get(idx)\n",
    "\n",
    "def decode_sequence(seq, decode_dict):\n",
    "    return [get_word_from_idx(j, decode_dict) for j in seq]"
   ]
  },
  {
   "cell_type": "code",
   "execution_count": 31,
   "metadata": {},
   "outputs": [],
   "source": [
    "#idx = encode_sequence(tokenized_context[1],fr_word2idx)\n",
    "#idx"
   ]
  },
  {
   "cell_type": "code",
   "execution_count": 32,
   "metadata": {},
   "outputs": [
    {
     "data": {
      "text/plain": [
       "['<PAD>']"
      ]
     },
     "execution_count": 32,
     "metadata": {},
     "output_type": "execute_result"
    }
   ],
   "source": [
    "idx = decode_sequence([0],fr_idx2word)\n",
    "idx"
   ]
  },
  {
   "cell_type": "code",
   "execution_count": 33,
   "metadata": {},
   "outputs": [
    {
     "data": {
      "text/plain": [
       "(11000, 113)"
      ]
     },
     "execution_count": 33,
     "metadata": {},
     "output_type": "execute_result"
    }
   ],
   "source": [
    "# Build decoder targets\n",
    "for i, seq in enumerate(tokenized_context):\n",
    "    new_seq = pad_sequences([encode_sequence(seq, fr_word2idx)], padding='post', maxlen=max_out_len)\n",
    "    if i==0:\n",
    "        decoder_output_sequences = new_seq\n",
    "    else:\n",
    "        decoder_output_sequences = np.vstack((decoder_output_sequences, new_seq))\n",
    "        \n",
    "#decoder_output_sequences = numpy.array([numpy.array(xi) for xi in x])\n",
    "\n",
    "decoder_output_sequences.shape\n",
    "\n"
   ]
  },
  {
   "cell_type": "code",
   "execution_count": 34,
   "metadata": {},
   "outputs": [
    {
     "data": {
      "text/plain": [
       "array([   73,     9,    69,     6,   444,     8,   421,     6,    10,\n",
       "        1116,   769,     3,     7,  1786,    13,   685,     4,    34,\n",
       "         132,    22,    10,   179,    11,   662,     6,  4906,    19,\n",
       "         195,    22,    50,   685,     8, 10181,    83,   705,     5,\n",
       "           2,     0,     0,     0,     0,     0,     0,     0,     0,\n",
       "           0,     0,     0,     0,     0,     0,     0,     0,     0,\n",
       "           0,     0,     0,     0,     0,     0,     0,     0,     0,\n",
       "           0,     0,     0,     0,     0,     0,     0,     0,     0,\n",
       "           0,     0,     0,     0,     0,     0,     0,     0,     0,\n",
       "           0,     0,     0,     0,     0,     0,     0,     0,     0,\n",
       "           0,     0,     0,     0,     0,     0,     0,     0,     0,\n",
       "           0,     0,     0,     0,     0,     0,     0,     0,     0,\n",
       "           0,     0,     0,     0,     0], dtype=int32)"
      ]
     },
     "execution_count": 34,
     "metadata": {},
     "output_type": "execute_result"
    }
   ],
   "source": [
    "decoder_output_sequences[1]"
   ]
  },
  {
   "cell_type": "code",
   "execution_count": 35,
   "metadata": {},
   "outputs": [],
   "source": [
    "#decode_sequence(decoder_output_sequences[1],fr_idx2word)"
   ]
  },
  {
   "cell_type": "markdown",
   "metadata": {},
   "source": [
    "### Define the seq2seq model"
   ]
  },
  {
   "cell_type": "code",
   "execution_count": 36,
   "metadata": {
    "colab": {},
    "colab_type": "code",
    "id": "n2YdfpK3O_pY"
   },
   "outputs": [],
   "source": [
    "# configure problem\n",
    "embedings_dim = encoder_input_sequences.shape[2]\n",
    "hidden_units = 512\n",
    "LR = 0.001\n",
    "dropout = 0.4"
   ]
  },
  {
   "cell_type": "code",
   "execution_count": 37,
   "metadata": {
    "colab": {
     "base_uri": "https://localhost:8080/",
     "height": 34
    },
    "colab_type": "code",
    "id": "Z4-m7zcw2hqV",
    "outputId": "79978b94-9eca-418b-c4a7-1c1d20d1f710"
   },
   "outputs": [
    {
     "data": {
      "text/plain": [
       "(256, 512, 83332, 96, 113, 0.001, 0.4)"
      ]
     },
     "execution_count": 37,
     "metadata": {},
     "output_type": "execute_result"
    }
   ],
   "source": [
    "embedings_dim, hidden_units, num_words_output, max_input_len, max_out_len, LR, dropout"
   ]
  },
  {
   "cell_type": "code",
   "execution_count": 38,
   "metadata": {
    "colab": {},
    "colab_type": "code",
    "id": "nUQk9hA3bfZE"
   },
   "outputs": [],
   "source": [
    "# Encoder\n",
    "def seq2seq_model(embedings_dim, hidden_units, num_fr_tokens, max_input_len, max_out_len, LR, dropout):      \n",
    "    \n",
    "    encoder_inputs = layers.Input(shape=(max_input_len, embedings_dim,), name='encoder_input')\n",
    "    #encoder_embeddings = layers.Embedding(num_en_tokens, embedings_dim, mask_zero=True)\n",
    "    #encoder_embedded = encoder_embeddings(encoder_inputs)\n",
    "    encoder_bilstm = layers.Bidirectional(layers.LSTM(hidden_units, return_state=True, dropout=dropout), name='encoder_BiLSTM')\n",
    "    # Return states in addition to output\n",
    "    output, forward_h, forward_c, backward_h, backward_c = encoder_bilstm(encoder_inputs) # replace embeddings by the encoder input\n",
    "    \n",
    "    state_h = concatenate([forward_h, backward_h])\n",
    "    state_c = concatenate([forward_c, backward_c])\n",
    "    encoder_states = [state_h, state_c]\n",
    "    \n",
    "    #encoder_states = [forward_h, forward_c, backward_h, backward_c]\n",
    "\n",
    "    # Decoder\n",
    "    decoder_inputs = layers.Input(shape=(max_out_len, embedings_dim,), name='decoder_input')\n",
    "    #decoder_embeddings = layers.Embedding(num_fr_tokens, embedings_dim, mask_zero=True)\n",
    "    #decoder_embedded = decoder_embeddings(decoder_inputs)\n",
    "\n",
    "    # Pass the 2 states to a new LSTM layer, as initial state\n",
    "    decoder_lstm = layers.LSTM(hidden_units*2, return_sequences=True, return_state=True, dropout=dropout, name='decoder_LSTM')\n",
    "    decoder_outputs, _, _, = decoder_lstm(decoder_inputs, initial_state=encoder_states) #replace embeddings by decoder inputs\n",
    "\n",
    "    decoder_dense = layers.Dense(num_fr_tokens, activation='linear', name='decoder_output')                     \n",
    "    decoder_outputs = decoder_dense(decoder_outputs)\n",
    "    \n",
    "    # Set Optimizer\n",
    "    #opt = tf.keras.optimizers.SGD(lr=0.1, decay=1e-5, momentum=0.9, nesterov=True) #Adam(learning_rate=LR)\n",
    "    # k.losses.SparseCategoricalCrossentropy(from_logits=False, reduction='none'),\n",
    "\n",
    "    model = Model([encoder_inputs, decoder_inputs], decoder_outputs)\n",
    "    model.compile(loss=tf.keras.losses.SparseCategoricalCrossentropy(from_logits=True),\n",
    "                  optimizer=tf.keras.optimizers.Adam(learning_rate=0.001, decay=1e-3), #momentum=0.9, nesterov=True),\n",
    "                  metrics=['sparse_categorical_accuracy'],             \n",
    "                 )\n",
    "    model.summary()\n",
    "    \n",
    "    # Evaluation model:\n",
    "    encoder_model = Model(encoder_inputs, encoder_states)\n",
    "    \n",
    "    decoder_state_h = layers.Input(shape=(hidden_units*2,))\n",
    "    decoder_state_c = layers.Input(shape=(hidden_units*2,))\n",
    "    #decoder_state_b_h = layers.Input(shape=(hidden_units,))\n",
    "    #decoder_state_b_c = layers.Input(shape=(hidden_units,))\n",
    "    \n",
    "    #e_state_h = layers.Concatenate()([decoder_state_f_h, decoder_state_b_h])\n",
    "    #e_state_c = layers.Concatenate()([decoder_state_f_c, decoder_state_b_c])\n",
    "    \n",
    "    decoder_states_inputs = [decoder_state_h, decoder_state_c]#, decoder_state_b_h, decoder_state_b_c]\n",
    "    \n",
    "    decoder_inputs_single = layers.Input(shape=(max_out_len, embedings_dim,)) #layers.Input(shape=(1,))\n",
    "    #decoder_inputs_single_x = decoder_embeddings(decoder_inputs_single)\n",
    "    decoder_outputs, h, c = decoder_lstm(decoder_inputs_single, initial_state=decoder_states_inputs)\n",
    "    decoder_states = [h, c]\n",
    "    decoder_outputs = decoder_dense(decoder_outputs)\n",
    "    decoder_model = Model(\n",
    "        [decoder_inputs_single] + decoder_states_inputs,\n",
    "        [decoder_outputs] + decoder_states\n",
    "    )\n",
    "     \n",
    "    \n",
    "    return model, encoder_model, decoder_model"
   ]
  },
  {
   "cell_type": "code",
   "execution_count": 39,
   "metadata": {},
   "outputs": [
    {
     "name": "stderr",
     "output_type": "stream",
     "text": [
      "WARNING: Logging before flag parsing goes to stderr.\n",
      "W0418 16:39:43.262333 47064174883840 deprecation.py:506] From /home/guest142/env2/lib/python3.7/site-packages/tensorflow_core/python/ops/init_ops.py:97: calling GlorotUniform.__init__ (from tensorflow.python.ops.init_ops) with dtype is deprecated and will be removed in a future version.\n",
      "Instructions for updating:\n",
      "Call initializer instance with the dtype argument instead of passing it to the constructor\n",
      "W0418 16:39:43.263807 47064174883840 deprecation.py:506] From /home/guest142/env2/lib/python3.7/site-packages/tensorflow_core/python/ops/init_ops.py:97: calling Orthogonal.__init__ (from tensorflow.python.ops.init_ops) with dtype is deprecated and will be removed in a future version.\n",
      "Instructions for updating:\n",
      "Call initializer instance with the dtype argument instead of passing it to the constructor\n",
      "W0418 16:39:43.264656 47064174883840 deprecation.py:506] From /home/guest142/env2/lib/python3.7/site-packages/tensorflow_core/python/ops/init_ops.py:97: calling Zeros.__init__ (from tensorflow.python.ops.init_ops) with dtype is deprecated and will be removed in a future version.\n",
      "Instructions for updating:\n",
      "Call initializer instance with the dtype argument instead of passing it to the constructor\n",
      "W0418 16:39:43.296069 47064174883840 deprecation.py:506] From /home/guest142/env2/lib/python3.7/site-packages/tensorflow_core/python/ops/resource_variable_ops.py:1630: calling BaseResourceVariable.__init__ (from tensorflow.python.ops.resource_variable_ops) with constraint is deprecated and will be removed in a future version.\n",
      "Instructions for updating:\n",
      "If using Keras pass *_constraint arguments to layers.\n"
     ]
    },
    {
     "name": "stdout",
     "output_type": "stream",
     "text": [
      "Model: \"model\"\n",
      "__________________________________________________________________________________________________\n",
      "Layer (type)                    Output Shape         Param #     Connected to                     \n",
      "==================================================================================================\n",
      "encoder_input (InputLayer)      [(None, 96, 256)]    0                                            \n",
      "__________________________________________________________________________________________________\n",
      "encoder_BiLSTM (Bidirectional)  [(None, 1024), (None 3149824     encoder_input[0][0]              \n",
      "__________________________________________________________________________________________________\n",
      "decoder_input (InputLayer)      [(None, 113, 256)]   0                                            \n",
      "__________________________________________________________________________________________________\n",
      "concatenate (Concatenate)       (None, 1024)         0           encoder_BiLSTM[0][1]             \n",
      "                                                                 encoder_BiLSTM[0][3]             \n",
      "__________________________________________________________________________________________________\n",
      "concatenate_1 (Concatenate)     (None, 1024)         0           encoder_BiLSTM[0][2]             \n",
      "                                                                 encoder_BiLSTM[0][4]             \n",
      "__________________________________________________________________________________________________\n",
      "decoder_LSTM (LSTM)             [(None, 113, 1024),  5246976     decoder_input[0][0]              \n",
      "                                                                 concatenate[0][0]                \n",
      "                                                                 concatenate_1[0][0]              \n",
      "__________________________________________________________________________________________________\n",
      "decoder_output (Dense)          (None, 113, 83332)   85415300    decoder_LSTM[0][0]               \n",
      "==================================================================================================\n",
      "Total params: 93,812,100\n",
      "Trainable params: 93,812,100\n",
      "Non-trainable params: 0\n",
      "__________________________________________________________________________________________________\n"
     ]
    }
   ],
   "source": [
    "model, encoder_model, decoder_model = seq2seq_model(embedings_dim, hidden_units, num_words_output, max_input_len, max_out_len, LR, dropout)\n",
    "graph = tf.get_default_graph()"
   ]
  },
  {
   "cell_type": "markdown",
   "metadata": {},
   "source": [
    "### Train the model"
   ]
  },
  {
   "cell_type": "code",
   "execution_count": 40,
   "metadata": {},
   "outputs": [],
   "source": [
    "batch_size = 20\n",
    "epochs=20"
   ]
  },
  {
   "cell_type": "code",
   "execution_count": 41,
   "metadata": {},
   "outputs": [
    {
     "data": {
      "text/plain": [
       "('ELMO_weights_TF120200418-163945_.hdf5', 'ELMO_history_TF120200418-163945')"
      ]
     },
     "execution_count": 41,
     "metadata": {},
     "output_type": "execute_result"
    }
   ],
   "source": [
    "weights_file = \"ELMO_weights_TF1\"+ dt.datetime.now().strftime(\"%Y%m%d-%H%M%S\")+\"_.hdf5\"\n",
    "history_file = \"ELMO_history_TF1\"+ dt.datetime.now().strftime(\"%Y%m%d-%H%M%S\")\n",
    "weights_file, history_file"
   ]
  },
  {
   "cell_type": "code",
   "execution_count": 42,
   "metadata": {},
   "outputs": [
    {
     "data": {
      "text/plain": [
       "((11000, 113), (11000, 96, 256), (11000, 113, 256))"
      ]
     },
     "execution_count": 42,
     "metadata": {},
     "output_type": "execute_result"
    }
   ],
   "source": [
    "decoder_output_sequences.shape, encoder_input_sequences.shape, decoder_input_sequences.shape"
   ]
  },
  {
   "cell_type": "code",
   "execution_count": 43,
   "metadata": {},
   "outputs": [
    {
     "data": {
      "text/plain": [
       "(11000, 113, 1)"
      ]
     },
     "execution_count": 43,
     "metadata": {},
     "output_type": "execute_result"
    }
   ],
   "source": [
    "decoder_output_sequences = np.expand_dims(decoder_output_sequences, -1)\n",
    "decoder_output_sequences.shape"
   ]
  },
  {
   "cell_type": "code",
   "execution_count": 44,
   "metadata": {},
   "outputs": [
    {
     "data": {
      "text/plain": [
       "440.0"
      ]
     },
     "execution_count": 44,
     "metadata": {},
     "output_type": "execute_result"
    }
   ],
   "source": [
    "len(encoder_input_sequences)*.8/20"
   ]
  },
  {
   "cell_type": "code",
   "execution_count": 45,
   "metadata": {
    "colab": {},
    "colab_type": "code",
    "id": "DJVGoHjsO_pi"
   },
   "outputs": [
    {
     "name": "stderr",
     "output_type": "stream",
     "text": [
      "W0418 16:39:46.897715 47064174883840 deprecation.py:323] From /home/guest142/env2/lib/python3.7/site-packages/tensorflow_core/python/ops/math_grad.py:1424: where (from tensorflow.python.ops.array_ops) is deprecated and will be removed in a future version.\n",
      "Instructions for updating:\n",
      "Use tf.where in 2.0, which has the same broadcast rule as np.where\n"
     ]
    },
    {
     "name": "stdout",
     "output_type": "stream",
     "text": [
      "Train on 8800 samples, validate on 2200 samples\n",
      "Epoch 1/20\n",
      "8800/8800 [==============================] - 739s 84ms/sample - loss: 1.4211 - sparse_categorical_accuracy: 0.8211 - val_loss: 1.0330 - val_sparse_categorical_accuracy: 0.8405\n",
      "Epoch 2/20\n",
      "8800/8800 [==============================] - 734s 83ms/sample - loss: 0.9126 - sparse_categorical_accuracy: 0.8493 - val_loss: 0.8808 - val_sparse_categorical_accuracy: 0.8552\n",
      "Epoch 3/20\n",
      "8800/8800 [==============================] - 734s 83ms/sample - loss: 0.7718 - sparse_categorical_accuracy: 0.8601 - val_loss: 0.8050 - val_sparse_categorical_accuracy: 0.8642\n",
      "Epoch 4/20\n",
      "8800/8800 [==============================] - 735s 83ms/sample - loss: 0.6803 - sparse_categorical_accuracy: 0.8680 - val_loss: 0.7607 - val_sparse_categorical_accuracy: 0.8706\n",
      "Epoch 5/20\n",
      "8800/8800 [==============================] - 735s 83ms/sample - loss: 0.6126 - sparse_categorical_accuracy: 0.8745 - val_loss: 0.7328 - val_sparse_categorical_accuracy: 0.8752\n",
      "Epoch 6/20\n",
      "8800/8800 [==============================] - 735s 84ms/sample - loss: 0.5613 - sparse_categorical_accuracy: 0.8799 - val_loss: 0.7146 - val_sparse_categorical_accuracy: 0.8783\n",
      "Epoch 7/20\n",
      "8800/8800 [==============================] - 735s 84ms/sample - loss: 0.5202 - sparse_categorical_accuracy: 0.8859 - val_loss: 0.7009 - val_sparse_categorical_accuracy: 0.8811\n",
      "Epoch 8/20\n",
      "8800/8800 [==============================] - 736s 84ms/sample - loss: 0.4865 - sparse_categorical_accuracy: 0.8913 - val_loss: 0.6904 - val_sparse_categorical_accuracy: 0.8831\n",
      "Epoch 9/20\n",
      "8800/8800 [==============================] - 736s 84ms/sample - loss: 0.4580 - sparse_categorical_accuracy: 0.8964 - val_loss: 0.6831 - val_sparse_categorical_accuracy: 0.8842\n",
      "Epoch 10/20\n",
      "8800/8800 [==============================] - 737s 84ms/sample - loss: 0.4346 - sparse_categorical_accuracy: 0.9011 - val_loss: 0.6758 - val_sparse_categorical_accuracy: 0.8861\n",
      "Epoch 11/20\n",
      "8800/8800 [==============================] - 741s 84ms/sample - loss: 0.4147 - sparse_categorical_accuracy: 0.9051 - val_loss: 0.6719 - val_sparse_categorical_accuracy: 0.8873\n",
      "Epoch 12/20\n",
      "8800/8800 [==============================] - 741s 84ms/sample - loss: 0.3981 - sparse_categorical_accuracy: 0.9083 - val_loss: 0.6675 - val_sparse_categorical_accuracy: 0.8879\n",
      "Epoch 13/20\n",
      "8800/8800 [==============================] - 741s 84ms/sample - loss: 0.3834 - sparse_categorical_accuracy: 0.9114 - val_loss: 0.6632 - val_sparse_categorical_accuracy: 0.8887\n",
      "Epoch 14/20\n",
      "8800/8800 [==============================] - 738s 84ms/sample - loss: 0.3710 - sparse_categorical_accuracy: 0.9139 - val_loss: 0.6607 - val_sparse_categorical_accuracy: 0.8896\n",
      "Epoch 15/20\n",
      "8800/8800 [==============================] - 736s 84ms/sample - loss: 0.3600 - sparse_categorical_accuracy: 0.9161 - val_loss: 0.6586 - val_sparse_categorical_accuracy: 0.8903\n",
      "Epoch 16/20\n",
      "8800/8800 [==============================] - 737s 84ms/sample - loss: 0.3503 - sparse_categorical_accuracy: 0.9181 - val_loss: 0.6562 - val_sparse_categorical_accuracy: 0.8909\n",
      "Epoch 17/20\n",
      "8800/8800 [==============================] - 734s 83ms/sample - loss: 0.3408 - sparse_categorical_accuracy: 0.9201 - val_loss: 0.6542 - val_sparse_categorical_accuracy: 0.8917\n",
      "Epoch 18/20\n",
      "8800/8800 [==============================] - 734s 83ms/sample - loss: 0.3329 - sparse_categorical_accuracy: 0.9220 - val_loss: 0.6535 - val_sparse_categorical_accuracy: 0.8921\n",
      "Epoch 19/20\n",
      "8800/8800 [==============================] - 734s 83ms/sample - loss: 0.3253 - sparse_categorical_accuracy: 0.9234 - val_loss: 0.6515 - val_sparse_categorical_accuracy: 0.8925\n",
      "Epoch 20/20\n",
      "8800/8800 [==============================] - 734s 83ms/sample - loss: 0.3189 - sparse_categorical_accuracy: 0.9246 - val_loss: 0.6496 - val_sparse_categorical_accuracy: 0.8929\n"
     ]
    }
   ],
   "source": [
    "#checkpointer = tf.compat.v2.keras.callbacks.ModelCheckpoint(filepath = weights_file, verbose=1, save_best_only=True)\n",
    "\n",
    "history = model.fit([encoder_input_sequences, decoder_input_sequences],\n",
    "                    decoder_output_sequences,\n",
    "                    batch_size=batch_size,\n",
    "                    epochs=epochs, \n",
    "                    #validation_steps=batch_size,\n",
    "                    validation_split=0.2,\n",
    "                    #callbacks=[checkpointer]\n",
    "                   )\n",
    "\n"
   ]
  },
  {
   "cell_type": "code",
   "execution_count": 46,
   "metadata": {},
   "outputs": [],
   "source": [
    "import pickle\n",
    "with open(history_file, 'wb') as file_pi:\n",
    "        pickle.dump(history.history, file_pi)"
   ]
  },
  {
   "cell_type": "code",
   "execution_count": 47,
   "metadata": {},
   "outputs": [],
   "source": [
    "history2 = pickle.load(open(history_file, \"rb\"))"
   ]
  },
  {
   "cell_type": "code",
   "execution_count": 48,
   "metadata": {},
   "outputs": [
    {
     "data": {
      "image/png": "[encoded data removed]",
      "text/plain": [
       "<Figure size 432x288 with 1 Axes>"
      ]
     },
     "metadata": {
      "needs_background": "light"
     },
     "output_type": "display_data"
    },
    {
     "data": {
      "image/png": "[encoded data removed]",
      "text/plain": [
       "<Figure size 432x288 with 1 Axes>"
      ]
     },
     "metadata": {
      "needs_background": "light"
     },
     "output_type": "display_data"
    }
   ],
   "source": [
    "# summarize history for accuracy\n",
    "plt.plot(history2['sparse_categorical_accuracy'])\n",
    "plt.plot(history2['val_sparse_categorical_accuracy'])\n",
    "plt.title('model/ accuracy')\n",
    "plt.ylabel('accuracy')\n",
    "plt.xlabel('epoch')\n",
    "plt.legend(['train', 'test'], loc='upper left')\n",
    "plt.show()\n",
    "# summarize history for loss\n",
    "plt.plot(history2['loss'])\n",
    "plt.plot(history2['val_loss'])\n",
    "plt.title('model loss')\n",
    "plt.ylabel('loss')\n",
    "plt.xlabel('epoch')\n",
    "plt.legend(['train', 'test'], loc='upper left')\n",
    "plt.show()"
   ]
  },
  {
   "cell_type": "code",
   "execution_count": 49,
   "metadata": {},
   "outputs": [],
   "source": [
    "# Loads the weights\n",
    "#model.load_weights('ELMO_weights_20200416-042652_.hdf5')"
   ]
  },
  {
   "cell_type": "code",
   "execution_count": 50,
   "metadata": {},
   "outputs": [],
   "source": [
    "#from tensorflow.keras.utils import plot_model\n",
    "#plot_model(model, to_file = \"seq2seq_translation.png\", show_shapes = True)"
   ]
  },
  {
   "cell_type": "markdown",
   "metadata": {},
   "source": [
    "## Evaluation"
   ]
  },
  {
   "cell_type": "code",
   "execution_count": 51,
   "metadata": {},
   "outputs": [],
   "source": [
    "def get_elmo_emb2(idx):\n",
    "    return encoder_input_sequences[idx].reshape(-1,96,256)"
   ]
  },
  {
   "cell_type": "code",
   "execution_count": 52,
   "metadata": {},
   "outputs": [
    {
     "data": {
      "text/plain": [
       "array([[[ 0.9377234 ,  0.11211856, -1.815702  , ..., -1.0165986 ,\n",
       "          0.2566865 , -1.4266841 ],\n",
       "        [ 0.76397216, -0.72957176, -1.2059255 , ..., -0.53055835,\n",
       "         -0.28045744, -1.6430402 ],\n",
       "        [-0.09817386, -2.4250271 ,  1.2986397 , ...,  0.80349994,\n",
       "          0.70233214, -3.0202804 ],\n",
       "        ...,\n",
       "        [ 0.        ,  0.        ,  0.        , ...,  0.        ,\n",
       "          0.        ,  0.        ],\n",
       "        [ 0.        ,  0.        ,  0.        , ...,  0.        ,\n",
       "          0.        ,  0.        ],\n",
       "        [ 0.        ,  0.        ,  0.        , ...,  0.        ,\n",
       "          0.        ,  0.        ]]], dtype=float32)"
      ]
     },
     "execution_count": 52,
     "metadata": {},
     "output_type": "execute_result"
    }
   ],
   "source": [
    "get_elmo_emb2(0)"
   ]
  },
  {
   "cell_type": "code",
   "execution_count": 53,
   "metadata": {},
   "outputs": [],
   "source": [
    "def get_elmo_emb(input_seq, max_length, options_file, weight_file, vocab_file):\n",
    "    tf.compat.v1.disable_eager_execution()\n",
    "    tf.reset_default_graph()\n",
    "    \n",
    "    # Create a Batcher to map text to character ids.\n",
    "    batcher = Batcher(vocab_file, 50)\n",
    " \n",
    "    # Input placeholders to the biLM.\n",
    "    context_character_ids = tf.compat.v1.placeholder('int32', shape=(None, None, 50))\n",
    " \n",
    "    # Build the biLM graph.\n",
    "    bilm = BidirectionalLanguageModel(options_file, weight_file)\n",
    " \n",
    "    # Get ops to compute the LM embeddings.\n",
    "    context_embeddings_op = bilm(context_character_ids)\n",
    "     \n",
    "    # Get an op to compute ELMo (weighted average of the internal biLM layers)\n",
    "    elmo_context_input = weight_layers('input', context_embeddings_op, l2_coef=0.0)\n",
    "    \n",
    "    # Now we can compute embeddings.\n",
    "    #print(\"get elmo: input_seq=\",input_seq)\n",
    "    tokenized_context = [input_seq.split()] # for sentence in input_seq]\n",
    "    #print(tokenized_context)\n",
    "    \n",
    "    with tf.Session() as sess:\n",
    "        # It is necessary to initialize variables once before running inference.\n",
    "        sess.run(tf.global_variables_initializer())\n",
    " \n",
    "        # Create batches of data.\n",
    "        context_ids = batcher.batch_sentences(tokenized_context)\n",
    "        #print(\"Shape of context ids = \", context_ids.shape)\n",
    " \n",
    "        # Compute ELMo representations (here for the input only, for simplicity).\n",
    "        elmo_context_input_ = sess.run(\n",
    "            elmo_context_input['weighted_op'],\n",
    "            feed_dict={context_character_ids: context_ids}\n",
    "        )\n",
    "    # Pad the output to max sequence length of the model\n",
    "    elmo_emb = pad_sequences(elmo_context_input_, maxlen=max_length, padding='post', dtype='float32')\n",
    "    #print(\"Shape of generated embeddings = \",elmo_emb.shape)\n",
    "    return elmo_emb"
   ]
  },
  {
   "cell_type": "code",
   "execution_count": 54,
   "metadata": {},
   "outputs": [],
   "source": [
    "def translate_sentence(idx, sentence):\n",
    "    tf.compat.v1.disable_eager_execution()\n",
    "    #tf.reset_default_graph()\n",
    "    global graph\n",
    "    graph = tf.get_default_graph()\n",
    "    \n",
    "    \n",
    "    # Get ELMo embeddings\n",
    "    print(\"Get ELMo context for the input sentence: \", sentence)\n",
    "    input_seq = get_elmo_emb(sentence, max_input_len, en_options_file, en_weight_file, en_vocab_file)  # get ELMO embeddings calculated beforehand on input text\n",
    "    #print(input_seq)\n",
    "    \n",
    "    # Get encoder states value\n",
    "    print(\"Feed input context encoder model ...\")\n",
    "    with graph.as_default():\n",
    "        states_value = encoder_model.predict(input_seq)\n",
    "    #print(\"states_value=\",states_value[0].shape)\n",
    "    \n",
    "    # Feed the decoder a token at the time, starting with <S> token\n",
    "    print(\"Feed the decoder with start token ...\")\n",
    "    target_seq = get_elmo_emb('<S>', max_out_len, fr_options_file, fr_weight_file, fr_vocab_file) #['<S>']\n",
    "    \n",
    "    eos1 = fr_word2idx['</S>']\n",
    "    eos2 = fr_word2idx['.']\n",
    "    eos3 = fr_word2idx['<PAD>']\n",
    "    output_sentence = []\n",
    "    \n",
    "    print(\"Translating the input ...\")\n",
    "    for _ in range(max_out_len):\n",
    "        #print(\"Next target_seq=\",target_seq.shape)\n",
    "        with graph.as_default():\n",
    "            output_tokens, h, c = decoder_model.predict([target_seq] + states_value)\n",
    "        idx = np.argmax(output_tokens[0, 0, :])\n",
    "        #print(\"new idx=\",idx)\n",
    "        \n",
    "        if ((eos1 == idx) or (eos2 == idx) or (idx==0)):\n",
    "            break\n",
    "        else:\n",
    "            word = decode_sequence([idx],fr_idx2word) #fr_idx2word(idx)\n",
    "            output_sentence.append(word[0]+\" \")\n",
    "            #print(\"Predicting word \"+str(word)+\"for index \"+str(idx))\n",
    "\n",
    "        target_seq = get_elmo_emb(word[0],max_out_len, fr_options_file, fr_weight_file, fr_vocab_file)\n",
    "        states_value = [h, c]\n",
    "        \n",
    "        \n",
    "\n",
    "    return ' '.join(str(v) for v in output_sentence)"
   ]
  },
  {
   "cell_type": "code",
   "execution_count": 55,
   "metadata": {},
   "outputs": [],
   "source": [
    "### Load test data\n",
    "input_text = []\n",
    "with open(en_text_file, 'r', encoding=\"UTF-8\") as en_file:\n",
    "    for line in en_file.readlines():\n",
    "        line = line.rstrip().split('\\n')\n",
    "        input_text.append(line[0])\n",
    "    en_file.close()"
   ]
  },
  {
   "cell_type": "code",
   "execution_count": 56,
   "metadata": {},
   "outputs": [],
   "source": [
    "target_text = []\n",
    "with open(fr_text_file, 'r', encoding=\"UTF-8\") as fr_file:\n",
    "    for line in fr_file.readlines():\n",
    "        line = line.rstrip().split('\\n')\n",
    "        target_text.append(line[0])\n",
    "    fr_file.close()"
   ]
  },
  {
   "cell_type": "code",
   "execution_count": 69,
   "metadata": {},
   "outputs": [],
   "source": [
    "ids = np.random.randint(0,100,5)"
   ]
  },
  {
   "cell_type": "code",
   "execution_count": 70,
   "metadata": {},
   "outputs": [],
   "source": [
    "targets = [target_text[i] for i in ids]"
   ]
  },
  {
   "cell_type": "code",
   "execution_count": 71,
   "metadata": {},
   "outputs": [
    {
     "name": "stdout",
     "output_type": "stream",
     "text": [
      "Model: \"model\"\n",
      "__________________________________________________________________________________________________\n",
      "Layer (type)                    Output Shape         Param #     Connected to                     \n",
      "==================================================================================================\n",
      "encoder_input (InputLayer)      [(None, 96, 256)]    0                                            \n",
      "__________________________________________________________________________________________________\n",
      "encoder_BiLSTM (Bidirectional)  [(None, 1024), (None 3149824     encoder_input[0][0]              \n",
      "__________________________________________________________________________________________________\n",
      "decoder_input (InputLayer)      [(None, 113, 256)]   0                                            \n",
      "__________________________________________________________________________________________________\n",
      "concatenate (Concatenate)       (None, 1024)         0           encoder_BiLSTM[0][1]             \n",
      "                                                                 encoder_BiLSTM[0][3]             \n",
      "__________________________________________________________________________________________________\n",
      "concatenate_1 (Concatenate)     (None, 1024)         0           encoder_BiLSTM[0][2]             \n",
      "                                                                 encoder_BiLSTM[0][4]             \n",
      "__________________________________________________________________________________________________\n",
      "decoder_LSTM (LSTM)             [(None, 113, 1024),  5246976     decoder_input[0][0]              \n",
      "                                                                 concatenate[0][0]                \n",
      "                                                                 concatenate_1[0][0]              \n",
      "__________________________________________________________________________________________________\n",
      "decoder_output (Dense)          (None, 113, 83332)   85415300    decoder_LSTM[0][0]               \n",
      "==================================================================================================\n",
      "Total params: 93,812,100\n",
      "Trainable params: 93,812,100\n",
      "Non-trainable params: 0\n",
      "__________________________________________________________________________________________________\n",
      "==============================\n",
      "Get ELMo context for the input sentence:  so too does the idea that accommodating religious differences is dangerous\n",
      "USING SKIP CONNECTIONS\n",
      "Feed input context encoder model ...\n",
      "Feed the decoder with start token ...\n",
      "USING SKIP CONNECTIONS\n",
      "Translating the input ...\n",
      "USING SKIP CONNECTIONS\n",
      "USING SKIP CONNECTIONS\n",
      "USING SKIP CONNECTIONS\n",
      "USING SKIP CONNECTIONS\n",
      "USING SKIP CONNECTIONS\n",
      "USING SKIP CONNECTIONS\n",
      "USING SKIP CONNECTIONS\n",
      "USING SKIP CONNECTIONS\n",
      "USING SKIP CONNECTIONS\n",
      "USING SKIP CONNECTIONS\n",
      "USING SKIP CONNECTIONS\n",
      "USING SKIP CONNECTIONS\n",
      "USING SKIP CONNECTIONS\n",
      "USING SKIP CONNECTIONS\n",
      "USING SKIP CONNECTIONS\n",
      "USING SKIP CONNECTIONS\n",
      "USING SKIP CONNECTIONS\n",
      "USING SKIP CONNECTIONS\n",
      "USING SKIP CONNECTIONS\n",
      "USING SKIP CONNECTIONS\n",
      "USING SKIP CONNECTIONS\n",
      "USING SKIP CONNECTIONS\n",
      "USING SKIP CONNECTIONS\n",
      "USING SKIP CONNECTIONS\n",
      "USING SKIP CONNECTIONS\n",
      "USING SKIP CONNECTIONS\n",
      "USING SKIP CONNECTIONS\n",
      "USING SKIP CONNECTIONS\n",
      "USING SKIP CONNECTIONS\n",
      "USING SKIP CONNECTIONS\n",
      "USING SKIP CONNECTIONS\n",
      "USING SKIP CONNECTIONS\n",
      "USING SKIP CONNECTIONS\n",
      "USING SKIP CONNECTIONS\n",
      "USING SKIP CONNECTIONS\n",
      "USING SKIP CONNECTIONS\n",
      "USING SKIP CONNECTIONS\n",
      "USING SKIP CONNECTIONS\n",
      "USING SKIP CONNECTIONS\n",
      "USING SKIP CONNECTIONS\n",
      "USING SKIP CONNECTIONS\n",
      "USING SKIP CONNECTIONS\n",
      "USING SKIP CONNECTIONS\n",
      "USING SKIP CONNECTIONS\n",
      "USING SKIP CONNECTIONS\n",
      "USING SKIP CONNECTIONS\n",
      "USING SKIP CONNECTIONS\n",
      "USING SKIP CONNECTIONS\n",
      "USING SKIP CONNECTIONS\n",
      "USING SKIP CONNECTIONS\n",
      "USING SKIP CONNECTIONS\n",
      "USING SKIP CONNECTIONS\n",
      "USING SKIP CONNECTIONS\n",
      "USING SKIP CONNECTIONS\n",
      "USING SKIP CONNECTIONS\n",
      "USING SKIP CONNECTIONS\n",
      "USING SKIP CONNECTIONS\n",
      "USING SKIP CONNECTIONS\n",
      "USING SKIP CONNECTIONS\n",
      "USING SKIP CONNECTIONS\n",
      "USING SKIP CONNECTIONS\n",
      "USING SKIP CONNECTIONS\n",
      "USING SKIP CONNECTIONS\n",
      "USING SKIP CONNECTIONS\n",
      "USING SKIP CONNECTIONS\n",
      "USING SKIP CONNECTIONS\n",
      "USING SKIP CONNECTIONS\n",
      "USING SKIP CONNECTIONS\n",
      "USING SKIP CONNECTIONS\n",
      "USING SKIP CONNECTIONS\n",
      "USING SKIP CONNECTIONS\n",
      "USING SKIP CONNECTIONS\n",
      "USING SKIP CONNECTIONS\n",
      "USING SKIP CONNECTIONS\n",
      "USING SKIP CONNECTIONS\n",
      "USING SKIP CONNECTIONS\n",
      "USING SKIP CONNECTIONS\n",
      "USING SKIP CONNECTIONS\n",
      "USING SKIP CONNECTIONS\n",
      "USING SKIP CONNECTIONS\n",
      "USING SKIP CONNECTIONS\n",
      "USING SKIP CONNECTIONS\n",
      "USING SKIP CONNECTIONS\n",
      "USING SKIP CONNECTIONS\n",
      "USING SKIP CONNECTIONS\n",
      "USING SKIP CONNECTIONS\n",
      "USING SKIP CONNECTIONS\n",
      "USING SKIP CONNECTIONS\n",
      "USING SKIP CONNECTIONS\n",
      "USING SKIP CONNECTIONS\n",
      "USING SKIP CONNECTIONS\n",
      "USING SKIP CONNECTIONS\n",
      "USING SKIP CONNECTIONS\n",
      "USING SKIP CONNECTIONS\n",
      "USING SKIP CONNECTIONS\n",
      "USING SKIP CONNECTIONS\n",
      "USING SKIP CONNECTIONS\n",
      "USING SKIP CONNECTIONS\n",
      "USING SKIP CONNECTIONS\n",
      "USING SKIP CONNECTIONS\n",
      "USING SKIP CONNECTIONS\n",
      "USING SKIP CONNECTIONS\n",
      "USING SKIP CONNECTIONS\n",
      "USING SKIP CONNECTIONS\n",
      "USING SKIP CONNECTIONS\n",
      "USING SKIP CONNECTIONS\n",
      "USING SKIP CONNECTIONS\n",
      "USING SKIP CONNECTIONS\n",
      "USING SKIP CONNECTIONS\n",
      "USING SKIP CONNECTIONS\n",
      "USING SKIP CONNECTIONS\n",
      "USING SKIP CONNECTIONS\n",
      "USING SKIP CONNECTIONS\n",
      "Response:\n",
      "Model: \"model\"\n",
      "__________________________________________________________________________________________________\n",
      "Layer (type)                    Output Shape         Param #     Connected to                     \n",
      "==================================================================================================\n",
      "encoder_input (InputLayer)      [(None, 96, 256)]    0                                            \n",
      "__________________________________________________________________________________________________\n",
      "encoder_BiLSTM (Bidirectional)  [(None, 1024), (None 3149824     encoder_input[0][0]              \n",
      "__________________________________________________________________________________________________\n",
      "decoder_input (InputLayer)      [(None, 113, 256)]   0                                            \n",
      "__________________________________________________________________________________________________\n",
      "concatenate (Concatenate)       (None, 1024)         0           encoder_BiLSTM[0][1]             \n",
      "                                                                 encoder_BiLSTM[0][3]             \n",
      "__________________________________________________________________________________________________\n",
      "concatenate_1 (Concatenate)     (None, 1024)         0           encoder_BiLSTM[0][2]             \n",
      "                                                                 encoder_BiLSTM[0][4]             \n",
      "__________________________________________________________________________________________________\n",
      "decoder_LSTM (LSTM)             [(None, 113, 1024),  5246976     decoder_input[0][0]              \n",
      "                                                                 concatenate[0][0]                \n",
      "                                                                 concatenate_1[0][0]              \n",
      "__________________________________________________________________________________________________\n",
      "decoder_output (Dense)          (None, 113, 83332)   85415300    decoder_LSTM[0][0]               \n",
      "==================================================================================================\n",
      "Total params: 93,812,100\n",
      "Trainable params: 93,812,100\n",
      "Non-trainable params: 0\n",
      "__________________________________________________________________________________________________\n",
      "==============================\n",
      "Get ELMo context for the input sentence:  mr president ladies and gentlemen the financial perspective outlines the scope of the eu ’s activities over coming years as well as providing a framework for such activities and determining how effective they will be\n",
      "USING SKIP CONNECTIONS\n",
      "Feed input context encoder model ...\n",
      "Feed the decoder with start token ...\n",
      "USING SKIP CONNECTIONS\n",
      "Translating the input ...\n",
      "USING SKIP CONNECTIONS\n",
      "USING SKIP CONNECTIONS\n",
      "USING SKIP CONNECTIONS\n",
      "USING SKIP CONNECTIONS\n",
      "USING SKIP CONNECTIONS\n",
      "USING SKIP CONNECTIONS\n",
      "USING SKIP CONNECTIONS\n",
      "USING SKIP CONNECTIONS\n",
      "USING SKIP CONNECTIONS\n",
      "USING SKIP CONNECTIONS\n",
      "USING SKIP CONNECTIONS\n",
      "USING SKIP CONNECTIONS\n",
      "USING SKIP CONNECTIONS\n",
      "USING SKIP CONNECTIONS\n",
      "USING SKIP CONNECTIONS\n",
      "USING SKIP CONNECTIONS\n",
      "USING SKIP CONNECTIONS\n",
      "USING SKIP CONNECTIONS\n",
      "USING SKIP CONNECTIONS\n",
      "USING SKIP CONNECTIONS\n",
      "USING SKIP CONNECTIONS\n",
      "USING SKIP CONNECTIONS\n",
      "USING SKIP CONNECTIONS\n",
      "USING SKIP CONNECTIONS\n",
      "USING SKIP CONNECTIONS\n",
      "USING SKIP CONNECTIONS\n",
      "USING SKIP CONNECTIONS\n",
      "USING SKIP CONNECTIONS\n",
      "USING SKIP CONNECTIONS\n",
      "USING SKIP CONNECTIONS\n",
      "USING SKIP CONNECTIONS\n",
      "USING SKIP CONNECTIONS\n",
      "USING SKIP CONNECTIONS\n",
      "USING SKIP CONNECTIONS\n",
      "USING SKIP CONNECTIONS\n",
      "USING SKIP CONNECTIONS\n",
      "USING SKIP CONNECTIONS\n",
      "USING SKIP CONNECTIONS\n",
      "USING SKIP CONNECTIONS\n",
      "USING SKIP CONNECTIONS\n",
      "USING SKIP CONNECTIONS\n",
      "USING SKIP CONNECTIONS\n",
      "USING SKIP CONNECTIONS\n",
      "USING SKIP CONNECTIONS\n",
      "USING SKIP CONNECTIONS\n",
      "USING SKIP CONNECTIONS\n",
      "USING SKIP CONNECTIONS\n",
      "USING SKIP CONNECTIONS\n",
      "USING SKIP CONNECTIONS\n",
      "USING SKIP CONNECTIONS\n",
      "USING SKIP CONNECTIONS\n",
      "USING SKIP CONNECTIONS\n",
      "USING SKIP CONNECTIONS\n",
      "USING SKIP CONNECTIONS\n",
      "USING SKIP CONNECTIONS\n",
      "USING SKIP CONNECTIONS\n",
      "USING SKIP CONNECTIONS\n",
      "USING SKIP CONNECTIONS\n",
      "USING SKIP CONNECTIONS\n",
      "USING SKIP CONNECTIONS\n",
      "USING SKIP CONNECTIONS\n",
      "USING SKIP CONNECTIONS\n",
      "USING SKIP CONNECTIONS\n",
      "USING SKIP CONNECTIONS\n",
      "USING SKIP CONNECTIONS\n",
      "USING SKIP CONNECTIONS\n",
      "USING SKIP CONNECTIONS\n",
      "USING SKIP CONNECTIONS\n",
      "USING SKIP CONNECTIONS\n",
      "USING SKIP CONNECTIONS\n",
      "USING SKIP CONNECTIONS\n",
      "USING SKIP CONNECTIONS\n",
      "USING SKIP CONNECTIONS\n",
      "USING SKIP CONNECTIONS\n",
      "USING SKIP CONNECTIONS\n",
      "USING SKIP CONNECTIONS\n",
      "USING SKIP CONNECTIONS\n",
      "USING SKIP CONNECTIONS\n",
      "USING SKIP CONNECTIONS\n",
      "USING SKIP CONNECTIONS\n",
      "USING SKIP CONNECTIONS\n",
      "USING SKIP CONNECTIONS\n",
      "USING SKIP CONNECTIONS\n",
      "USING SKIP CONNECTIONS\n",
      "USING SKIP CONNECTIONS\n",
      "USING SKIP CONNECTIONS\n",
      "USING SKIP CONNECTIONS\n",
      "USING SKIP CONNECTIONS\n",
      "USING SKIP CONNECTIONS\n",
      "USING SKIP CONNECTIONS\n",
      "USING SKIP CONNECTIONS\n",
      "USING SKIP CONNECTIONS\n",
      "USING SKIP CONNECTIONS\n",
      "USING SKIP CONNECTIONS\n",
      "USING SKIP CONNECTIONS\n",
      "USING SKIP CONNECTIONS\n",
      "USING SKIP CONNECTIONS\n",
      "USING SKIP CONNECTIONS\n",
      "USING SKIP CONNECTIONS\n",
      "USING SKIP CONNECTIONS\n",
      "USING SKIP CONNECTIONS\n",
      "USING SKIP CONNECTIONS\n",
      "USING SKIP CONNECTIONS\n",
      "USING SKIP CONNECTIONS\n",
      "USING SKIP CONNECTIONS\n",
      "USING SKIP CONNECTIONS\n",
      "USING SKIP CONNECTIONS\n",
      "USING SKIP CONNECTIONS\n",
      "USING SKIP CONNECTIONS\n",
      "USING SKIP CONNECTIONS\n",
      "USING SKIP CONNECTIONS\n",
      "USING SKIP CONNECTIONS\n",
      "USING SKIP CONNECTIONS\n",
      "Response:\n"
     ]
    }
   ],
   "source": [
    "# Run prediction on 5 samples\n",
    "predictions = []\n",
    "for i in [0,1]:\n",
    "    _, encoder_model, decoder_model = seq2seq_model(embedings_dim, hidden_units, num_words_output, max_input_len, max_out_len, LR, dropout)\n",
    "    graph = tf.get_default_graph()\n",
    "    print('==============================')\n",
    "    #print('Input:', input_text[i])\n",
    "    translation = translate_sentence(i, input_text[i])\n",
    "    print('Response:', )\n",
    "    predictions.append(translation+'\\n')\n",
    "    "
   ]
  },
  {
   "cell_type": "code",
   "execution_count": 72,
   "metadata": {},
   "outputs": [],
   "source": [
    "with open(\"targets.txt\", \"w\", encoding='utf-8') as target_file:\n",
    "    target_file.writelines(target_text)\n",
    "    target_file.close()"
   ]
  },
  {
   "cell_type": "code",
   "execution_count": 73,
   "metadata": {},
   "outputs": [],
   "source": [
    "with open(\"predictions.txt\", \"w\", encoding='utf-8') as target_file:\n",
    "    target_file.writelines(predictions)\n",
    "    target_file.close()"
   ]
  },
  {
   "cell_type": "markdown",
   "metadata": {
    "colab": {},
    "colab_type": "code",
    "id": "eq0ggv-VO_py"
   },
   "source": [
    "## SacreBLEU Evaluation "
   ]
  },
  {
   "cell_type": "code",
   "execution_count": 63,
   "metadata": {},
   "outputs": [
    {
     "name": "stdout",
     "output_type": "stream",
     "text": [
      "Traceback (most recent call last):\n",
      "  File \"evaluator.py\", line 71, in <module>\n",
      "    main()\n",
      "  File \"evaluator.py\", line 63, in main\n",
      "    compute_bleu(args.input_file_path, args.target_file_path, args.print_all_scores)\n",
      "  File \"evaluator.py\", line 40, in compute_bleu\n",
      "    stdout=subprocess.PIPE, stderr=subprocess.STDOUT, text=True)\n",
      "  File \"/cvmfs/soft.computecanada.ca/easybuild/software/2017/Core/python/3.7.4/lib/python3.7/subprocess.py\", line 472, in run\n",
      "    with Popen(*popenargs, **kwargs) as process:\n",
      "  File \"/cvmfs/soft.computecanada.ca/easybuild/software/2017/Core/python/3.7.4/lib/python3.7/subprocess.py\", line 775, in __init__\n",
      "    restore_signals, start_new_session)\n",
      "  File \"/cvmfs/soft.computecanada.ca/easybuild/software/2017/Core/python/3.7.4/lib/python3.7/subprocess.py\", line 1522, in _execute_child\n",
      "    raise child_exception_type(errno_num, err_msg, err_filename)\n",
      "FileNotFoundError: [Errno 2] No such file or directory: 'sacrebleu': 'sacrebleu'\n"
     ]
    }
   ],
   "source": [
    "!python evaluator.py --input-file-path predictions.txt --target-file-path targets.txt --do-not-run-model"
   ]
  },
  {
   "cell_type": "markdown",
   "metadata": {},
   "source": [
    "['0.0', '']\n",
    "final avg bleu score: 0.00"
   ]
  },
  {
   "cell_type": "code",
   "execution_count": null,
   "metadata": {},
   "outputs": [],
   "source": []
  }
 ],
 "metadata": {
  "colab": {
   "name": "Project2_baseline.ipynb",
   "provenance": []
  },
  "kernelspec": {
   "display_name": "env2",
   "language": "python",
   "name": "env2"
  },
  "language_info": {
   "codemirror_mode": {
    "name": "ipython",
    "version": 3
   },
   "file_extension": ".py",
   "mimetype": "text/x-python",
   "name": "python",
   "nbconvert_exporter": "python",
   "pygments_lexer": "ipython3",
   "version": "3.7.4"
  }
 },
 "nbformat": 4,
 "nbformat_minor": 4
}
