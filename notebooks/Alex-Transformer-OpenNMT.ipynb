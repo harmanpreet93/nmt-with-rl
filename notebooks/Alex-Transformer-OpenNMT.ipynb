{
  "nbformat": 4,
  "nbformat_minor": 0,
  "metadata": {
    "colab": {
      "name": "OpenNMT.ipynb",
      "provenance": []
    },
    "kernelspec": {
      "name": "python3",
      "display_name": "Python 3"
    },
    "accelerator": "GPU"
  },
  "cells": [
    {
      "cell_type": "markdown",
      "metadata": {
        "id": "P_pXV1M0VAvG",
        "colab_type": "text"
      },
      "source": [
        "# Initialize"
      ]
    },
    {
      "cell_type": "code",
      "metadata": {
        "id": "QATZMTFxUy4z",
        "colab_type": "code",
        "colab": {
          "base_uri": "https://localhost:8080/",
          "height": 816
        },
        "outputId": "81c5ed46-03f1-404a-f974-491deed4480f"
      },
      "source": [
        "!pip install OpenNMT-tf"
      ],
      "execution_count": 1,
      "outputs": [
        {
          "output_type": "stream",
          "text": [
            "Requirement already satisfied: OpenNMT-tf in /usr/local/lib/python3.6/dist-packages (2.9.0)\n",
            "Requirement already satisfied: pyter3==0.3 in /usr/local/lib/python3.6/dist-packages (from OpenNMT-tf) (0.3)\n",
            "Requirement already satisfied: pyyaml<5.4,>=5.3 in /usr/local/lib/python3.6/dist-packages (from OpenNMT-tf) (5.3.1)\n",
            "Requirement already satisfied: sacrebleu<2,>=1.4.3 in /usr/local/lib/python3.6/dist-packages (from OpenNMT-tf) (1.4.6)\n",
            "Requirement already satisfied: tensorflow<2.2,>=2.1 in /usr/local/lib/python3.6/dist-packages (from OpenNMT-tf) (2.1.0)\n",
            "Requirement already satisfied: ctranslate2<2,>=1.7; platform_system == \"Linux\" in /usr/local/lib/python3.6/dist-packages (from OpenNMT-tf) (1.9.1)\n",
            "Requirement already satisfied: tensorflow-addons<0.9,>=0.8.1 in /usr/local/lib/python3.6/dist-packages (from OpenNMT-tf) (0.8.3)\n",
            "Requirement already satisfied: pyonmttok<2,>=1.18.1; platform_system == \"Linux\" in /usr/local/lib/python3.6/dist-packages (from OpenNMT-tf) (1.18.3)\n",
            "Requirement already satisfied: rouge<2,>=1.0 in /usr/local/lib/python3.6/dist-packages (from OpenNMT-tf) (1.0.0)\n",
            "Requirement already satisfied: typing in /usr/local/lib/python3.6/dist-packages (from sacrebleu<2,>=1.4.3->OpenNMT-tf) (3.6.6)\n",
            "Requirement already satisfied: mecab-python3 in /usr/local/lib/python3.6/dist-packages (from sacrebleu<2,>=1.4.3->OpenNMT-tf) (0.996.5)\n",
            "Requirement already satisfied: portalocker in /usr/local/lib/python3.6/dist-packages (from sacrebleu<2,>=1.4.3->OpenNMT-tf) (1.6.0)\n",
            "Requirement already satisfied: grpcio>=1.8.6 in /usr/local/lib/python3.6/dist-packages (from tensorflow<2.2,>=2.1->OpenNMT-tf) (1.27.2)\n",
            "Requirement already satisfied: absl-py>=0.7.0 in /usr/local/lib/python3.6/dist-packages (from tensorflow<2.2,>=2.1->OpenNMT-tf) (0.9.0)\n",
            "Requirement already satisfied: opt-einsum>=2.3.2 in /usr/local/lib/python3.6/dist-packages (from tensorflow<2.2,>=2.1->OpenNMT-tf) (3.2.0)\n",
            "Requirement already satisfied: gast==0.2.2 in /usr/local/lib/python3.6/dist-packages (from tensorflow<2.2,>=2.1->OpenNMT-tf) (0.2.2)\n",
            "Requirement already satisfied: six>=1.12.0 in /usr/local/lib/python3.6/dist-packages (from tensorflow<2.2,>=2.1->OpenNMT-tf) (1.12.0)\n",
            "Requirement already satisfied: scipy==1.4.1; python_version >= \"3\" in /usr/local/lib/python3.6/dist-packages (from tensorflow<2.2,>=2.1->OpenNMT-tf) (1.4.1)\n",
            "Requirement already satisfied: termcolor>=1.1.0 in /usr/local/lib/python3.6/dist-packages (from tensorflow<2.2,>=2.1->OpenNMT-tf) (1.1.0)\n",
            "Requirement already satisfied: wheel>=0.26; python_version >= \"3\" in /usr/local/lib/python3.6/dist-packages (from tensorflow<2.2,>=2.1->OpenNMT-tf) (0.34.2)\n",
            "Requirement already satisfied: numpy<2.0,>=1.16.0 in /usr/local/lib/python3.6/dist-packages (from tensorflow<2.2,>=2.1->OpenNMT-tf) (1.18.2)\n",
            "Requirement already satisfied: astor>=0.6.0 in /usr/local/lib/python3.6/dist-packages (from tensorflow<2.2,>=2.1->OpenNMT-tf) (0.8.1)\n",
            "Requirement already satisfied: wrapt>=1.11.1 in /usr/local/lib/python3.6/dist-packages (from tensorflow<2.2,>=2.1->OpenNMT-tf) (1.12.1)\n",
            "Requirement already satisfied: protobuf>=3.8.0 in /usr/local/lib/python3.6/dist-packages (from tensorflow<2.2,>=2.1->OpenNMT-tf) (3.10.0)\n",
            "Requirement already satisfied: keras-applications>=1.0.8 in /usr/local/lib/python3.6/dist-packages (from tensorflow<2.2,>=2.1->OpenNMT-tf) (1.0.8)\n",
            "Requirement already satisfied: tensorflow-estimator<2.2.0,>=2.1.0rc0 in /usr/local/lib/python3.6/dist-packages (from tensorflow<2.2,>=2.1->OpenNMT-tf) (2.1.0)\n",
            "Requirement already satisfied: google-pasta>=0.1.6 in /usr/local/lib/python3.6/dist-packages (from tensorflow<2.2,>=2.1->OpenNMT-tf) (0.2.0)\n",
            "Requirement already satisfied: keras-preprocessing>=1.1.0 in /usr/local/lib/python3.6/dist-packages (from tensorflow<2.2,>=2.1->OpenNMT-tf) (1.1.0)\n",
            "Requirement already satisfied: tensorboard<2.2.0,>=2.1.0 in /usr/local/lib/python3.6/dist-packages (from tensorflow<2.2,>=2.1->OpenNMT-tf) (2.1.1)\n",
            "Requirement already satisfied: typeguard in /usr/local/lib/python3.6/dist-packages (from tensorflow-addons<0.9,>=0.8.1->OpenNMT-tf) (2.7.1)\n",
            "Requirement already satisfied: setuptools in /usr/local/lib/python3.6/dist-packages (from protobuf>=3.8.0->tensorflow<2.2,>=2.1->OpenNMT-tf) (46.1.3)\n",
            "Requirement already satisfied: h5py in /usr/local/lib/python3.6/dist-packages (from keras-applications>=1.0.8->tensorflow<2.2,>=2.1->OpenNMT-tf) (2.10.0)\n",
            "Requirement already satisfied: requests<3,>=2.21.0 in /usr/local/lib/python3.6/dist-packages (from tensorboard<2.2.0,>=2.1.0->tensorflow<2.2,>=2.1->OpenNMT-tf) (2.21.0)\n",
            "Requirement already satisfied: markdown>=2.6.8 in /usr/local/lib/python3.6/dist-packages (from tensorboard<2.2.0,>=2.1.0->tensorflow<2.2,>=2.1->OpenNMT-tf) (3.2.1)\n",
            "Requirement already satisfied: google-auth<2,>=1.6.3 in /usr/local/lib/python3.6/dist-packages (from tensorboard<2.2.0,>=2.1.0->tensorflow<2.2,>=2.1->OpenNMT-tf) (1.7.2)\n",
            "Requirement already satisfied: werkzeug>=0.11.15 in /usr/local/lib/python3.6/dist-packages (from tensorboard<2.2.0,>=2.1.0->tensorflow<2.2,>=2.1->OpenNMT-tf) (1.0.1)\n",
            "Requirement already satisfied: google-auth-oauthlib<0.5,>=0.4.1 in /usr/local/lib/python3.6/dist-packages (from tensorboard<2.2.0,>=2.1.0->tensorflow<2.2,>=2.1->OpenNMT-tf) (0.4.1)\n",
            "Requirement already satisfied: chardet<3.1.0,>=3.0.2 in /usr/local/lib/python3.6/dist-packages (from requests<3,>=2.21.0->tensorboard<2.2.0,>=2.1.0->tensorflow<2.2,>=2.1->OpenNMT-tf) (3.0.4)\n",
            "Requirement already satisfied: idna<2.9,>=2.5 in /usr/local/lib/python3.6/dist-packages (from requests<3,>=2.21.0->tensorboard<2.2.0,>=2.1.0->tensorflow<2.2,>=2.1->OpenNMT-tf) (2.8)\n",
            "Requirement already satisfied: certifi>=2017.4.17 in /usr/local/lib/python3.6/dist-packages (from requests<3,>=2.21.0->tensorboard<2.2.0,>=2.1.0->tensorflow<2.2,>=2.1->OpenNMT-tf) (2019.11.28)\n",
            "Requirement already satisfied: urllib3<1.25,>=1.21.1 in /usr/local/lib/python3.6/dist-packages (from requests<3,>=2.21.0->tensorboard<2.2.0,>=2.1.0->tensorflow<2.2,>=2.1->OpenNMT-tf) (1.24.3)\n",
            "Requirement already satisfied: pyasn1-modules>=0.2.1 in /usr/local/lib/python3.6/dist-packages (from google-auth<2,>=1.6.3->tensorboard<2.2.0,>=2.1.0->tensorflow<2.2,>=2.1->OpenNMT-tf) (0.2.8)\n",
            "Requirement already satisfied: cachetools<3.2,>=2.0.0 in /usr/local/lib/python3.6/dist-packages (from google-auth<2,>=1.6.3->tensorboard<2.2.0,>=2.1.0->tensorflow<2.2,>=2.1->OpenNMT-tf) (3.1.1)\n",
            "Requirement already satisfied: rsa<4.1,>=3.1.4 in /usr/local/lib/python3.6/dist-packages (from google-auth<2,>=1.6.3->tensorboard<2.2.0,>=2.1.0->tensorflow<2.2,>=2.1->OpenNMT-tf) (4.0)\n",
            "Requirement already satisfied: requests-oauthlib>=0.7.0 in /usr/local/lib/python3.6/dist-packages (from google-auth-oauthlib<0.5,>=0.4.1->tensorboard<2.2.0,>=2.1.0->tensorflow<2.2,>=2.1->OpenNMT-tf) (1.3.0)\n",
            "Requirement already satisfied: pyasn1<0.5.0,>=0.4.6 in /usr/local/lib/python3.6/dist-packages (from pyasn1-modules>=0.2.1->google-auth<2,>=1.6.3->tensorboard<2.2.0,>=2.1.0->tensorflow<2.2,>=2.1->OpenNMT-tf) (0.4.8)\n",
            "Requirement already satisfied: oauthlib>=3.0.0 in /usr/local/lib/python3.6/dist-packages (from requests-oauthlib>=0.7.0->google-auth-oauthlib<0.5,>=0.4.1->tensorboard<2.2.0,>=2.1.0->tensorflow<2.2,>=2.1->OpenNMT-tf) (3.1.0)\n"
          ],
          "name": "stdout"
        }
      ]
    },
    {
      "cell_type": "code",
      "metadata": {
        "id": "aXnPgHs0VQJs",
        "colab_type": "code",
        "colab": {}
      },
      "source": [
        "#!onmt-build-vocab --size 50000 --save_vocab \"drive/My Drive/train/src-vocab.txt\" \"drive/My Drive/train/train.lang1\"\n",
        "#!onmt-build-vocab --size 50000 --save_vocab \"drive/My Drive/train/tgt-vocab.txt\" \"drive/My Drive/train/train.lang2\""
      ],
      "execution_count": 0,
      "outputs": []
    },
    {
      "cell_type": "code",
      "metadata": {
        "id": "h1vCEGE3VXU3",
        "colab_type": "code",
        "colab": {
          "base_uri": "https://localhost:8080/",
          "height": 1000
        },
        "outputId": "b3b55bc7-0eb1-48a4-f437-94d9dd8cdf58"
      },
      "source": [
        "!onmt-main --model_type Transformer --config \"drive/My Drive/train/data.yml\" --auto_config train --with_eval"
      ],
      "execution_count": 0,
      "outputs": [
        {
          "output_type": "stream",
          "text": [
            "2020-04-08 19:45:21.342833: W tensorflow/stream_executor/platform/default/dso_loader.cc:55] Could not load dynamic library 'libnvinfer.so.6'; dlerror: libnvinfer.so.6: cannot open shared object file: No such file or directory; LD_LIBRARY_PATH: /usr/lib64-nvidia\n",
            "2020-04-08 19:45:21.342958: W tensorflow/stream_executor/platform/default/dso_loader.cc:55] Could not load dynamic library 'libnvinfer_plugin.so.6'; dlerror: libnvinfer_plugin.so.6: cannot open shared object file: No such file or directory; LD_LIBRARY_PATH: /usr/lib64-nvidia\n",
            "2020-04-08 19:45:21.342981: W tensorflow/compiler/tf2tensorrt/utils/py_utils.cc:30] Cannot dlopen some TensorRT libraries. If you would like to use Nvidia GPU with TensorRT, please make sure the missing libraries mentioned above are installed properly.\n",
            "2020-04-08 19:45:22.239105: I tensorflow/stream_executor/platform/default/dso_loader.cc:44] Successfully opened dynamic library libcuda.so.1\n",
            "2020-04-08 19:45:22.263734: I tensorflow/stream_executor/cuda/cuda_gpu_executor.cc:981] successful NUMA node read from SysFS had negative value (-1), but there must be at least one NUMA node, so returning NUMA node zero\n",
            "2020-04-08 19:45:22.264346: I tensorflow/core/common_runtime/gpu/gpu_device.cc:1555] Found device 0 with properties: \n",
            "pciBusID: 0000:00:04.0 name: Tesla P4 computeCapability: 6.1\n",
            "coreClock: 1.1135GHz coreCount: 20 deviceMemorySize: 7.43GiB deviceMemoryBandwidth: 178.99GiB/s\n",
            "2020-04-08 19:45:22.264416: I tensorflow/stream_executor/platform/default/dso_loader.cc:44] Successfully opened dynamic library libcudart.so.10.1\n",
            "2020-04-08 19:45:22.264463: I tensorflow/stream_executor/platform/default/dso_loader.cc:44] Successfully opened dynamic library libcublas.so.10\n",
            "2020-04-08 19:45:22.264491: I tensorflow/stream_executor/platform/default/dso_loader.cc:44] Successfully opened dynamic library libcufft.so.10\n",
            "2020-04-08 19:45:22.264521: I tensorflow/stream_executor/platform/default/dso_loader.cc:44] Successfully opened dynamic library libcurand.so.10\n",
            "2020-04-08 19:45:22.264549: I tensorflow/stream_executor/platform/default/dso_loader.cc:44] Successfully opened dynamic library libcusolver.so.10\n",
            "2020-04-08 19:45:22.265995: I tensorflow/stream_executor/platform/default/dso_loader.cc:44] Successfully opened dynamic library libcusparse.so.10\n",
            "2020-04-08 19:45:22.266067: I tensorflow/stream_executor/platform/default/dso_loader.cc:44] Successfully opened dynamic library libcudnn.so.7\n",
            "2020-04-08 19:45:22.266169: I tensorflow/stream_executor/cuda/cuda_gpu_executor.cc:981] successful NUMA node read from SysFS had negative value (-1), but there must be at least one NUMA node, so returning NUMA node zero\n",
            "2020-04-08 19:45:22.266740: I tensorflow/stream_executor/cuda/cuda_gpu_executor.cc:981] successful NUMA node read from SysFS had negative value (-1), but there must be at least one NUMA node, so returning NUMA node zero\n",
            "2020-04-08 19:45:22.267181: I tensorflow/core/common_runtime/gpu/gpu_device.cc:1697] Adding visible gpu devices: 0\n",
            "WARNING:tensorflow:You provided a model configuration but a checkpoint already exists. The model configuration must define the same model as the one used for the initial training. However, you can change non structural values like dropout.\n",
            "INFO:tensorflow:Using parameters:\n",
            "data:\n",
            "  eval_features_file: drive/My Drive/train/val.lang1\n",
            "  eval_labels_file: drive/My Drive/train/val.lang2\n",
            "  source_vocabulary: drive/My Drive/train/src-vocab.txt\n",
            "  target_vocabulary: drive/My Drive/train/tgt-vocab.txt\n",
            "  train_features_file: drive/My Drive/train/train.lang1\n",
            "  train_labels_file: drive/My Drive/train/train.lang2\n",
            "eval:\n",
            "  batch_size: 32\n",
            "  export_on_best: bleu\n",
            "  external_evaluators: bleu\n",
            "  steps: 275\n",
            "infer:\n",
            "  batch_size: 32\n",
            "  length_bucket_width: 5\n",
            "model_dir: drive/My Drive/train/run/\n",
            "params:\n",
            "  average_loss_in_time: true\n",
            "  beam_width: 4\n",
            "  decay_params:\n",
            "    model_dim: 512\n",
            "    warmup_steps: 8000\n",
            "  decay_type: NoamDecay\n",
            "  label_smoothing: 0.1\n",
            "  learning_rate: 2.0\n",
            "  num_hypotheses: 1\n",
            "  optimizer: LazyAdam\n",
            "  optimizer_params:\n",
            "    beta_1: 0.9\n",
            "    beta_2: 0.998\n",
            "score:\n",
            "  batch_size: 64\n",
            "train:\n",
            "  average_last_checkpoints: 8\n",
            "  batch_size: 32\n",
            "  batch_type: tokens\n",
            "  effective_batch_size: 32\n",
            "  keep_checkpoint_max: 8\n",
            "  length_bucket_width: 1\n",
            "  max_step: 2750\n",
            "  maximum_features_length: 100\n",
            "  maximum_labels_length: 100\n",
            "  sample_buffer_size: -1\n",
            "  save_summary_steps: 100\n",
            "\n",
            "2020-04-08 19:45:23.282817: I tensorflow/core/platform/cpu_feature_guard.cc:142] Your CPU supports instructions that this TensorFlow binary was not compiled to use: AVX2 FMA\n",
            "2020-04-08 19:45:23.287097: I tensorflow/core/platform/profile_utils/cpu_utils.cc:94] CPU Frequency: 2200000000 Hz\n",
            "2020-04-08 19:45:23.287292: I tensorflow/compiler/xla/service/service.cc:168] XLA service 0x1aaed80 initialized for platform Host (this does not guarantee that XLA will be used). Devices:\n",
            "2020-04-08 19:45:23.287321: I tensorflow/compiler/xla/service/service.cc:176]   StreamExecutor device (0): Host, Default Version\n",
            "2020-04-08 19:45:23.380644: I tensorflow/stream_executor/cuda/cuda_gpu_executor.cc:981] successful NUMA node read from SysFS had negative value (-1), but there must be at least one NUMA node, so returning NUMA node zero\n",
            "2020-04-08 19:45:23.381271: I tensorflow/compiler/xla/service/service.cc:168] XLA service 0x1aaef40 initialized for platform CUDA (this does not guarantee that XLA will be used). Devices:\n",
            "2020-04-08 19:45:23.381300: I tensorflow/compiler/xla/service/service.cc:176]   StreamExecutor device (0): Tesla P4, Compute Capability 6.1\n",
            "2020-04-08 19:45:23.381465: I tensorflow/stream_executor/cuda/cuda_gpu_executor.cc:981] successful NUMA node read from SysFS had negative value (-1), but there must be at least one NUMA node, so returning NUMA node zero\n",
            "2020-04-08 19:45:23.381810: I tensorflow/core/common_runtime/gpu/gpu_device.cc:1555] Found device 0 with properties: \n",
            "pciBusID: 0000:00:04.0 name: Tesla P4 computeCapability: 6.1\n",
            "coreClock: 1.1135GHz coreCount: 20 deviceMemorySize: 7.43GiB deviceMemoryBandwidth: 178.99GiB/s\n",
            "2020-04-08 19:45:23.381859: I tensorflow/stream_executor/platform/default/dso_loader.cc:44] Successfully opened dynamic library libcudart.so.10.1\n",
            "2020-04-08 19:45:23.381876: I tensorflow/stream_executor/platform/default/dso_loader.cc:44] Successfully opened dynamic library libcublas.so.10\n",
            "2020-04-08 19:45:23.381891: I tensorflow/stream_executor/platform/default/dso_loader.cc:44] Successfully opened dynamic library libcufft.so.10\n",
            "2020-04-08 19:45:23.381908: I tensorflow/stream_executor/platform/default/dso_loader.cc:44] Successfully opened dynamic library libcurand.so.10\n",
            "2020-04-08 19:45:23.381922: I tensorflow/stream_executor/platform/default/dso_loader.cc:44] Successfully opened dynamic library libcusolver.so.10\n",
            "2020-04-08 19:45:23.381963: I tensorflow/stream_executor/platform/default/dso_loader.cc:44] Successfully opened dynamic library libcusparse.so.10\n",
            "2020-04-08 19:45:23.381978: I tensorflow/stream_executor/platform/default/dso_loader.cc:44] Successfully opened dynamic library libcudnn.so.7\n",
            "2020-04-08 19:45:23.382047: I tensorflow/stream_executor/cuda/cuda_gpu_executor.cc:981] successful NUMA node read from SysFS had negative value (-1), but there must be at least one NUMA node, so returning NUMA node zero\n",
            "2020-04-08 19:45:23.382454: I tensorflow/stream_executor/cuda/cuda_gpu_executor.cc:981] successful NUMA node read from SysFS had negative value (-1), but there must be at least one NUMA node, so returning NUMA node zero\n",
            "2020-04-08 19:45:23.382902: I tensorflow/core/common_runtime/gpu/gpu_device.cc:1697] Adding visible gpu devices: 0\n",
            "2020-04-08 19:45:23.382973: I tensorflow/stream_executor/platform/default/dso_loader.cc:44] Successfully opened dynamic library libcudart.so.10.1\n",
            "2020-04-08 19:45:23.386691: I tensorflow/core/common_runtime/gpu/gpu_device.cc:1096] Device interconnect StreamExecutor with strength 1 edge matrix:\n",
            "2020-04-08 19:45:23.386723: I tensorflow/core/common_runtime/gpu/gpu_device.cc:1102]      0 \n",
            "2020-04-08 19:45:23.386737: I tensorflow/core/common_runtime/gpu/gpu_device.cc:1115] 0:   N \n",
            "2020-04-08 19:45:23.386880: I tensorflow/stream_executor/cuda/cuda_gpu_executor.cc:981] successful NUMA node read from SysFS had negative value (-1), but there must be at least one NUMA node, so returning NUMA node zero\n",
            "2020-04-08 19:45:23.387443: I tensorflow/stream_executor/cuda/cuda_gpu_executor.cc:981] successful NUMA node read from SysFS had negative value (-1), but there must be at least one NUMA node, so returning NUMA node zero\n",
            "2020-04-08 19:45:23.387916: W tensorflow/core/common_runtime/gpu/gpu_bfc_allocator.cc:39] Overriding allow_growth setting because the TF_FORCE_GPU_ALLOW_GROWTH environment variable is set. Original config value was 0.\n",
            "2020-04-08 19:45:23.387964: I tensorflow/core/common_runtime/gpu/gpu_device.cc:1241] Created TensorFlow device (/job:localhost/replica:0/task:0/device:GPU:0 with 7123 MB memory) -> physical GPU (device: 0, name: Tesla P4, pci bus id: 0000:00:04.0, compute capability: 6.1)\n",
            "INFO:tensorflow:Restored checkpoint drive/My Drive/train/run/ckpt-1\n",
            "WARNING:tensorflow:From /usr/local/lib/python3.6/dist-packages/tensorflow_core/python/summary/summary_iterator.py:68: tf_record_iterator (from tensorflow.python.lib.io.tf_record) is deprecated and will be removed in a future version.\n",
            "Instructions for updating:\n",
            "Use eager execution and: \n",
            "`tf.data.TFRecordDataset(path)`\n",
            "INFO:tensorflow:Accumulate gradients of 1 iterations to reach effective batch size of 32\n",
            "INFO:tensorflow:Using MirroredStrategy with devices ('/job:localhost/replica:0/task:0/device:GPU:0',)\n",
            "INFO:tensorflow:Training on 8800 examples\n",
            "WARNING:tensorflow:From /usr/local/lib/python3.6/dist-packages/tensorflow_core/python/ops/resource_variable_ops.py:1786: calling BaseResourceVariable.__init__ (from tensorflow.python.ops.resource_variable_ops) with constraint is deprecated and will be removed in a future version.\n",
            "Instructions for updating:\n",
            "If using Keras pass *_constraint arguments to layers.\n",
            "INFO:tensorflow:Number of model parameters: 69829951\n",
            "INFO:tensorflow:Number of model weights: 260 (trainable = 260, non trainable = 0)\n",
            "2020-04-08 19:46:12.860146: I tensorflow/stream_executor/platform/default/dso_loader.cc:44] Successfully opened dynamic library libcublas.so.10\n",
            "2020-04-08 19:46:13.217076: I tensorflow/stream_executor/platform/default/dso_loader.cc:44] Successfully opened dynamic library libcudnn.so.7\n",
            "INFO:tensorflow:Reduce to /job:localhost/replica:0/task:0/device:CPU:0 then broadcast to ('/job:localhost/replica:0/task:0/device:CPU:0',).\n",
            "INFO:tensorflow:Reduce to /job:localhost/replica:0/task:0/device:CPU:0 then broadcast to ('/job:localhost/replica:0/task:0/device:CPU:0',).\n",
            "INFO:tensorflow:Step = 100 ; steps/s = 1.51, source words/s = 32, target words/s = 41 ; Learning rate = 0.000012 ; Loss = 9.426376\n",
            "INFO:tensorflow:Step = 200 ; steps/s = 15.91, source words/s = 364, target words/s = 484 ; Learning rate = 0.000025 ; Loss = 8.438330\n",
            "INFO:tensorflow:Running evaluation for step 275\n",
            "INFO:tensorflow:Evaluation predictions saved to drive/My Drive/train/run/eval/predictions.txt.275\n",
            "INFO:tensorflow:Evaluation result for step 275: loss = 7.644670 ; perplexity = 2089.479004 ; bleu = 0.000000\n",
            "INFO:tensorflow:Step = 300 ; steps/s = 1.77, source words/s = 39, target words/s = 51 ; Learning rate = 0.000037 ; Loss = 7.578097\n",
            "INFO:tensorflow:Step = 400 ; steps/s = 15.85, source words/s = 376, target words/s = 485 ; Learning rate = 0.000050 ; Loss = 7.017043\n",
            "INFO:tensorflow:Step = 500 ; steps/s = 15.88, source words/s = 361, target words/s = 470 ; Learning rate = 0.000062 ; Loss = 8.043843\n",
            "INFO:tensorflow:Running evaluation for step 550\n",
            "INFO:tensorflow:Evaluation predictions saved to drive/My Drive/train/run/eval/predictions.txt.550\n",
            "INFO:tensorflow:Evaluation result for step 550: loss = 6.757672 ; perplexity = 860.636108 ; bleu = 0.003929\n",
            "INFO:tensorflow:Exporting model to drive/My Drive/train/run/export/550 (best bleu so far: 0.003929)\n",
            "2020-04-08 19:48:27.180620: W tensorflow/python/util/util.cc:319] Sets are not currently considered sequences, but this may change in the future, so consider avoiding using them.\n",
            "INFO:tensorflow:Assets written to: drive/My Drive/train/run/export/550/assets\n",
            "INFO:tensorflow:Step = 600 ; steps/s = 2.11, source words/s = 48, target words/s = 60 ; Learning rate = 0.000074 ; Loss = 7.098479\n",
            "INFO:tensorflow:Step = 700 ; steps/s = 15.66, source words/s = 358, target words/s = 457 ; Learning rate = 0.000087 ; Loss = 7.655662\n",
            "INFO:tensorflow:Step = 800 ; steps/s = 15.87, source words/s = 365, target words/s = 461 ; Learning rate = 0.000099 ; Loss = 7.117405\n",
            "INFO:tensorflow:Running evaluation for step 825\n"
          ],
          "name": "stdout"
        }
      ]
    },
    {
      "cell_type": "code",
      "metadata": {
        "id": "3XX5n1InuqhL",
        "colab_type": "code",
        "colab": {}
      },
      "source": [
        "!onmt-main \\\n",
        "    --config \"drive/My Drive/train/data.yml\" --auto_config \\\n",
        "    --checkpoint_path \"drive/My Drive/train/run/ckpt-1\" \\\n",
        "    infer --features_file \"drive/My Drive/train/val.lang1\" --predictions_file \"drive/My Drive/train/val.lang1.out\""
      ],
      "execution_count": 0,
      "outputs": []
    },
    {
      "cell_type": "code",
      "metadata": {
        "id": "idRKgNwANxit",
        "colab_type": "code",
        "colab": {}
      },
      "source": [
        ""
      ],
      "execution_count": 0,
      "outputs": []
    }
  ]
}